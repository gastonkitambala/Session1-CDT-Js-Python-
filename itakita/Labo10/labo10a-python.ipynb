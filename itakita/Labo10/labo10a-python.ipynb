{
 "cells": [
  {
   "cell_type": "markdown",
   "metadata": {},
   "source": [
    "Before you turn this problem in, make sure everything runs as expected. First, **restart the kernel** (in the menubar, select Kernel$\\rightarrow$Restart) and then **run all cells** (in the menubar, select Cell$\\rightarrow$Run All).\n",
    "\n",
    "Make sure you fill in any place that says `YOUR CODE HERE` or \"YOUR ANSWER HERE\", as well as your name and collaborators below:"
   ]
  },
  {
   "cell_type": "code",
   "execution_count": null,
   "metadata": {},
   "outputs": [],
   "source": [
    "NAME = \"Gaston Itaka Kitambala\"\n",
    "COLLABORATORS = \"\""
   ]
  },
  {
   "cell_type": "markdown",
   "metadata": {},
   "source": [
    "---"
   ]
  },
  {
   "cell_type": "markdown",
   "metadata": {},
   "source": [
    "###### <img style='margin-right:0' src=\"http://dinfo.ca/logoDptInfo.jpg\" width=300>\n",
    "\n",
    "# Laboratoire #10 (Python)\n",
    "---"
   ]
  },
  {
   "cell_type": "markdown",
   "metadata": {
    "collapsed": true,
    "deletable": false,
    "editable": false,
    "nbgrader": {
     "cell_type": "markdown",
     "checksum": "fad9c18bc4c75c488c40472128691948",
     "grade": false,
     "grade_id": "cell-9fc1028aa78665b1",
     "locked": true,
     "schema_version": 3,
     "solution": false
    }
   },
   "source": [
    "---\n",
    "#### Question #1 (1 point)\n",
    "Lors des Jeux du Québec 2018 à Thetford Mines, la finale des nageurs \"Garçons - 13-15 ans, 200m libre\" a homologué les temps suivants (exprimés sous forme de chaînes de caractères).\n",
    "\n",
    "Vous devez trier l'ensemble de données et afficher uniquement les cinq meilleurs temps.\n",
    "\n",
    "Résultats attendus:\n",
    "```\n",
    "Meilleurs temps\n",
    "---------------\n",
    "#1 -- 01:53.7\n",
    "#2 -- 01:55.7\n",
    "#3 -- 01:57.3\n",
    "#4 -- 01:58.6\n",
    "#5 -- 01:59.4\n",
    "```"
   ]
  },
  {
   "cell_type": "code",
   "execution_count": 2,
   "metadata": {
    "deletable": false,
    "nbgrader": {
     "cell_type": "code",
     "checksum": "00c7a8c959ff294ec2b696afe5a315d5",
     "grade": true,
     "grade_id": "q1-code",
     "locked": false,
     "points": 0.5,
     "schema_version": 3,
     "solution": true
    }
   },
   "outputs": [
    {
     "name": "stdout",
     "output_type": "stream",
     "text": [
      "Meilleurs temps\n",
      "---------------\n",
      "#1 -- 01:53.7\n",
      "#2 -- 01:55.7\n",
      "#3 -- 01:57.3\n",
      "#4 -- 01:58.6\n",
      "#5 -- 01:59.4\n"
     ]
    }
   ],
   "source": [
    "resultats = ['02:23.6', '02:25.7', '02:11.5', '02:09.6', '02:08.7', '01:55.7',\n",
    "             '02:02.0', '02:20.9', '02:22.4', '02:04.2', '02:04.8', '02:18.5',\n",
    "             '02:19.5', '02:12.3', '01:58.6', '01:53.7', '02:13.4', '02:06.9',\n",
    "             '02:18.0', '02:16.1', '02:09.9', '02:07.1', '02:27.7', '01:57.3',\n",
    "             '02:08.5', '02:18.7', '02:12.1', '02:04.2', '02:18.3', '02:48.7',\n",
    "             '02:12.8', '02:16.3', '02:04.1', '02:25.6', '02:16.3', '02:37.2',\n",
    "             '01:59.4']\n",
    "print(\"Meilleurs temps\")\n",
    "print(\"-\"*15)\n",
    "resultats.sort()\n",
    "for i in range(5):\n",
    "    print(\"#%i -- %s\" % (i+1, resultats[i]))"
   ]
  },
  {
   "cell_type": "code",
   "execution_count": 27,
   "metadata": {
    "deletable": false,
    "editable": false,
    "nbgrader": {
     "cell_type": "code",
     "checksum": "52346442959299d44ddcf118ff42817f",
     "grade": true,
     "grade_id": "q1-tests",
     "locked": true,
     "points": 0.5,
     "schema_version": 3,
     "solution": false
    }
   },
   "outputs": [],
   "source": [
    "assert len(resultats) == 37, \"Il devrait toujours y avoir 37 résultats\"\n",
    "assert resultats[0] == '01:53.7', 'Premier temps'\n",
    "assert resultats[1] == '01:55.7', 'Deuxième temps'\n",
    "assert resultats[2] == '01:57.3', 'Troisième temps'\n",
    "assert resultats[3] == '01:58.6', 'Quatrième temps'\n",
    "assert resultats[4] == '01:59.4', 'Cinquième temps'\n",
    "assert resultats[36] == '02:48.7', 'Dernier temps'"
   ]
  },
  {
   "cell_type": "markdown",
   "metadata": {
    "collapsed": true,
    "deletable": false,
    "editable": false,
    "nbgrader": {
     "cell_type": "markdown",
     "checksum": "937edea13b7d733f6c8a429ca93862e7",
     "grade": false,
     "grade_id": "cell-2b2f135fead87d85",
     "locked": true,
     "schema_version": 3,
     "solution": false
    }
   },
   "source": [
    "---\n",
    "#### Question #2 (1 point)\n",
    "\n",
    "Pour la collection `bottinTelephonique`, on veut trier en ordre **décroissant** de numéro de téléphone.\n",
    "\n",
    "Résultats attendus:\n",
    "\n",
    "```['514-555-3333 Eric Fillion', '514-555-2222 Guillaume Huard', '418-555-1111 Kim Labrecque', '418-333-3333 Ian Jacob', '418-332-2222 Charles Demers', '418-331-1111 Adam Bernard']```"
   ]
  },
  {
   "cell_type": "code",
   "execution_count": 32,
   "metadata": {
    "deletable": false,
    "nbgrader": {
     "cell_type": "code",
     "checksum": "0ce6820c69047957da6165a1ff268ae3",
     "grade": true,
     "grade_id": "q2-code",
     "locked": false,
     "points": 0.5,
     "schema_version": 3,
     "solution": true
    }
   },
   "outputs": [
    {
     "name": "stdout",
     "output_type": "stream",
     "text": [
      "['514-555-3333 Eric Fillion', '514-555-2222 Guillaume Huard', '418-555-1111 Kim Labrecque', '418-333-3333 Ian Jacob', '418-332-2222 Charles Demers', '418-331-1111 Adam Bernard']\n"
     ]
    }
   ],
   "source": [
    "bottinTelephonique = ['418-332-2222 Charles Demers',\n",
    "                      '514-555-3333 Eric Fillion',\n",
    "                      '514-555-2222 Guillaume Huard',\n",
    "                      '418-333-3333 Ian Jacob',\n",
    "                      '418-555-1111 Kim Labrecque',\n",
    "                      '418-331-1111 Adam Bernard']\n",
    "bottinTelephonique.sort(reverse = True)\n",
    "print(bottinTelephonique)"
   ]
  },
  {
   "cell_type": "code",
   "execution_count": 33,
   "metadata": {
    "deletable": false,
    "editable": false,
    "nbgrader": {
     "cell_type": "code",
     "checksum": "aa4feba03b5d331db0887a2bc2dc5cd1",
     "grade": true,
     "grade_id": "q2-tests",
     "locked": true,
     "points": 0.5,
     "schema_version": 3,
     "solution": false
    }
   },
   "outputs": [],
   "source": [
    "assert len(bottinTelephonique) == 6, \"Devrait y avoir 6 entrées dans le bottin\"\n",
    "assert bottinTelephonique[0] == '514-555-3333 Eric Fillion',    'Premier numéro invalide'\n",
    "assert bottinTelephonique[1] == '514-555-2222 Guillaume Huard', 'Deuxième numéro invalide'\n",
    "assert bottinTelephonique[2] == '418-555-1111 Kim Labrecque',   'Troisième numéro invalide'\n",
    "assert bottinTelephonique[3] == '418-333-3333 Ian Jacob',       'Quatrième numéro invalide'\n",
    "assert bottinTelephonique[4] == '418-332-2222 Charles Demers',  'Cinquième numéro invalide'\n",
    "assert bottinTelephonique[5] == '418-331-1111 Adam Bernard',    'Sixième numéro invalide'"
   ]
  },
  {
   "cell_type": "markdown",
   "metadata": {
    "collapsed": true,
    "deletable": false,
    "editable": false,
    "nbgrader": {
     "cell_type": "markdown",
     "checksum": "8aa736ed1793d34a1d6cff1c175ddf0c",
     "grade": false,
     "grade_id": "q3-enonce",
     "locked": true,
     "schema_version": 3,
     "solution": false
    }
   },
   "source": [
    "---\n",
    "#### Question #3 (1.5 point)\n",
    "\n",
    "Créer une fonction `extraireCours(liste,noProgramme)` qui, à partir d'une liste de cours, extrait les cours d'un numéro de programme et trie les cours extraits en ordre croissant de numéro.  La fonction retourne la nouvelle collection.\n",
    "\n",
    "> La collection reçue en paramètre ne doit pas être modifiée (ni en taille, ni au niveau de l'ordre original).\n",
    "\n",
    "Résultats attendus:\n",
    "\n",
    "```\n",
    "420-2X3-RA Carrières informatiques\n",
    "420-2Y6-RA Installation d’ordinateurs\n",
    "420-2Z6-RA Introduction à la programmation\n",
    "```"
   ]
  },
  {
   "cell_type": "code",
   "execution_count": 3,
   "metadata": {
    "deletable": false,
    "nbgrader": {
     "cell_type": "code",
     "checksum": "725fe3186c56adbf01e39bc2ac8c54c9",
     "grade": true,
     "grade_id": "q3-code",
     "locked": false,
     "points": 0.5,
     "schema_version": 3,
     "solution": true
    }
   },
   "outputs": [
    {
     "name": "stdout",
     "output_type": "stream",
     "text": [
      "420-2X3-RA Carrières informatiques\n",
      "420-2Y6-RA Installation d’ordinateurs\n",
      "420-2Z6-RA Introduction à la programmation\n"
     ]
    }
   ],
   "source": [
    "def extraireCours(liste,noProgramme):\n",
    "    listeCours = []\n",
    "    for unCours in liste:\n",
    "        if unCours.startswith(str(noProgramme)):\n",
    "            listeCours.append(unCours)\n",
    "    listeCours.sort()\n",
    "    return listeCours\n",
    "\n",
    "listeCours = [\n",
    "    \"420-2Y6-RA Installation d’ordinateurs\",\n",
    "    \"420-2X3-RA Carrières informatiques\",\n",
    "    \"420-2Z6-RA Introduction à la programmation\",\n",
    "    \"201-273-RA Mathématiques appliquées à l’informatique I\",\n",
    "    \"340-101-MQ Philosophie et rationalité\",\n",
    "    \"601-101-MQ Écriture et littérature\",\n",
    "    \"604-COM-R4 Anglais commun\"\n",
    "]\n",
    "cours420 = extraireCours(listeCours, 420)\n",
    "for unCours in cours420:\n",
    "    print(unCours)"
   ]
  },
  {
   "cell_type": "code",
   "execution_count": 44,
   "metadata": {
    "deletable": false,
    "editable": false,
    "nbgrader": {
     "cell_type": "code",
     "checksum": "9567213f36d884796eab8ef344bd8609",
     "grade": true,
     "grade_id": "q3-test",
     "locked": true,
     "points": 1,
     "schema_version": 3,
     "solution": false
    }
   },
   "outputs": [],
   "source": [
    "assert len(listeCours) == 7, 'liste de cours conserve sept (7) cours'\n",
    "assert listeCours[0] == \"420-2Y6-RA Installation d’ordinateurs\", '1er cours -- liste d''origine'\n",
    "assert listeCours[1] == \"420-2X3-RA Carrières informatiques\", '2e cours -- liste d''origine'\n",
    "assert listeCours[2] == \"420-2Z6-RA Introduction à la programmation\", '3e cours -- liste d''origine'\n",
    "assert listeCours[3] == \"201-273-RA Mathématiques appliquées à l’informatique I\", '4e cours -- liste d''origine'\n",
    "assert listeCours[4] == \"340-101-MQ Philosophie et rationalité\", '5e cours -- liste d''origine'\n",
    "assert listeCours[5] == \"601-101-MQ Écriture et littérature\", '6e cours -- liste d''origine'\n",
    "assert listeCours[6] == \"604-COM-R4 Anglais commun\", '7e cours -- liste d''origine'\n",
    "extr = extraireCours(listeCours, 420)\n",
    "assert len(extr) == 3, 'Trois cours du programme 420'\n",
    "assert extr[0] == '420-2X3-RA Carrières informatiques', '1er cours extraction 420'\n",
    "assert extr[1] == '420-2Y6-RA Installation d’ordinateurs', '2e cours extraction 420'\n",
    "assert extr[2] == '420-2Z6-RA Introduction à la programmation', '3e cours extraction 420'\n",
    "extr = extraireCours(listeCours, 601)\n",
    "assert len(extr) == 1, 'Un cours pour programme 601'\n",
    "assert extr[0] == '601-101-MQ Écriture et littérature'\n",
    "extr = extraireCours(listeCours, 123)\n",
    "assert len(extr) == 0, 'Aucun programme 123'"
   ]
  },
  {
   "cell_type": "markdown",
   "metadata": {
    "collapsed": true,
    "deletable": false,
    "editable": false,
    "nbgrader": {
     "cell_type": "markdown",
     "checksum": "70ccfab9679ffbf3f65eab1146b6b9f4",
     "grade": false,
     "grade_id": "cell-76906b0279e0d425",
     "locked": true,
     "schema_version": 3,
     "solution": false
    }
   },
   "source": [
    "---\n",
    "#### Question #4 (1.5 point)\n",
    "\n",
    "À l'aide d'un comparateur externe, trier en ordre croissant de périodes en classe par semaine (somme des deux premiers chiffres) la liste des cours.  \n",
    "\n",
    "Ex: Carrières informatiques a trois périodes par semaine (théorie: 1 + lab: 2) tandis que le cours de philo est un quatre (4) heures par semaine.\n",
    "\n",
    "> Aucun traitement particulier à réaliser si deux cours ont le même nombre d'heures-contact par semaine.\n",
    "\n",
    "Résultats attendus:\n",
    "\n",
    "```\n",
    "- Carrières informatiques                       (420-2X3-RA) -- 3 périodes\n",
    "- Mathématiques appliquées à linformatique I    (201-273-RA) -- 3 périodes\n",
    "- Anglais commun                                (604-COM-RA) -- 3 périodes\n",
    "- Philosophie et rationalité                    (340-101-MQ) -- 4 périodes\n",
    "- Écriture et littérature                       (601-101-MQ) -- 4 périodes\n",
    "- Installation dordinateurs                     (420-2Y6-RA) -- 6 périodes\n",
    "- Introduction à la programmation               (420-2Z6-RA) -- 6 périodes\n",
    "```"
   ]
  },
  {
   "cell_type": "code",
   "execution_count": 1,
   "metadata": {
    "deletable": false,
    "nbgrader": {
     "cell_type": "code",
     "checksum": "079c9bb7e0e862c06661e595f856c484",
     "grade": true,
     "grade_id": "q4-code",
     "locked": false,
     "points": 0.5,
     "schema_version": 3,
     "solution": true
    }
   },
   "outputs": [
    {
     "name": "stdout",
     "output_type": "stream",
     "text": [
      "- Carrières informatiques                       (420-2X3-RA) -- 3 périodes\n",
      "- Mathématiques appliquées à linformatique I    (201-273-RA) -- 3 périodes\n",
      "- Anglais commun                                (604-COM-RA) -- 3 périodes\n",
      "- Écriture et littérature                       (601-101-MQ) -- 4 périodes\n",
      "- Installation dordinateurs                     (420-2Y6-RA) -- 6 périodes\n",
      "- Philosophie et rationalité                    (340-101-MQ) -- 4 périodes\n",
      "- Introduction à la programmation               (420-2Z6-RA) -- 6 périodes\n"
     ]
    }
   ],
   "source": [
    "def cmp_to_key(mycmp):\n",
    "    'Convert a cmp= function into a key= function'\n",
    "    class K(object):\n",
    "        def __init__(self, obj, *args):\n",
    "            self.obj = obj\n",
    "        def __lt__(self, other):\n",
    "            return mycmp(self.obj, other.obj) < 0\n",
    "        def __gt__(self, other):\n",
    "            return mycmp(self.obj, other.obj) > 0\n",
    "        def __eq__(self, other):\n",
    "            return mycmp(self.obj, other.obj) == 0\n",
    "        def __le__(self, other):\n",
    "            return mycmp(self.obj, other.obj) <= 0  \n",
    "        def __ge__(self, other):\n",
    "            return mycmp(self.obj, other.obj) >= 0\n",
    "        def __ne__(self, other):\n",
    "            return mycmp(self.obj, other.obj) != 0\n",
    "    return K\n",
    "\n",
    "def comparateurDureeCours(coursX, coursY):\n",
    "    dureeCoursX = coursX[0] + coursX[1]\n",
    "    dureeCoursY = coursY[0] + coursY[1]\n",
    "    return dureeCoursX - dureeCoursY\n",
    "    \n",
    "cours = [\n",
    "    [2,4,3,'420-2Y6-RA', 'Installation d''ordinateurs'],\n",
    "    [1,2,1,'420-2X3-RA', 'Carrières informatiques'],\n",
    "    [3,3,3,'420-2Z6-RA', 'Introduction à la programmation'],\n",
    "    [2,1,1,'201-273-RA', 'Mathématiques appliquées à l''informatique I'],\n",
    "    [3,1,3,'340-101-MQ', 'Philosophie et rationalité'],\n",
    "    [2,2,3,'601-101-MQ', 'Écriture et littérature'],\n",
    "    [2,1,3,'604-COM-RA', 'Anglais commun']\n",
    "]\n",
    "\n",
    "cours.sort()\n",
    "for unCours in cours:\n",
    "    print(\"- %-45s (%s) -- %i périodes\" % (unCours[4], unCours[3], unCours[0] + unCours[1]))"
   ]
  },
  {
   "cell_type": "code",
   "execution_count": 2,
   "metadata": {
    "deletable": false,
    "editable": false,
    "nbgrader": {
     "cell_type": "code",
     "checksum": "10e817e25775d375c20d1f8b2b4ae426",
     "grade": true,
     "grade_id": "q4-tests",
     "locked": true,
     "points": 1,
     "schema_version": 3,
     "solution": false
    }
   },
   "outputs": [],
   "source": [
    "asd =  [\n",
    "    [2,4,3,'420-2Y6-RA', 'Installation d''ordinateurs'],\n",
    "    [1,2,1,'420-2X3-RA', 'Carrières informatiques'],\n",
    "    [3,3,3,'420-2Z6-RA', 'Introduction à la programmation'],\n",
    "    [2,1,1,'201-273-RA', 'Mathématiques appliquées à l''informatique I'],\n",
    "    [3,1,3,'340-101-MQ', 'Philosophie et rationalité'],\n",
    "    [2,2,3,'601-101-MQ', 'Écriture et littérature'],\n",
    "    [2,1,3,'604-COM-RA', 'Anglais commun']\n",
    "]\n",
    "asd.sort(key=cmp_to_key(comparateurDureeCours))\n",
    "assert len(asd) == 7, \"Sept cours\"\n",
    "assert asd[0][3] == '420-2X3-RA'\n",
    "assert asd[1][3] == '201-273-RA'\n",
    "assert asd[2][3] == '604-COM-RA'\n",
    "assert asd[3][3] == '340-101-MQ'\n",
    "assert asd[4][3] == '601-101-MQ'\n",
    "assert asd[5][3] == '420-2Y6-RA'\n",
    "assert asd[6][3] == '420-2Z6-RA'"
   ]
  },
  {
   "cell_type": "code",
   "execution_count": null,
   "metadata": {},
   "outputs": [],
   "source": []
  },
  {
   "cell_type": "code",
   "execution_count": null,
   "metadata": {},
   "outputs": [],
   "source": []
  }
 ],
 "metadata": {
  "kernelspec": {
   "display_name": "Python 3",
   "language": "python",
   "name": "python3"
  },
  "language_info": {
   "codemirror_mode": {
    "name": "ipython",
    "version": 3
   },
   "file_extension": ".py",
   "mimetype": "text/x-python",
   "name": "python",
   "nbconvert_exporter": "python",
   "pygments_lexer": "ipython3",
   "version": "3.7.7"
  }
 },
 "nbformat": 4,
 "nbformat_minor": 2
}
