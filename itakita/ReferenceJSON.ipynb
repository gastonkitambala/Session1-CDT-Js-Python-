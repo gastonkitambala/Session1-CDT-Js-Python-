{
 "cells": [
  {
   "cell_type": "markdown",
   "metadata": {},
   "source": [
    "<img style='margin-right:0' src=\"http://dinfo.ca/logoDptInfo.jpg\" width=300>\n",
    "\n",
    "# Référence JSON (JavaScript Object Notation)\n",
    "---"
   ]
  },
  {
   "cell_type": "markdown",
   "metadata": {},
   "source": [
    "**Introduction**\n",
    "\n",
    "Comme nous n'utiliserons pas les objets JavaScript pour la programmation par prototype, mais davantage pour décrire des données, nous examinerons la notation JSON.\n",
    "\n",
    "#### Qu'est-ce que JSON?\n",
    "\n",
    "* Format d'échange de données léger\n",
    "* Pas limité à un langage de programmation"
   ]
  },
  {
   "cell_type": "markdown",
   "metadata": {},
   "source": [
    "```json\n",
    "{\n",
    "    \"employes\" : [\n",
    "        { \"prenom\" : \"Adam\",      \"nomFamille\" : \"Bernard\"},\n",
    "        { \"prenom\" : \"Charles\",   \"nomFamille\" : \"Demers\"},\n",
    "        { \"prenom\" : \"Eric\",      \"nomFamille\" : \"Fillion\"},\n",
    "        { \"prenom\" : \"Guillaume\", \"nomFamille\" : \"Huard\"}\n",
    "    ]\n",
    "}\n",
    "```"
   ]
  },
  {
   "cell_type": "markdown",
   "metadata": {},
   "source": [
    "Le format JSON est proche syntaxiquement de la déclaration d'objets en JavaScript.  En raison de cette similitude, il est facile de passer d'un objet JavaScript à un format JSON et vice-versa.\n",
    "\n",
    "**Règles de la syntaxe JSON**\n",
    "* Données séparées par des virgules\n",
    "* clé : valeur\n",
    "* Objets décrits avec des accolades\n",
    "* Crochets pour les collections ordonnées\n",
    "\n",
    "#### Clés (JSON)\n",
    "\n",
    "* Les clés doivent être des chaînes de caractères (pas de symbole)\n",
    "* Ces chaînes doivent obligatoirement être des guillemets (pas des apostrophes)."
   ]
  },
  {
   "cell_type": "markdown",
   "metadata": {},
   "source": [
    "#### Conversion\n",
    "\n",
    "Les données au format JSON arrivent souvent d'une requête envoyée à un serveur Web et les données sont représentées comme une immense chaîne.\n",
    "\n",
    "```json\n",
    "{ \"titre\": \"Données JSON\",\n",
    "  \"valeurs\" : [\"Adam\", \"Bernard\", \"Charles\" ]\n",
    "} \n",
    "```"
   ]
  },
  {
   "cell_type": "code",
   "execution_count": 1,
   "metadata": {},
   "outputs": [],
   "source": [
    "var donneesJSON = `{ \"titre\": \"Données JSON\",\n",
    "  \"valeurs\" : [\"Adam\", \"Bernard\", \"Charles\" ]\n",
    "}`;"
   ]
  },
  {
   "cell_type": "markdown",
   "metadata": {},
   "source": [
    "#### Conversion JSON->Objet JS\n",
    "\n",
    "Pour convertir cette chaîne en objet JavaScript:"
   ]
  },
  {
   "cell_type": "code",
   "execution_count": 4,
   "metadata": {},
   "outputs": [
    {
     "name": "stdout",
     "output_type": "stream",
     "text": [
      "Données JSON\n",
      "  - Adam\n",
      "  - Bernard\n",
      "  - Charles\n"
     ]
    }
   ],
   "source": [
    "var infos = JSON.parse(donneesJSON);\n",
    "console.log(infos.titre);\n",
    "for(var prenom of infos.valeurs)\n",
    "   console.log('  -', prenom);"
   ]
  },
  {
   "cell_type": "markdown",
   "metadata": {},
   "source": [
    "#### Conversion Object JS -> chaîne JSON"
   ]
  },
  {
   "cell_type": "code",
   "execution_count": 8,
   "metadata": {},
   "outputs": [],
   "source": [
    "var atome = {\n",
    "    noAtomique: 1,\n",
    "    nom : 'Hydrogène',\n",
    "    masseAtomique : 1.008,\n",
    "    symbole : 'H'\n",
    "};"
   ]
  },
  {
   "cell_type": "code",
   "execution_count": 9,
   "metadata": {},
   "outputs": [
    {
     "data": {
      "text/plain": [
       "'{\"noAtomique\":1,\"nom\":\"Hydrogène\",\"masseAtomique\":1.008,\"symbole\":\"H\"}'"
      ]
     },
     "execution_count": 9,
     "metadata": {},
     "output_type": "execute_result"
    }
   ],
   "source": [
    "var chaineJSON = JSON.stringify(atome);\n",
    "chaineJSON"
   ]
  },
  {
   "cell_type": "markdown",
   "metadata": {},
   "source": [
    "#### Autre exemple\n",
    "\n",
    "```json\n",
    "    [ \n",
    "        {\n",
    "            \"noCours\": \"420-2Z6-RA\",\n",
    "            \"titre\"  : \"Introduction à la programmation\"\n",
    "        },\n",
    "        {\n",
    "            \"noCours\": \"420-2Y6-RA\",\n",
    "            \"titre\"  : \"Installation d'ordinateurs\"\n",
    "        },\n",
    "        {\n",
    "            \"noCours\": \"420-2X3-RA\",\n",
    "            \"titre\"  : \"Carrières informatiques\"\n",
    "        }\n",
    "    ]\n",
    "```"
   ]
  },
  {
   "cell_type": "code",
   "execution_count": 15,
   "metadata": {},
   "outputs": [],
   "source": [
    "var descrJSON = `[{\"noCours\":\"420-2Z6-RA\",\"titre\":\"Introduction à la programmation\"\n",
    "},{\"noCours\":\"420-2Y6-RA\",\"titre\":\"Installation d'ordinateurs\"\n",
    "},{\"noCours\":\"420-2X3-RA\",\"titre\":\"Carrières informatiques\"}]`;"
   ]
  },
  {
   "cell_type": "code",
   "execution_count": 16,
   "metadata": {},
   "outputs": [
    {
     "data": {
      "text/plain": [
       "[ { noCours: '420-2Z6-RA',\n",
       "    titre: 'Introduction à la programmation' },\n",
       "  { noCours: '420-2Y6-RA', titre: 'Installation d\\'ordinateurs' },\n",
       "  { noCours: '420-2X3-RA', titre: 'Carrières informatiques' } ]"
      ]
     },
     "execution_count": 16,
     "metadata": {},
     "output_type": "execute_result"
    }
   ],
   "source": [
    "var listeCours = JSON.parse(descrJSON);\n",
    "listeCours"
   ]
  },
  {
   "cell_type": "code",
   "execution_count": 12,
   "metadata": {},
   "outputs": [
    {
     "name": "stdout",
     "output_type": "stream",
     "text": [
      "[{\"noCours\":\"420-2Z6-RA\",\"titre\":\"Introduction à la programmation\"},{\"noCours\":\"420-2Y6-RA\",\"titre\":\"Installation d'ordinateurs\"},{\"noCours\":\"420-2X3-RA\",\"titre\":\"Carrières informatiques\"}]\n"
     ]
    }
   ],
   "source": [
    "console.log(JSON.stringify(listeCours));"
   ]
  },
  {
   "cell_type": "code",
   "execution_count": null,
   "metadata": {},
   "outputs": [],
   "source": []
  }
 ],
 "metadata": {
  "kernelspec": {
   "display_name": "Javascript (Node.js)",
   "language": "javascript",
   "name": "javascript"
  },
  "language_info": {
   "file_extension": ".js",
   "mimetype": "application/javascript",
   "name": "javascript",
   "version": "10.13.0"
  }
 },
 "nbformat": 4,
 "nbformat_minor": 4
}
