{
 "cells": [
  {
   "cell_type": "markdown",
   "metadata": {},
   "source": [
    "<img style='margin-right:0' src=\"http://dinfo.ca/logoDptInfo.jpg\" width=300>\n",
    "\n",
    "# Référence Python (chaînes)\n",
    "---"
   ]
  },
  {
   "cell_type": "markdown",
   "metadata": {},
   "source": [
    "**Opérateurs**\n",
    "\n",
    "> Concaténation\n",
    "\n",
    "> Duplication (multiplication)\n",
    "\n",
    "**Fonction**\n",
    "\n",
    "> len(chaine)\n",
    "\n",
    "**Méthodes**\n",
    "\n",
    "| &nbsp; | &nbsp; | &nbsp; | &nbsp; | &nbsp; |\n",
    "|----------------|--------------|-------------|------------|-----------|\n",
    "| **capitalize** | **index**    | **istitle** | rindex     | **title** |\n",
    "| casefold       | **isalnum**  | **isupper** | rjust      | translate |\n",
    "| center         | **isalpha**  | join        | rpartition | **upper** |\n",
    "| **count**      | isdecimal    | ljust       | rsplit     | zfill     |\n",
    "| encode         | **isdigit**  | **lower**   | **rstrip** |           |\n",
    "| **endswith**   | isidentifier | **lstrip**  | **split**  |           |\n",
    "| expandtabs     | **islower**  | maketrans   | splitlines |           |\n",
    "| **find**       | isnumeric    | partition   | **startswith** |       |\n",
    "| format         | isprintable  | **replace** | **strip**      |       |  \n",
    "| format_map     | isspace      | rfind       | **swapcase**   |       |\n",
    "\n",
    "N.B.: Les méthodes **en gras** sont traitées dans cette référence."
   ]
  },
  {
   "cell_type": "code",
   "execution_count": null,
   "metadata": {
    "scrolled": true
   },
   "outputs": [],
   "source": [
    "# Permet d'obtenir la *docstring* de la méthode\n",
    "help(str.center)"
   ]
  },
  {
   "cell_type": "markdown",
   "metadata": {},
   "source": [
    "---\n",
    "# Opérateurs: concaténation (+) et répétition (*)"
   ]
  },
  {
   "cell_type": "markdown",
   "metadata": {},
   "source": [
    "**Concaténation**\n",
    "\n",
    "> Permet de joindre ensemble deux chaînes."
   ]
  },
  {
   "cell_type": "code",
   "execution_count": null,
   "metadata": {
    "collapsed": true,
    "jupyter": {
     "outputs_hidden": true
    }
   },
   "outputs": [],
   "source": [
    "\"ABC\" + \"DEF\""
   ]
  },
  {
   "cell_type": "code",
   "execution_count": null,
   "metadata": {
    "collapsed": true,
    "jupyter": {
     "outputs_hidden": true
    }
   },
   "outputs": [],
   "source": [
    "cegep = 'Cégep' + ' ' + 'de ' + 'Thetford'\n",
    "print(cegep)"
   ]
  },
  {
   "cell_type": "markdown",
   "metadata": {},
   "source": [
    "** Concaténation -- cas particulier **\n",
    "\n",
    "Qu'arrive-t-il si on concatène une chaîne avec un nombre (entier ou fractionnaire)?"
   ]
  },
  {
   "cell_type": "code",
   "execution_count": null,
   "metadata": {
    "collapsed": true,
    "jupyter": {
     "outputs_hidden": true
    }
   },
   "outputs": [],
   "source": [
    "print(\"Age requis: \" + 12)"
   ]
  },
  {
   "cell_type": "markdown",
   "metadata": {},
   "source": [
    "## Conversions\n",
    "\n",
    "Il faut convertir notre nombre avec une représentation *chaîne de caractères*.\n",
    "\n",
    "| de/vers | int       | float         | str          |\n",
    "|---------|-----------|---------------|--------------|\n",
    "| int     | ---       | `float(47)`     | `str(47)`      |\n",
    "| float   | `int(1.2)`  | ---           | `str(3.14159)` |\n",
    "| str     | `int('12')` | `float('12.3')` | ---          |\n",
    "\n",
    "> NOTE: Transtypage implicite entre entier et fractionnaire.<br>`1.2 + 5` équivalent à `1.2 + float(5)`"
   ]
  },
  {
   "cell_type": "code",
   "execution_count": null,
   "metadata": {},
   "outputs": [],
   "source": [
    "print(\"Age requis: \" + str(12))"
   ]
  },
  {
   "cell_type": "markdown",
   "metadata": {},
   "source": [
    "#### **Répétition**\n",
    "\n",
    "> Permet d'avoir plusieurs copies mises bout à bout d'une chaîne."
   ]
  },
  {
   "cell_type": "code",
   "execution_count": 1,
   "metadata": {
    "jupyter": {
     "outputs_hidden": true
    }
   },
   "outputs": [
    {
     "data": {
      "text/plain": [
       "'GATAGATAGATAGATAGATA'"
      ]
     },
     "execution_count": 1,
     "metadata": {},
     "output_type": "execute_result"
    }
   ],
   "source": [
    "\"GATA\"*5"
   ]
  },
  {
   "cell_type": "code",
   "execution_count": 2,
   "metadata": {
    "jupyter": {
     "outputs_hidden": true
    }
   },
   "outputs": [
    {
     "name": "stdout",
     "output_type": "stream",
     "text": [
      "J'aime beaucoup beaucoup beaucoup beaucoup  l'informatique!\n"
     ]
    }
   ],
   "source": [
    "msg1 = \"J'aime \"\n",
    "msg2 = \"beaucoup \" * 4\n",
    "print(msg1 + msg2 + \" l'informatique!\")"
   ]
  },
  {
   "cell_type": "markdown",
   "metadata": {},
   "source": [
    "**Opérateurs d'affectation**"
   ]
  },
  {
   "cell_type": "code",
   "execution_count": null,
   "metadata": {
    "collapsed": true,
    "jupyter": {
     "outputs_hidden": true
    }
   },
   "outputs": [],
   "source": [
    "msg = 'Bonjour'\n",
    "msg += ' '\n",
    "msg += 'Marco'\n",
    "print(msg)"
   ]
  },
  {
   "cell_type": "markdown",
   "metadata": {},
   "source": [
    "# Fonctions prédéfinies pour les chaînes"
   ]
  },
  {
   "cell_type": "markdown",
   "metadata": {},
   "source": [
    "**Fonction <span style=\"color:red;font-family:courier;\">len()</span> -- Longueur d'une chaîne (nombre de caractères)**"
   ]
  },
  {
   "cell_type": "code",
   "execution_count": 3,
   "metadata": {
    "jupyter": {
     "outputs_hidden": true
    }
   },
   "outputs": [
    {
     "name": "stdout",
     "output_type": "stream",
     "text": [
      "Anticonstitutionnellement: 25 lettres\n",
      "34\n"
     ]
    }
   ],
   "source": [
    "longueur = len(\"Anticonstitutionnellement\") # mot le plus long du dictionnaire français\n",
    "print(\"Anticonstitutionnellement: %i lettres\" % longueur)\n",
    "\n",
    "maryPoppins = 'Supercalifragilisticexpialidocious'\n",
    "print(len(maryPoppins))"
   ]
  },
  {
   "cell_type": "markdown",
   "metadata": {},
   "source": [
    "**Méthode <span style=\"color:red;font-family:courier;\">find(sousChaine)</span> -- Recherche d'une sous-chaîne**\n",
    "\n",
    "> Retourne l'indice de départ de la sous-chaîne (débute à zéro)"
   ]
  },
  {
   "cell_type": "code",
   "execution_count": 4,
   "metadata": {
    "jupyter": {
     "outputs_hidden": true
    }
   },
   "outputs": [
    {
     "name": "stdout",
     "output_type": "stream",
     "text": [
      "4\n"
     ]
    }
   ],
   "source": [
    "motLong = \"Anticonstitutionnellement\"\n",
    "positionConst = motLong.find('const')\n",
    "print(positionConst)"
   ]
  },
  {
   "cell_type": "markdown",
   "metadata": {},
   "source": [
    "> Si la sous-chaîne est absente, la fonction retourne la valeur -1."
   ]
  },
  {
   "cell_type": "code",
   "execution_count": 5,
   "metadata": {
    "jupyter": {
     "outputs_hidden": true
    }
   },
   "outputs": [
    {
     "name": "stdout",
     "output_type": "stream",
     "text": [
      "Trouve 'Marco' à la position: -1\n"
     ]
    }
   ],
   "source": [
    "positionMarco = motLong.find('marco')\n",
    "print('Trouve \\'Marco\\' à la position:', positionMarco)"
   ]
  },
  {
   "cell_type": "code",
   "execution_count": 6,
   "metadata": {
    "jupyter": {
     "outputs_hidden": true
    }
   },
   "outputs": [
    {
     "name": "stdout",
     "output_type": "stream",
     "text": [
      "4\n"
     ]
    }
   ],
   "source": [
    "print('Havana, ooh na-na'.find('na')) # Trouve seulement la 1re occurrence"
   ]
  },
  {
   "cell_type": "markdown",
   "metadata": {},
   "source": [
    "**Méthode <span style=\"color:red;font-family:courier;\">lower()</span> -- Convertir la chaîne en lettres minuscules**"
   ]
  },
  {
   "cell_type": "code",
   "execution_count": 7,
   "metadata": {
    "jupyter": {
     "outputs_hidden": true
    }
   },
   "outputs": [
    {
     "name": "stdout",
     "output_type": "stream",
     "text": [
      "Appellation: cégep de thetford\n"
     ]
    }
   ],
   "source": [
    "college = 'Cégep de Thetford'\n",
    "print(\"Appellation:\", college.lower())"
   ]
  },
  {
   "cell_type": "markdown",
   "metadata": {},
   "source": [
    "**Méthode <span style=\"color:red;font-family:courier;\">upper()</span> -- Convertir la chaîne en lettres majuscules**"
   ]
  },
  {
   "cell_type": "code",
   "execution_count": 8,
   "metadata": {
    "jupyter": {
     "outputs_hidden": true
    }
   },
   "outputs": [
    {
     "name": "stdout",
     "output_type": "stream",
     "text": [
      "Appellation: CÉGEP DE THETFORD\n"
     ]
    }
   ],
   "source": [
    "college = 'Cégep de Thetford'\n",
    "print(\"Appellation:\", college.upper())"
   ]
  },
  {
   "cell_type": "markdown",
   "metadata": {},
   "source": [
    "**Découpage de la chaîne (*slicing*)**\n",
    "\n",
    "> [posDepartIncluse:posFinExcluse]"
   ]
  },
  {
   "cell_type": "code",
   "execution_count": 9,
   "metadata": {
    "jupyter": {
     "outputs_hidden": true
    }
   },
   "outputs": [
    {
     "name": "stdout",
     "output_type": "stream",
     "text": [
      "Extrait [1:4] de ABCDEF : BCD\n"
     ]
    }
   ],
   "source": [
    "chaine = 'ABCDEF' # 6 lettres\n",
    "extrait = chaine[1:4]\n",
    "print('Extrait [1:4] de', chaine, ':', extrait)"
   ]
  },
  {
   "cell_type": "code",
   "execution_count": 10,
   "metadata": {
    "jupyter": {
     "outputs_hidden": true
    }
   },
   "outputs": [
    {
     "name": "stdout",
     "output_type": "stream",
     "text": [
      "Sous-mot: constitution\n"
     ]
    }
   ],
   "source": [
    "motLong = \"Anticonstitutionnellement\"\n",
    "depart = 4\n",
    "fin = 16 # Position après la dernière lettre\n",
    "print('Sous-mot:', motLong[depart:fin])"
   ]
  },
  {
   "cell_type": "code",
   "execution_count": 11,
   "metadata": {
    "jupyter": {
     "outputs_hidden": true
    }
   },
   "outputs": [
    {
     "name": "stdout",
     "output_type": "stream",
     "text": [
      "Diminutif de Marcel: Marc\n"
     ]
    }
   ],
   "source": [
    "prenom = 'Marcel'\n",
    "print('Diminutif de Marcel:', prenom[:prenom.find('e')])"
   ]
  },
  {
   "cell_type": "code",
   "execution_count": 12,
   "metadata": {
    "jupyter": {
     "outputs_hidden": true
    }
   },
   "outputs": [
    {
     "name": "stdout",
     "output_type": "stream",
     "text": [
      "social\n"
     ]
    }
   ],
   "source": [
    "print('Anti-social'[5:])"
   ]
  },
  {
   "cell_type": "code",
   "execution_count": 13,
   "metadata": {
    "jupyter": {
     "outputs_hidden": true
    }
   },
   "outputs": [
    {
     "name": "stdout",
     "output_type": "stream",
     "text": [
      "B\n",
      "B\n",
      "Bon\n",
      "Bon\n",
      "nde\n",
      "jour le monde\n",
      "Bonjour le mo\n"
     ]
    }
   ],
   "source": [
    "mot = \"Bonjour le monde\"\n",
    "\n",
    "print(mot[0])    # premier caractère\n",
    "print(mot[0:1])  # premier caractère (idem à celui au-dessus)\n",
    "print(mot[0:3])  # trois premiers caractères\n",
    "print(mot[:3])   # aussi les trois premiers caractères\n",
    "print(mot[-3:])  # trois derniers caractères\n",
    "print(mot[3:])   # tous les caractères sauf les trois premiers\n",
    "print(mot[:-3])  # tous les caractères sauf les trois derniers"
   ]
  },
  {
   "cell_type": "markdown",
   "metadata": {},
   "source": [
    "**Méthode <span style=\"color:red;font-family:courier;\">count(sousChaine)</span> -- Dénombrer les occurrences d'une sous-chaîne**"
   ]
  },
  {
   "cell_type": "code",
   "execution_count": 14,
   "metadata": {
    "jupyter": {
     "outputs_hidden": true
    }
   },
   "outputs": [
    {
     "name": "stdout",
     "output_type": "stream",
     "text": [
      "Nombre de \"r\" dans Abraracourcix: 3\n"
     ]
    }
   ],
   "source": [
    "druide = 'Abraracourcix'\n",
    "print('Nombre de \"r\" dans %s: %i' % (druide,druide.count('r')) )"
   ]
  },
  {
   "cell_type": "code",
   "execution_count": 15,
   "metadata": {
    "jupyter": {
     "outputs_hidden": true
    }
   },
   "outputs": [
    {
     "name": "stdout",
     "output_type": "stream",
     "text": [
      "Nombre de   'l': 5\n",
      "Nombre de 'lll': 1\n"
     ]
    }
   ],
   "source": [
    "emphaseHello = 'helllllo'\n",
    "print('Nombre de   \\'l\\':', emphaseHello.count('l'))\n",
    "print('Nombre de \\'lll\\':', emphaseHello.count('lll')) # séquences disjointes"
   ]
  },
  {
   "cell_type": "markdown",
   "metadata": {},
   "source": [
    "**Méthode <span style=\"color:red;font-family:courier;\">index(sousChaine)</span> -- Position de la sous-chaîne**"
   ]
  },
  {
   "cell_type": "code",
   "execution_count": 16,
   "metadata": {
    "jupyter": {
     "outputs_hidden": true
    }
   },
   "outputs": [
    {
     "data": {
      "text/plain": [
       "2"
      ]
     },
     "execution_count": 16,
     "metadata": {},
     "output_type": "execute_result"
    }
   ],
   "source": [
    "'Marco'.index('rc')"
   ]
  },
  {
   "cell_type": "code",
   "execution_count": 17,
   "metadata": {
    "jupyter": {
     "outputs_hidden": true
    }
   },
   "outputs": [
    {
     "ename": "ValueError",
     "evalue": "substring not found",
     "output_type": "error",
     "traceback": [
      "\u001b[0;31m---------------------------------------------------------------------------\u001b[0m",
      "\u001b[0;31mValueError\u001b[0m                                Traceback (most recent call last)",
      "\u001b[0;32m<ipython-input-17-21db440bd4e6>\u001b[0m in \u001b[0;36m<module>\u001b[0;34m\u001b[0m\n\u001b[0;32m----> 1\u001b[0;31m \u001b[0;34m'Marco'\u001b[0m\u001b[0;34m.\u001b[0m\u001b[0mindex\u001b[0m\u001b[0;34m(\u001b[0m\u001b[0;34m'ro'\u001b[0m\u001b[0;34m)\u001b[0m  \u001b[0;31m# Erreur si chaîne introuvable\u001b[0m\u001b[0;34m\u001b[0m\u001b[0;34m\u001b[0m\u001b[0m\n\u001b[0m",
      "\u001b[0;31mValueError\u001b[0m: substring not found"
     ]
    }
   ],
   "source": [
    "'Marco'.index('ro')  # Erreur si chaîne introuvable"
   ]
  },
  {
   "cell_type": "markdown",
   "metadata": {},
   "source": [
    "**Méthode <span style=\"color:red;font-family:courier;\">split(sousChaine)</span> -- Découpage de chaîne**"
   ]
  },
  {
   "cell_type": "code",
   "execution_count": 18,
   "metadata": {
    "jupyter": {
     "outputs_hidden": true
    }
   },
   "outputs": [
    {
     "data": {
      "text/plain": [
       "['Marco', 'Guay']"
      ]
     },
     "execution_count": 18,
     "metadata": {},
     "output_type": "execute_result"
    }
   ],
   "source": [
    "'Marco Guay'.split(' ') # division sur l'espace"
   ]
  },
  {
   "cell_type": "code",
   "execution_count": 19,
   "metadata": {
    "jupyter": {
     "outputs_hidden": true
    }
   },
   "outputs": [
    {
     "data": {
      "text/plain": [
       "['Louis-Joseph', 'Montcalm']"
      ]
     },
     "execution_count": 19,
     "metadata": {},
     "output_type": "execute_result"
    }
   ],
   "source": [
    "'Louis-Joseph de Montcalm'.split(' de ')"
   ]
  },
  {
   "cell_type": "code",
   "execution_count": 20,
   "metadata": {
    "jupyter": {
     "outputs_hidden": true
    }
   },
   "outputs": [
    {
     "data": {
      "text/plain": [
       "['Il', 'était', 'une', 'fois']"
      ]
     },
     "execution_count": 20,
     "metadata": {},
     "output_type": "execute_result"
    }
   ],
   "source": [
    "'Il était une fois'.split(' ')"
   ]
  },
  {
   "cell_type": "code",
   "execution_count": 21,
   "metadata": {
    "jupyter": {
     "outputs_hidden": true
    }
   },
   "outputs": [
    {
     "data": {
      "text/plain": [
       "['indivisible']"
      ]
     },
     "execution_count": 21,
     "metadata": {},
     "output_type": "execute_result"
    }
   ],
   "source": [
    "'indivisible'.split(' ')"
   ]
  },
  {
   "cell_type": "markdown",
   "metadata": {},
   "source": [
    "**Méthodes <span style=\"color:red;font-family:courier;\">startswith(sousChaine)</span>, <span style=\"color:red;font-family:courier;\">endswith(sousChaine)</span> -- Détermine si la chaîne débute ou se termine par une sous-chaîne.**"
   ]
  },
  {
   "cell_type": "code",
   "execution_count": 22,
   "metadata": {
    "jupyter": {
     "outputs_hidden": true
    }
   },
   "outputs": [
    {
     "name": "stdout",
     "output_type": "stream",
     "text": [
      "True\n",
      "True\n",
      "False\n",
      "False\n"
     ]
    }
   ],
   "source": [
    "print(\"Adam et Eve\".startswith('Ada'))\n",
    "print(\"Adam et Eve\".endswith('ve'))\n",
    "print(\"Adam et Eve\".startswith('ada'))\n",
    "print(\"Adam et Eve\".endswith('vE'))"
   ]
  },
  {
   "cell_type": "markdown",
   "metadata": {},
   "source": [
    "**Méthode <span style=\"color:red;font-family:courier;\">replace(recherche,remplace)</span> -- Remplacement de sous-chaîne**"
   ]
  },
  {
   "cell_type": "code",
   "execution_count": 24,
   "metadata": {},
   "outputs": [
    {
     "name": "stdout",
     "output_type": "stream",
     "text": [
      "Bon matin monsieur\n"
     ]
    }
   ],
   "source": [
    "print('Bonjour monsieur'.replace('Bonjour','Bon matin'))"
   ]
  },
  {
   "cell_type": "code",
   "execution_count": 25,
   "metadata": {},
   "outputs": [
    {
     "name": "stdout",
     "output_type": "stream",
     "text": [
      "Bonjour monsieur\n"
     ]
    }
   ],
   "source": [
    "print('Bonjour monsieur'.replace('Salut','Bon matin')) # Chaîne inchangée"
   ]
  },
  {
   "cell_type": "code",
   "execution_count": 28,
   "metadata": {},
   "outputs": [
    {
     "name": "stdout",
     "output_type": "stream",
     "text": [
      "Une variable, est  comme une zone mémoire \n"
     ]
    }
   ],
   "source": [
    "# Remplace plusieurs occurrences\n",
    "print('Une variable,genre est genre comme une zone mémoire genre'.replace('genre',''))"
   ]
  },
  {
   "cell_type": "markdown",
   "metadata": {},
   "source": [
    "## Autres transformations"
   ]
  },
  {
   "cell_type": "code",
   "execution_count": 29,
   "metadata": {
    "jupyter": {
     "outputs_hidden": true
    }
   },
   "outputs": [
    {
     "data": {
      "text/plain": [
       "'Marco Guay'"
      ]
     },
     "execution_count": 29,
     "metadata": {},
     "output_type": "execute_result"
    }
   ],
   "source": [
    "'marco guay'.title()"
   ]
  },
  {
   "cell_type": "code",
   "execution_count": 30,
   "metadata": {
    "jupyter": {
     "outputs_hidden": true
    }
   },
   "outputs": [
    {
     "data": {
      "text/plain": [
       "'Marco Guay'"
      ]
     },
     "execution_count": 30,
     "metadata": {},
     "output_type": "execute_result"
    }
   ],
   "source": [
    "'mArCo gUaY'.title()"
   ]
  },
  {
   "cell_type": "code",
   "execution_count": 31,
   "metadata": {
    "jupyter": {
     "outputs_hidden": true
    }
   },
   "outputs": [
    {
     "data": {
      "text/plain": [
       "'Informatique'"
      ]
     },
     "execution_count": 31,
     "metadata": {},
     "output_type": "execute_result"
    }
   ],
   "source": [
    "'informatique'.capitalize()"
   ]
  },
  {
   "cell_type": "code",
   "execution_count": 32,
   "metadata": {
    "jupyter": {
     "outputs_hidden": true
    }
   },
   "outputs": [
    {
     "data": {
      "text/plain": [
       "'abc DEF'"
      ]
     },
     "execution_count": 32,
     "metadata": {},
     "output_type": "execute_result"
    }
   ],
   "source": [
    "'ABC def'.swapcase()"
   ]
  },
  {
   "cell_type": "code",
   "execution_count": 33,
   "metadata": {
    "jupyter": {
     "outputs_hidden": true
    }
   },
   "outputs": [
    {
     "data": {
      "text/plain": [
       "'- Informatique'"
      ]
     },
     "execution_count": 33,
     "metadata": {},
     "output_type": "execute_result"
    }
   ],
   "source": [
    "'  - Informatique    '.strip()"
   ]
  },
  {
   "cell_type": "code",
   "execution_count": 34,
   "metadata": {
    "jupyter": {
     "outputs_hidden": true
    }
   },
   "outputs": [
    {
     "data": {
      "text/plain": [
       "'- Informatique    '"
      ]
     },
     "execution_count": 34,
     "metadata": {},
     "output_type": "execute_result"
    }
   ],
   "source": [
    "'  - Informatique    '.lstrip()"
   ]
  },
  {
   "cell_type": "code",
   "execution_count": 35,
   "metadata": {
    "jupyter": {
     "outputs_hidden": true
    }
   },
   "outputs": [
    {
     "data": {
      "text/plain": [
       "'  - Informatique'"
      ]
     },
     "execution_count": 35,
     "metadata": {},
     "output_type": "execute_result"
    }
   ],
   "source": [
    "'  - Informatique    '.rstrip()"
   ]
  },
  {
   "cell_type": "code",
   "execution_count": 36,
   "metadata": {
    "jupyter": {
     "outputs_hidden": true
    }
   },
   "outputs": [
    {
     "data": {
      "text/plain": [
       "'==Informatique=='"
      ]
     },
     "execution_count": 36,
     "metadata": {},
     "output_type": "execute_result"
    }
   ],
   "source": [
    "'---==Informatique==---'.strip('-')"
   ]
  },
  {
   "cell_type": "code",
   "execution_count": 37,
   "metadata": {
    "jupyter": {
     "outputs_hidden": true
    }
   },
   "outputs": [
    {
     "data": {
      "text/plain": [
       "'Informatique'"
      ]
     },
     "execution_count": 37,
     "metadata": {},
     "output_type": "execute_result"
    }
   ],
   "source": [
    "'-=-=-=Informatique=-=-=-'.strip('-=')"
   ]
  },
  {
   "cell_type": "code",
   "execution_count": 38,
   "metadata": {
    "jupyter": {
     "outputs_hidden": true
    }
   },
   "outputs": [
    {
     "data": {
      "text/plain": [
       "'BBBBInformatiqueCCC'"
      ]
     },
     "execution_count": 38,
     "metadata": {},
     "output_type": "execute_result"
    }
   ],
   "source": [
    "'aaaBBBBInformatiqueCCCddd'.strip('da')"
   ]
  },
  {
   "cell_type": "code",
   "execution_count": 39,
   "metadata": {
    "jupyter": {
     "outputs_hidden": true
    }
   },
   "outputs": [
    {
     "data": {
      "text/plain": [
       "'Informatique'"
      ]
     },
     "execution_count": 39,
     "metadata": {},
     "output_type": "execute_result"
    }
   ],
   "source": [
    "'aaaBBBBInformatiqueCCCddd'.strip('daBC')"
   ]
  },
  {
   "cell_type": "markdown",
   "metadata": {},
   "source": [
    "## Validations de format"
   ]
  },
  {
   "cell_type": "code",
   "execution_count": 40,
   "metadata": {
    "jupyter": {
     "outputs_hidden": true
    }
   },
   "outputs": [
    {
     "name": "stdout",
     "output_type": "stream",
     "text": [
      "False\n",
      "False\n",
      "False\n",
      "False\n",
      "False\n",
      "False\n",
      "False\n"
     ]
    }
   ],
   "source": [
    "phrase = \"Bonjour le monde\"\n",
    " \n",
    "print(phrase.isalnum())         # valide si tous les caractères sont alphanumériques\n",
    "print(phrase.isalpha())         # valide si tous les caractères sont alphabétiques\n",
    "print(phrase.isdigit())         # valide si la chaîne contient des digits\n",
    "print(phrase.istitle())         # valide si la chaîne répond au format 'title' (titre)\n",
    "print(phrase.isupper())         # valide si la chaîne est en majuscule\n",
    "print(phrase.islower())         # valide si la chaîne est en minuscule\n",
    "print(phrase.isspace())         # valide si la chaîne est composée d'espace(s)"
   ]
  },
  {
   "cell_type": "code",
   "execution_count": 41,
   "metadata": {
    "jupyter": {
     "outputs_hidden": true
    }
   },
   "outputs": [
    {
     "name": "stdout",
     "output_type": "stream",
     "text": [
      "True\n",
      "True\n",
      "False\n",
      "True\n",
      "False\n",
      "False\n",
      "False\n"
     ]
    }
   ],
   "source": [
    "phrase = \"Marco\"\n",
    " \n",
    "print(phrase.isalnum())         # valide si tous les caractères sont alphanumériques\n",
    "print(phrase.isalpha())         # valide si tous les caractères sont alphabétiques\n",
    "print(phrase.isdigit())         # valide si la chaîne contient des digits\n",
    "print(phrase.istitle())         # valide si la chaîne répond au format 'title' (titre)\n",
    "print(phrase.isupper())         # valide si la chaîne est en majuscule\n",
    "print(phrase.islower())         # valide si la chaîne est en minuscule\n",
    "print(phrase.isspace())         # valide si la chaîne est composée d'espace(s)"
   ]
  },
  {
   "cell_type": "code",
   "execution_count": null,
   "metadata": {},
   "outputs": [],
   "source": []
  }
 ],
 "metadata": {
  "kernelspec": {
   "display_name": "Python 3",
   "language": "python",
   "name": "python3"
  },
  "language_info": {
   "codemirror_mode": {
    "name": "ipython",
    "version": 3
   },
   "file_extension": ".py",
   "mimetype": "text/x-python",
   "name": "python",
   "nbconvert_exporter": "python",
   "pygments_lexer": "ipython3",
   "version": "3.7.7"
  }
 },
 "nbformat": 4,
 "nbformat_minor": 4
}
