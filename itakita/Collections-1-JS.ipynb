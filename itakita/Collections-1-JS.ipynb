{
 "cells": [
  {
   "cell_type": "markdown",
   "metadata": {},
   "source": [
    "<img style='margin-right:0' src=\"http://dinfo.ca/logoDptInfo.jpg\" width=300>\n",
    "\n",
    "# Introduction aux collections (JavaScript)\n",
    "---"
   ]
  },
  {
   "cell_type": "markdown",
   "metadata": {},
   "source": [
    "En JavaScript, on utilise **Array** pour décrire une **collection ordonnée**.  \n",
    "\n",
    "Il n'y a pas de collection immuable (non modifiable) comme les tuples en Python.  Néanmoins, il serait possible d'interdire la modification d'un array en \"figeant\" la collection (`Object.freeze(liste)`)."
   ]
  },
  {
   "cell_type": "code",
   "execution_count": 3,
   "metadata": {},
   "outputs": [
    {
     "name": "stdout",
     "output_type": "stream",
     "text": [
      "Adam\n",
      "Alpha\n",
      "[ 'Alpha', 'Beta', 'Omega', 'Epsilon' ]\n",
      "[ 'Alexis', 'Beta', 'Omega', 'Epsilon' ]\n",
      "::: Adam,Bernard,Charles\n"
     ]
    }
   ],
   "source": [
    "var equivTuple = Object.freeze(['Adam', 'Bernard','Charles']);\n",
    "var liste = ['Alpha', 'Beta', 'Omega'];\n",
    "console.log(equivTuple[0]);\n",
    "console.log(liste[0]);\n",
    "                           \n",
    "liste.push('Epsilon');\n",
    "console.log(liste);\n",
    "liste[0] = 'Alexis';\n",
    "console.log(liste);\n",
    "\n",
    "// Opérations invalides\n",
    "equivTuple[0] = 'Gamma';  \n",
    "//equivTuple.push('Epsilon');\n",
    "console.log(\"::: \" + equivTuple);"
   ]
  },
  {
   "cell_type": "markdown",
   "metadata": {},
   "source": [
    "### Création d'une collection ordonnée\n",
    "\n",
    "#### Créer une liste vide\n",
    "\n",
    "```javascript\n",
    "maListe = [];           // Façon #1\n",
    "maListe = new Array();  // Façon #2\n",
    "maListe = Array();      // Façon #3\n",
    "```\n",
    "\n",
    "#### Créer une liste de valeurs\n",
    "\n",
    "```javascript\n",
    "nombres = [1,2,4,8,16,32,64,128];\n",
    "cartes = new Array('2C', 'AK', '9P', 'RP', '5C');\n",
    "``` "
   ]
  },
  {
   "cell_type": "code",
   "execution_count": 4,
   "metadata": {},
   "outputs": [
    {
     "name": "stdout",
     "output_type": "stream",
     "text": [
      "[ 1, 2, 4, 8, 16, 32, 64, 128 ]\n",
      "[ '2C', 'AK', '9P', 'RP', '5C' ]\n"
     ]
    }
   ],
   "source": [
    "var maListe = [];           // Façon #1\n",
    "maListe = new Array();  // Façon #2\n",
    "maListe = Array();      // Façon #3\n",
    "var nombres = [1,2,4,8,16,32,64,128];\n",
    "var cartes = new Array('2C', 'AK', '9P', 'RP', '5C');\n",
    "console.log(nombres);\n",
    "console.log(cartes);"
   ]
  },
  {
   "cell_type": "markdown",
   "metadata": {},
   "source": [
    "---\n",
    "## Expérimentation\n",
    "\n",
    "Créez une collection ordonnée à placer dans la variable `joursMois` qui comprend 12 nombres, soit le nombre de jour pour chacun des mois.  Le premier mois, janvier, possède 31 jours.  Considérez que février n'est pas bissextile."
   ]
  },
  {
   "cell_type": "code",
   "execution_count": 7,
   "metadata": {},
   "outputs": [
    {
     "name": "stdout",
     "output_type": "stream",
     "text": [
      "[ 31, 30, 31, 30, 31, 30, 31, 31, 30, 31, 30, 31 ]\n",
      "Nb mois: :12\n"
     ]
    }
   ],
   "source": [
    "// Réponse\n",
    "var joursMois = [31,30,31,30,31,30,31,31,30,31,30,31];\n",
    "console.log(joursMois);\n",
    "console.log(\"Nb mois: :\" + joursMois.length);"
   ]
  },
  {
   "cell_type": "markdown",
   "metadata": {},
   "source": [
    "### Récupérer un élément à une position\n",
    "\n",
    "On peut utiliser les crochets et préciser un indice (les indices débutent à zéro).\n",
    "\n",
    "```javascrit\n",
    "prenoms = ['Adam', 'Bernard','Charles'];\n",
    "liste = ['Alpha', 'Beta', 'Omega'];\n",
    "console.log(prenoms[0]);  // Premier élément\n",
    "console.log(liste[1]);    // Second élément\n",
    "```"
   ]
  },
  {
   "cell_type": "markdown",
   "metadata": {},
   "source": [
    "---\n",
    "## Expérimentation\n",
    "\n",
    "Affichez le nombre de jours en décembre (basé sur votre variable `joursMois`."
   ]
  },
  {
   "cell_type": "code",
   "execution_count": 8,
   "metadata": {},
   "outputs": [
    {
     "name": "stdout",
     "output_type": "stream",
     "text": [
      "31\n",
      "31\n"
     ]
    }
   ],
   "source": [
    "// Insérez votre réponse\n",
    "console.log(joursMois[11]);\n",
    "console.log(joursMois[joursMois.length-1]);\n",
    "\n",
    "\n",
    "// Pas d'indiçage négatif en JavaScript"
   ]
  },
  {
   "cell_type": "markdown",
   "metadata": {},
   "source": [
    "#### Slicing\n",
    "\n",
    "Comme avec le découpage de chaîne, on peut également faire cette opération avec les éléments d'une collection."
   ]
  },
  {
   "cell_type": "code",
   "execution_count": null,
   "metadata": {},
   "outputs": [],
   "source": [
    "# PYTHON (à transformer)\n",
    "cartes = ('2C', 'AK', '9P', 'RP', '5C')\n",
    "print(\"Deux premières cartes:\",cartes[:2])\n",
    "print(\"Deux dernières cartes:\",cartes[-2:])\n",
    "print(\"2e, 3e et 4e cartes:\", cartes[1:-1])\n",
    "#print(\"2e, 3e et 4e cartes:\", cartes[1:4])\n",
    "#print(\"2e, 3e et 4e cartes:\", cartes[-4:4])"
   ]
  },
  {
   "cell_type": "code",
   "execution_count": 10,
   "metadata": {},
   "outputs": [
    {
     "name": "stdout",
     "output_type": "stream",
     "text": [
      "Deux premières cartes: 2C,AK\n"
     ]
    }
   ],
   "source": [
    "var cartes = ['2C', 'AK', '9P', 'RP', '5C'];\n",
    "console.log(\"Deux premières cartes: \" + cartes.slice(0,2))"
   ]
  },
  {
   "cell_type": "markdown",
   "metadata": {},
   "source": [
    "## Itérer sur les éléments d'une collection"
   ]
  },
  {
   "cell_type": "code",
   "execution_count": 23,
   "metadata": {},
   "outputs": [
    {
     "name": "stdout",
     "output_type": "stream",
     "text": [
      "0 'Adam'\n",
      "1 'Bernard'\n",
      "2 'Charles'\n",
      "3 'Denis'\n",
      "4 'Eric'\n"
     ]
    }
   ],
   "source": [
    "// PYTHON (à transformer)\n",
    "var prenoms = ['Adam', 'Bernard', 'Charles', 'Denis', 'Eric'];\n",
    "for (var i = 0; i < prenoms.length; i++)\n",
    "    console.log(i,prenoms[i]);\n"
   ]
  },
  {
   "cell_type": "code",
   "execution_count": 24,
   "metadata": {},
   "outputs": [
    {
     "name": "stdout",
     "output_type": "stream",
     "text": [
      "Le prénom Adam possède 4 lettres\n",
      "Le prénom Bernard possède 7 lettres\n",
      "Le prénom Charles possède 7 lettres\n",
      "Le prénom Denis possède 5 lettres\n",
      "Le prénom Eric possède 4 lettres\n"
     ]
    }
   ],
   "source": [
    "//PYTHON (à transformer)\n",
    "for (unPrenom of prenoms)\n",
    "   console.log(`Le prénom ${unPrenom} possède ${unPrenom.length} lettres`); \n",
    "\n",
    "    "
   ]
  },
  {
   "cell_type": "markdown",
   "metadata": {},
   "source": [
    "**<span style='color:red'>ATTENTION</span>** Ne pas utiliser le `forEach` tout de suite (attendre)."
   ]
  },
  {
   "cell_type": "markdown",
   "metadata": {},
   "source": [
    "## Expérimentation\n",
    "\n",
    "Combien y a-t-il de mois possédant 31 jours dans l'année?\n",
    "* Initialiser le compteur à zéro\n",
    "* Pour chaque nbJours de la collection joursMois\n",
    "    * Si nbJours est 31\n",
    "        * incrémenter le compteur\n",
    "* Afficher le compteur"
   ]
  },
  {
   "cell_type": "code",
   "execution_count": 18,
   "metadata": {},
   "outputs": [],
   "source": [
    "\n"
   ]
  },
  {
   "cell_type": "markdown",
   "metadata": {},
   "source": [
    "### Ajouter des éléments à la fin d'une liste"
   ]
  },
  {
   "cell_type": "code",
   "execution_count": null,
   "metadata": {},
   "outputs": [],
   "source": [
    "# PYTHON\n",
    "valeurs = []\n",
    "valeurs.append(10)\n",
    "valeurs.append(20)\n",
    "valeurs.append(24)\n",
    "print(valeurs)"
   ]
  },
  {
   "cell_type": "code",
   "execution_count": null,
   "metadata": {},
   "outputs": [],
   "source": [
    "# PYTHON\n",
    "somme = 0\n",
    "for uneValeur in valeurs:\n",
    "    somme += uneValeur\n",
    "print(\"Total:\", somme)"
   ]
  },
  {
   "cell_type": "markdown",
   "metadata": {},
   "source": [
    "## Expérimentation\n",
    "\n",
    "Pour la collection de valeurs, afficher chaque nombre qui est un multiple de 3"
   ]
  },
  {
   "cell_type": "code",
   "execution_count": null,
   "metadata": {},
   "outputs": [],
   "source": [
    "var valeurs = [6,9,10,12,19,21,24,26,27];\n",
    "// à compléter"
   ]
  },
  {
   "cell_type": "code",
   "execution_count": null,
   "metadata": {},
   "outputs": [],
   "source": [
    "// Faire la même chose pour les nombres de 1 à 100 inclusivement\n",
    "\n",
    "// à compléter"
   ]
  },
  {
   "cell_type": "markdown",
   "metadata": {},
   "source": [
    "## Expérimentation\n",
    "\n",
    "Pour les nombres de 1 à 100, afficher le nombre de multiples de 3.\n",
    "\n",
    "Deux techniques peuvent être appliquées:\n",
    "* Créer une collection `extraction` qui contiendra les nombres multiples de 3\n",
    "* Utiliser un compteur qui sera incrémenté si le nombre visité est un multiple de 3\n",
    "\n",
    "> On pourra adapter notre solution par après pour laisser tomber le compteur..."
   ]
  },
  {
   "cell_type": "code",
   "execution_count": null,
   "metadata": {},
   "outputs": [],
   "source": []
  },
  {
   "cell_type": "code",
   "execution_count": null,
   "metadata": {},
   "outputs": [],
   "source": []
  },
  {
   "cell_type": "code",
   "execution_count": null,
   "metadata": {},
   "outputs": [],
   "source": [
    "// Nombres aléatoires\n"
   ]
  },
  {
   "cell_type": "code",
   "execution_count": null,
   "metadata": {},
   "outputs": [],
   "source": [
    "var valeurs = [79, 68, 74, 18, 5, 72, 77, 57, 84, 11];\n",
    "// Quellest est la valeur la plus petite?\n"
   ]
  },
  {
   "cell_type": "markdown",
   "metadata": {},
   "source": [
    "#### Alternative\n",
    "\n",
    "La méthode ci-dessus était une solution algorithmique.  On peut utiliser Math.max() et Math.min() mais on doit énumérer les valeurs (ne peut être une collection); c'est ici qu'on utilise l'opérateur de décomposition (spread syntax).\n",
    "https://developer.mozilla.org/fr/docs/Web/JavaScript/Reference/Op%C3%A9rateurs/Syntaxe_d%C3%A9composition"
   ]
  },
  {
   "cell_type": "code",
   "execution_count": 1,
   "metadata": {},
   "outputs": [
    {
     "name": "stdout",
     "output_type": "stream",
     "text": [
      "5\n"
     ]
    }
   ],
   "source": [
    "var valeurs = [79, 68, 74, 18, 5, 72, 77, 57, 84, 11];\n",
    "// Quellest est la valeur la plus petite?\n",
    "\n"
   ]
  },
  {
   "cell_type": "markdown",
   "metadata": {},
   "source": [
    "## Expérimentation\n",
    "\n",
    "Combien y a-t-il de valeurs inférieures à 50? Puis supérieures ou égales à 50?"
   ]
  },
  {
   "cell_type": "code",
   "execution_count": 3,
   "metadata": {},
   "outputs": [
    {
     "name": "stdout",
     "output_type": "stream",
     "text": [
      "Nb valeurs < 50 : 3\n",
      "Nb valeurs >= 50: 7\n"
     ]
    }
   ],
   "source": [
    "# PYTHON\n",
    "valeurs = [79, 68, 74, 18, 5, 72, 77, 57, 84, 11]\n",
    "nbValeursInferieures = 0\n",
    "for uneValeur in valeurs:\n",
    "    if uneValeur < 50:\n",
    "        nbValeursInferieures += 1\n",
    "print(\"Nb valeurs < 50 :\", nbValeursInferieures)\n",
    "print(\"Nb valeurs >= 50:\", len(valeurs) - nbValeursInferieures)"
   ]
  },
  {
   "cell_type": "markdown",
   "metadata": {},
   "source": [
    "#### Traiter deux collections en parallèle"
   ]
  },
  {
   "cell_type": "code",
   "execution_count": 5,
   "metadata": {},
   "outputs": [
    {
     "name": "stdout",
     "output_type": "stream",
     "text": [
      "Toronto : 2.73 million(s)\n",
      "Montréal : 1.70 million(s)\n",
      "Vancouver : 0.63 million(s)\n",
      "New York : 8.62 million(s)\n"
     ]
    }
   ],
   "source": [
    "# PYTHON\n",
    "villes = ['Toronto', 'Montréal', 'Vancouver', 'New York']\n",
    "populations = [2731571, 1704694, 631486, 8622698]\n",
    "# Afficher la population pour chaque ville, exprimée en millions d'habitants\n",
    "for i in range(len(villes)):\n",
    "    print('%-9s : %.1f million(s)' % (villes[i], populations[i] / 1000000.0))"
   ]
  },
  {
   "cell_type": "markdown",
   "metadata": {},
   "source": [
    "### Collection de collections\n",
    "\n",
    "On peut avoir une représentation un peu plus complexe.  \n",
    "Par exemple:"
   ]
  },
  {
   "cell_type": "code",
   "execution_count": 7,
   "metadata": {},
   "outputs": [],
   "source": [
    "var populationClasses = [ [10,20], [5,15], [12,9], [25,3] ];"
   ]
  },
  {
   "cell_type": "code",
   "execution_count": 8,
   "metadata": {},
   "outputs": [
    {
     "name": "stdout",
     "output_type": "stream",
     "text": [
      "[ 10, 20 ]\n",
      "Gars  : 10\n",
      "Filles: 20\n"
     ]
    }
   ],
   "source": [
    "# PYTHON\n",
    "print(populationClasses[0]) # Première classe\n",
    "print(\"Gars  :\", populationClasses[0][0])\n",
    "print(\"Filles:\", populationClasses[0][1])"
   ]
  },
  {
   "cell_type": "code",
   "execution_count": 14,
   "metadata": {},
   "outputs": [
    {
     "name": "stdout",
     "output_type": "stream",
     "text": [
      "Tot:  99\n"
     ]
    }
   ],
   "source": [
    "//Compter le nombre de gars et le nombre de filles pour l'ensemble des classes\n"
   ]
  }
 ],
 "metadata": {
  "kernelspec": {
   "display_name": "Javascript (Node.js)",
   "language": "javascript",
   "name": "javascript"
  },
  "language_info": {
   "file_extension": ".js",
   "mimetype": "application/javascript",
   "name": "javascript",
   "version": "10.13.0"
  }
 },
 "nbformat": 4,
 "nbformat_minor": 4
}
