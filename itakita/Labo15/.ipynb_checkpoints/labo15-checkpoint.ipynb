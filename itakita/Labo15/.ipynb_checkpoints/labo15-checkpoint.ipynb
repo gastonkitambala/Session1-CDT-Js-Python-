{
 "cells": [
  {
   "cell_type": "markdown",
   "metadata": {},
   "source": [
    "Before you turn this problem in, make sure everything runs as expected. First, **restart the kernel** (in the menubar, select Kernel$\\rightarrow$Restart) and then **run all cells** (in the menubar, select Cell$\\rightarrow$Run All).\n",
    "\n",
    "Make sure you fill in any place that says `YOUR CODE HERE` or \"YOUR ANSWER HERE\", as well as your name and collaborators below:"
   ]
  },
  {
   "cell_type": "code",
   "execution_count": null,
   "metadata": {},
   "outputs": [],
   "source": [
    "NAME = \"Gaston Itaka Kitambala\"\n",
    "COLLABORATORS = \"\""
   ]
  },
  {
   "cell_type": "markdown",
   "metadata": {},
   "source": [
    "---"
   ]
  },
  {
   "cell_type": "markdown",
   "metadata": {},
   "source": [
    "##### <img style='margin-right:0' src=\"http://dinfo.ca/logoDptInfo.jpg\" width=300>\n",
    "\n",
    "# Laboratoire #15 (Python)\n",
    "---"
   ]
  },
  {
   "cell_type": "markdown",
   "metadata": {
    "collapsed": true,
    "deletable": false,
    "editable": false,
    "nbgrader": {
     "cell_type": "markdown",
     "checksum": "b4d81a8ae5b802de4e8acf2c75e125ea",
     "grade": false,
     "grade_id": "q1-enonce",
     "locked": true,
     "schema_version": 3,
     "solution": false
    }
   },
   "source": [
    "#### Question #1 (3 points)\n",
    "\n",
    "Un personnage de D&D (Donjons et Dragons) est stocké dans le fichier `perso.dat`.\n",
    "\n",
    "Le fichier est structuré comme suit:\n",
    "\n",
    "| champ        | longueur et autres informations\n",
    "|--------------|---------------------------------------------\n",
    "| race         | 6 caractères (encodage ASCII)\n",
    "| classe       | 6 caractères (encodage ASCII)\n",
    "| force        | nombre sur un octet compris entre 6 et 18\n",
    "| dextérité    | nombre sur un octet compris entre 6 et 18\n",
    "| constitution | nombre sur un octet compris entre 6 et 18\n",
    "| intelligence | nombre sur un octet compris entre 6 et 18\n",
    "| sagesse      | nombre sur un octet compris entre 6 et 18\n",
    "| charisme     | nombre sur un octet compris entre 6 et 18\n",
    "\n",
    "Le fichier n'est composé que d'un seul enregistrement.  \n",
    "\n",
    "Votre mandat est d'afficher les informations récupérées du fichier et les afficher.\n",
    "\n",
    "**Résultats attendus (note: les valeurs sont remplacées par des points d'interrogation)**:\n",
    "\n",
    "```\n",
    "Race        : ????\n",
    "Classe      : ????\n",
    "Force       : ?\n",
    "Dextérité   : ??\n",
    "Constitution: ??\n",
    "Intelligence: ??\n",
    "Sagesse     : ??\n",
    "Charisme    : ??\n",
    "```"
   ]
  },
  {
   "cell_type": "code",
   "execution_count": null,
   "metadata": {
    "deletable": false,
    "editable": false,
    "nbgrader": {
     "cell_type": "code",
     "checksum": "c01df5a315b5e56fab39a03b3fa93c17",
     "grade": false,
     "grade_id": "cell-a1f39a3c09cfeaf3",
     "locked": true,
     "schema_version": 3,
     "solution": false
    }
   },
   "outputs": [],
   "source": [
    "!xxd perso.dat"
   ]
  },
  {
   "cell_type": "code",
   "execution_count": null,
   "metadata": {
    "deletable": false,
    "nbgrader": {
     "cell_type": "code",
     "checksum": "22d19eb9e94acb2a044697c3433f062c",
     "grade": true,
     "grade_id": "q1-reponse",
     "locked": false,
     "points": 3,
     "schema_version": 3,
     "solution": true
    }
   },
   "outputs": [],
   "source": [
    "import struct\n",
    "# VOTRE CODIFICATION (et supprimer la ligne suivante\n",
    "raise NotImplementedError()\n",
    "with open('perso.dat','A COMPLETER') as f:\n",
    "    infos = struct.unpack('A COMPLETER', f.read())\n",
    "    print('Race        :') # A COMPLETER...\n",
    "    print('Classe      :')\n",
    "    print('Force       :')\n",
    "    print('Dextérité   :')\n",
    "    print('Constitution:')\n",
    "    print('Intelligence:')\n",
    "    print('Sagesse     :')\n",
    "    print('Charisme    :')"
   ]
  },
  {
   "cell_type": "markdown",
   "metadata": {
    "collapsed": true,
    "deletable": false,
    "editable": false,
    "nbgrader": {
     "cell_type": "markdown",
     "checksum": "8141a1f0c297ca74c713cd1e0cb57a56",
     "grade": false,
     "grade_id": "q3-enonce",
     "locked": true,
     "schema_version": 3,
     "solution": false
    }
   },
   "source": [
    "---\n",
    "#### Question #2 (2 points)\n",
    "\n",
    "Nous avons une image stockée dans le fichier `logoDptInfo.jpg`.\n",
    "\n",
    "Vous devez à l'aide de la manipulation de fichiers binaires, lire le fichier d'origine et sauvegarder les données dans un nouveau fichier nommé `copieImage.jpg`."
   ]
  },
  {
   "cell_type": "code",
   "execution_count": null,
   "metadata": {
    "deletable": false,
    "editable": false,
    "nbgrader": {
     "cell_type": "code",
     "checksum": "3c34b4efe0f709d4fdee029eed7a1e43",
     "grade": false,
     "grade_id": "cell-5407a3c86dde6cf5",
     "locked": true,
     "schema_version": 3,
     "solution": false
    }
   },
   "outputs": [],
   "source": [
    "# Image d'origine\n",
    "from IPython.display import Image\n",
    "Image(filename='logoDptInfo.jpg') "
   ]
  },
  {
   "cell_type": "code",
   "execution_count": null,
   "metadata": {
    "deletable": false,
    "nbgrader": {
     "cell_type": "code",
     "checksum": "f59f5e4b1478a92a355018882d76671b",
     "grade": true,
     "grade_id": "q3-reponse",
     "locked": false,
     "points": 2,
     "schema_version": 3,
     "solution": true
    }
   },
   "outputs": [],
   "source": [
    "# VOTRE CODIFICATION (et supprimer la ligne suivante\n",
    "raise NotImplementedError()"
   ]
  },
  {
   "cell_type": "code",
   "execution_count": null,
   "metadata": {
    "deletable": false,
    "editable": false,
    "nbgrader": {
     "cell_type": "code",
     "checksum": "d6d5070cfc4cb26c91b7eb79a38c5b6f",
     "grade": false,
     "grade_id": "cell-c01a83c616d7bd10",
     "locked": true,
     "schema_version": 3,
     "solution": false
    }
   },
   "outputs": [],
   "source": [
    "# Image copiée\n",
    "from IPython.display import Image\n",
    "Image(filename='copieImage.jpg') "
   ]
  },
  {
   "cell_type": "markdown",
   "metadata": {
    "collapsed": true,
    "deletable": false,
    "editable": false,
    "nbgrader": {
     "cell_type": "markdown",
     "checksum": "0052edc7d2e63d75a77e711114e9b34f",
     "grade": false,
     "grade_id": "q4-enonce",
     "locked": true,
     "schema_version": 3,
     "solution": false
    }
   },
   "source": [
    "---\n",
    "#### Question #3 (3 points)\n",
    "\n",
    "On veut créer un fichier `valeurs.dat` qui contiendra 512 valeurs (de 1 à 512 inclusivement).\n",
    "\n",
    "Chaque valeur est exprimée en **nombre non-signé sur deux octets** en **big-endian**."
   ]
  },
  {
   "cell_type": "code",
   "execution_count": null,
   "metadata": {
    "deletable": false,
    "nbgrader": {
     "cell_type": "code",
     "checksum": "304c0710f75022049aa1eea18f69b88d",
     "grade": true,
     "grade_id": "q4-reponse",
     "locked": false,
     "points": 3,
     "schema_version": 3,
     "solution": true
    }
   },
   "outputs": [],
   "source": [
    "# VOTRE CODIFICATION (et supprimer la ligne suivante\n",
    "raise NotImplementedError()"
   ]
  },
  {
   "cell_type": "code",
   "execution_count": null,
   "metadata": {
    "deletable": false,
    "editable": false,
    "nbgrader": {
     "cell_type": "code",
     "checksum": "823b85220ecdd3b1ccbf94e3d10efc73",
     "grade": false,
     "grade_id": "cell-8982cfd6fc4c427a",
     "locked": true,
     "schema_version": 3,
     "solution": false
    }
   },
   "outputs": [],
   "source": [
    "!ls -l valeurs.dat\n",
    "!xxd valeurs.dat"
   ]
  },
  {
   "cell_type": "markdown",
   "metadata": {
    "collapsed": true,
    "deletable": false,
    "editable": false,
    "nbgrader": {
     "cell_type": "markdown",
     "checksum": "c0af250b36f8557159348ea2e0e5ceba",
     "grade": false,
     "grade_id": "q5-enonce",
     "locked": true,
     "schema_version": 3,
     "solution": false
    }
   },
   "source": [
    "---\n",
    "#### Question #4 (2 points)\n",
    "\n",
    "Le code suivant a un problème d'encodage (exécutez-le afin de voir l'erreur).\n",
    "\n",
    "Ensuite, apportez un correctif afin d'être capable d'encoder et de décoder le mot Été correctement."
   ]
  },
  {
   "cell_type": "code",
   "execution_count": null,
   "metadata": {
    "deletable": false,
    "nbgrader": {
     "cell_type": "code",
     "checksum": "e6736251cbb3d5015e10e9cc7c99cec2",
     "grade": true,
     "grade_id": "q5-reponse",
     "locked": false,
     "points": 2,
     "schema_version": 3,
     "solution": true
    }
   },
   "outputs": [],
   "source": [
    "# VOTRE CODIFICATION (et supprimer la ligne suivante\n",
    "raise NotImplementedError()\n",
    "import struct\n",
    "octets = struct.pack('4s', 'Été'.encode('utf-8'))\n",
    "chaine = struct.unpack('4s', octets)[0].decode('utf-8')\n",
    "print(\"Chaîne:\", chaine)"
   ]
  },
  {
   "cell_type": "code",
   "execution_count": null,
   "metadata": {},
   "outputs": [],
   "source": []
  }
 ],
 "metadata": {
  "kernelspec": {
   "display_name": "Python 3",
   "language": "python",
   "name": "python3"
  },
  "language_info": {
   "codemirror_mode": {
    "name": "ipython",
    "version": 3
   },
   "file_extension": ".py",
   "mimetype": "text/x-python",
   "name": "python",
   "nbconvert_exporter": "python",
   "pygments_lexer": "ipython3",
   "version": "3.7.7"
  }
 },
 "nbformat": 4,
 "nbformat_minor": 2
}
