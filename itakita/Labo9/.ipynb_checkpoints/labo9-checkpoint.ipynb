{
 "cells": [
  {
   "cell_type": "markdown",
   "metadata": {},
   "source": [
    "Before you turn this problem in, make sure everything runs as expected. First, **restart the kernel** (in the menubar, select Kernel$\\rightarrow$Restart) and then **run all cells** (in the menubar, select Cell$\\rightarrow$Run All).\n",
    "\n",
    "Make sure you fill in any place that says `YOUR CODE HERE` or \"YOUR ANSWER HERE\", as well as your name and collaborators below:"
   ]
  },
  {
   "cell_type": "code",
   "execution_count": null,
   "metadata": {},
   "outputs": [],
   "source": [
    "NAME = \"Gaston Itaka Kitambala\"\n",
    "COLLABORATORS = \"\""
   ]
  },
  {
   "cell_type": "markdown",
   "metadata": {},
   "source": [
    "---"
   ]
  },
  {
   "cell_type": "markdown",
   "metadata": {},
   "source": [
    "###### <img style='margin-right:0' src=\"http://dinfo.ca/logoDptInfo.jpg\" width=300>\n",
    "\n",
    "# Laboratoire #9\n",
    "---"
   ]
  },
  {
   "cell_type": "markdown",
   "metadata": {
    "collapsed": true,
    "deletable": false,
    "editable": false,
    "nbgrader": {
     "cell_type": "markdown",
     "checksum": "abec8e5138a9afce4989a2d5bf554e4a",
     "grade": false,
     "grade_id": "cell-9fc1028aa78665b1",
     "locked": true,
     "schema_version": 3,
     "solution": false
    }
   },
   "source": [
    "---\n",
    "#### Question #1 (0.5 point)\n",
    "Créez une collection ordonnée qui contient les noms des pays du G7.  \n",
    "\n",
    "La liste est référencée par la variable `paysG7`.\n",
    "\n",
    "| paysG7      |\n",
    "|-------------|\n",
    "| États-Unis  |\n",
    "| Japon       |\n",
    "| Allemagne   |\n",
    "| France      | \n",
    "| Royaume-Uni | \n",
    "| Italie      |\n",
    "| Canada      |\n"
   ]
  },
  {
   "cell_type": "code",
   "execution_count": 1,
   "metadata": {
    "deletable": false,
    "nbgrader": {
     "cell_type": "code",
     "checksum": "abea57a739ca93c25fea45dfd5d7dd84",
     "grade": false,
     "grade_id": "q1-code",
     "locked": false,
     "schema_version": 3,
     "solution": true
    }
   },
   "outputs": [],
   "source": [
    "var paysG7 = [\"États-Unis\", \"Japon\", \"Allemagne\", \"France\", \"Royaume-Uni\", \"Italie\", \"Canada\"];"
   ]
  },
  {
   "cell_type": "code",
   "execution_count": 2,
   "metadata": {
    "deletable": false,
    "editable": false,
    "nbgrader": {
     "cell_type": "code",
     "checksum": "6aa958171ed28de1b4375927c0ea6065",
     "grade": true,
     "grade_id": "q1-tests",
     "locked": true,
     "points": 0.5,
     "schema_version": 3,
     "solution": false
    }
   },
   "outputs": [],
   "source": [
    "var assert = require('assert');\n",
    "// Validations\n",
    "assert(typeof paysG7 === 'object', 'Aucune variable ne porte le nom `paysG7`');\n",
    "assert(Array.isArray(paysG7), '`paysG7` doit être un Array');\n",
    "assert(paysG7.length === 7, 'Il n\\'y a pas sept (7) pays dans votre collection');\n",
    "assert(paysG7[0] === 'États-Unis', 'Premier pays mal orthographié');\n",
    "assert(paysG7[1] == 'Japon', '2e pays mal orthographié');\n",
    "assert(paysG7[2] == 'Allemagne', '3e pays mal orthographié');\n",
    "assert(paysG7[3] == 'France', '4e pays mal orthographié');\n",
    "assert(paysG7[4] == 'Royaume-Uni', '5e pays mal orthographié');\n",
    "assert(paysG7[5] == 'Italie', '6e pays mal orthographié');\n",
    "assert(paysG7[6] == 'Canada', '7e pays mal orthographié');"
   ]
  },
  {
   "cell_type": "markdown",
   "metadata": {
    "collapsed": true,
    "deletable": false,
    "editable": false,
    "nbgrader": {
     "cell_type": "markdown",
     "checksum": "51c1e88fc9beac8928b638742f348d2b",
     "grade": false,
     "grade_id": "cell-2b2f135fead87d85",
     "locked": true,
     "schema_version": 3,
     "solution": false
    }
   },
   "source": [
    "---\n",
    "#### Question #2 (1 point)\n",
    "\n",
    "La Russie, dont le pays était suspendu du groupe économique depuis 2014, est de retour.\n",
    "\n",
    "Dans une variable `paysG8`, vous devez **copier** (cloner en utilisant une méthode de classe ou avec l'opérateur spread) la collection provenant de `paysG7` et ensuite y ajouter ce nouveau pays après la France.  Faites l'insertion de la valeur à l'aide de la méthode `splice()`.\n",
    "\n",
    "<span style=\"background-color: lightyellow\">Vous devez trouver la position</span> de la 'France' dans la collection; vous ne codez pas en dur l'indice de cet item.\n",
    "\n",
    "Après l'intervention, `paysG7` contiendra sept pays et `paysG8` en contiendra huit."
   ]
  },
  {
   "cell_type": "code",
   "execution_count": 9,
   "metadata": {
    "deletable": false,
    "nbgrader": {
     "cell_type": "code",
     "checksum": "d49ea45606789062cdde35d1d2df0d3b",
     "grade": false,
     "grade_id": "q2-code",
     "locked": false,
     "schema_version": 3,
     "solution": true
    }
   },
   "outputs": [
    {
     "name": "stdout",
     "output_type": "stream",
     "text": [
      ">>> G7 comporte 7 pays\n",
      "[ 'États-Unis',\n",
      "  'Japon',\n",
      "  'Allemagne',\n",
      "  'France',\n",
      "  'Royaume-Uni',\n",
      "  'Italie',\n",
      "  'Canada' ]\n",
      ">>> G8 comporte 8 pays\n",
      "[ 'États-Unis',\n",
      "  'Japon',\n",
      "  'Allemagne',\n",
      "  'France',\n",
      "  'Russie',\n",
      "  'Royaume-Uni',\n",
      "  'Italie',\n",
      "  'Canada' ]\n"
     ]
    }
   ],
   "source": [
    "var paysG8 = Array.from(paysG7);\n",
    "var positionFrance = paysG8.indexOf(\"France\");\n",
    "paysG8.splice(positionFrance + 1, 0, \"Russie\");\n",
    "console.log('>>> G7 comporte', paysG7.length, 'pays');\n",
    "console.log(paysG7);\n",
    "console.log('>>> G8 comporte', paysG8.length, 'pays');\n",
    "console.log(paysG8);"
   ]
  },
  {
   "cell_type": "code",
   "execution_count": 10,
   "metadata": {
    "deletable": false,
    "editable": false,
    "nbgrader": {
     "cell_type": "code",
     "checksum": "45cb5be9058554dce952b4f2d1e3578c",
     "grade": true,
     "grade_id": "q2-tests",
     "locked": true,
     "points": 1,
     "schema_version": 3,
     "solution": false
    }
   },
   "outputs": [],
   "source": [
    "var assert = require('assert');\n",
    "// Validations\n",
    "assert(typeof paysG8 === 'object', 'Aucune variable ne porte le nom `paysG8`');\n",
    "assert(Array.isArray(paysG8), '`paysG8` doit être un Array');\n",
    "assert(paysG8.length === 8, 'Il n\\'y a pas huit (8) pays dans votre collection');\n",
    "assert(paysG7[0] === 'États-Unis', 'Premier pays mal orthographié');\n",
    "assert(paysG7[1] === 'Japon', '2e pays mal orthographié');\n",
    "assert(paysG7[2] === 'Allemagne', '3e pays mal orthographié');\n",
    "assert(paysG7[3] === 'France', '4e pays mal orthographié');\n",
    "assert(paysG7[4] === 'Royaume-Uni', '5e pays mal orthographié');\n",
    "assert(paysG7[5] === 'Italie', '6e pays mal orthographié');\n",
    "assert(paysG7[6] === 'Canada', '7e pays mal orthographié');\n",
    "assert(paysG8[0] === 'États-Unis', 'Premier pays mal orthographié');\n",
    "assert(paysG8[1] === 'Japon', '2e pays mal orthographié');\n",
    "assert(paysG8[2] === 'Allemagne', '3e pays mal orthographié');\n",
    "assert(paysG8[3] === 'France', '4e pays mal orthographié');\n",
    "assert(paysG8[4] === 'Russie', '5e pays mal orthographié');\n",
    "assert(paysG8[5] === 'Royaume-Uni', '6e pays mal orthographié');\n",
    "assert(paysG8[6] === 'Italie', '7e pays mal orthographié');\n",
    "assert(paysG8[7] === 'Canada', '8e pays mal orthographié');"
   ]
  },
  {
   "cell_type": "markdown",
   "metadata": {
    "collapsed": true,
    "deletable": false,
    "editable": false,
    "nbgrader": {
     "cell_type": "markdown",
     "checksum": "603c2a09f6c3bea3f8a82baea7b3620a",
     "grade": false,
     "grade_id": "q3-enonce",
     "locked": true,
     "schema_version": 3,
     "solution": false
    }
   },
   "source": [
    "---\n",
    "#### Question #3 (0.5 point)\n",
    "\n",
    "Vous devez afficher, en utilisant une boucle, chaque pays du G7 comme suit:\n",
    "\n",
    ">    ________ est membre du G7\n",
    "\n",
    "où le souligné est remplacé par le nom du pays    "
   ]
  },
  {
   "cell_type": "code",
   "execution_count": 11,
   "metadata": {
    "deletable": false,
    "nbgrader": {
     "cell_type": "code",
     "checksum": "698598b64710740fef67049296e64826",
     "grade": true,
     "grade_id": "cell-7e833c5c32d21094",
     "locked": false,
     "points": 0.5,
     "schema_version": 3,
     "solution": true
    }
   },
   "outputs": [
    {
     "name": "stdout",
     "output_type": "stream",
     "text": [
      "États-Unis est membre du G7\n",
      "Japon est membre du G7\n",
      "Allemagne est membre du G7\n",
      "France est membre du G7\n",
      "Royaume-Uni est membre du G7\n",
      "Italie est membre du G7\n",
      "Canada est membre du G7\n"
     ]
    }
   ],
   "source": [
    "for (var unPays of paysG7){\n",
    "    console.log(`${unPays} est membre du G7`);\n",
    "}"
   ]
  },
  {
   "cell_type": "markdown",
   "metadata": {
    "collapsed": true,
    "deletable": false,
    "editable": false,
    "nbgrader": {
     "cell_type": "markdown",
     "checksum": "dd6be169ba4e011c754bc55349dcb4dc",
     "grade": false,
     "grade_id": "cell-76906b0279e0d425",
     "locked": true,
     "schema_version": 3,
     "solution": false
    }
   },
   "source": [
    "---\n",
    "#### Question #4 (1 point)\n",
    "\n",
    "Créez une fonction `calculerTaxes(listePrix)` qui reçoit un collection de prix et retourne la taxe calculée pour chacun dans une nouvelle collection.  La collection d'origine n'est pas modifiée par votre méthode.\n",
    "\n",
    "Le calcul doit être arrondi à 2 décimales.  **La collection retournée doit être composée de nombres et non pas de chaînes de caractères**\n",
    "\n",
    "Stratégie:\n",
    "* créer une nouvelle collection vide\n",
    "* boucle pour visiter chaque prix\n",
    "* calculer la taxe, faire l'arrondi à 2 décimales et ajouter ce montant (**numérique**) à la nouvelle collection\n",
    "* retourner la nouvelle collection à la fin de la fonction"
   ]
  },
  {
   "cell_type": "code",
   "execution_count": 21,
   "metadata": {
    "deletable": false,
    "nbgrader": {
     "cell_type": "code",
     "checksum": "35916126f98950769d3b356d51a949e6",
     "grade": false,
     "grade_id": "q4-code",
     "locked": false,
     "schema_version": 3,
     "solution": true
    }
   },
   "outputs": [],
   "source": [
    "// montant pour calculer la taxe: 0.14975\n",
    "function calculerTaxes(listePrix) {\n",
    "    var taxes = [];\n",
    "    for(var unPrix of listePrix ){\n",
    "        taxeCalculee = (0.14975 * unPrix).toFixed(2);\n",
    "        taxes.push( parseFloat(taxeCalculee));\n",
    "    }\n",
    "    return taxes;\n",
    "}"
   ]
  },
  {
   "cell_type": "code",
   "execution_count": 22,
   "metadata": {},
   "outputs": [
    {
     "data": {
      "text/plain": [
       "[ 1.5, 14.97, 7.49, 5.99, 4.49, 3 ]"
      ]
     },
     "execution_count": 22,
     "metadata": {},
     "output_type": "execute_result"
    }
   ],
   "source": [
    "calculerTaxes([10.00, 100.00, 50.00, 40.00, 30.00, 20.00]);\n",
    "// Attendu: [1.5, 14.97, 7.49, 5.99, 4.49, 3.0]"
   ]
  },
  {
   "cell_type": "code",
   "execution_count": 23,
   "metadata": {
    "deletable": false,
    "editable": false,
    "nbgrader": {
     "cell_type": "code",
     "checksum": "27a6640ece5974904d07a2f76ac34fe3",
     "grade": true,
     "grade_id": "q4-tests",
     "locked": true,
     "points": 1,
     "schema_version": 3,
     "solution": false
    }
   },
   "outputs": [],
   "source": [
    "var assert = require('assert');\n",
    "// Validations\n",
    "assert( calculerTaxes([10.00, 100.00, 50.00, 40.00, 30.00, 20.00]).every( (v,i) => v == [ 1.5, 14.97, 7.49, 5.99, 4.49, 3 ][i]), 'Problème pour les valeurs attendues');"
   ]
  },
  {
   "cell_type": "markdown",
   "metadata": {
    "collapsed": true,
    "deletable": false,
    "editable": false,
    "nbgrader": {
     "cell_type": "markdown",
     "checksum": "172805df21046420a7dbdd4a719ecb86",
     "grade": false,
     "grade_id": "cell-592e49d23af69e7d",
     "locked": true,
     "schema_version": 3,
     "solution": false
    }
   },
   "source": [
    "---\n",
    "#### Question #5 (1 point)\n",
    "\n",
    "Créez une fonction `denombrerElevesPresents(listePresences)` qui compte le nombre d'items qui sont \"présent\".\n",
    "\n",
    "Retourne 0 pour une collection vide ou si tous les élèves sont absents!"
   ]
  },
  {
   "cell_type": "code",
   "execution_count": 27,
   "metadata": {
    "deletable": false,
    "nbgrader": {
     "cell_type": "code",
     "checksum": "6193aaac93f0dad2d74e9480c1864329",
     "grade": false,
     "grade_id": "q5-code",
     "locked": false,
     "schema_version": 3,
     "solution": true
    }
   },
   "outputs": [],
   "source": [
    "function denombrerElevesPresents(listePresences) {\n",
    "    var elevesPresents = 0;\n",
    "    for(var unePresence of listePresences ){\n",
    "        if(unePresence === \"présent\"){\n",
    "            elevesPresents++;\n",
    "        }    \n",
    "    }\n",
    "    return elevesPresents;\n",
    "}"
   ]
  },
  {
   "cell_type": "code",
   "execution_count": 28,
   "metadata": {},
   "outputs": [
    {
     "name": "stdout",
     "output_type": "stream",
     "text": [
      "Attendu: 3, réel:  3\n",
      "Attendu: 5, réel:  5\n",
      "Attendu: 0, réel:  0\n",
      "Attendu: 0, réel:  0\n"
     ]
    }
   ],
   "source": [
    "console.log(\"Attendu: 3, réel: \", denombrerElevesPresents([\"présent\", \"absent\", \"absent\", \"présent\", \"présent\"]) );\n",
    "console.log(\"Attendu: 5, réel: \", denombrerElevesPresents([\"présent\", \"présent\", \"présent\", \"présent\", \"présent\"]) );\n",
    "console.log(\"Attendu: 0, réel: \", denombrerElevesPresents([\"absent\", \"absent\", \"absent\", \"absent\", \"absent\"]) );\n",
    "console.log(\"Attendu: 0, réel: \", denombrerElevesPresents([]) );"
   ]
  },
  {
   "cell_type": "code",
   "execution_count": 29,
   "metadata": {
    "deletable": false,
    "editable": false,
    "nbgrader": {
     "cell_type": "code",
     "checksum": "f9efca02cff2e39575ede719c28587d1",
     "grade": true,
     "grade_id": "q5-tests",
     "locked": true,
     "points": 1,
     "schema_version": 3,
     "solution": false
    }
   },
   "outputs": [],
   "source": [
    "var assert = require('assert');\n",
    "// Validations\n",
    "assert(denombrerElevesPresents([\"présent\", \"absent\", \"absent\", \"présent\", \"présent\"]) == 3, 'Trois élèves présents sur cinq');\n",
    "assert(denombrerElevesPresents([\"présent\", \"présent\", \"présent\", \"présent\", \"présent\"]) == 5, 'Tous les élèves sont pourtant présents');\n",
    "assert(denombrerElevesPresents([\"absent\", \"absent\", \"absent\", \"absent\", \"absent\"]) == 0, 'Aucun élève présent si tous absents');\n",
    "assert(denombrerElevesPresents([]) == 0, 'Aucun élève présent lorsque la liste est vide');"
   ]
  },
  {
   "cell_type": "markdown",
   "metadata": {
    "collapsed": true,
    "deletable": false,
    "editable": false,
    "nbgrader": {
     "cell_type": "markdown",
     "checksum": "8038a202fd5eaf9cb310178e012f1edc",
     "grade": false,
     "grade_id": "cell-8c627b11f5f42d62",
     "locked": true,
     "schema_version": 3,
     "solution": false
    }
   },
   "source": [
    "---\n",
    "#### Question #6 (1 point)\n",
    "\n",
    "Déclarez une fonction `extraireMinMax(valeurs)` qui retire l'élément ayant la valeur minimale et l'élément ayant la valeur maximale d'une collection.  La collection reçue en paramètre est modifiée (aucun énoncé return).\n",
    "\n",
    "Stratégie:\n",
    "* trouver l'élément min\n",
    "* trouver l'élément max\n",
    "* retirer l'élément min (pas dans une boucle) avec `splice` et `indexOf`\n",
    "* retirer l'élément max (pas dans une boucle) avec `splice` et `indexOf`\n",
    "\n",
    "**CONSIDÉRER**:\n",
    "* la collection passée en paramètre est modifiable \n",
    "* Il y a au moins deux éléments dans la collection\n",
    "* Aucun doublon dans les valeurs; toutes les valeurs sont uniques\n",
    "* Aucun \"return\" pour cette fonction; les modifications sont apportées à la collection passée en paramètre"
   ]
  },
  {
   "cell_type": "code",
   "execution_count": 33,
   "metadata": {
    "deletable": false,
    "nbgrader": {
     "cell_type": "code",
     "checksum": "ff96f90abd0212499f75aab8dea379da",
     "grade": false,
     "grade_id": "q6-code",
     "locked": false,
     "schema_version": 3,
     "solution": true
    }
   },
   "outputs": [],
   "source": [
    "function extraireMinMax(valeurs) {\n",
    "    var valeurMax = Math.max(...valeurs);\n",
    "    var valeurMin = Math.min(...valeurs);\n",
    "    valeurs.splice(valeurs.indexOf(valeurMin), 1);\n",
    "    valeurs.splice(valeurs.indexOf(valeurMax), 1);\n",
    "}"
   ]
  },
  {
   "cell_type": "code",
   "execution_count": 34,
   "metadata": {
    "deletable": false,
    "editable": false,
    "nbgrader": {
     "cell_type": "code",
     "checksum": "bd7a7bb91ce4254dc6ad0e72e1f98014",
     "grade": true,
     "grade_id": "q6-tests",
     "locked": true,
     "points": 1,
     "schema_version": 3,
     "solution": false
    }
   },
   "outputs": [],
   "source": [
    "var assert = require('assert');\n",
    "// Validations\n",
    "var w = [8,4,2]\n",
    "extraireMinMax(w);\n",
    "assert(w.length === 1, 'collection de 1 élément');\n",
    "assert(w[0] === 4, '[4]');\n",
    "\n",
    "var x = [1,2,3,4,5];\n",
    "extraireMinMax(x);\n",
    "assert(x.length === 3, '[1,2,3,4,5] retourne collection de 3 éléments');\n",
    "assert(x.every( (v,i) => v === [2,3,4][i]), '[1,2,3,4,5] retourne [2,3,4]');\n",
    "\n",
    "var y = [-2,-5,0,9,4,1];\n",
    "extraireMinMax(y);\n",
    "assert(y.length === 4, '[-2,-5,0,9,4,1] retourne collection de 4 éléments');\n",
    "assert(y.every( (v,i) => v === [-2, 0, 4, 1][i]), '[-2,-5,0,9,4,1] retourne [-2, 0, 4, 1]');\n",
    "var z = [10,100]\n",
    "extraireMinMax(z);\n",
    "assert(z.length === 0, '[10,100] retourne collection de 0 élément');"
   ]
  },
  {
   "cell_type": "markdown",
   "metadata": {
    "deletable": false,
    "editable": false,
    "nbgrader": {
     "cell_type": "markdown",
     "checksum": "1a177ccdb492ff5c2370d9aa3d0750d6",
     "grade": false,
     "grade_id": "cell-569438f513838f08",
     "locked": true,
     "schema_version": 3,
     "solution": false
    }
   },
   "source": [
    "---\n",
    "#### Question #7 (1 point)\n",
    "On veut fusionner deux listes sans doublon à l'aide d'une nouvelle fonction `fusionnerListes(liste1, liste2)`.\n",
    "\n",
    "Considérez qu'il n'y a aucune valeur en double dans chacun des listes fournies.\n",
    "\n",
    "On souhaite retourner une nouvelle liste (fusion des valeurs, sans les doublons).\n",
    "\n",
    "> Les deux listes en paramètre ne sont pas modifiées par cette fonction.\n",
    "\n",
    "Stratégie:\n",
    "- Cloner la première liste; cette nouvelle liste sera placée dans une variable `valeursFusion`.\n",
    "- Pour chaque élément de la 2e liste, \n",
    "    - on valide si l'élément n'est pas présent dans la première liste (pour faire la négation d'une condition, utiliser l'opérateur `!` (négation))\n",
    "    - si c'est le cas, on ajouter cet élément visité dans `valeursFusion`\n",
    "\n",
    "Ne pas oublier de retourner `valeursFusion` à la fin de la fonction."
   ]
  },
  {
   "cell_type": "code",
   "execution_count": 35,
   "metadata": {},
   "outputs": [],
   "source": [
    "// Exemple d'utilisation du `!`\n",
    "function estSuperieur(a,b) { return a > b; }\n",
    "\n",
    "if(!estSuperieur(5,10))\n",
    "    console.log('5 n\\'est pas supérieur à 10');"
   ]
  },
  {
   "cell_type": "code",
   "execution_count": 37,
   "metadata": {
    "deletable": false,
    "nbgrader": {
     "cell_type": "code",
     "checksum": "fe82b90f0229b4d1cb2f537ef5015406",
     "grade": false,
     "grade_id": "q7-code",
     "locked": false,
     "schema_version": 3,
     "solution": true
    }
   },
   "outputs": [],
   "source": [
    "function fusionnerListes(liste1, liste2){\n",
    "    valeursFusion = Array.from(liste1);\n",
    "    for(uneValeur of liste2){\n",
    "        if(!valeursFusion.includes(uneValeur)){\n",
    "            valeursFusion.push(uneValeur);\n",
    "        }\n",
    "    }\n",
    "    return valeursFusion;\n",
    "}"
   ]
  },
  {
   "cell_type": "code",
   "execution_count": 38,
   "metadata": {
    "deletable": false,
    "editable": false,
    "nbgrader": {
     "cell_type": "code",
     "checksum": "2b40565bd22d566d7b63361aee38a98d",
     "grade": true,
     "grade_id": "q7-test",
     "locked": true,
     "points": 1,
     "schema_version": 3,
     "solution": false
    }
   },
   "outputs": [],
   "source": [
    "var assert = require('assert');\n",
    "// Validations\n",
    "assert(fusionnerListes([1,2,3], [4,5,6]).every( (v,i) => v === [1,2,3,4,5,6][i]), 'Fusion #1 en échec');\n",
    "assert(fusionnerListes([1,2,3], [1,2,3]).every( (v,i) => v === [1,2,3][i]), 'Fusion #2 en échec');\n",
    "assert(fusionnerListes([1,2,3], [0,2,4]).every( (v,i) => v === [1,2,3,0,4][i]), 'Fusion #3 en échec');\n",
    "assert(fusionnerListes([1,2,3], []).every( (v,i) => v === [1,2,3][i]), 'Fusion #4 en échec');\n",
    "assert(fusionnerListes([], [4,5,6]).every( (v,i) => v === [4,5,6][i]), 'Fusion #5 en échec');"
   ]
  },
  {
   "cell_type": "markdown",
   "metadata": {
    "deletable": false,
    "editable": false,
    "nbgrader": {
     "cell_type": "markdown",
     "checksum": "1b33434fffd63749b51bcff4f107ec8a",
     "grade": false,
     "grade_id": "cell-7d3ced40babb52c5",
     "locked": true,
     "schema_version": 3,
     "solution": false
    }
   },
   "source": [
    "---\n",
    "#### Question #8 (1 point)\n",
    "\n",
    "Créer une fonction `calculerMoyenne(notes)` qui retourne la moyenne des notes.\n",
    "\n",
    "Stratégie:\n",
    "- définir une variable local `somme` initialisée à zéro\n",
    "- additionner chaque valeur de la collection `notes`\n",
    "- après le boucle, faites la division avec le nombre de notes dans la collection\n",
    "\n",
    "> Considérez que la collection de notes ne sera jamais vide; il y aura au moins une note."
   ]
  },
  {
   "cell_type": "code",
   "execution_count": 39,
   "metadata": {
    "deletable": false,
    "nbgrader": {
     "cell_type": "code",
     "checksum": "5b1879f2ddf4ea8cb02f01175e140db0",
     "grade": false,
     "grade_id": "q8-code",
     "locked": false,
     "schema_version": 3,
     "solution": true
    }
   },
   "outputs": [],
   "source": [
    "function calculerMoyenne(notes) {\n",
    "    var somme = 0;\n",
    "    for(var uneNote of notes){\n",
    "        somme += uneNote;\n",
    "    } \n",
    "    var moyenne = somme/notes.length;\n",
    "    return moyenne;\n",
    "}"
   ]
  },
  {
   "cell_type": "code",
   "execution_count": 40,
   "metadata": {
    "deletable": false,
    "editable": false,
    "nbgrader": {
     "cell_type": "code",
     "checksum": "86a6a5466a3fe9bdb582d822d595866a",
     "grade": true,
     "grade_id": "q8-test",
     "locked": true,
     "points": 1,
     "schema_version": 3,
     "solution": false
    }
   },
   "outputs": [],
   "source": [
    "var assert = require('assert');\n",
    "// Validations\n",
    "assert(calculerMoyenne( [10,10,10,10] ) == 10, 'Scores parfaits');\n",
    "assert(calculerMoyenne( [10,6,8,10] ) == 8.5, 'Moyenne normale');\n",
    "assert(calculerMoyenne( [5] ) == 5, 'Une seule note');\n",
    "assert(calculerMoyenne( [1,2,3,4,5,6,7,8,9,10] ) == 5.5, 'Moyenne atypique');"
   ]
  },
  {
   "cell_type": "markdown",
   "metadata": {
    "deletable": false,
    "editable": false,
    "nbgrader": {
     "cell_type": "markdown",
     "checksum": "b05b69175a6735aa47b1a03825accdd1",
     "grade": false,
     "grade_id": "cell-0fc42169d9736a2f",
     "locked": true,
     "schema_version": 3,
     "solution": false
    }
   },
   "source": [
    "---\n",
    "#### Question #9 (1 point)\n",
    "\n",
    "On veut une fonction `compterValeursInf(valeurTemoin, valeurs)` qui compte le nombre d'éléments de la collection qui sont **sous la valeur témoin**.\n",
    "\n",
    "Considérez:\n",
    "- la collection de valeurs peut être vide\n",
    "- il peut n'y avoir aucune valeur de la collection sous la valeur témoin\n",
    "\n",
    "Stratégie:\n",
    "- initialiser le compteur à zéro\n",
    "- chaque valeur visitée sous la valeur témoin incrémente le compteur\n",
    "- on retourne le compteur à la fin de la fonction"
   ]
  },
  {
   "cell_type": "code",
   "execution_count": 43,
   "metadata": {
    "deletable": false,
    "nbgrader": {
     "cell_type": "code",
     "checksum": "3127d96f2e60832dbee5eff97ab641ed",
     "grade": false,
     "grade_id": "q9-code",
     "locked": false,
     "schema_version": 3,
     "solution": true
    }
   },
   "outputs": [],
   "source": [
    "function compterValeursInf(valeurTemoin, valeurs) {\n",
    "    var compteur = 0;\n",
    "    for(var uneValeur of valeurs){\n",
    "        if(uneValeur < valeurTemoin)\n",
    "            compteur ++;\n",
    "    }\n",
    "    return compteur;\n",
    "}"
   ]
  },
  {
   "cell_type": "code",
   "execution_count": 44,
   "metadata": {
    "deletable": false,
    "editable": false,
    "nbgrader": {
     "cell_type": "code",
     "checksum": "5904c724790b2ed33f504add710e925c",
     "grade": true,
     "grade_id": "q9-test",
     "locked": true,
     "points": 1,
     "schema_version": 3,
     "solution": false
    }
   },
   "outputs": [],
   "source": [
    "var assert = require('assert');\n",
    "assert(compterValeursInf( 6, [10.0, 5.5, 2.0, 9.5, 8.0]) === 2, 'Test #1');\n",
    "assert(compterValeursInf( 2, [10.0, 5.5, 2.0, 9.5, 8.0]) === 0, 'Test #2');\n",
    "assert(compterValeursInf( 3, [10.0, 5.5, 2.0, 9.5, 8.0]) === 1, 'Test #3');\n",
    "assert(compterValeursInf(10, [10.0, 5.5, 2.0, 9.5, 8.0]) === 4, 'Test #4');\n",
    "assert(compterValeursInf(99, [10.0, 5.5, 2.0, 9.5, 8.0]) === 5, 'Test #5');\n",
    "assert(compterValeursInf(99, []) === 0, 'Test #6');"
   ]
  },
  {
   "cell_type": "markdown",
   "metadata": {
    "deletable": false,
    "editable": false,
    "nbgrader": {
     "cell_type": "markdown",
     "checksum": "ffa0bf54175270286e178b2dcabec971",
     "grade": false,
     "grade_id": "cell-bf4f7d2e48db2175",
     "locked": true,
     "schema_version": 3,
     "solution": false
    }
   },
   "source": [
    "---\n",
    "#### Question #10 (1 point)\n",
    "\n",
    "On sait qu'une chaîne peut être décomposée en une collection de lettres.\n",
    "\n",
    "Définir la fonction `decomposerMot(mot)` qui retourne une collection de lettres en ordre alphabétique.\n",
    "\n",
    "Créez une fonction qui retourne une collection de lettres d'un mot, mais ces lettres devront être toutes en minuscule et en ordre alphabétique."
   ]
  },
  {
   "cell_type": "code",
   "execution_count": 45,
   "metadata": {
    "deletable": false,
    "nbgrader": {
     "cell_type": "code",
     "checksum": "325906edd0ae7b3f380d366017d1b0b0",
     "grade": false,
     "grade_id": "q10-code",
     "locked": false,
     "schema_version": 3,
     "solution": true
    }
   },
   "outputs": [],
   "source": [
    "function decomposerMot(mot){\n",
    "    lettres = Array.from(mot.toLowerCase());\n",
    "    lettres.sort();\n",
    "    return lettres;\n",
    "}"
   ]
  },
  {
   "cell_type": "code",
   "execution_count": 47,
   "metadata": {
    "deletable": false,
    "editable": false,
    "nbgrader": {
     "cell_type": "code",
     "checksum": "0e0b96359465305d94e70cc8f74dc0fe",
     "grade": true,
     "grade_id": "q10-test",
     "locked": true,
     "points": 1,
     "schema_version": 3,
     "solution": false
    }
   },
   "outputs": [],
   "source": [
    "var assert = require('assert');\n",
    "// Validations\n",
    "assert(decomposerMot('abc').every( (v,i) => v === ['a','b','c'][i]), 'Test #1');\n",
    "assert(decomposerMot('').length === 0, 'Test #2');\n",
    "assert(decomposerMot('ABC').every( (v,i) => v === ['a','b','c'][i]), 'Test #3');\n",
    "assert(decomposerMot('lune').every( (v,i) => v === ['e','l','n', 'u'][i]), 'Test #4');\n",
    "assert(decomposerMot('Marco').every( (v,i) => v === ['a','c','m', 'o', 'r'][i]), 'Test #5');\n",
    "assert(decomposerMot('BIBI').every( (v,i) => v === ['b','b','i', 'i'][i]), 'Test #6');"
   ]
  },
  {
   "cell_type": "markdown",
   "metadata": {},
   "source": [
    "---\n",
    "#### Question #11 (1 point)\n",
    "\n",
    "On veut une méthode `genererLotsCultivables(nbGraines)` qui génère une collection d'entiers représentant le nombre de graines par lot. \n",
    "\n",
    "Un lot est limité à 10 graines.\n",
    "\n",
    "Si on génère les lots pour 35 graines, on obtiendra:\n",
    "    `[10, 10, 10, 5]`\n",
    "\n",
    "C'est-à-dire trois (3) lots complets et un lot partiel.\n",
    "\n",
    "Stratégie:\n",
    "- Aucune répétition n'est requise pour cette fonction\n",
    "- À l'aide d'une division entière, compter le nombre de lots complets (`nbLotsComplets`)\n",
    "- Le modulo permettra de compter les graines restantes (`nbGrainesRestantes`)\n",
    "- Créer la collection du nombre de lots complets en remplissant la collection avec la valeur `10` \n",
    "- Seulement s'il reste des graines, on ajoute ce chiffre aux lots\n",
    "- Retourner les lots"
   ]
  },
  {
   "cell_type": "code",
   "execution_count": 9,
   "metadata": {
    "deletable": false,
    "nbgrader": {
     "cell_type": "code",
     "checksum": "43f0dd9d549993a70ef3b5af0285be80",
     "grade": false,
     "grade_id": "q11-code",
     "locked": false,
     "schema_version": 3,
     "solution": true
    }
   },
   "outputs": [],
   "source": [
    "function genererLotsCultivables(nbGraines) {\n",
    "    var nbLotsComplets = Math.floor(nbGraines/10);\n",
    "    var nbGrainesRestantes =  nbGraines % 10;\n",
    "    var lotsCultivables = Array(nbLotsComplets).fill(10);\n",
    "    if(nbGrainesRestantes != 0){\n",
    "        lotsCultivables.push(nbGrainesRestantes);\n",
    "    }\n",
    "    return lotsCultivables;\n",
    "}"
   ]
  },
  {
   "cell_type": "code",
   "execution_count": 10,
   "metadata": {
    "deletable": false,
    "editable": false,
    "nbgrader": {
     "cell_type": "code",
     "checksum": "0fd6cbc0f6bebd6766a6b736e203d694",
     "grade": true,
     "grade_id": "q11-test",
     "locked": true,
     "points": 1,
     "schema_version": 3,
     "solution": false
    }
   },
   "outputs": [],
   "source": [
    "var assert = require('assert');\n",
    "// Validations\n",
    "assert(genererLotsCultivables(35).every( (v,i) => v === [10, 10, 10, 5][i]), 'Test #1');\n",
    "assert(genererLotsCultivables(18).every( (v,i) => v === [10, 8][i]), 'Test #2');\n",
    "assert(genererLotsCultivables(2).every( (v,i) => v === [2][i]), 'Test #3');\n",
    "assert(genererLotsCultivables(50).every( (v,i) => v === [10, 10, 10, 10, 10][i]), 'Test #4');"
   ]
  },
  {
   "cell_type": "code",
   "execution_count": null,
   "metadata": {},
   "outputs": [],
   "source": []
  },
  {
   "cell_type": "code",
   "execution_count": null,
   "metadata": {},
   "outputs": [],
   "source": []
  },
  {
   "cell_type": "code",
   "execution_count": null,
   "metadata": {},
   "outputs": [],
   "source": []
  }
 ],
 "metadata": {
  "kernelspec": {
   "display_name": "Javascript (Node.js)",
   "language": "javascript",
   "name": "javascript"
  },
  "language_info": {
   "file_extension": ".js",
   "mimetype": "application/javascript",
   "name": "javascript",
   "version": "10.13.0"
  }
 },
 "nbformat": 4,
 "nbformat_minor": 2
}
