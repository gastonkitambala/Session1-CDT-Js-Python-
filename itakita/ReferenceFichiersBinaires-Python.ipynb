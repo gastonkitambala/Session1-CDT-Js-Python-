{
 "cells": [
  {
   "cell_type": "markdown",
   "metadata": {},
   "source": [
    "<img style='margin-right:0' src=\"http://dinfo.ca/logoDptInfo.jpg\" width=300>\n",
    "\n",
    "# Référence Fichiers Binaires (Python)\n",
    "---"
   ]
  },
  {
   "cell_type": "markdown",
   "metadata": {},
   "source": [
    "Pour la manipulation de bas niveau, nous utiliserons le module `struct` pour encoder (`.pack()`) et décoder(`.unpack()`) nos séquences binaires.\n",
    "\n",
    "**Syntaxe**:\n",
    "```python\n",
    "struct.pack(fmt, v1, v2, ...)\n",
    "struct.unpack(fmt, buffer)\n",
    "struct.calcsize(fmt)¶\n",
    "```\n",
    "\n",
    "#### Struct (chaîne de formatage)\n",
    "\n",
    "| Format | Représentation   | Taille              |\n",
    "|--------|------------------|---------------------|\n",
    "| `c`    | caractère        | 1 octet                    \n",
    "| `b`    | entier signé     | 1 octet\n",
    "| `B`    | entier non-signé |1 octet\n",
    "| `?`    | booléen          | 1 octet\n",
    "| `h`    | entier signé     | 2 octets\n",
    "| `H`    | entier non-signé | 2 octets\n",
    "| `i`    | entier signé     | 4 octets\n",
    "| `I`    | entier non-signé | 4 octets\n",
    "| `l`    | entier signé     | 4 octets\n",
    "| `L`    | entier non-signé | 4 octets\n",
    "| `q`    | entier signé     | 8 octets\n",
    "| `Q`    | entier non-signé | 8 octets\n",
    "| `f`    | point-flottant<br>simple-précision | 4 octets\n",
    "| `d`    | point-flottant<br>double-précision | 8 octets\n",
    "| `s`    | chaîne de caractères<br> | (préciser la taille)\n",
    "\n",
    "| Format | Ordre des octets | Alignement        |\n",
    "|--------|------------------|---------------------|\n",
    "| `@`    | natif            | natif\n",
    "| `=`    | natif            | aucun\n",
    "| `<`    | little-endian    | aucun\n",
    "| `>`    | big-endian       | aucun\n"
   ]
  },
  {
   "cell_type": "markdown",
   "metadata": {},
   "source": [
    "#### Exemple 1 \n",
    "\n",
    "```python\n",
    "  struct.pack('<hhh', -2,1,258)\n",
    "```"
   ]
  },
  {
   "cell_type": "code",
   "execution_count": null,
   "metadata": {},
   "outputs": [],
   "source": [
    "import struct\n",
    "print(struct.pack('<hhh', -2,1,258))\n",
    "print('Taille:', struct.calcsize('<hhh'))"
   ]
  },
  {
   "cell_type": "markdown",
   "metadata": {},
   "source": [
    "#### Exemple 2 \n",
    "\n",
    "```python\n",
    "  struct.pack('>d', 4.5)\n",
    "```"
   ]
  },
  {
   "cell_type": "code",
   "execution_count": null,
   "metadata": {},
   "outputs": [],
   "source": [
    "import struct\n",
    "octets = struct.pack('>d', 4.5)\n",
    "for unOctet in octets:\n",
    "    print(\"%x\" % unOctet,end=' ')\n",
    "print('\\nTaille:', struct.calcsize('>d'))"
   ]
  },
  {
   "cell_type": "markdown",
   "metadata": {},
   "source": [
    "Preuve: http://www.binaryconvert.com/result_double.html?decimal=052046053"
   ]
  },
  {
   "cell_type": "markdown",
   "metadata": {},
   "source": [
    "## Encoder des chaînes de caractères\n",
    "\n",
    "Avec le format 's', par exemple '5s', on représente les octets de la chaîne sur 5 octets.  \n",
    "\n",
    "Considérons d'abord des caractères ASCII 7 bits (1 caractère = 1 octet).\n",
    "\n",
    "Si on encode `ABCDE`, nous aurons les cinq octets stockés."
   ]
  },
  {
   "cell_type": "code",
   "execution_count": null,
   "metadata": {},
   "outputs": [],
   "source": [
    "import struct\n",
    "octets = struct.pack('5s', 'ABCDE'.encode('ascii'))\n",
    "for unOctet in octets:\n",
    "    print(\"%x\" % unOctet,end=' ')\n",
    "print('')\n",
    "for unOctet in octets:\n",
    "    print(\" %c\" % unOctet,end=' ')\n",
    "print('')"
   ]
  },
  {
   "cell_type": "markdown",
   "metadata": {},
   "source": [
    "Qu'arrive-t-il si on a seulement 3 lettres pour un espace de 5 caractères?\n",
    "Les caractères inutilisés sont annotés en zéro binaire."
   ]
  },
  {
   "cell_type": "code",
   "execution_count": null,
   "metadata": {},
   "outputs": [],
   "source": [
    "import struct\n",
    "octets = struct.pack('5s', 'ABC'.encode('ascii'))\n",
    "for unOctet in octets:\n",
    "    print(\"%x\" % unOctet,end=' ')\n",
    "print('')\n",
    "for unOctet in octets:\n",
    "    print(\" %c\" % unOctet,end=' ')\n",
    "print('')"
   ]
  },
  {
   "cell_type": "markdown",
   "metadata": {},
   "source": [
    "S'il y en a plus? Tronqués..."
   ]
  },
  {
   "cell_type": "code",
   "execution_count": null,
   "metadata": {},
   "outputs": [],
   "source": [
    "import struct\n",
    "octets = struct.pack('5s', 'ABCDEFGH'.encode('ascii'))\n",
    "for unOctet in octets:\n",
    "    print(\"%x\" % unOctet,end=' ')\n",
    "print('')\n",
    "for unOctet in octets:\n",
    "    print(\" %c\" % unOctet,end=' ')\n",
    "print('')"
   ]
  },
  {
   "cell_type": "markdown",
   "metadata": {},
   "source": [
    "### Encodage\n",
    "\n",
    "Qu'arrive-t-il si on tente d'encoder une lettre accentuée?"
   ]
  },
  {
   "cell_type": "code",
   "execution_count": null,
   "metadata": {},
   "outputs": [],
   "source": [
    "'é'.encode('ascii')"
   ]
  },
  {
   "cell_type": "markdown",
   "metadata": {},
   "source": [
    "Normal d'avoir une erreur car ce caractère Unicode est `00C9`.  \n",
    "\n",
    "Pour l'encodage ISO-8859-1 (latin-1), on pourra le mettre sur un octet.\n",
    "\n",
    "Pour l'encodage UTF-8, il sera sur deux octets."
   ]
  },
  {
   "cell_type": "code",
   "execution_count": null,
   "metadata": {},
   "outputs": [],
   "source": [
    "print('ISO-8859-1:', len('é'.encode('iso-8859-1')) )\n",
    "for unOctet in 'é'.encode('iso-8859-1'):\n",
    "    print(\"%x\" % unOctet,end=' ')\n",
    "print('')\n",
    "print('UTF-8     :', len('é'.encode('UTF-8')) )\n",
    "for unOctet in 'é'.encode('UTF-8'):\n",
    "    print(\"%x\" % unOctet,end=' ')\n",
    "print('')"
   ]
  },
  {
   "cell_type": "markdown",
   "metadata": {},
   "source": [
    "Référence: http://www.ltg.ed.ac.uk/~richard/utf-8.cgi?input=%C3%A9&mode=char"
   ]
  },
  {
   "cell_type": "markdown",
   "metadata": {},
   "source": [
    "Qu'arrive-t-il avec un caractère cyrillique?"
   ]
  },
  {
   "cell_type": "code",
   "execution_count": null,
   "metadata": {},
   "outputs": [],
   "source": [
    "print('UTF-8:', len('Доброе утро'.encode('utf-8')) )\n",
    "for unOctet in 'Доброе утро'.encode('utf-8'):\n",
    "    print(\"%x\" % unOctet,end=' ')\n",
    "print('')"
   ]
  },
  {
   "cell_type": "markdown",
   "metadata": {},
   "source": [
    "Référence: http://www.ltg.ed.ac.uk/~richard/utf-8.cgi?input=%D0%94&mode=char"
   ]
  },
  {
   "cell_type": "code",
   "execution_count": null,
   "metadata": {},
   "outputs": [],
   "source": [
    "print('UTF-8:', len('😎'.encode('utf-8')) )\n",
    "for unOctet in '😎'.encode('utf-8'):\n",
    "    print(\"%x\" % unOctet,end=' ')\n",
    "print('')\n",
    "print('Unicode: %06x' % ord(u'😎'))"
   ]
  },
  {
   "cell_type": "markdown",
   "metadata": {},
   "source": [
    "Référence: http://www.ltg.ed.ac.uk/~richard/utf-8.cgi?input=%F0%9F%98%8E&mode=char"
   ]
  }
 ],
 "metadata": {
  "kernelspec": {
   "display_name": "Python 3",
   "language": "python",
   "name": "python3"
  },
  "language_info": {
   "codemirror_mode": {
    "name": "ipython",
    "version": 3
   },
   "file_extension": ".py",
   "mimetype": "text/x-python",
   "name": "python",
   "nbconvert_exporter": "python",
   "pygments_lexer": "ipython3",
   "version": "3.7.7"
  }
 },
 "nbformat": 4,
 "nbformat_minor": 4
}
