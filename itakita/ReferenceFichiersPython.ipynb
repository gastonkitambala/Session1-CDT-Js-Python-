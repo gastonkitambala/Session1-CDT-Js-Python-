{
 "cells": [
  {
   "cell_type": "markdown",
   "metadata": {},
   "source": [
    "<img style='margin-right:0' src=\"http://dinfo.ca/logoDptInfo.jpg\" width=300>\n",
    "\n",
    "# Manipulation de fichiers (Python)\n",
    "---"
   ]
  },
  {
   "cell_type": "markdown",
   "metadata": {},
   "source": [
    "Les fichiers permettent de sauvegarder et récupérer des données entre deux exécutions de l'application (stockage sur support disque).\n",
    "\n",
    "Il existe deux types de fichiers:\n",
    "- fichier texte\n",
    "- fichier binaire\n",
    "\n",
    "On étudiera d'abord les fichiers-texte."
   ]
  },
  {
   "cell_type": "code",
   "execution_count": 1,
   "metadata": {},
   "outputs": [],
   "source": [
    "# Création du fichier (écrase le fichier si existe déjà)\n",
    "with open('prenoms.txt','w') as fSortie:\n",
    "    fSortie.write('Adam\\n')\n",
    "    fSortie.write('Bernard\\n')\n",
    "    fSortie.write('Charles\\n')"
   ]
  },
  {
   "cell_type": "code",
   "execution_count": 3,
   "metadata": {},
   "outputs": [
    {
     "name": "stdout",
     "output_type": "stream",
     "text": [
      "Adam\n",
      "Bernard\n",
      "Charles\n",
      "jupyter-itakita\n"
     ]
    }
   ],
   "source": [
    "# Commande externe Linux pour consulter le contenu du fichier\n",
    "!cat prenoms.txt"
   ]
  },
  {
   "cell_type": "code",
   "execution_count": 4,
   "metadata": {},
   "outputs": [
    {
     "name": "stdout",
     "output_type": "stream",
     "text": [
      "Adam\n",
      "Bernard\n",
      "Charles\n"
     ]
    }
   ],
   "source": [
    "# Ouvre le fichier en lecture\n",
    "with open('prenoms.txt', 'r') as fEntree:\n",
    "    for ligne in fEntree:\n",
    "        print(ligne.rstrip())    # retire le '\\n' à la fin"
   ]
  },
  {
   "cell_type": "markdown",
   "metadata": {},
   "source": [
    "# Ouverture et fermeture du fichier\n",
    "\n",
    "### Méthode `open()`\n",
    "\n",
    "**Signature complète**:\n",
    "```python\n",
    "open(file, mode='r', buffering=-1, encoding=None, errors=None,\n",
    "     newline=None, closefd=True, opener=None)\n",
    "```\n",
    "\n",
    "On ne s'intéressera qu'aux deux premiers paramètres.\n",
    "\n",
    "**Modes**:\n",
    "\n",
    "| mode | signification |\n",
    "|------|---------------|\n",
    "| r    | lecture,<br>erreur si le fichier n'existe pas<BR>*Mode par défaut* |   \n",
    "| w    | écriture,<br>écrase le fichier si existe déjà |\n",
    "| a    | ajout (écriture à la fin) |\n",
    "| x    | \"create\", ouvre en écriture mais<br>erreur si le fichier existe déjà |\n",
    "\n",
    "**Modes complémentaires**:\n",
    "\n",
    "| mode | signification |\n",
    "|------|---------------|\n",
    "| t    | texte<br>*Mode par défaut* |\n",
    "| b    | binaire       |\n",
    "| +    | ouvre en lecture/écriture (écrit par-dessus),<br> conserve les données non-écrasées |\n",
    "\n",
    "### Méthode `close()`\n",
    "\n",
    "Ferme le fichier:\n",
    "- termine les dernières écritures sur disque si pas déjà fait\n",
    "- indique au système d'exploitation que le programme n'utilise plus le fichier.\n",
    "    \n",
    "> Il est très important de fermer les fichiers.  Le système d'exploitation ne peut conserver qu'un certain nombre de fichiers ouverts en même temps.\n",
    "\n",
    "Afin de ne pas oublier de fermer le fichier (très pratique si on a des erreurs et qu'on ne se rend pas jusqu'à l'instruction de fermeture du fichier) est d'utiliser l'énoncé `with`.\n",
    "\n",
    "### Énoncé `with` \n",
    "\n",
    "Cet énoncé permet de fermer le fichier automatiquement à notre place (sans avoir à écrire la méthode 'close()'.  \n",
    "\n",
    "Très pratique surtout quand un erreur survient empêchant de fermer correctement le fichier.\n",
    "\n",
    "**Syntaxe**:\n",
    "```python\n",
    "with open('fichier.txt') as fic:\n",
    "    énoncé\n",
    "    énoncé\n",
    "```"
   ]
  },
  {
   "cell_type": "markdown",
   "metadata": {},
   "source": [
    "# Récupération des données\n",
    "\n",
    "Trois méthodes sont disponibles pour récupérer les données:\n",
    "\n",
    "```python\n",
    "    f.readline()\n",
    "    f.readlines()\n",
    "    f.read([n])\n",
    "```"
   ]
  },
  {
   "cell_type": "markdown",
   "metadata": {},
   "source": [
    "### Lire le fichier au complet avec `f.read()`"
   ]
  },
  {
   "cell_type": "code",
   "execution_count": 1,
   "metadata": {},
   "outputs": [
    {
     "name": "stdout",
     "output_type": "stream",
     "text": [
      "Données:\n",
      "--------\n",
      "Adam\n",
      "Bernard\n",
      "Charles\n",
      "\n",
      "Représentation complète des données:\n",
      "------------------------------------\n",
      "'Adam\\nBernard\\nCharles\\n'\n"
     ]
    }
   ],
   "source": [
    "with open('prenoms.txt') as f:\n",
    "    donnees = f.read()\n",
    "print(\"Données:\")\n",
    "print(\"--------\")\n",
    "print(donnees)\n",
    "print(\"Représentation complète des données:\")\n",
    "print(\"------------------------------------\")\n",
    "print( repr(donnees) )"
   ]
  },
  {
   "cell_type": "markdown",
   "metadata": {},
   "source": [
    "**Analyse**:\n",
    "\n",
    "Nous avons donc une **chaîne de caractères** qui comprend tout le contenu du fichier, incluant les changements de ligne (caractère d'échappement `\\n`).\n",
    "\n",
    "Pas très pratique...\n",
    "\n",
    "Truc: diviser sur les changements de ligne"
   ]
  },
  {
   "cell_type": "code",
   "execution_count": 6,
   "metadata": {},
   "outputs": [
    {
     "name": "stdout",
     "output_type": "stream",
     "text": [
      "Essai #1\n",
      "--------\n",
      "['Adam', 'Bernard', 'Charles', '']\n",
      "\n",
      "Essai #2\n",
      "--------\n",
      "['Adam', 'Bernard', 'Charles']\n"
     ]
    }
   ],
   "source": [
    "with open('prenoms.txt') as f:\n",
    "    donnees = f.read()\n",
    "print('Essai #1')\n",
    "print('--------')\n",
    "prenoms = donnees.split('\\n')\n",
    "print(prenoms) # Oups, un item en trop... (en raison du dernier \\n)\n",
    "print('\\nEssai #2')\n",
    "print('--------')\n",
    "prenoms = donnees.rstrip().split('\\n')\n",
    "print(prenoms)"
   ]
  },
  {
   "cell_type": "code",
   "execution_count": 7,
   "metadata": {},
   "outputs": [
    {
     "name": "stdout",
     "output_type": "stream",
     "text": [
      "Nombre de prénoms: 3\n"
     ]
    }
   ],
   "source": [
    "with open('prenoms.txt') as f:\n",
    "    print(\"Nombre de prénoms:\", len(f.readlines()))"
   ]
  },
  {
   "cell_type": "code",
   "execution_count": 8,
   "metadata": {},
   "outputs": [
    {
     "name": "stdout",
     "output_type": "stream",
     "text": [
      "Lignes:\n",
      "--------\n",
      "['Adam\\n', 'Bernard\\n', 'Charles\\n']\n",
      "\n",
      "Prénoms:\n",
      "--------\n",
      "Adam\n",
      "\n",
      "Bernard\n",
      "\n",
      "Charles\n",
      "\n"
     ]
    }
   ],
   "source": [
    "with open('prenoms.txt') as f:\n",
    "    lignes = f.readlines()\n",
    "print(\"Lignes:\")\n",
    "print(\"--------\")\n",
    "print(lignes)\n",
    "print(\"\\nPrénoms:\")\n",
    "print(\"--------\")\n",
    "for unPrenom in lignes:\n",
    "    print(unPrenom)"
   ]
  },
  {
   "cell_type": "markdown",
   "metadata": {},
   "source": [
    "**Observation**\n",
    "\n",
    "On a toujours les caractères d'échappement pour changer de ligne...\n",
    "\n",
    "On peut s'en débarrasser avec un `rstrip()` sur chaque ligne.\n",
    "\n",
    "La façon simple est d'utiliser une liste en compréhension."
   ]
  },
  {
   "cell_type": "code",
   "execution_count": 9,
   "metadata": {},
   "outputs": [
    {
     "name": "stdout",
     "output_type": "stream",
     "text": [
      "Lignes:\n",
      "-------\n",
      "['Adam', 'Bernard', 'Charles']\n",
      "\n",
      "Prénoms:\n",
      "--------\n",
      "Adam\n",
      "Bernard\n",
      "Charles\n"
     ]
    }
   ],
   "source": [
    "with open('prenoms.txt') as f:\n",
    "    lignes = [ligne.rstrip() for ligne in f.readlines()]\n",
    "print(\"Lignes:\")\n",
    "print(\"-------\")\n",
    "print(lignes)\n",
    "print(\"\\nPrénoms:\")\n",
    "print(\"--------\")\n",
    "for unPrenom in prenoms:\n",
    "    print(unPrenom)"
   ]
  },
  {
   "cell_type": "code",
   "execution_count": 3,
   "metadata": {},
   "outputs": [
    {
     "name": "stdout",
     "output_type": "stream",
     "text": [
      "Prénoms: (v1)\n",
      "--------\n",
      "Adam\n",
      "Bernard\n",
      "Charles\n",
      "\n",
      "Prénoms: (v2)\n",
      "--------\n",
      "Adam\n",
      "Bernard\n",
      "Charles\n"
     ]
    }
   ],
   "source": [
    "with open('prenoms.txt') as f:\n",
    "    lignes = f.readlines()\n",
    "print(\"Prénoms: (v1)\")\n",
    "print(\"--------\")\n",
    "for unPrenom in lignes:\n",
    "    print(unPrenom.strip())\n",
    "print(\"\\nPrénoms: (v2)\")\n",
    "print(\"--------\")\n",
    "for unPrenom in lignes:\n",
    "    print(unPrenom,end='')    # N'ajoute pas un '\\n' additionnel"
   ]
  },
  {
   "cell_type": "markdown",
   "metadata": {},
   "source": [
    "### Lire une seule ligne `f.readline()`"
   ]
  },
  {
   "cell_type": "code",
   "execution_count": 11,
   "metadata": {},
   "outputs": [
    {
     "name": "stdout",
     "output_type": "stream",
     "text": [
      "Adam\n",
      "\n",
      "'Adam\\n'\n"
     ]
    }
   ],
   "source": [
    "with open('prenoms.txt') as f:\n",
    "    premier = f.readline()\n",
    "print(premier)\n",
    "print( repr(premier) )"
   ]
  },
  {
   "cell_type": "code",
   "execution_count": 19,
   "metadata": {},
   "outputs": [
    {
     "name": "stdout",
     "output_type": "stream",
     "text": [
      "Adam\n",
      "Bernard\n",
      "Charles\n"
     ]
    }
   ],
   "source": [
    "# Techniques pour lire toutes les lignes\n",
    "with open('prenoms.txt') as f:\n",
    "    ligne = f.readline()\n",
    "    while len(ligne) != 0:\n",
    "        print(ligne.rstrip())\n",
    "        ligne = f.readline() # IMPORTANT: sinon, boucle sans fin..."
   ]
  },
  {
   "cell_type": "code",
   "execution_count": 20,
   "metadata": {},
   "outputs": [
    {
     "name": "stdout",
     "output_type": "stream",
     "text": [
      "Adam\n",
      "Bernard\n"
     ]
    }
   ],
   "source": [
    "with open('prenoms.txt') as f:\n",
    "    for i in range(2):\n",
    "        ligne = f.readline().rstrip()\n",
    "        print(ligne)"
   ]
  },
  {
   "cell_type": "code",
   "execution_count": null,
   "metadata": {},
   "outputs": [],
   "source": [
    "# Techniques pour lire toutes les lignes\n",
    "with open('prenoms.txt') as f:\n",
    "    for i in range(5):\n",
    "        ligne = f.readline()\n",
    "        if len(ligne) != 0:\n",
    "            print(ligne.rstrip())"
   ]
  },
  {
   "cell_type": "markdown",
   "metadata": {},
   "source": [
    "**Observation**\n",
    "\n",
    "Que se passerait-il si on avait fait le `rstrip()` après le `readline()` au lieu d'attendre au moment de faire le `print`?"
   ]
  },
  {
   "cell_type": "markdown",
   "metadata": {},
   "source": [
    "# Compléments"
   ]
  },
  {
   "cell_type": "markdown",
   "metadata": {},
   "source": [
    "#### Supprimer un fichier\n",
    "\n",
    "```python\n",
    "import os\n",
    "os.remove('fichier.txt')\n",
    "```"
   ]
  },
  {
   "cell_type": "markdown",
   "metadata": {},
   "source": [
    "#### Vérifier si un fichier existe\n",
    "\n",
    "```python\n",
    "import os\n",
    "if os.path.exists('fichier.txt'):\n",
    "    print('existe')\n",
    "else:\n",
    "    print('pas de fichier portant ce nom')\n",
    "```"
   ]
  },
  {
   "cell_type": "code",
   "execution_count": null,
   "metadata": {},
   "outputs": [],
   "source": []
  }
 ],
 "metadata": {
  "kernelspec": {
   "display_name": "Python 3",
   "language": "python",
   "name": "python3"
  },
  "language_info": {
   "codemirror_mode": {
    "name": "ipython",
    "version": 3
   },
   "file_extension": ".py",
   "mimetype": "text/x-python",
   "name": "python",
   "nbconvert_exporter": "python",
   "pygments_lexer": "ipython3",
   "version": "3.7.7"
  }
 },
 "nbformat": 4,
 "nbformat_minor": 4
}
