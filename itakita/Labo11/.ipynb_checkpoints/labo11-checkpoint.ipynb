{
 "cells": [
  {
   "cell_type": "markdown",
   "metadata": {},
   "source": [
    "Before you turn this problem in, make sure everything runs as expected. First, **restart the kernel** (in the menubar, select Kernel$\\rightarrow$Restart) and then **run all cells** (in the menubar, select Cell$\\rightarrow$Run All).\n",
    "\n",
    "Make sure you fill in any place that says `YOUR CODE HERE` or \"YOUR ANSWER HERE\", as well as your name and collaborators below:"
   ]
  },
  {
   "cell_type": "code",
   "execution_count": null,
   "metadata": {},
   "outputs": [],
   "source": [
    "NAME = \"Gaston Itaka\"\n",
    "COLLABORATORS = \"\""
   ]
  },
  {
   "cell_type": "markdown",
   "metadata": {},
   "source": [
    "---"
   ]
  },
  {
   "cell_type": "markdown",
   "metadata": {},
   "source": [
    "# <img style='margin-right:0' src=\"http://dinfo.ca/logoDptInfo.jpg\" width=300>\n",
    "\n",
    "# Laboratoire #11\n",
    "---"
   ]
  },
  {
   "cell_type": "markdown",
   "metadata": {
    "collapsed": true,
    "deletable": false,
    "editable": false,
    "nbgrader": {
     "cell_type": "markdown",
     "checksum": "5db0eea3ae5c99e94707a18d6e70bbb4",
     "grade": false,
     "grade_id": "cell-9fc1028aa78665b1",
     "locked": true,
     "schema_version": 3,
     "solution": false
    }
   },
   "source": [
    "---\n",
    "#### Question #1 (2 points)\n",
    "Créez une collection d'association nommée `tableauPeriodique` dont la clé est le symbole et la valeur associée est une collection d'association des informations restantes (clés: nom, noAtomique et masseAtomique) sur l'atome.\n",
    "\n",
    "| nom       | symbole | noAtomique | masseAtomique |\n",
    "|-----------|---------|------------|---------------|\n",
    "| Hydrogène | H       | 1          | 1.008         |\n",
    "| Azote     | N       | 7          | 14.000        |\n",
    "| Hélium    | He      | 2          | 4.003         |\n",
    "| Oxygène   | O       | 8          | 16.000        |\n",
    "| Carbone   | C       | 6          | 12.000        |\n"
   ]
  },
  {
   "cell_type": "code",
   "execution_count": 17,
   "metadata": {
    "deletable": false,
    "nbgrader": {
     "cell_type": "code",
     "checksum": "374b2163d2c812a15bfb323e2034f06e",
     "grade": false,
     "grade_id": "q1-code",
     "locked": false,
     "schema_version": 3,
     "solution": true
    }
   },
   "outputs": [],
   "source": [
    " tableauPeriodique = {\n",
    "       \"H\" : {\n",
    "           \"nom\": \"Hydrogène\", \"noAtomique\":\"1\", \"masseAtomique\" : \"1.008\"\n",
    "       },\n",
    "       \"N\" : {\n",
    "           \"nom\": \"Azote\", \"noAtomique\":\"7\", \"masseAtomique\" : \"14.000\"\n",
    "       },\n",
    "       \"He\" : {\n",
    "           \"nom\": \"Hélium\", \"noAtomique\":\"2\", \"masseAtomique\" : \"4.003\"\n",
    "       },\n",
    "       \"O\" : {\n",
    "           \"nom\": \"Oxygène\", \"noAtomique\":\"8\", \"masseAtomique\" : \"16.000\"\n",
    "       }, \n",
    "       \"C\" : {\n",
    "           \"nom\": \"Carbone\", \"noAtomique\":\"6\", \"masseAtomique\" : \"12.000\"\n",
    "       }  \n",
    "    }"
   ]
  },
  {
   "cell_type": "code",
   "execution_count": 18,
   "metadata": {
    "deletable": false,
    "editable": false,
    "nbgrader": {
     "cell_type": "code",
     "checksum": "eebef37494d40dc21d995d58f1a970b2",
     "grade": true,
     "grade_id": "q1-tests",
     "locked": true,
     "points": 2,
     "schema_version": 3,
     "solution": false
    }
   },
   "outputs": [],
   "source": [
    "# Validations\n",
    "assert 'tableauPeriodique' in globals(), 'Aucune variable portant le nom `tableauPeriodique`'\n",
    "assert type(tableauPeriodique) == dict, 'Mauvais type pour la collection'\n",
    "assert len(tableauPeriodique) == 5, 'Il n\\'y a pas cinq (5) atomes dans votre collection'\n",
    "assert 'H' in tableauPeriodique, 'Aucune clé pour l''hydrogène'\n",
    "assert 'He' in tableauPeriodique, 'Aucune clé pour l''hélium'\n",
    "assert 'C' in tableauPeriodique, 'Aucune clé pour le carbone'\n",
    "assert 'N' in tableauPeriodique, 'Aucune clé pour l''azote'\n",
    "assert 'O' in tableauPeriodique, 'Aucune clé pour l''oxygène'\n",
    "assert len(tableauPeriodique['C']) == 3, 'Doit y avoir trois clés pour le Carbone (valeur)'"
   ]
  },
  {
   "cell_type": "markdown",
   "metadata": {
    "collapsed": true,
    "deletable": false,
    "editable": false,
    "nbgrader": {
     "cell_type": "markdown",
     "checksum": "1014e9a70dc3ccd2ea8c81652e98c660",
     "grade": false,
     "grade_id": "cell-2b2f135fead87d85",
     "locked": true,
     "schema_version": 3,
     "solution": false
    }
   },
   "source": [
    "---\n",
    "#### Question #2 (2 points)\n",
    "\n",
    "Pour notre tableau périodique, on veut afficher le détail d'un élément (4 informations) pour le symbole fourni en paramètre à la fonction `afficherDetailAtome(tableau, symboleRecherche)`.  Si l'élément n'existe pas dans le tableau périodique (aucune clé), on affiche le message: \n",
    "\n",
    "```\n",
    "*** L'élément 'XY' n'existe pas dans ce tableau périodique.\n",
    "```\n",
    "où 'XY' est remplacé par le symbole recherché.\n",
    "\n",
    "Résultats attendus:\n",
    "```\n",
    "Symbole: H\n",
    "Nom    : Hydrogène\n",
    "Numéro : 1\n",
    "Masse  : 1.008\n",
    "----\n",
    "Symbole: C\n",
    "Nom    : Carbone\n",
    "Numéro : 6\n",
    "Masse  : 12.0\n",
    "----\n",
    "Symbole: He\n",
    "Nom    : Hélium\n",
    "Numéro : 2\n",
    "Masse  : 4.003\n",
    "----\n",
    "*** L'élément 'XY' n'existe pas dans ce tableau périodique.\n",
    "```"
   ]
  },
  {
   "cell_type": "code",
   "execution_count": 42,
   "metadata": {
    "deletable": false,
    "nbgrader": {
     "cell_type": "code",
     "checksum": "5abf243d1f072f0d5bc9ccdb1ce61d5b",
     "grade": true,
     "grade_id": "q2-code",
     "locked": false,
     "points": 2,
     "schema_version": 3,
     "solution": true
    }
   },
   "outputs": [],
   "source": [
    "def afficherDetailAtome(tableau, symboleRecherche):\n",
    "    if symboleRecherche in tableau.keys():\n",
    "        print(\"%-8s : %s\" % (\"Symbole\", symboleRecherche))\n",
    "        print(\"%-8s : %s\" % (\"Nom\", tableauPeriodique[symboleRecherche][\"nom\"]))\n",
    "        print(\"%-8s : %s\" % (\"Numéro\", tableauPeriodique[symboleRecherche][\"noAtomique\"]))\n",
    "        print(\"%-8s : %s\" % (\"Masse\", tableauPeriodique[symboleRecherche][\"masseAtomique\"]))\n",
    "    else:\n",
    "        print(\"*** L'élément 'XY' n'existe pas dans ce tableau périodique.\")\n",
    "    \n",
    "    \n",
    "    "
   ]
  },
  {
   "cell_type": "code",
   "execution_count": 43,
   "metadata": {},
   "outputs": [
    {
     "name": "stdout",
     "output_type": "stream",
     "text": [
      "Symbole  : H\n",
      "Nom      : Hydrogène\n",
      "Numéro   : 1\n",
      "Masse    : 1.008\n",
      "----\n",
      "Symbole  : C\n",
      "Nom      : Carbone\n",
      "Numéro   : 6\n",
      "Masse    : 12.000\n",
      "----\n",
      "Symbole  : He\n",
      "Nom      : Hélium\n",
      "Numéro   : 2\n",
      "Masse    : 4.003\n",
      "----\n",
      "*** L'élément 'XY' n'existe pas dans ce tableau périodique.\n"
     ]
    }
   ],
   "source": [
    "# Essais\n",
    "afficherDetailAtome(tableauPeriodique, 'H')\n",
    "print('----')\n",
    "afficherDetailAtome(tableauPeriodique, 'C')\n",
    "print('----')\n",
    "afficherDetailAtome(tableauPeriodique, 'He')\n",
    "print('----')\n",
    "afficherDetailAtome(tableauPeriodique, 'Mg') # élément absent du tableau actuel"
   ]
  },
  {
   "cell_type": "markdown",
   "metadata": {
    "collapsed": true,
    "deletable": false,
    "editable": false,
    "nbgrader": {
     "cell_type": "markdown",
     "checksum": "b3d686dfa5b114d85f1a9742ed6db91b",
     "grade": false,
     "grade_id": "q3-enonce",
     "locked": true,
     "schema_version": 3,
     "solution": false
    }
   },
   "source": [
    "---\n",
    "#### Question #3 (2 points)\n",
    "\n",
    "Vous devez afficher tous les éléments du tableau périodique en itérant sur les paires clé-valeur.\n",
    "\n",
    "> NOTE: Le nombre de lignes affichées dépend du nombre d'éléments dans le tableau périodique.  Vous testez actuellement avec un tableau de cinq (5) éléments, on pourrait avoir un tableau de 118 éléments.\n",
    "\n",
    "Résultats attendus:\n",
    "\n",
    "```\n",
    "Carbone    (C ) -- no atomique: 6, masse: 12.000\n",
    "Oxygène    (O ) -- no atomique: 8, masse: 16.000\n",
    "Azote      (N ) -- no atomique: 7, masse: 14.000\n",
    "Hydrogène  (H ) -- no atomique: 1, masse: 1.008\n",
    "Hélium     (He) -- no atomique: 2, masse: 4.003\n",
    "```"
   ]
  },
  {
   "cell_type": "code",
   "execution_count": 46,
   "metadata": {
    "deletable": false,
    "nbgrader": {
     "cell_type": "code",
     "checksum": "56aabffb7a114967851f67d304e6e20b",
     "grade": true,
     "grade_id": "cell-7e833c5c32d21094",
     "locked": false,
     "points": 2,
     "schema_version": 3,
     "solution": true
    }
   },
   "outputs": [
    {
     "ename": "KeyError",
     "evalue": "0",
     "output_type": "error",
     "traceback": [
      "\u001b[0;31m---------------------------------------------------------------------------\u001b[0m",
      "\u001b[0;31mKeyError\u001b[0m                                  Traceback (most recent call last)",
      "\u001b[0;32m<ipython-input-46-518467312e3e>\u001b[0m in \u001b[0;36m<module>\u001b[0;34m\u001b[0m\n\u001b[1;32m      1\u001b[0m \u001b[0;31m# print(\"%-10s (%-2s) -- numéro: %i, masse: %.3f\" %\u001b[0m\u001b[0;34m\u001b[0m\u001b[0;34m\u001b[0m\u001b[0;34m\u001b[0m\u001b[0m\n\u001b[1;32m      2\u001b[0m \u001b[0;32mfor\u001b[0m \u001b[0munÉlement\u001b[0m \u001b[0;32min\u001b[0m \u001b[0mtableauPeriodique\u001b[0m\u001b[0;34m.\u001b[0m\u001b[0mitems\u001b[0m\u001b[0;34m(\u001b[0m\u001b[0;34m)\u001b[0m\u001b[0;34m:\u001b[0m\u001b[0;34m\u001b[0m\u001b[0;34m\u001b[0m\u001b[0m\n\u001b[0;32m----> 3\u001b[0;31m     \u001b[0mprint\u001b[0m\u001b[0;34m(\u001b[0m\u001b[0;34m\"%-10s (%-2s) -- numéro: %i, masse: %.3f\"\u001b[0m \u001b[0;34m%\u001b[0m\u001b[0;34m(\u001b[0m\u001b[0munÉlement\u001b[0m\u001b[0;34m[\u001b[0m\u001b[0;36m1\u001b[0m\u001b[0;34m]\u001b[0m\u001b[0;34m[\u001b[0m\u001b[0;36m0\u001b[0m\u001b[0;34m]\u001b[0m\u001b[0;34m,\u001b[0m \u001b[0munÉlement\u001b[0m\u001b[0;34m[\u001b[0m\u001b[0;36m0\u001b[0m\u001b[0;34m]\u001b[0m\u001b[0;34m,\u001b[0m \u001b[0munÉlement\u001b[0m\u001b[0;34m[\u001b[0m\u001b[0;36m1\u001b[0m\u001b[0;34m]\u001b[0m\u001b[0;34m[\u001b[0m\u001b[0;36m1\u001b[0m\u001b[0;34m]\u001b[0m\u001b[0;34m,\u001b[0m \u001b[0munÉlement\u001b[0m\u001b[0;34m[\u001b[0m\u001b[0;36m1\u001b[0m\u001b[0;34m]\u001b[0m\u001b[0;34m[\u001b[0m\u001b[0;36m2\u001b[0m\u001b[0;34m]\u001b[0m \u001b[0;34m)\u001b[0m\u001b[0;34m)\u001b[0m\u001b[0;34m\u001b[0m\u001b[0;34m\u001b[0m\u001b[0m\n\u001b[0m",
      "\u001b[0;31mKeyError\u001b[0m: 0"
     ]
    }
   ],
   "source": [
    "# print(\"%-10s (%-2s) -- numéro: %i, masse: %.3f\" %\n",
    "for cle, valeur in tableauPeriodique.items():\n",
    "    print(\"%-10s (%-2s) -- numéro: %i, masse: %.3f\" %(unElement[1][0], unÉlement[0], unÉlement[1][1], unÉlement[1][2] ))"
   ]
  },
  {
   "cell_type": "markdown",
   "metadata": {
    "collapsed": true,
    "deletable": false,
    "editable": false,
    "nbgrader": {
     "cell_type": "markdown",
     "checksum": "ebe6a93bcc2dbfa65795be4cb337b929",
     "grade": false,
     "grade_id": "cell-76906b0279e0d425",
     "locked": true,
     "schema_version": 3,
     "solution": false
    }
   },
   "source": [
    "---\n",
    "#### Question #4 (2 points)\n",
    "\n",
    "On veut calculer le poids d'une molécule.  Une molécule d'eau est décrite comme suit:\n",
    "```python\n",
    "moleculeEau = [ ['H',2], ['O', 1] ]\n",
    "```\n",
    "\n",
    "Il y a deux atomes d'hydrogène et un atome d'oxygène.\n",
    "\n",
    "Compléter la fonction `calculerPoidsMoleculaire(tableau, molecule)`.\n",
    "\n",
    "L'algorithme est le suivant:\n",
    "```\n",
    "Initialiser le total à zéro\n",
    "Pour chaque segment de la molécule,\n",
    "    total = total + nombre d'atomes * masse moléculaire pour l'atome dans le tableau\n",
    "Retourner le total\n",
    "```\n",
    "\n",
    "> NOTE: Considérer que le tableau comprend toujours les atomes d'une molécule (pas d'oubli)."
   ]
  },
  {
   "cell_type": "code",
   "execution_count": null,
   "metadata": {
    "deletable": false,
    "nbgrader": {
     "cell_type": "code",
     "checksum": "54b2647a1651d13a7861d014672ca2ce",
     "grade": false,
     "grade_id": "q4-code",
     "locked": false,
     "schema_version": 3,
     "solution": true
    }
   },
   "outputs": [],
   "source": [
    "def calculerPoidsMoleculaire(tableau, molecule):\n",
    "# VOTRE CODIFICATION (et supprimer la ligne suivante\n",
    "raise NotImplementedError()"
   ]
  },
  {
   "cell_type": "code",
   "execution_count": null,
   "metadata": {},
   "outputs": [],
   "source": [
    "calculerPoidsMoleculaire(tableauPeriodique, [ ['H',2], ['O', 1] ])"
   ]
  },
  {
   "cell_type": "code",
   "execution_count": null,
   "metadata": {
    "deletable": false,
    "editable": false,
    "nbgrader": {
     "cell_type": "code",
     "checksum": "fa1da63b3ea737e5c6a99eeb2a4234ff",
     "grade": true,
     "grade_id": "q4-tests",
     "locked": true,
     "points": 2,
     "schema_version": 3,
     "solution": false
    }
   },
   "outputs": [],
   "source": [
    "# Validations\n",
    "assert calculerPoidsMoleculaire(tableauPeriodique, [ ['H',2], ['O', 1] ]) == 18.016, 'Eau'\n",
    "assert calculerPoidsMoleculaire(tableauPeriodique, [ ['C', 2], ['H', 5], ['O', 1], ['H', 1]]) == 46.048, 'Ethanol'"
   ]
  },
  {
   "cell_type": "markdown",
   "metadata": {
    "collapsed": true,
    "deletable": false,
    "editable": false,
    "nbgrader": {
     "cell_type": "markdown",
     "checksum": "315fa6c6db9fa34bb53815f7e70e7ffc",
     "grade": false,
     "grade_id": "cell-592e49d23af69e7d",
     "locked": true,
     "schema_version": 3,
     "solution": false
    }
   },
   "source": [
    "---\n",
    "#### Question #5 (2 points)\n",
    "\n",
    "Trouver le nom de l'atome qui possède la plus grande masse atomique dans un tableau périodique.\n",
    "\n",
    "Stratégie:\n",
    "\n",
    "```\n",
    "Assigner zéro à la masse maximale\n",
    "Assigner une chaîne vide au nom de l'atome max\n",
    "Itérer sur chaque **valeur** du tableau périodique\n",
    "    Si la masse de l'atome est supérieure à la masse maximale\n",
    "        converser le nom et la masse maximale\n",
    "Afficher le nom de l'atome\n",
    "``` \n",
    "\n",
    "Résultat attendu:\n",
    "\n",
    "```\n",
    "Atome ayant la plus grande masse: Oxygène\n",
    "```"
   ]
  },
  {
   "cell_type": "code",
   "execution_count": null,
   "metadata": {
    "deletable": false,
    "nbgrader": {
     "cell_type": "code",
     "checksum": "37d6d0bb155a01a548f65d89d1d2a344",
     "grade": true,
     "grade_id": "q5-code",
     "locked": false,
     "points": 2,
     "schema_version": 3,
     "solution": true
    }
   },
   "outputs": [],
   "source": [
    "masseMax = 0.0\n",
    "nomMax = \"\"\n",
    "# VOTRE CODIFICATION (et supprimer la ligne suivante\n",
    "raise NotImplementedError()\n",
    "print(\"Atome ayant la plus grande masse:\", nomMax)"
   ]
  },
  {
   "cell_type": "code",
   "execution_count": null,
   "metadata": {},
   "outputs": [],
   "source": []
  }
 ],
 "metadata": {
  "kernelspec": {
   "display_name": "Python 3",
   "language": "python",
   "name": "python3"
  },
  "language_info": {
   "codemirror_mode": {
    "name": "ipython",
    "version": 3
   },
   "file_extension": ".py",
   "mimetype": "text/x-python",
   "name": "python",
   "nbconvert_exporter": "python",
   "pygments_lexer": "ipython3",
   "version": "3.7.7"
  }
 },
 "nbformat": 4,
 "nbformat_minor": 2
}
