{
 "cells": [
  {
   "cell_type": "markdown",
   "metadata": {},
   "source": [
    "<img style='margin-right:0' src=\"http://dinfo.ca/logoDptInfo.jpg\" width=300>\n",
    "\n",
    "# Complément -- Portée des variables"
   ]
  },
  {
   "cell_type": "code",
   "execution_count": null,
   "metadata": {},
   "outputs": [],
   "source": [
    "def traiterV1():\n",
    "    x = 10\n",
    "    print(\"  x vaut\", x)\n",
    "\n",
    "if 'x' in globals() or 'x' in locals():\n",
    "    del x\n",
    "\n",
    "# print(x)\n",
    "print(\"Avant l'appel de la fonction\")\n",
    "traiterV1()\n",
    "print(\"Après l'appel de la fonction\")\n",
    "# print(x)"
   ]
  },
  {
   "cell_type": "code",
   "execution_count": null,
   "metadata": {},
   "outputs": [],
   "source": [
    "def traiterV2():\n",
    "    y = 25\n",
    "    print(\"  y vaut\", y)\n",
    "y = 15\n",
    "print(y)\n",
    "print(\"Avant l'appel de la fonction\")\n",
    "traiterV2()\n",
    "print(\"Après l'appel de la fonction\")\n",
    "print(y)"
   ]
  },
  {
   "cell_type": "code",
   "execution_count": null,
   "metadata": {},
   "outputs": [],
   "source": [
    "print(\"* * *   A V E R T I S S E M E N T :   N E   P A S   F A I R E   * * *\")\n",
    "def traiterV3():\n",
    "    print(\"z vaut\", z) # NE PAS ACCÉDER AUX VARIABLES GLOBALES\n",
    "\n",
    "z = 120\n",
    "print(z)\n",
    "print(\"Avant l'appel de la fonction\")\n",
    "traiterV3()\n",
    "print(\"Après l'appel de la fonction\")\n",
    "print(z)"
   ]
  },
  {
   "cell_type": "code",
   "execution_count": null,
   "metadata": {},
   "outputs": [],
   "source": [
    "print(\"* * *   A V E R T I S S E M E N T :   N E   P A S   F A I R E   * * *\")\n",
    "def traiterV4():\n",
    "    global z      # NE PAS ACCÉDER AUX VARIABLES GLOBALES\n",
    "    z = z + 1\n",
    "    print(\"z vaut\", z) \n",
    "\n",
    "z = 120\n",
    "print(z)\n",
    "print(\"Avant l'appel de la fonction\")\n",
    "traiterV4()\n",
    "print(\"Après l'appel de la fonction\")\n",
    "print(z)"
   ]
  },
  {
   "cell_type": "code",
   "execution_count": null,
   "metadata": {},
   "outputs": [],
   "source": [
    "def traiterV5(w):\n",
    "    w += 3\n",
    "    print(\"w vaut\", w)\n",
    "    \n",
    "w = 420\n",
    "print(w)\n",
    "print(\"Avant l'appel de la fonction\")\n",
    "traiterV5(w)\n",
    "print(\"Après l'appel de la fonction\")\n",
    "print(w)"
   ]
  },
  {
   "cell_type": "code",
   "execution_count": null,
   "metadata": {},
   "outputs": [],
   "source": [
    "traiterV5()"
   ]
  },
  {
   "cell_type": "code",
   "execution_count": null,
   "metadata": {},
   "outputs": [],
   "source": [
    "def traiterV6(nbPassagers=2):\n",
    "    print(\"nbPassagers vaut\", nbPassagers)\n",
    "\n",
    "traiterV6(4)\n",
    "traiterV6()"
   ]
  },
  {
   "cell_type": "code",
   "execution_count": null,
   "metadata": {},
   "outputs": [],
   "source": [
    "def traiterV7(poids):\n",
    "    print(\"poids vaut\", poids)\n",
    "\n",
    "def traiterV7():\n",
    "    print(\"vide\")\n",
    "\n",
    "traiterV7(2)"
   ]
  },
  {
   "cell_type": "code",
   "execution_count": null,
   "metadata": {},
   "outputs": [],
   "source": [
    "def traiterV8(x):\n",
    "    return x + traiterV8(x-1)\n",
    "\n",
    "traiterV8(5)"
   ]
  },
  {
   "cell_type": "code",
   "execution_count": null,
   "metadata": {},
   "outputs": [],
   "source": [
    "def traiterV9(x):\n",
    "    if x < 2:\n",
    "        r = 1\n",
    "    else:\n",
    "        r = x + traiterV9(x-1)\n",
    "    return r\n",
    "\n",
    "traiterV9(5)"
   ]
  }
 ],
 "metadata": {
  "kernelspec": {
   "display_name": "Python 3",
   "language": "python",
   "name": "python3"
  },
  "language_info": {
   "codemirror_mode": {
    "name": "ipython",
    "version": 3
   },
   "file_extension": ".py",
   "mimetype": "text/x-python",
   "name": "python",
   "nbconvert_exporter": "python",
   "pygments_lexer": "ipython3",
   "version": "3.7.7"
  }
 },
 "nbformat": 4,
 "nbformat_minor": 4
}
