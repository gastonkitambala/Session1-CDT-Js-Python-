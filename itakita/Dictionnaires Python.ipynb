{
 "cells": [
  {
   "cell_type": "markdown",
   "metadata": {},
   "source": [
    "<img style='margin-right:0' src=\"http://dinfo.ca/logoDptInfo.jpg\" width=300>\n",
    "\n",
    "# Collections associatives (Python)\n",
    "---"
   ]
  },
  {
   "cell_type": "markdown",
   "metadata": {},
   "source": [
    "Une liste (`list`)est une **collection ordonnée**: les éléments sont placés en ordre et sont accessibles via un indice.\n",
    "\n",
    "Un dictionnaire (`dict`) est une **collection d'association**: les éléments n'ont pas d'ordre précis (premier, troisième, dernier, ...) mais sont identifiés par une clé."
   ]
  },
  {
   "cell_type": "markdown",
   "metadata": {},
   "source": [
    "### Déclaration\n",
    "\n",
    "**Syntaxe:**\n",
    "\n",
    "```python\n",
    "d = {\n",
    "    <key>: <value>,\n",
    "    <key>: <value>,\n",
    "      .\n",
    "      .\n",
    "      .\n",
    "    <key>: <value>\n",
    "}\n",
    "``` "
   ]
  },
  {
   "cell_type": "code",
   "execution_count": null,
   "metadata": {},
   "outputs": [],
   "source": [
    "# Inscription en 2025\n",
    "bottinEleves = {\n",
    "    '2531111' : 'Adam Bernard',\n",
    "    '2532222' : 'Charles Demers',\n",
    "    '2533333' : 'Eric Fillion'\n",
    "}\n",
    "print(bottinEleves)"
   ]
  },
  {
   "cell_type": "markdown",
   "metadata": {},
   "source": [
    "#### Récupérer selon la clé\n",
    "\n",
    "Quel est le nom de l'élève portant le matricule **'2532222'**?\n",
    "\n",
    "Ici, on précisera la clé entre crochets."
   ]
  },
  {
   "cell_type": "code",
   "execution_count": null,
   "metadata": {},
   "outputs": [],
   "source": [
    "print(bottinEleves['2532222'])\n",
    "#print(bottinEleves['2531234']) # aucun élève avec ce matricule"
   ]
  },
  {
   "cell_type": "markdown",
   "metadata": {},
   "source": [
    "#### Éléments hétérogènes\n",
    "On utilise parfois les collections d'association pour décrire un regroupement de données distinctes, identifiées par des clés."
   ]
  },
  {
   "cell_type": "code",
   "execution_count": null,
   "metadata": {},
   "outputs": [],
   "source": [
    "eleve = {\n",
    "    'noDossier' : '2532222',\n",
    "    'nom' : 'Charles Demers',\n",
    "    'programme' : 420,\n",
    "    'coursSuivis' : ['420-2X3-RA', '420-2Y6-RA', '420-2Z6-RA',\n",
    "                     '201-273-RA', '340-101-MQ', '601-101-MQ',\n",
    "                     '604-COM-R4']\n",
    "}"
   ]
  },
  {
   "cell_type": "markdown",
   "metadata": {},
   "source": [
    "#### Pouvez-vous énumérer les quatre (4) clés pour cet élève?\n",
    "\n",
    "* \n",
    "* \n",
    "* \n",
    "* \n",
    "\n",
    "#### Quelle est la valeur associée à la clé 'noDossier' de cet élève?\n",
    "\n",
    "* \n"
   ]
  },
  {
   "cell_type": "code",
   "execution_count": null,
   "metadata": {},
   "outputs": [],
   "source": [
    "print(\"Clés:\")\n",
    "for unNomCle in eleve.keys():\n",
    "    print('  -', unNomCle)"
   ]
  },
  {
   "cell_type": "code",
   "execution_count": null,
   "metadata": {},
   "outputs": [],
   "source": [
    "# Afficher le numéro de dossier de l'élève\n",
    "#print(___)\n",
    "\n",
    "# Afficher le nom de l'élève\n",
    "#print(___)\n",
    "\n",
    "# Afficher le numéro de programme de l'élève\n",
    "#print(___)\n",
    "\n",
    "# Afficher le nombre de cours suivis par l'élève\n",
    "#print(___)"
   ]
  },
  {
   "cell_type": "code",
   "execution_count": null,
   "metadata": {},
   "outputs": [],
   "source": [
    "cours = { '420-2X3-RA' : 'Carrières informatiques',\n",
    "          '420-2Y6-RA' : 'Installation d''ordinateurs',\n",
    "          '420-2Z6-RA' : 'Introduction à la programmation',\n",
    "          '201-273-RA' : 'Mathématiques appliquées à l''informatique I',\n",
    "          '340-101-MQ' : 'Philosophie et rationalité',\n",
    "          '601-101-MQ' : 'Écriture et littérature',\n",
    "          '604-COM-R4' : 'Anglais commun'\n",
    "        }"
   ]
  },
  {
   "cell_type": "code",
   "execution_count": null,
   "metadata": {},
   "outputs": [],
   "source": [
    "print(\"%s (dossier:%s) -- Programme %i\" % \n",
    "      (eleve['nom'], eleve['noDossier'], eleve['programme']) )\n",
    "print('Cours suivis')\n",
    "for unNoCours in eleve['coursSuivis']:\n",
    "    print(\"  %s -- %s\" % (unNoCours, cours[unNoCours]) )"
   ]
  },
  {
   "cell_type": "markdown",
   "metadata": {},
   "source": [
    "#### Pratique #1\n",
    "\n",
    "Créez un dictionnaire `profs`:\n",
    "    * la clé sera les initiales de l'enseignant d'informatique\n",
    "    * la valeur associée sera le nom complet de l'enseignant\n",
    "    \n",
    "Ensuite, affichez le nom complet du prof ayant les initiales 'MG'."
   ]
  },
  {
   "cell_type": "code",
   "execution_count": 3,
   "metadata": {},
   "outputs": [
    {
     "name": "stdout",
     "output_type": "stream",
     "text": [
      "Marcco Guay\n"
     ]
    }
   ],
   "source": [
    "profs = {\n",
    "    \"MG\" : \"Marcco Guay\",\n",
    "    \"LF\" : \"Luc Forcier\",\n",
    "    \"GP\": \"Gilles Portelance\"\n",
    "}\n",
    "\n",
    "print(profs[\"MG\"])"
   ]
  },
  {
   "cell_type": "markdown",
   "metadata": {},
   "source": [
    "#### Pratique #2\n",
    "\n",
    "Créez un dictionnaire `voiture` ayant comme clés (**marque**, **modèle** et **année**) décrivant un `Ford Mustang de 1964`.\n",
    "\n",
    "Exemple provenant de w3schools.com."
   ]
  },
  {
   "cell_type": "markdown",
   "metadata": {},
   "source": [
    "### Nombre de clés-valeurs\n",
    "\n",
    "Pour connaître le nombre de clés-valeurs, on utilise la fonction `len(__)`"
   ]
  },
  {
   "cell_type": "code",
   "execution_count": null,
   "metadata": {},
   "outputs": [],
   "source": [
    "# Affichez le nombre de clés-valeurs \n"
   ]
  },
  {
   "cell_type": "markdown",
   "metadata": {},
   "source": [
    "#### Ajout de clé-valeur, modifications de valeur pour une clé et retrait de clé-valeur"
   ]
  },
  {
   "cell_type": "code",
   "execution_count": null,
   "metadata": {},
   "outputs": [],
   "source": [
    "provinces = { 'qc' : 'Québec',\n",
    "              'on' : 'Ontario'\n",
    "            }\n",
    "# Ajout d'une province\n",
    "provinces['cb'] = 'Colombie-Britanique'\n",
    "\n",
    "print(provinces)\n",
    "\n",
    "# Retrait du Québec\n",
    "provinces.pop('qc')\n",
    "print(provinces)\n",
    "\n",
    "# Modif de la valeur associée à une clé\n",
    "provinces['cb'] = 'British Columbia'\n",
    "print(provinces)"
   ]
  },
  {
   "cell_type": "code",
   "execution_count": null,
   "metadata": {},
   "outputs": [],
   "source": [
    "# Construction alternative\n",
    "voiture = dict(marque='Ford', modele='Mustang', annee='1964')\n",
    "print(voiture)"
   ]
  },
  {
   "cell_type": "markdown",
   "metadata": {},
   "source": [
    "### Itérations"
   ]
  },
  {
   "cell_type": "code",
   "execution_count": null,
   "metadata": {},
   "outputs": [],
   "source": [
    "# Itérer sur les clés\n",
    "for cle in provinces:\n",
    "    print(cle)"
   ]
  },
  {
   "cell_type": "code",
   "execution_count": null,
   "metadata": {},
   "outputs": [],
   "source": [
    "# Itérer sur les clés\n",
    "for cle in provinces.keys():\n",
    "    print(cle)"
   ]
  },
  {
   "cell_type": "code",
   "execution_count": null,
   "metadata": {},
   "outputs": [],
   "source": [
    "# Itérer sur les tuples (paires)\n",
    "for tupleCleValeur in provinces.items():\n",
    "    print(tupleCleValeur)"
   ]
  },
  {
   "cell_type": "code",
   "execution_count": null,
   "metadata": {},
   "outputs": [],
   "source": [
    "# Itérer sur les tuples (paires)\n",
    "for tupleCleValeur in provinces.items():\n",
    "    print('Cle:', tupleCleValeur[0], ' Valeur:', tupleCleValeur[1])"
   ]
  },
  {
   "cell_type": "code",
   "execution_count": null,
   "metadata": {},
   "outputs": [],
   "source": [
    "# Itérer sur les paires clé-valeur\n",
    "for cle,valeur in provinces.items():\n",
    "    print(cle, ':', valeur)"
   ]
  },
  {
   "cell_type": "code",
   "execution_count": null,
   "metadata": {},
   "outputs": [],
   "source": [
    "# Itérer uniquement sur les valeurs\n",
    "for valeur in provinces.values():\n",
    "    print(valeur)"
   ]
  },
  {
   "cell_type": "code",
   "execution_count": null,
   "metadata": {},
   "outputs": [],
   "source": [
    "### Valider si la clé existe\n",
    "if 'on' in provinces:\n",
    "    print('Cle \"on\" présente dans le dictionnaire des provinces')"
   ]
  },
  {
   "cell_type": "code",
   "execution_count": null,
   "metadata": {},
   "outputs": [],
   "source": [
    "def compterNbPattes(animal):\n",
    "    creatures = {\n",
    "        'tarentule' : 8,\n",
    "        'chat' : 4,\n",
    "        'cheval' : 4,\n",
    "        'coccinelle' : 6,\n",
    "        'crabe' : 10,\n",
    "        'fourmi' : 6,\n",
    "        'lapin' : 4,\n",
    "        'mouton' : 4,\n",
    "        'poule' : 2\n",
    "    }\n",
    "    if animal in creatures:\n",
    "        nbPattes = creatures[animal]\n",
    "    else:\n",
    "        nbPattes = 0\n",
    "    return nbPattes\n",
    "print('Coccinelle:', compterNbPattes('coccinelle'), 'pattes')\n",
    "print('Poule:', compterNbPattes('poule'), 'pattes')\n",
    "print('Serpent:', compterNbPattes('serpent'))"
   ]
  },
  {
   "cell_type": "markdown",
   "metadata": {},
   "source": [
    "### Récupération selon la clé et valeur par défaut\n",
    "\n",
    "Une façon alternative de récupérer la valeur associée à une clé est d'utiliser la syntaxe: `dictionnaire.get(cle[,valDefaut])`."
   ]
  },
  {
   "cell_type": "code",
   "execution_count": null,
   "metadata": {},
   "outputs": [],
   "source": [
    "creatures = {\n",
    "    'tarentule' : 8,\n",
    "    'chat' : 4,\n",
    "    'cheval' : 4,\n",
    "    'coccinelle' : 6,\n",
    "    'crabe' : 10,\n",
    "    'fourmi' : 6,\n",
    "    'lapin' : 4,\n",
    "    'mouton' : 4,\n",
    "    'poule' : 2\n",
    "}\n",
    "print( creatures['tarentule'] )\n",
    "print( creatures.get('tarentule') )"
   ]
  },
  {
   "cell_type": "code",
   "execution_count": null,
   "metadata": {},
   "outputs": [],
   "source": [
    "animal = 'fourmi'\n",
    "print(animal, ':', creatures.get(animal) )\n",
    "\n",
    "animal = 'pieuvre'\n",
    "print( creatures.get(animal) ) # Retourne None\n",
    "\n",
    "#creatures[animal] # lance une exception KeyError\n",
    "\n",
    "# Si aucune clé n'existe, retourne la valeur par défaut\n",
    "print( creatures.get(animal, 0) )\n",
    "animal = 'mouton'\n",
    "print( creatures.get(animal, 0) )"
   ]
  },
  {
   "cell_type": "markdown",
   "metadata": {},
   "source": [
    "### Est-il possible de cloner un dictionnaire?"
   ]
  },
  {
   "cell_type": "code",
   "execution_count": 4,
   "metadata": {},
   "outputs": [
    {
     "name": "stdout",
     "output_type": "stream",
     "text": [
      "{'marque': 'ford', 'modele': 'mustang'}\n",
      "{'marque': 'ford', 'modele': 'fiesta'}\n"
     ]
    }
   ],
   "source": [
    "mustang = { 'marque':'ford', 'modele':'mustang'}\n",
    "fiesta = mustang.copy()\n",
    "fiesta['modele'] = 'fiesta'\n",
    "print(mustang)\n",
    "print(fiesta)"
   ]
  },
  {
   "cell_type": "code",
   "execution_count": null,
   "metadata": {},
   "outputs": [],
   "source": []
  }
 ],
 "metadata": {
  "kernelspec": {
   "display_name": "Python 3",
   "language": "python",
   "name": "python3"
  },
  "language_info": {
   "codemirror_mode": {
    "name": "ipython",
    "version": 3
   },
   "file_extension": ".py",
   "mimetype": "text/x-python",
   "name": "python",
   "nbconvert_exporter": "python",
   "pygments_lexer": "ipython3",
   "version": "3.7.7"
  }
 },
 "nbformat": 4,
 "nbformat_minor": 4
}
