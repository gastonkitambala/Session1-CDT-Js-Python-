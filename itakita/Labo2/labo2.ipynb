{
 "cells": [
  {
   "cell_type": "markdown",
   "metadata": {},
   "source": [
    "Before you turn this problem in, make sure everything runs as expected. First, **restart the kernel** (in the menubar, select Kernel$\\rightarrow$Restart) and then **run all cells** (in the menubar, select Cell$\\rightarrow$Run All).\n",
    "\n",
    "Make sure you fill in any place that says `YOUR CODE HERE` or \"YOUR ANSWER HERE\", as well as your name and collaborators below:"
   ]
  },
  {
   "cell_type": "code",
   "execution_count": 19,
   "metadata": {},
   "outputs": [],
   "source": [
    "NAME = \"Gaston Itaka KITAMBALA\"\n",
    "COLLABORATORS = \"\""
   ]
  },
  {
   "cell_type": "markdown",
   "metadata": {},
   "source": [
    "---"
   ]
  },
  {
   "cell_type": "markdown",
   "metadata": {},
   "source": [
    "<img style='margin-right:0' src=\"http://dinfo.ca/logoDptInfo.jpg\" width=300>\n",
    "\n",
    "# Laboratoire #2\n",
    "---"
   ]
  },
  {
   "cell_type": "markdown",
   "metadata": {
    "deletable": false,
    "editable": false,
    "nbgrader": {
     "cell_type": "markdown",
     "checksum": "7e3762e68e5126abaee51efdf9413440",
     "grade": false,
     "grade_id": "cell-28e65e96a693d2e0",
     "locked": true,
     "schema_version": 3,
     "solution": false
    }
   },
   "source": [
    "---\n",
    "#### Question #1 (2 points)\n",
    "La fonction suivante est fournie:\n",
    "- `calculerTVQ(montant)` : retourne 9.975% du montant\n",
    "\n",
    "Complétez les trois (3) fonctions suivantes:\n",
    "- `calculerTPS(montant)` : retourne 5% du montant\n",
    "- `calculerTaxes(montant)`: retourne l'addition de la TPS et TVQ pour le montant\n",
    "- `calculerMontantApresTaxes(montant)` : retourne le montant avec taxes"
   ]
  },
  {
   "cell_type": "code",
   "execution_count": 31,
   "metadata": {
    "deletable": false,
    "nbgrader": {
     "cell_type": "code",
     "checksum": "39ea9592d80a6e093f339d7023733bf0",
     "grade": false,
     "grade_id": "taxes-code",
     "locked": false,
     "schema_version": 3,
     "solution": true
    }
   },
   "outputs": [],
   "source": [
    "def calculerTVQ(montant):\n",
    "    return round(montant * 0.09975,2)\n",
    "\n",
    "# VOTRE CODIFICATION (et supprimer la ligne suivante\n",
    "def calculerTPS(montant):\n",
    "    return round(montant * 0.05, 2)\n",
    "def calculerTaxes(montant):\n",
    "    return calculerTPS(montant) + calculerTVQ(montant)\n",
    "def calculerMontantApresTaxes(montant):\n",
    "    return montant + calculerTaxes(montant)"
   ]
  },
  {
   "cell_type": "code",
   "execution_count": 3,
   "metadata": {},
   "outputs": [
    {
     "name": "stdout",
     "output_type": "stream",
     "text": [
      "5.0\n"
     ]
    }
   ],
   "source": [
    "print(round(60/12, 1))"
   ]
  },
  {
   "cell_type": "code",
   "execution_count": 32,
   "metadata": {},
   "outputs": [
    {
     "data": {
      "text/plain": [
       "114.98"
      ]
     },
     "execution_count": 32,
     "metadata": {},
     "output_type": "execute_result"
    }
   ],
   "source": [
    "calculerMontantApresTaxes(100)"
   ]
  },
  {
   "cell_type": "code",
   "execution_count": 22,
   "metadata": {
    "deletable": false,
    "editable": false,
    "nbgrader": {
     "cell_type": "code",
     "checksum": "c5e7ededa02217206db86604e042341b",
     "grade": true,
     "grade_id": "taxes-tests",
     "locked": true,
     "points": 2,
     "schema_version": 3,
     "solution": false
    }
   },
   "outputs": [],
   "source": [
    "## Validations\n",
    "assert 'calculerTPS' in globals(), 'Aucune fonction ne porte le nom `calculerTPS`'\n",
    "assert 'calculerTaxes' in globals(), 'Aucune fonction ne porte le nom `calculerTaxes`'\n",
    "assert 'calculerMontantApresTaxes' in globals(), 'Aucune fonction ne porte le nom `calculerMontantApresTaxes`'\n",
    "assert callable(calculerTPS), '`calculerTPS` n\\'est pas une fonction'\n",
    "assert callable(calculerTaxes), '`calculerTaxes` n\\'est pas une fonction'\n",
    "assert callable(calculerMontantApresTaxes), '`calculerMontantApresTaxes` n\\'est pas une fonction'\n",
    "import inspect\n",
    "assert len(inspect.signature(calculerTPS).parameters) == 1, 'La fonction `calculerTPS` doit avoir un seul paramètre'\n",
    "assert list(inspect.signature(calculerTPS).parameters.keys())[0] == 'montant', 'Le paramètre doit porter le nom `montant`'\n",
    "assert round(calculerTPS(20.00),2) == 1.00, 'TPS de 20$ doit donner 1.00$'\n",
    "assert round(calculerTPS(35.00),2) == 1.75, 'TPS de 35$ doit donner 1.75$'"
   ]
  },
  {
   "cell_type": "markdown",
   "metadata": {
    "deletable": false,
    "editable": false,
    "nbgrader": {
     "cell_type": "markdown",
     "checksum": "0151f25f9c7d090dbb3c9a31d6a2c0b0",
     "grade": false,
     "grade_id": "cell-d6894768af56a961",
     "locked": true,
     "schema_version": 3,
     "solution": false
    }
   },
   "source": [
    "---\n",
    "#### Question #2 (2 points)\n",
    "\n",
    "Affichez les montants pour:\n",
    "- une **facture de 100.00\\$**, puis les montants pour \n",
    "- une **facture de 35.00\\$** \n",
    "\n",
    "selon le format:\n",
    "\n",
    "> Facture de `___.__`\\$ (taxes: `___.__`\\$) : total = `___.__`\\$\n",
    "\n",
    "> Exemple: `Facture de 50.00$ (taxes: 7.49$) : total = 57.49$`\n",
    "\n",
    "Évidemment, vous devrez invoquer les fonctions `calculerTaxes` et `calculerMontantApresTaxes` pour récupérez ces valeurs calculées.\n",
    "\n",
    "**Résultats attendus**:\n",
    "\n",
    "| montant | taxes | total  |\n",
    "|---------|-------|--------|\n",
    "| 100.00  | 14.98 | 114.98 |\n",
    "|  35.00  |  5.24 | 40.24  |"
   ]
  },
  {
   "cell_type": "code",
   "execution_count": 23,
   "metadata": {
    "deletable": false,
    "nbgrader": {
     "cell_type": "code",
     "checksum": "9fc32d10e10ea2407675232a35b5ea88",
     "grade": true,
     "grade_id": "taxes-affichage",
     "locked": false,
     "points": 2,
     "schema_version": 3,
     "solution": true
    }
   },
   "outputs": [
    {
     "name": "stdout",
     "output_type": "stream",
     "text": [
      "Facture de 100.00$ (taxes: 14.98$) : total = 114.98$\n",
      "Facture de 35.00$ (taxes: 5.24$) : total = 40.24$\n"
     ]
    }
   ],
   "source": [
    "# VOTRE CODIFICATION (et supprimer la ligne suivante\n",
    "print(\"Facture de %.2f$ (taxes: %.2f$) : total = %.2f$\" % (100.00, calculerTaxes(100.00), calculerMontantApresTaxes(100.00) ))\n",
    "print(\"Facture de %.2f$ (taxes: %.2f$) : total = %.2f$\" % (35.00, calculerTaxes(35.00), calculerMontantApresTaxes(35.00) ))"
   ]
  },
  {
   "cell_type": "markdown",
   "metadata": {
    "deletable": false,
    "editable": false,
    "nbgrader": {
     "cell_type": "markdown",
     "checksum": "f6001c44a42001a3e154f1855c412abc",
     "grade": false,
     "grade_id": "cell-545b4977043cc6be",
     "locked": true,
     "schema_version": 3,
     "solution": false
    }
   },
   "source": [
    "---\n",
    "#### Question #3 (2 points)\n",
    "\n",
    "Définir une fonction nommée `compterNbPattes(animal)` qui retourne le nombre de pattes d'un animal connu (ou **zéro** si l'animal n'est pas répertorié par la fonction).\n",
    "\n",
    "Voici la liste des animaux supportés:\n",
    "\n",
    "| animal         | nb pattes |\n",
    "|----------------|-----------|\n",
    "| tarentule      |  8 |\n",
    "| chat           |  4 |\n",
    "| cheval         |  4 |\n",
    "| coccinelle     |  6 |\n",
    "| crabe          | 10 |\n",
    "| fourmi         |  6 |\n",
    "| lapin          |  4 |\n",
    "| mouton         |  4 |\n",
    "| poule          |  2 |\n",
    "\n",
    "Utilisez les \"si imbriqués\" pour répondre à ce problème.\n",
    "\n",
    "```python\n",
    "if condition:\n",
    "    nbPattes = 0\n",
    "else:\n",
    "    if condition:\n",
    "        ...\n",
    "    else:\n",
    "        ...\n",
    "```\n",
    "ou bien avec les `elif`.\n"
   ]
  },
  {
   "cell_type": "code",
   "execution_count": 33,
   "metadata": {
    "deletable": false,
    "nbgrader": {
     "cell_type": "code",
     "checksum": "7977181a07a6c04e7bc76693cc9d05eb",
     "grade": false,
     "grade_id": "cell-b5f5841408fc9974",
     "locked": false,
     "schema_version": 3,
     "solution": true
    }
   },
   "outputs": [],
   "source": [
    "# VOTRE CODIFICATION (et supprimer la ligne suivante\n",
    "def compterNbPattes(animal):\n",
    "    if animal == \"tarentule\":\n",
    "        nbPattes = 8\n",
    "    elif animal == \"chat\":\n",
    "        nbPattes = 4\n",
    "    elif animal == \"cheval\":\n",
    "        nbPattes = 4\n",
    "    elif animal == \"coccinelle\":\n",
    "        nbPattes = 6\n",
    "    elif animal == \"crabe\":\n",
    "        nbPattes = 10\n",
    "    elif animal == \"fourmi\":\n",
    "        nbPattes = 6\n",
    "    elif animal == \"lapin\":\n",
    "        nbPattes = 4\n",
    "    elif animal == \"mouton\":\n",
    "        nbPattes = 4\n",
    "    elif animal == \"poule\":\n",
    "        nbPattes = 2\n",
    "    else:\n",
    "        nbPattes = 0\n",
    "    return nbPattes\n",
    "\n",
    "         "
   ]
  },
  {
   "cell_type": "code",
   "execution_count": 34,
   "metadata": {
    "deletable": false,
    "editable": false,
    "nbgrader": {
     "cell_type": "code",
     "checksum": "5879cc807cb8b659d0d8c41e3766978a",
     "grade": false,
     "grade_id": "cell-7ce833ce5616f6eb",
     "locked": true,
     "schema_version": 3,
     "solution": false
    }
   },
   "outputs": [
    {
     "data": {
      "application/vnd.jupyter.widget-view+json": {
       "model_id": "b19a2aa4eab14b9c8801bd7d534e463f",
       "version_major": 2,
       "version_minor": 0
      },
      "text/plain": [
       "interactive(children=(Dropdown(description='animal', options=('tarentule', 'chat', 'cheval', 'coccinelle', 'cr…"
      ]
     },
     "metadata": {},
     "output_type": "display_data"
    }
   ],
   "source": [
    "from ipywidgets import interact, interactive, fixed, interact_manual\n",
    "import ipywidgets as widgets\n",
    "interact(compterNbPattes, animal=['tarentule','chat','cheval','coccinelle','crabe','dauphin','fourmi','lapin','mouton','poule','serpent']);"
   ]
  },
  {
   "cell_type": "code",
   "execution_count": 26,
   "metadata": {
    "deletable": false,
    "editable": false,
    "nbgrader": {
     "cell_type": "code",
     "checksum": "2d5a21fd7f925af537c8e65f2e7e25bb",
     "grade": true,
     "grade_id": "animaux-tests",
     "locked": true,
     "points": 2,
     "schema_version": 3,
     "solution": false
    }
   },
   "outputs": [],
   "source": [
    "## Validations\n",
    "assert 'compterNbPattes' in globals(), 'Aucune fonction ne porte le nom `compterNbPattes`'\n",
    "assert callable(compterNbPattes), '`compterNbPattes` n\\'est pas une fonction'\n",
    "import inspect\n",
    "assert compterNbPattes('tarentule') == 8\n",
    "assert compterNbPattes('serpent') == 0"
   ]
  },
  {
   "cell_type": "markdown",
   "metadata": {
    "deletable": false,
    "editable": false,
    "nbgrader": {
     "cell_type": "markdown",
     "checksum": "51694b4f6e85589a3a20dce1b9ab1036",
     "grade": false,
     "grade_id": "cell-f92a5cad6404aa3c",
     "locked": true,
     "schema_version": 3,
     "solution": false
    }
   },
   "source": [
    "---\n",
    "#### Question #4 (2 points)\n",
    "\n",
    "\n",
    "Définissez une fonction nommée `calculerCoutLocation(nbMaisons)` qui permet de calculer le coût à payer si un adversaire tombe sur le terrain **Avenue de l'Orient** au Monopoly.\n",
    "\n",
    "> Vous devez vous baser uniquement sur le nombre de maisons construites (0 à 5).  <br>On considère que l'hôtel représente 5 maisons.<br>  Vous ne devez pas considérer ce qui est écrit en bas de la carte (hypothèque ou groupe d'une couleur).<br>La fonction est définie uniquement pour les montants spécifiés sur le terrain **Avenue de l'Orient**.\n",
    "\n",
    "![png image](data:image/png;base64,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)"
   ]
  },
  {
   "cell_type": "code",
   "execution_count": 27,
   "metadata": {
    "deletable": false,
    "nbgrader": {
     "cell_type": "code",
     "checksum": "c47eb8093d72ded5e8044f23afb694de",
     "grade": false,
     "grade_id": "monopoly-code",
     "locked": false,
     "schema_version": 3,
     "solution": true
    }
   },
   "outputs": [
    {
     "data": {
      "application/vnd.jupyter.widget-view+json": {
       "model_id": "ecaf51bae8a742dda6c9962c2f19a457",
       "version_major": 2,
       "version_minor": 0
      },
      "text/plain": [
       "interactive(children=(IntSlider(value=2, description='nbMaisons', max=5), Output()), _dom_classes=('widget-int…"
      ]
     },
     "metadata": {},
     "output_type": "display_data"
    }
   ],
   "source": [
    "def calculerCoutLocation(nbMaisons):\n",
    "    # VOTRE CODIFICATION (et supprimer la ligne suivante\n",
    "    if nbMaisons == 0:\n",
    "        coutLocation = 6\n",
    "    elif nbMaisons == 1:\n",
    "        coutLocation = 30\n",
    "    elif nbMaisons == 2:\n",
    "        coutLocation  = 90\n",
    "    elif nbMaisons == 3:\n",
    "        coutLocation = 270\n",
    "    elif nbMaisons == 4:\n",
    "        coutLocation = 400\n",
    "    else:\n",
    "        coutLocation = 550\n",
    "    return coutLocation\n",
    "\n",
    "from ipywidgets import interact, interactive, fixed, interact_manual\n",
    "import ipywidgets as widgets\n",
    "interact(calculerCoutLocation, nbMaisons=(0,5));"
   ]
  },
  {
   "cell_type": "code",
   "execution_count": 28,
   "metadata": {
    "deletable": false,
    "editable": false,
    "nbgrader": {
     "cell_type": "code",
     "checksum": "61beba1c00e74a8626a904a7c7a6a338",
     "grade": true,
     "grade_id": "monopoly-tests",
     "locked": true,
     "points": 2,
     "schema_version": 3,
     "solution": false
    }
   },
   "outputs": [],
   "source": [
    "## Validations\n",
    "assert 'calculerCoutLocation' in globals(), 'Aucune fonction ne porte le nom `calculerCoutLocation`'\n",
    "assert callable(calculerCoutLocation), '`calculerCoutLocation` n\\'est pas une fonction'\n",
    "import inspect\n",
    "assert len(inspect.signature(calculerCoutLocation).parameters) == 1, 'La fonction `calculerCoutLocation` doit avoir un seul paramètre'\n",
    "assert list(inspect.signature(calculerCoutLocation).parameters.keys())[0] == 'nbMaisons', 'Le paramètre doit porter le nom `nbMaisons`'\n",
    "assert calculerCoutLocation(1) == 30\n",
    "assert calculerCoutLocation(2) == 90"
   ]
  },
  {
   "cell_type": "markdown",
   "metadata": {
    "deletable": false,
    "editable": false,
    "nbgrader": {
     "cell_type": "markdown",
     "checksum": "723635abe91bafb34bbc1ded13d35319",
     "grade": false,
     "grade_id": "cell-a0bc3e9ef1a23bcb",
     "locked": true,
     "schema_version": 3,
     "solution": false
    }
   },
   "source": [
    "---\n",
    "#### Question #5 (2 points)\n",
    "\n",
    "On veut déterminer l'état de l'eau à une température donnée (à des conditions de pureté et de pression standards).\n",
    "\n",
    "On considère que l'eau est dans un état solide ('glace') à 0˚C ou moins.\n",
    "\n",
    "À partir de 100˚C, l'eau est dans l'état gazeux ('vapeur').\n",
    "\n",
    "Entre ces deux valeurs, son état est liquide ('eau').\n",
    "\n",
    "Développez une fonction nommée `determinerEtatEau(tempCelsius)` qui retourne une chaîne de caractères décrivant l'état ('glace','eau' ou 'vapeur')."
   ]
  },
  {
   "cell_type": "code",
   "execution_count": 35,
   "metadata": {
    "deletable": false,
    "nbgrader": {
     "cell_type": "code",
     "checksum": "e7f083361da29c26440f6dfbfc87d018",
     "grade": false,
     "grade_id": "eau-code",
     "locked": false,
     "schema_version": 3,
     "solution": true
    }
   },
   "outputs": [],
   "source": [
    "def determinerEtatEau(tempCelsius):\n",
    "    # VOTRE CODIFICATION (et supprimer la ligne suivante\n",
    "    if tempCelsius <= 0:\n",
    "        etat = \"glace\"\n",
    "    elif tempCelsius >= 100:\n",
    "        etat = \"vapeur\"\n",
    "    elif tempCelsius > 0 and tempCelsius < 100:\n",
    "        etat =\"eau\"\n",
    "    return etat"
   ]
  },
  {
   "cell_type": "code",
   "execution_count": 36,
   "metadata": {
    "deletable": false,
    "editable": false,
    "nbgrader": {
     "cell_type": "code",
     "checksum": "07a7014bb8c52cafcebe6cdc0f214b27",
     "grade": true,
     "grade_id": "eau-tests",
     "locked": true,
     "points": 2,
     "schema_version": 3,
     "solution": false
    }
   },
   "outputs": [],
   "source": [
    "## Validations\n",
    "assert 'determinerEtatEau' in globals(), 'Aucune fonction ne porte le nom `determinerEtatEau`'\n",
    "assert callable(determinerEtatEau), '`determinerEtatEau` n\\'est pas une fonction'\n",
    "import inspect\n",
    "assert len(inspect.signature(determinerEtatEau).parameters) == 1, 'La fonction `determinerEtatEau` doit avoir un seul paramètre'\n",
    "assert list(inspect.signature(determinerEtatEau).parameters.keys())[0] == 'tempCelsius', 'Le paramètre doit porter le nom `poids`'\n",
    "assert determinerEtatEau(-30) == 'glace'\n",
    "assert determinerEtatEau(-1) == 'glace'\n",
    "assert determinerEtatEau(0) == 'glace'\n",
    "assert determinerEtatEau(1) == 'eau'\n",
    "assert determinerEtatEau(25) == 'eau'\n",
    "assert determinerEtatEau(90) == 'eau'\n",
    "assert determinerEtatEau(100) == 'vapeur'\n",
    "assert determinerEtatEau(115) == 'vapeur'"
   ]
  },
  {
   "cell_type": "code",
   "execution_count": null,
   "metadata": {},
   "outputs": [],
   "source": []
  }
 ],
 "metadata": {
  "kernelspec": {
   "display_name": "Python 3",
   "language": "python",
   "name": "python3"
  },
  "language_info": {
   "codemirror_mode": {
    "name": "ipython",
    "version": 3
   },
   "file_extension": ".py",
   "mimetype": "text/x-python",
   "name": "python",
   "nbconvert_exporter": "python",
   "pygments_lexer": "ipython3",
   "version": "3.7.7"
  }
 },
 "nbformat": 4,
 "nbformat_minor": 2
}
