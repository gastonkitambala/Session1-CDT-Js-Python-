{
 "cells": [
  {
   "cell_type": "markdown",
   "metadata": {},
   "source": [
    "<img style='margin-right:0' src=\"http://dinfo.ca/logoDptInfo.jpg\" width=300>\n",
    "\n",
    "# Pratique -- manipulation de fichiers\n",
    "---"
   ]
  },
  {
   "cell_type": "markdown",
   "metadata": {},
   "source": [
    "### Problème #1\n",
    "\n",
    "On veut saisir cinq (5) prénoms et les stocker dans un fichier-texte nommé `probleme1.txt`."
   ]
  },
  {
   "cell_type": "code",
   "execution_count": 1,
   "metadata": {},
   "outputs": [
    {
     "name": "stdout",
     "output_type": "stream",
     "text": [
      "Entrez le prénom #1: Luc \n",
      "Entrez le prénom #2: Marco\n",
      "Entrez le prénom #3: Noemie\n",
      "Entrez le prénom #4: Ridha\n",
      "Entrez le prénom #5: Gilles\n"
     ]
    }
   ],
   "source": [
    "with open('probleme1.txt', 'w') as fSortie:\n",
    "    for i in range(5):\n",
    "        prenom = input(\"Entrez le prénom #%i: \" % (i+1) )\n",
    "        fSortie.write(prenom +'\\n')"
   ]
  },
  {
   "cell_type": "markdown",
   "metadata": {},
   "source": [
    "### Problème #2\n",
    "\n",
    "Téléverser (upload) le fichier `atomes.txt` et comptez le nombre d'atomes présents dans ce fichier."
   ]
  },
  {
   "cell_type": "code",
   "execution_count": 3,
   "metadata": {},
   "outputs": [
    {
     "name": "stdout",
     "output_type": "stream",
     "text": [
      "Nombre d'atomes: 105\n"
     ]
    }
   ],
   "source": [
    "with open('atomes.txt', 'r') as fEntree:\n",
    "    print(\"Nombre d'atomes:\", len(fEntree.read().split('\\n')))"
   ]
  },
  {
   "cell_type": "markdown",
   "metadata": {},
   "source": [
    "### Problème #3\n",
    "\n",
    "Créez une fonction pour rechercher le nom de l'atome selon son symbole.\n",
    "\n",
    "Vous devez utiliser la méthode `readline()` pour résoudre ce problème."
   ]
  },
  {
   "cell_type": "code",
   "execution_count": null,
   "metadata": {},
   "outputs": [],
   "source": [
    "def rechercherNomAtome(symbole):\n",
    "    nomAtome = \"** inexistant **\"\n",
    "    with open ('atomes.txt' , 'r') as fEntree:\n",
    "        ligne = fEntree.readline()\n",
    "        while len(ligne) !=0:\n",
    "            if ligne.split()[1] == symbole:\n",
    "                nomAtome = ligne.split()[0]\n",
    "                ligne = fEntree.readline()\n",
    "    return nomAtome"
   ]
  },
  {
   "cell_type": "code",
   "execution_count": null,
   "metadata": {},
   "outputs": [],
   "source": [
    "print( rechercherNomAtome('H') )  # Hydrogene\n",
    "print( rechercherNomAtome('Na') ) # Sodium\n",
    "print( rechercherNomAtome('Lf') ) # inexistant\n",
    "print( rechercherNomAtome('Au') ) # Or"
   ]
  },
  {
   "cell_type": "markdown",
   "metadata": {},
   "source": [
    "### Problème #4\n",
    "\n",
    "Créez un fichier `source.py` qui contient les lignes de code du numéro 3.\n",
    "\n",
    "On veut produire un fichier `sourceNum.txt` qui numérote les lignes du fichier source."
   ]
  },
  {
   "cell_type": "code",
   "execution_count": null,
   "metadata": {},
   "outputs": [],
   "source": [
    "\n",
    "        noLigne = 1\n",
    "\n",
    "            fSortie.write(\"%02d: %s\\n\" % (noLigne, \"---\"))\n",
    "            noLigne += 1"
   ]
  },
  {
   "cell_type": "code",
   "execution_count": null,
   "metadata": {},
   "outputs": [],
   "source": [
    "!cat sourceNum.txt"
   ]
  }
 ],
 "metadata": {
  "kernelspec": {
   "display_name": "Python 3",
   "language": "python",
   "name": "python3"
  },
  "language_info": {
   "codemirror_mode": {
    "name": "ipython",
    "version": 3
   },
   "file_extension": ".py",
   "mimetype": "text/x-python",
   "name": "python",
   "nbconvert_exporter": "python",
   "pygments_lexer": "ipython3",
   "version": "3.7.7"
  }
 },
 "nbformat": 4,
 "nbformat_minor": 2
}
