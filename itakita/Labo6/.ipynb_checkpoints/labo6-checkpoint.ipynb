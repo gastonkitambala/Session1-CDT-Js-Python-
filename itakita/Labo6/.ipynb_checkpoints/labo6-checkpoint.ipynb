{
 "cells": [
  {
   "cell_type": "markdown",
   "metadata": {},
   "source": [
    "Before you turn this problem in, make sure everything runs as expected. First, **restart the kernel** (in the menubar, select Kernel$\\rightarrow$Restart) and then **run all cells** (in the menubar, select Cell$\\rightarrow$Run All).\n",
    "\n",
    "Make sure you fill in any place that says `YOUR CODE HERE` or \"YOUR ANSWER HERE\", as well as your name and collaborators below:"
   ]
  },
  {
   "cell_type": "code",
   "execution_count": null,
   "metadata": {},
   "outputs": [],
   "source": [
    "NAME = \"Gaston Itaka Kitambala\"\n",
    "COLLABORATORS = \"\""
   ]
  },
  {
   "cell_type": "markdown",
   "metadata": {},
   "source": [
    "---"
   ]
  },
  {
   "cell_type": "markdown",
   "metadata": {},
   "source": [
    "<img style='margin-right:0' src=\"http://dinfo.ca/logoDptInfo.jpg\" width=300>\n",
    "\n",
    "# Laboratoire #6 (JavaScript)\n",
    "---"
   ]
  },
  {
   "cell_type": "markdown",
   "metadata": {
    "collapsed": true,
    "deletable": false,
    "editable": false,
    "nbgrader": {
     "cell_type": "markdown",
     "checksum": "4b74c7be011b31e87a5e3f32bf609cbd",
     "grade": false,
     "grade_id": "cell-9fc1028aa78665b1",
     "locked": true,
     "schema_version": 3,
     "solution": false
    }
   },
   "source": [
    "---\n",
    "#### Question #1 (1 point)\n",
    "On souhaite une fonction `determinerMotPlusLong(premierMot, secondMot)` qui déterminer, parmis deux mots fournis en paramètre, celui qui est le plus long des deux.  La fonction **retournera la chaîne de caractères** correspondant à ce mot.\n",
    "\n",
    "Si les deux mots sont de même longueur, on retourne le premier mot."
   ]
  },
  {
   "cell_type": "code",
   "execution_count": 63,
   "metadata": {
    "deletable": false,
    "nbgrader": {
     "cell_type": "code",
     "checksum": "d4c75a986149a7bfc1976643bcc9ab71",
     "grade": false,
     "grade_id": "q1-code",
     "locked": false,
     "schema_version": 3,
     "solution": true
    }
   },
   "outputs": [],
   "source": [
    "function determinerMotPlusLong(premierMot, secondMot) {\n",
    "    var motPlusLong;\n",
    "    if(premierMot.length >= secondMot.length){\n",
    "        motPlusLong = premierMot;\n",
    "    }\n",
    "    else{\n",
    "        motPlusLong = secondMot;\n",
    "    }\n",
    "    return motPlusLong;\n",
    "}"
   ]
  },
  {
   "cell_type": "code",
   "execution_count": 64,
   "metadata": {
    "deletable": false,
    "editable": false,
    "nbgrader": {
     "cell_type": "code",
     "checksum": "53a72e5bf15a5c7dde61f42820878f19",
     "grade": true,
     "grade_id": "q1-tests",
     "locked": true,
     "points": 1,
     "schema_version": 3,
     "solution": false
    }
   },
   "outputs": [],
   "source": [
    "var assert = require('assert');\n",
    "// Validations\n",
    "assert(determinerMotPlusLong('copain', 'ami') === 'copain', 'Problème 1re validation');\n",
    "assert(determinerMotPlusLong('pair', 'impair') === 'impair', 'Problème 2e validation');\n",
    "assert(determinerMotPlusLong('octet', 'linux') === 'octet', 'Problème 3e validation');\n",
    "assert(determinerMotPlusLong('linux', 'octet') === 'linux', 'Problème 4e validation');"
   ]
  },
  {
   "cell_type": "markdown",
   "metadata": {
    "collapsed": true,
    "deletable": false,
    "editable": false,
    "nbgrader": {
     "cell_type": "markdown",
     "checksum": "a4401c10b2bf9af4fdd15ab266c7fabc",
     "grade": false,
     "grade_id": "cell-2b2f135fead87d85",
     "locked": true,
     "schema_version": 3,
     "solution": false
    }
   },
   "source": [
    "---\n",
    "#### Question #2 (1 point)\n",
    "\n",
    "Dans l'armée, les grades suivants sont utilisés:\n",
    "* Cpl : Caporal\n",
    "* Sgt : Sergent\n",
    "* Slt : Sous-lieutenant\n",
    "* Lt  : Lieutenant\n",
    "* Capt : Capitaine\n",
    "\n",
    "Par exemple:\n",
    "\n",
    "- Slt Adam Bernard\n",
    "- Capt Charles Demers\n",
    "\n",
    "Définissez une fonction `determinerGradeMilitaire(titre)` qui permet de retourner le grade militaire selon l'abréviation qui débute le titre.\n",
    "\n",
    "Ex: \n",
    "* `Slt Adam Bernard` retourne `Sous-lieutenant`\n",
    "* `Capt Charles Demers` retourne `Capitaine`\n",
    "\n",
    "Lorsque le titre ne débute par ni l'un, ni l'autre, il faut retourner \"Soldat\"."
   ]
  },
  {
   "cell_type": "code",
   "execution_count": 65,
   "metadata": {
    "deletable": false,
    "nbgrader": {
     "cell_type": "code",
     "checksum": "13e9f56b8eddf9f593a7be2e9228655d",
     "grade": false,
     "grade_id": "q2-code",
     "locked": false,
     "schema_version": 3,
     "solution": true
    }
   },
   "outputs": [],
   "source": [
    "function determinerGradeMilitaire(titre) {\n",
    "    var grade;\n",
    "    if(titre.startsWith(\"Cpl\")){\n",
    "        grade = \"Caporal\";\n",
    "    }\n",
    "    else if(titre.startsWith(\"Sgt\")){\n",
    "        grade = \"Sergent\";\n",
    "    }\n",
    "    else if(titre.startsWith(\"Slt\")){\n",
    "        grade = \"Sous-lieutenant\";\n",
    "    }\n",
    "    else if(titre.startsWith(\"Lt\")){\n",
    "        grade = \"Lieutenant\";\n",
    "    }\n",
    "    else if(titre.startsWith(\"Capt\")){\n",
    "        grade = \"Capitaine\";\n",
    "    }\n",
    "    else{\n",
    "        grade = \"Soldat\";\n",
    "    }\n",
    "    return grade;\n",
    "}"
   ]
  },
  {
   "cell_type": "code",
   "execution_count": 66,
   "metadata": {
    "deletable": false,
    "editable": false,
    "nbgrader": {
     "cell_type": "code",
     "checksum": "077c4ddc2c5a3f1aa47502c11809f0b8",
     "grade": true,
     "grade_id": "q2-tests",
     "locked": true,
     "points": 1,
     "schema_version": 3,
     "solution": false
    }
   },
   "outputs": [],
   "source": [
    "var assert = require('assert');\n",
    "// Validations\n",
    "assert(determinerGradeMilitaire('Cpl Adam Bernard') === 'Caporal', 'Probleme Cpl');\n",
    "assert(determinerGradeMilitaire('Sgt Charles Demers') === 'Sergent', 'Probleme Sgt');\n",
    "assert(determinerGradeMilitaire('Slt Eric Fillion') === 'Sous-lieutenant', 'Probleme Slt');\n",
    "assert(determinerGradeMilitaire('Lt Guylaine Huard') === 'Lieutenant', 'Probleme Lt');\n",
    "assert(determinerGradeMilitaire('Capt Ian Jacob') === 'Capitaine', 'Probleme Capt');\n",
    "assert(determinerGradeMilitaire('Private Kim Labrecque') === 'Soldat', 'Probleme Soldat');\n",
    "assert(determinerGradeMilitaire('Marco Guay') === 'Soldat', 'Probleme Soldat');"
   ]
  },
  {
   "cell_type": "markdown",
   "metadata": {
    "collapsed": true,
    "deletable": false,
    "editable": false,
    "nbgrader": {
     "cell_type": "markdown",
     "checksum": "61225d4659951b936fa0866e6acb21db",
     "grade": false,
     "grade_id": "q3-enonce",
     "locked": true,
     "schema_version": 3,
     "solution": false
    }
   },
   "source": [
    "---\n",
    "#### Question #3 (1 point)\n",
    "\n",
    "On souhaite disposer d'une fonction `compterVoyelles(mot)` qui retourne un nombre entier représentant le nombre de voyelles dans le mot.\n",
    "\n",
    "Les voyelles sont 'a', 'e', 'i', 'o', 'u' et 'y'.  \n",
    "\n",
    "> On ne considère pas les lettres accentuées.<br>\n",
    "  Les lettres peuvent être en majuscule ou en minuscule\n",
    "\n",
    "**Stratégie recommandée:**\n",
    "\n",
    "- Compter le nombre de 'a' du mot et placer dans une variable\n",
    "- Additionner à cette variable le nombre de 'e' du mot \n",
    "- Faire de même pour les autres voyelles\n"
   ]
  },
  {
   "cell_type": "code",
   "execution_count": 67,
   "metadata": {
    "deletable": false,
    "nbgrader": {
     "cell_type": "code",
     "checksum": "12cbbb65d5dbe9dc081bd3540d99d65e",
     "grade": false,
     "grade_id": "q3-code",
     "locked": false,
     "schema_version": 3,
     "solution": true
    }
   },
   "outputs": [],
   "source": [
    "function compterVoyelles(mot) {\n",
    "    var nbVoyelles;\n",
    "    mot = mot.toLowerCase();\n",
    "    nbDesA = mot.split(\"a\").length-1;\n",
    "    nbDesE = mot.split(\"e\").length-1;\n",
    "    nbDesI = mot.split(\"i\").length-1;\n",
    "    nbDesO = mot.split(\"o\").length-1;\n",
    "    nbDesU = mot.split(\"u\").length-1;\n",
    "    nbDesY = mot.split(\"y\").length-1;\n",
    "    nbVoyelles = nbDesA + nbDesE + nbDesI + nbDesO + nbDesU + nbDesY;\n",
    "    return nbVoyelles;\n",
    "}"
   ]
  },
  {
   "cell_type": "code",
   "execution_count": 68,
   "metadata": {
    "deletable": false,
    "editable": false,
    "nbgrader": {
     "cell_type": "code",
     "checksum": "7022c7665aed5eaeac1d8f96f18efb26",
     "grade": true,
     "grade_id": "q3-tests",
     "locked": true,
     "points": 1,
     "schema_version": 3,
     "solution": false
    }
   },
   "outputs": [],
   "source": [
    "var assert = require('assert');\n",
    "// Validations\n",
    "assert(compterVoyelles('Yo-yo') == 4, 'Problème Yo-yo');\n",
    "assert(compterVoyelles('Anticonstitutionnellement') == 10, 'Problème Anticonsitutionnellement');\n",
    "assert(compterVoyelles('aardvark') == 3, 'Problème aardvard');\n",
    "assert(compterVoyelles('IRIS') == 2, 'Problème IRIS');\n",
    "assert(compterVoyelles('galeries') == 4, 'Problème galeries');\n",
    "assert(compterVoyelles('ouistiti') == 5, 'Problème oustiti');\n",
    "assert(compterVoyelles('oiseau') == 5, 'Problème oiseau');\n",
    "assert(compterVoyelles('BRRR') == 0, 'Problème BRRR');"
   ]
  },
  {
   "cell_type": "markdown",
   "metadata": {
    "collapsed": true,
    "deletable": false,
    "editable": false,
    "nbgrader": {
     "cell_type": "markdown",
     "checksum": "bb40943d6fa9dbebd9fba936d9b7e435",
     "grade": false,
     "grade_id": "cell-76906b0279e0d425",
     "locked": true,
     "schema_version": 3,
     "solution": false
    }
   },
   "source": [
    "---\n",
    "#### Question #4 (1 point)\n",
    "\n",
    "Déclarez une fonction `trouverLettreAlphabet(position)` qui retourne la lettre de l'alphabet (majuscule) qui correspond à la position demandée (entre 1 et 26).\n",
    "\n",
    "> Considérez que la position qui sera fournie ne peut être en dehors de la plage (1 à 26).\n",
    "\n",
    "**Stratégie recommandée:**\n",
    "\n",
    "À l'intérieur de la fonction, composez une chaîne de caractères pour toutes les lettres de l'alphabet (dans l'ordre).  Ensuite, recherchez le caractère à la position demandée (attention car les indices débutent à zéro) dans cette grande chaîne."
   ]
  },
  {
   "cell_type": "code",
   "execution_count": 69,
   "metadata": {
    "deletable": false,
    "nbgrader": {
     "cell_type": "code",
     "checksum": "599501c73ae0915adae09daa6f9a4901",
     "grade": false,
     "grade_id": "q4-code",
     "locked": false,
     "schema_version": 3,
     "solution": true
    }
   },
   "outputs": [],
   "source": [
    "function trouverLettreAlphabet(position) {\n",
    "    var alphabet = \"ABCDEFGHIJKLMNOPQRSTUVWXYZ\";\n",
    "    return lettreRetournee = alphabet.charAt(position-1);\n",
    "}"
   ]
  },
  {
   "cell_type": "code",
   "execution_count": 70,
   "metadata": {
    "deletable": false,
    "editable": false,
    "nbgrader": {
     "cell_type": "code",
     "checksum": "091d703385acd786a8776bf68b17ca05",
     "grade": true,
     "grade_id": "q4-tests",
     "locked": true,
     "points": 1,
     "schema_version": 3,
     "solution": false
    }
   },
   "outputs": [],
   "source": [
    "var assert = require('assert');\n",
    "// Validations\n",
    "assert.equal(trouverLettreAlphabet(2),'B', 'Problème position 2');\n",
    "assert.equal(trouverLettreAlphabet(5),'E', 'Problème position 5');\n",
    "assert.equal(trouverLettreAlphabet(25),'Y', 'Problème position 25');\n",
    "assert.equal(trouverLettreAlphabet(26),'Z', 'Problème position 26');\n",
    "assert.equal(trouverLettreAlphabet(1),'A', 'Problème position 1');\n",
    "assert.equal(trouverLettreAlphabet(3),'C', 'Problème position 3');\n",
    "assert.equal(trouverLettreAlphabet(4),'D', 'Problème position 4');\n",
    "assert.equal(trouverLettreAlphabet(6),'F', 'Problème position 6');\n",
    "assert.equal(trouverLettreAlphabet(7),'G', 'Problème position 7');\n",
    "assert.equal(trouverLettreAlphabet(8),'H', 'Problème position 8');\n",
    "assert.equal(trouverLettreAlphabet(9),'I', 'Problème position 9');\n",
    "assert.equal(trouverLettreAlphabet(10),'J', 'Problème position 10');\n",
    "assert.equal(trouverLettreAlphabet(11),'K', 'Problème position 11');\n",
    "assert.equal(trouverLettreAlphabet(12),'L', 'Problème position 12');\n",
    "assert.equal(trouverLettreAlphabet(13),'M', 'Problème position 13');\n",
    "assert.equal(trouverLettreAlphabet(14),'N', 'Problème position 14');\n",
    "assert.equal(trouverLettreAlphabet(15),'O', 'Problème position 15');\n",
    "assert.equal(trouverLettreAlphabet(16),'P', 'Problème position 16');\n",
    "assert.equal(trouverLettreAlphabet(17),'Q', 'Problème position 17');\n",
    "assert.equal(trouverLettreAlphabet(18),'R', 'Problème position 18');\n",
    "assert.equal(trouverLettreAlphabet(19),'S', 'Problème position 19');\n",
    "assert.equal(trouverLettreAlphabet(20),'T', 'Problème position 20');\n",
    "assert.equal(trouverLettreAlphabet(21),'U', 'Problème position 21');\n",
    "assert.equal(trouverLettreAlphabet(22),'V', 'Problème position 22');\n",
    "assert.equal(trouverLettreAlphabet(23),'W', 'Problème position 23');\n",
    "assert.equal(trouverLettreAlphabet(24),'X', 'Problème position 24');"
   ]
  },
  {
   "cell_type": "markdown",
   "metadata": {
    "collapsed": true,
    "deletable": false,
    "editable": false,
    "nbgrader": {
     "cell_type": "markdown",
     "checksum": "6d23def77efb29ec0a8fc2e380783e85",
     "grade": false,
     "grade_id": "cell-592e49d23af69e7d",
     "locked": true,
     "schema_version": 3,
     "solution": false
    }
   },
   "source": [
    "---\n",
    "#### Question #5 (1 point)\n",
    "\n",
    "Déclarez une fonction `trouverPositionAlphabet(lettre)` qui retourne la position dans l'alphabet de la lettre donnée en paramètre.\n",
    "\n",
    "> Considérez que la lettre fournie peut être en minuscule ou en majuscule.<br>La lettre est obligatoirement une des 26 lettres de l'alphabet.\n",
    "\n",
    "**Stratégie recommandée:**\n",
    "\n",
    "À l'intérieur de la fonction, composez une chaîne de caractères pour toutes les lettres de l'alphabet (dans l'ordre).  Ensuite, recherchez la position dans la chaîne.  ATTENTION car la première lettre ('A') doit retourner la position 1 (et non pas la position 0)."
   ]
  },
  {
   "cell_type": "code",
   "execution_count": 71,
   "metadata": {
    "deletable": false,
    "nbgrader": {
     "cell_type": "code",
     "checksum": "df209770cfb2f9ae20a24e70f7cbd98c",
     "grade": false,
     "grade_id": "q5-code",
     "locked": false,
     "schema_version": 3,
     "solution": true
    }
   },
   "outputs": [],
   "source": [
    "function trouverPositionAlphabet(lettre) {\n",
    "    lettre = lettre.toLowerCase();\n",
    "    alphabet = \"abcdefghijklmnopqrstuvwxyz\";\n",
    "    position = alphabet.indexOf(lettre);\n",
    "    return position + 1;\n",
    "}"
   ]
  },
  {
   "cell_type": "code",
   "execution_count": 72,
   "metadata": {
    "deletable": false,
    "editable": false,
    "nbgrader": {
     "cell_type": "code",
     "checksum": "183f22995ec3bb2161065533c6bdbd58",
     "grade": true,
     "grade_id": "q5-tests",
     "locked": true,
     "points": 1,
     "schema_version": 3,
     "solution": false
    }
   },
   "outputs": [],
   "source": [
    "var assert = require('assert');\n",
    "// Validations\n",
    "assert.equal(trouverPositionAlphabet('A'), 1, 'Problème A');\n",
    "assert.equal(trouverPositionAlphabet('B'), 2, 'Problème B');\n",
    "assert.equal(trouverPositionAlphabet('C'), 3, 'Problème C');\n",
    "assert.equal(trouverPositionAlphabet('D'), 4, 'Problème D');\n",
    "assert.equal(trouverPositionAlphabet('E'), 5, 'Problème E');\n",
    "assert.equal(trouverPositionAlphabet('F'), 6, 'Problème F');\n",
    "assert.equal(trouverPositionAlphabet('G'), 7, 'Problème G');\n",
    "assert.equal(trouverPositionAlphabet('H'), 8, 'Problème H');\n",
    "assert.equal(trouverPositionAlphabet('I'), 9, 'Problème I');\n",
    "assert.equal(trouverPositionAlphabet('J'), 10, 'Problème J');\n",
    "assert.equal(trouverPositionAlphabet('K'), 11, 'Problème K');\n",
    "assert.equal(trouverPositionAlphabet('L'), 12, 'Problème L');\n",
    "assert.equal(trouverPositionAlphabet('M'), 13, 'Problème M');\n",
    "assert.equal(trouverPositionAlphabet('N'), 14, 'Problème N');\n",
    "assert.equal(trouverPositionAlphabet('O'), 15, 'Problème O');\n",
    "assert.equal(trouverPositionAlphabet('P'), 16, 'Problème P');\n",
    "assert.equal(trouverPositionAlphabet('Q'), 17, 'Problème Q');\n",
    "assert.equal(trouverPositionAlphabet('R'), 18, 'Problème R');\n",
    "assert.equal(trouverPositionAlphabet('S'), 19, 'Problème S');\n",
    "assert.equal(trouverPositionAlphabet('T'), 20, 'Problème T');\n",
    "assert.equal(trouverPositionAlphabet('U'), 21, 'Problème U');\n",
    "assert.equal(trouverPositionAlphabet('V'), 22, 'Problème V');\n",
    "assert.equal(trouverPositionAlphabet('W'), 23, 'Problème W');\n",
    "assert.equal(trouverPositionAlphabet('X'), 24, 'Problème X');\n",
    "assert.equal(trouverPositionAlphabet('Y'), 25, 'Problème Y');\n",
    "assert.equal(trouverPositionAlphabet('Z'), 26, 'Problème Z');\n",
    "\n",
    "assert.equal(trouverPositionAlphabet('a'), 1, 'Problème a');\n",
    "assert.equal(trouverPositionAlphabet('b'), 2, 'Problème b');\n",
    "assert.equal(trouverPositionAlphabet('c'), 3, 'Problème c');\n",
    "assert.equal(trouverPositionAlphabet('d'), 4, 'Problème d');\n",
    "assert.equal(trouverPositionAlphabet('e'), 5, 'Problème e');\n",
    "assert.equal(trouverPositionAlphabet('f'), 6, 'Problème f');\n",
    "assert.equal(trouverPositionAlphabet('g'), 7, 'Problème g');\n",
    "assert.equal(trouverPositionAlphabet('h'), 8, 'Problème h');\n",
    "assert.equal(trouverPositionAlphabet('i'), 9, 'Problème i');\n",
    "assert.equal(trouverPositionAlphabet('j'), 10, 'Problème j');\n",
    "assert.equal(trouverPositionAlphabet('k'), 11, 'Problème k');\n",
    "assert.equal(trouverPositionAlphabet('l'), 12, 'Problème l');\n",
    "assert.equal(trouverPositionAlphabet('m'), 13, 'Problème m');\n",
    "assert.equal(trouverPositionAlphabet('n'), 14, 'Problème n');\n",
    "assert.equal(trouverPositionAlphabet('o'), 15, 'Problème o');\n",
    "assert.equal(trouverPositionAlphabet('p'), 16, 'Problème p');\n",
    "assert.equal(trouverPositionAlphabet('q'), 17, 'Problème q');\n",
    "assert.equal(trouverPositionAlphabet('r'), 18, 'Problème r');\n",
    "assert.equal(trouverPositionAlphabet('s'), 19, 'Problème s');\n",
    "assert.equal(trouverPositionAlphabet('t'), 20, 'Problème t');\n",
    "assert.equal(trouverPositionAlphabet('u'), 21, 'Problème u');\n",
    "assert.equal(trouverPositionAlphabet('v'), 22, 'Problème v');\n",
    "assert.equal(trouverPositionAlphabet('w'), 23, 'Problème w');\n",
    "assert.equal(trouverPositionAlphabet('x'), 24, 'Problème x');\n",
    "assert.equal(trouverPositionAlphabet('y'), 25, 'Problème y');\n",
    "assert.equal(trouverPositionAlphabet('z'), 26, 'Problème z');"
   ]
  },
  {
   "cell_type": "markdown",
   "metadata": {
    "collapsed": true,
    "deletable": false,
    "editable": false,
    "nbgrader": {
     "cell_type": "markdown",
     "checksum": "fca0fa1bdb948ac84c127746a66952d9",
     "grade": false,
     "grade_id": "cell-8c627b11f5f42d62",
     "locked": true,
     "schema_version": 3,
     "solution": false
    }
   },
   "source": [
    "---\n",
    "#### Question #6 (1 point)\n",
    "\n",
    "Déclarez une fonction `masquerVoyelles(mot)` qui retourne une chaîne où les voyelles ('a','e','i','o','u' et 'y') sont remplacées par un souligné.\n",
    "\n",
    "Exemple:\n",
    "\n",
    "> \"voyelles\" --> \"v___ll_s\"\n",
    "\n",
    "*Considérez* que le mot reçu est **toujours en minuscules**.  \n",
    "\n",
    "On ne considère que les voyelles sans accent.\n",
    "\n",
    "**Stratégie recommandée:**\n",
    "\n",
    "* Remplacez tous les 'a' du mot et placer le résultat dans une nouvelle variable\n",
    "* Remplacez ensuite les 'e' présents dans cette nouvelle variable; placez le résultat à nouveau dans cette variable (remplace l'ancien contenu)\n",
    "* Faites la même chose pour les autres voyelles\n",
    "\n",
    "> Vous devrez utiliser le remplacement avec expression régulière tel que donné en exemple dans le cours."
   ]
  },
  {
   "cell_type": "code",
   "execution_count": 111,
   "metadata": {
    "deletable": false,
    "nbgrader": {
     "cell_type": "code",
     "checksum": "6c0e0c91bb97398a7366cfc02ad60a2e",
     "grade": false,
     "grade_id": "q6-code",
     "locked": false,
     "schema_version": 3,
     "solution": true
    }
   },
   "outputs": [],
   "source": [
    "function masquerVoyelles(mot) {\n",
    "    mot = mot.toLowerCase();\n",
    "    nouveauMot = mot.replace(/a/g , '_');\n",
    "    nouveauMot = nouveauMot.replace(/e/g,\"_\");\n",
    "    nouveauMot = nouveauMot.replace(/i/g,\"_\");\n",
    "    nouveauMot = nouveauMot.replace(/o/g,\"_\");\n",
    "    nouveauMot = nouveauMot.replace(/u/g,\"_\");\n",
    "    nouveauMot = nouveauMot.replace(/y/g,\"_\");\n",
    "    return nouveauMot;\n",
    "}"
   ]
  },
  {
   "cell_type": "code",
   "execution_count": 112,
   "metadata": {
    "deletable": false,
    "editable": false,
    "nbgrader": {
     "cell_type": "code",
     "checksum": "11442f7f604aa4ca05731d38277535aa",
     "grade": true,
     "grade_id": "q6-tests",
     "locked": true,
     "points": 1,
     "schema_version": 3,
     "solution": false
    }
   },
   "outputs": [],
   "source": [
    "var assert = require('assert');\n",
    "// Validations\n",
    "assert.equal(masquerVoyelles('yo-yo'), '__-__', 'Problème avec yo-yo');\n",
    "assert.equal(masquerVoyelles('anticonstitutionnellement'), '_nt_c_nst_t_t__nn_ll_m_nt', 'Problème avec anticonstitutionnellement');\n",
    "assert.equal(masquerVoyelles('aardvark'), '__rdv_rk', 'Problème avec aardvard');\n",
    "assert.equal(masquerVoyelles('iris'), '_r_s', 'Problème avec iris');\n",
    "assert.equal(masquerVoyelles('galeries'), 'g_l_r__s', 'Problème avec galeries');\n",
    "assert.equal(masquerVoyelles('ouistiti'), '___st_t_', 'Problème avec oustiti');\n",
    "assert.equal(masquerVoyelles('oiseau'), '__s___', 'Problème avec oiseau');\n",
    "assert.equal(masquerVoyelles('brrr'), 'brrr', 'Problème avec brrr');"
   ]
  },
  {
   "cell_type": "markdown",
   "metadata": {
    "collapsed": true,
    "deletable": false,
    "editable": false,
    "nbgrader": {
     "cell_type": "markdown",
     "checksum": "b768aa8e20defc5eeac0ac511d570816",
     "grade": false,
     "grade_id": "cell-b7da60d8f9056061",
     "locked": true,
     "schema_version": 3,
     "solution": false
    }
   },
   "source": [
    "---\n",
    "#### Question #7 (1 point)\n",
    "\n",
    "La fonction `encadrer(mot)` permet d'**afficher** le mot entouré d'un cadre composée d'astéristiques.\n",
    "\n",
    "Par exemple, `encadrer('informatique')` affichera:\n",
    "\n",
    "```\n",
    "****************\n",
    "* informatique *\n",
    "****************\n",
    "```\n",
    "\n",
    "**Stratégie possible:**\n",
    "\n",
    "* Afficher un astéristique `n` fois, où `n` est la longueur de la chaîne + 4\n",
    "* Afficher le mot, précédé d'un astérisque et d'un espace, puis suivi d'un espace et d'un astérisque\n",
    "* Affichez la même ligne d'astérisque qu'au début"
   ]
  },
  {
   "cell_type": "code",
   "execution_count": 87,
   "metadata": {
    "deletable": false,
    "nbgrader": {
     "cell_type": "code",
     "checksum": "7655146775787acd32f4afca6613725f",
     "grade": true,
     "grade_id": "q7-code",
     "locked": false,
     "points": 1,
     "schema_version": 3,
     "solution": true
    }
   },
   "outputs": [],
   "source": [
    "function encadrer(mot) {\n",
    "    console.log(\"*\".repeat(mot.length + 4));\n",
    "    console.log(\"* \" + mot + \" *\");\n",
    "    console.log(\"*\".repeat(mot.length + 4));\n",
    "}"
   ]
  },
  {
   "cell_type": "code",
   "execution_count": 88,
   "metadata": {},
   "outputs": [
    {
     "name": "stdout",
     "output_type": "stream",
     "text": [
      "****************\n",
      "* informatique *\n",
      "****************\n",
      "****************************\n",
      "* anticonsitutionnellement *\n",
      "****************************\n",
      "****\n",
      "*  *\n",
      "****\n"
     ]
    }
   ],
   "source": [
    "encadrer('informatique')\n",
    "encadrer('anticonsitutionnellement')\n",
    "encadrer('')"
   ]
  },
  {
   "cell_type": "markdown",
   "metadata": {
    "collapsed": true,
    "deletable": false,
    "editable": false,
    "nbgrader": {
     "cell_type": "markdown",
     "checksum": "1a723c432b0056a61e0c7745bd522cb1",
     "grade": false,
     "grade_id": "cell-49c7a35dda0156ae",
     "locked": true,
     "schema_version": 3,
     "solution": false
    }
   },
   "source": [
    "---\n",
    "#### Question #8 (1 point)\n",
    "\n",
    "Définissez une fonction `extraireExtension(nomFichier)` qui permet d'extraire l'extension et de la retourner (chaîne de caractères).\n",
    "\n",
    "> Considérez que le nom du fichier est toujours valide et possède une extension.\n",
    "\n",
    "Les extensions peuvent être de longueurs différentes.  La stratégie à appliquer est de rechercher à partir de la droite pour trouver la position du point.  Ensuite, faire un découpage de la chaîne après la position du point trouvé jusqu'à la fin de la chaîne."
   ]
  },
  {
   "cell_type": "code",
   "execution_count": 89,
   "metadata": {
    "deletable": false,
    "nbgrader": {
     "cell_type": "code",
     "checksum": "6746afd68bd0bd436eb1f5bf56facfe9",
     "grade": false,
     "grade_id": "q8-code",
     "locked": false,
     "schema_version": 3,
     "solution": true
    }
   },
   "outputs": [],
   "source": [
    "function extraireExtension(nomFichier) {\n",
    "    positionPoint = nomFichier.indexOf(\".\");\n",
    "    extFichier = nomFichier.slice(positionPoint + 1,);\n",
    "    return extFichier;\n",
    "}"
   ]
  },
  {
   "cell_type": "code",
   "execution_count": 90,
   "metadata": {
    "deletable": false,
    "editable": false,
    "nbgrader": {
     "cell_type": "code",
     "checksum": "eada0a85873f7bd0ace51271ecb9849a",
     "grade": true,
     "grade_id": "q8-tests",
     "locked": true,
     "points": 1,
     "schema_version": 3,
     "solution": false
    }
   },
   "outputs": [],
   "source": [
    "var assert = require('assert');\n",
    "// Validations\n",
    "assert.equal(extraireExtension('monalisa.gif'), 'gif', 'Problème monalisa.gif');\n",
    "assert.equal(extraireExtension('cv.docx'), 'docx', 'Problème cv.docx');\n",
    "assert.equal(extraireExtension('logo.png'), 'png', 'Problème logo.png');\n",
    "assert.equal(extraireExtension('todo.txt'), 'txt', 'Problème todo.txt');\n",
    "assert.equal(extraireExtension('planCours.md'), 'md', 'Problème planCours.md');\n",
    "assert.equal(extraireExtension('programme.py'), 'py', 'Problème programme.py');\n",
    "assert.equal(extraireExtension('laboratoire.ipynb'), 'ipynb', 'Problème laboratoire.ipynb');"
   ]
  },
  {
   "cell_type": "markdown",
   "metadata": {
    "collapsed": true,
    "deletable": false,
    "editable": false,
    "nbgrader": {
     "cell_type": "markdown",
     "checksum": "4dc0ce1bc47552b266dd3bff44f3756f",
     "grade": false,
     "grade_id": "cell-9299ed843fc05327",
     "locked": true,
     "schema_version": 3,
     "solution": false
    }
   },
   "source": [
    "---\n",
    "#### Question #9 (1 point)\n",
    "\n",
    "Définissez une fonction `extraireNomServeur(url)` qui permet d'extraire le nom d'un serveur (hôte) et de le retourner (chaîne de caractères).\n",
    "\n",
    "> - Considérez que l'URL représente une adresse Web valide (protocole://hote/chemin).\n",
    "- Le protocole est de longueur variable; il est délimité par \"://\"\n",
    "- Considérez que les séparateurs sont toujours des barres obliques (slash '/') inclinées vers la droite; jamais des barres obliques inversées (backslash '\\')\n",
    "- Il y aura toujours une barre oblique (slash '/') après le nom de l'hôte\n",
    "\n",
    "**Stratégie:**\n",
    "\n",
    "* Trouver la position du deux-points (:)\n",
    "* Extraire la sous-chaîne débutant deux positions plus loin que le deux-points (:) jusqu'à la fin de la chaîne; placez ce résultat dans une variable\n",
    "* Extraire la sous-chaîne (de la variable) du début jusqu'à la première barre oblique (slash '/')"
   ]
  },
  {
   "cell_type": "code",
   "execution_count": 97,
   "metadata": {
    "deletable": false,
    "nbgrader": {
     "cell_type": "code",
     "checksum": "e11904987c7c761770be5f4d253f3a07",
     "grade": false,
     "grade_id": "q9-code",
     "locked": false,
     "schema_version": 3,
     "solution": true
    }
   },
   "outputs": [],
   "source": [
    "function extraireNomServeur(url) {\n",
    "    posiDeuxpoints = url.indexOf(\":\");\n",
    "    nveauUrl = url.slice(posiDeuxpoints +3,);\n",
    "    nomServeur = nveauUrl.slice(0,nveauUrl.indexOf(\"/\"));\n",
    "    return nomServeur;\n",
    "}"
   ]
  },
  {
   "cell_type": "code",
   "execution_count": 98,
   "metadata": {
    "deletable": false,
    "editable": false,
    "nbgrader": {
     "cell_type": "code",
     "checksum": "0a2c0aeaa8fb080053755c9da2d7b17a",
     "grade": true,
     "grade_id": "q9-tests",
     "locked": true,
     "points": 1,
     "schema_version": 3,
     "solution": false
    }
   },
   "outputs": [],
   "source": [
    "var assert = require('assert');\n",
    "// Validations\n",
    "assert.equal(extraireNomServeur('http://www.cegepthetford.ca/'), 'www.cegepthetford.ca', 'Problème 1er url');\n",
    "assert.equal(extraireNomServeur('file://area51.mil/ultra/secret.txt'), 'area51.mil', 'Problème 2e url');\n",
    "assert.equal(extraireNomServeur('https://c2z6.dinfo.cegepthetford.ca/examen1/e1.ipynb'), 'c2z6.dinfo.cegepthetford.ca', 'Problème 3e url');"
   ]
  },
  {
   "cell_type": "markdown",
   "metadata": {
    "collapsed": true,
    "deletable": false,
    "editable": false,
    "nbgrader": {
     "cell_type": "markdown",
     "checksum": "77cc1e6671b189fca90b3ca38ffd8958",
     "grade": false,
     "grade_id": "cell-75f28bcd1c6fec19",
     "locked": true,
     "schema_version": 3,
     "solution": false
    }
   },
   "source": [
    "---\n",
    "#### Question #10 (1 point)\n",
    "\n",
    "Définissez une fonction `extraireProtocole(uri)` qui permet d'extraire le protocole URI (scheme) et de le retourner (chaîne de caractères).\n",
    "\n",
    "> - Considérez que l'URI est correctement formée (débute par `protocole:___`)\n",
    "- Le protocole est de longueur variable; il est délimité par \":\"\n",
    "\n",
    "**Stratégie:**\n",
    "\n",
    "* Extraire la chaîne jusqu'à la première occurrence du deux-point"
   ]
  },
  {
   "cell_type": "code",
   "execution_count": 104,
   "metadata": {
    "deletable": false,
    "nbgrader": {
     "cell_type": "code",
     "checksum": "392f028fd7d999eaa1e4fc855b29d3ea",
     "grade": false,
     "grade_id": "q10-code",
     "locked": false,
     "schema_version": 3,
     "solution": true
    }
   },
   "outputs": [],
   "source": [
    "function extraireProtocole(uri) {\n",
    "    protocoleUri = uri.slice(0, (uri.indexOf(\":\")));\n",
    "    return protocoleUri;\n",
    "}"
   ]
  },
  {
   "cell_type": "code",
   "execution_count": 105,
   "metadata": {
    "deletable": false,
    "editable": false,
    "nbgrader": {
     "cell_type": "code",
     "checksum": "da263a6d714fca49dc823c3c58134c87",
     "grade": true,
     "grade_id": "q10-tests",
     "locked": true,
     "points": 1,
     "schema_version": 3,
     "solution": false
    }
   },
   "outputs": [],
   "source": [
    "var assert = require('assert');\n",
    "// Validations\n",
    "assert.equal(extraireProtocole('http://www.cegepthetford.ca/'), 'http');\n",
    "assert.equal(extraireProtocole('file://area51.mil/ultra/secret.txt'), 'file');\n",
    "assert.equal(extraireProtocole('https://c2z6.dinfo.cegepthetford.ca/examen1/e1.ipynb'), 'https');\n",
    "assert.equal(extraireProtocole('tel://418-338-8591'), 'tel');\n",
    "assert.equal(extraireProtocole('mailto:mguay@cegepthetford.ca'), 'mailto');"
   ]
  },
  {
   "cell_type": "code",
   "execution_count": null,
   "metadata": {},
   "outputs": [],
   "source": []
  }
 ],
 "metadata": {
  "kernelspec": {
   "display_name": "Javascript (Node.js)",
   "language": "javascript",
   "name": "javascript"
  },
  "language_info": {
   "file_extension": ".js",
   "mimetype": "application/javascript",
   "name": "javascript",
   "version": "10.13.0"
  }
 },
 "nbformat": 4,
 "nbformat_minor": 2
}
