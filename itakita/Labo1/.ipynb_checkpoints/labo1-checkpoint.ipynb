{
 "cells": [
  {
   "cell_type": "markdown",
   "metadata": {},
   "source": [
    "Before you turn this problem in, make sure everything runs as expected. First, **restart the kernel** (in the menubar, select Kernel$\\rightarrow$Restart) and then **run all cells** (in the menubar, select Cell$\\rightarrow$Run All).\n",
    "\n",
    "Make sure you fill in any place that says `YOUR CODE HERE` or \"YOUR ANSWER HERE\", as well as your name and collaborators below:"
   ]
  },
  {
   "cell_type": "code",
   "execution_count": null,
   "metadata": {},
   "outputs": [],
   "source": [
    "NAME = \"Gaston Itaka Kitambala\"\n",
    "COLLABORATORS = \"\""
   ]
  },
  {
   "cell_type": "markdown",
   "metadata": {},
   "source": [
    "---"
   ]
  },
  {
   "cell_type": "markdown",
   "metadata": {
    "deletable": false,
    "editable": false,
    "nbgrader": {
     "cell_type": "markdown",
     "checksum": "58ddb23b6e32e41e318fd7a91624c81c",
     "grade": false,
     "grade_id": "labo1",
     "locked": true,
     "schema_version": 3,
     "solution": false
    }
   },
   "source": [
    "<img style='margin-right:0' src=\"http://dinfo.ca/logoDptInfo.jpg\" width=300>\n",
    "\n",
    "# Laboratoire #1\n",
    "---"
   ]
  },
  {
   "cell_type": "markdown",
   "metadata": {
    "deletable": false,
    "editable": false,
    "nbgrader": {
     "cell_type": "markdown",
     "checksum": "9ca5979022507667e4d2ae6402a64788",
     "grade": false,
     "grade_id": "cell-1e89e756459307ba",
     "locked": true,
     "schema_version": 3,
     "solution": false
    }
   },
   "source": [
    "#### Préambule (0.5 point)\n",
    "Déclarez deux (2) variables nommées: \n",
    "    - username (type: chaîne de caractères, ex: adabern pour Adam Bernard)\n",
    "    - age (type: numérique entier)\n",
    "en donnant votre propre `username` ainsi que votre `age`.\n",
    "\n",
    "> P.S.: Vous pouvez mettre `15` ans si vous ne voulez pas dévoiler votre âge réel."
   ]
  },
  {
   "cell_type": "code",
   "execution_count": 5,
   "metadata": {
    "deletable": false,
    "nbgrader": {
     "cell_type": "code",
     "checksum": "9769b6e27d85e2c9d3b6b902d580703e",
     "grade": false,
     "grade_id": "cell-126d9aad32d53cfd",
     "locked": false,
     "schema_version": 3,
     "solution": true
    }
   },
   "outputs": [],
   "source": [
    "# VOTRE CODIFICATION (et supprimer la ligne suivante\n",
    "username = 'itakita'\n",
    "age = 22"
   ]
  },
  {
   "cell_type": "code",
   "execution_count": 6,
   "metadata": {
    "deletable": false,
    "editable": false,
    "nbgrader": {
     "cell_type": "code",
     "checksum": "a5537bcf91eaa977e144664bf85f5149",
     "grade": true,
     "grade_id": "preambule-correct",
     "locked": false,
     "points": 0.5,
     "schema_version": 3,
     "solution": false
    }
   },
   "outputs": [],
   "source": [
    "## Validations\n",
    "assert 'username' in globals(), 'Première variable mal définie'\n",
    "assert 'age' in globals(), 'Seconde variable mal définie'\n",
    "assert isinstance(username,str), 'username n\\'est pas une chaîne de caractères'\n",
    "assert len(username.strip()) == 7, 'Le username doit avoir sept (7) lettres'\n",
    "assert isinstance(age, int), 'Votre âge doit être de type numérique entier'\n",
    "assert 15 <= age <= 60, 'Valeur invalide pour votre âge'"
   ]
  },
  {
   "cell_type": "markdown",
   "metadata": {
    "deletable": false,
    "editable": false,
    "nbgrader": {
     "cell_type": "markdown",
     "checksum": "d92c5b6da01e62176cc74a05e741473f",
     "grade": false,
     "grade_id": "cell-10e12d92d26e6833",
     "locked": true,
     "schema_version": 3,
     "solution": false
    }
   },
   "source": [
    "---\n",
    "#### Question #1 (1 point)\n",
    "Déclarez une fonction nommée `doubler` qui RETOURNE le nombre passé en paramètre (`nb`) multiplié par 2.\n",
    "\n",
    "> Comme la fonction **retourne** la réponse calculée, il n'y a pas de `print` dans cette fonction."
   ]
  },
  {
   "cell_type": "code",
   "execution_count": 7,
   "metadata": {
    "deletable": false,
    "nbgrader": {
     "cell_type": "code",
     "checksum": "cf288c91ebb29ab7bf6603eb6ac31082",
     "grade": false,
     "grade_id": "q1",
     "locked": false,
     "schema_version": 3,
     "solution": true
    }
   },
   "outputs": [],
   "source": [
    "# VOTRE CODIFICATION (et supprimer la ligne suivante\n",
    "\n",
    "def doubler(nb) :\n",
    "    return nb * 2\n"
   ]
  },
  {
   "cell_type": "code",
   "execution_count": 8,
   "metadata": {
    "deletable": false,
    "editable": false,
    "nbgrader": {
     "cell_type": "code",
     "checksum": "86d125127629a22eb1a8556f46269784",
     "grade": true,
     "grade_id": "q1-validation",
     "locked": true,
     "points": 1,
     "schema_version": 3,
     "solution": false
    }
   },
   "outputs": [],
   "source": [
    "## Validations\n",
    "assert 'doubler' in globals(), 'Aucune fonction ne porte le nom `doubler`'\n",
    "assert callable(doubler), '`doubler` n\\'est pas une fonction'\n",
    "# import inspect\n",
    "# assert len(inspect.signature(doubler).parameters) == 1, 'La fonction doit avoir un seul paramètre'\n",
    "# assert list(inspect.signature(doubler).parameters.keys())[0] == 'nb', 'Le paramètre doit porter le nom `nb`'\n",
    "assert doubler(1) == 2, 'Le double de 1 doit donner 2'\n",
    "assert doubler(-5) == -10, 'Le double de -5 doit donner -10'\n",
    "assert doubler(0) == 0, 'Le double de 0 doit donner 0'\n",
    "assert doubler(128) == 256, 'Le double de 128 doit donner 256'"
   ]
  },
  {
   "cell_type": "markdown",
   "metadata": {
    "deletable": false,
    "editable": false,
    "nbgrader": {
     "cell_type": "markdown",
     "checksum": "16a7ba98d596885e2b88cf982f51ecc9",
     "grade": false,
     "grade_id": "cell--23232039",
     "locked": true,
     "schema_version": 3,
     "solution": false
    }
   },
   "source": [
    "---\n",
    "#### Question #2 (0.5 point)\n",
    "Affichez le double de `21` en invoquant la fonction `doubler` que vous avez défini.\n",
    "\n",
    "> `print( ___________(___) )`\n",
    "\n",
    "La réponse attendue est `42`"
   ]
  },
  {
   "cell_type": "code",
   "execution_count": 9,
   "metadata": {
    "deletable": false,
    "nbgrader": {
     "cell_type": "code",
     "checksum": "b2d165afe86e0700fdb389d46ea07eee",
     "grade": true,
     "grade_id": "q2",
     "locked": false,
     "points": 0.5,
     "schema_version": 3,
     "solution": true
    }
   },
   "outputs": [
    {
     "name": "stdout",
     "output_type": "stream",
     "text": [
      "42\n"
     ]
    }
   ],
   "source": [
    "# VOTRE CODIFICATION (et supprimer la ligne suivante\n",
    "print(doubler(21))"
   ]
  },
  {
   "cell_type": "markdown",
   "metadata": {
    "deletable": false,
    "editable": false,
    "nbgrader": {
     "cell_type": "markdown",
     "checksum": "5c496cf4a9f1e77e4495e3946603ecba",
     "grade": false,
     "grade_id": "cell-5a4476d37c36138e",
     "locked": true,
     "schema_version": 3,
     "solution": false
    }
   },
   "source": [
    "---\n",
    "#### Question #3 (1 point)\n",
    "Invoquez la fonction `doubler` en fournissant la valeur `36` en paramètre, puis stockez le résultat dans la variable `r1`.  \n",
    "\n",
    "Ensuite, affichez:\n",
    "> Le double de `36` donne `___`\n",
    "\n",
    "où le souligné est remplacé par le contenu de la variable `r1`."
   ]
  },
  {
   "cell_type": "code",
   "execution_count": 10,
   "metadata": {
    "deletable": false,
    "nbgrader": {
     "cell_type": "code",
     "checksum": "ca74e7b235ef748d0d22ba8c329a03db",
     "grade": true,
     "grade_id": "q3",
     "locked": false,
     "points": 0.5,
     "schema_version": 3,
     "solution": true
    }
   },
   "outputs": [
    {
     "name": "stdout",
     "output_type": "stream",
     "text": [
      "Le double de 36 donne 72\n"
     ]
    }
   ],
   "source": [
    "# VOTRE CODIFICATION (et supprimer la ligne suivante\n",
    "r1 = doubler(36)\n",
    "print('Le double de 36 donne %i' %r1)"
   ]
  },
  {
   "cell_type": "code",
   "execution_count": 11,
   "metadata": {
    "deletable": false,
    "editable": false,
    "nbgrader": {
     "cell_type": "code",
     "checksum": "d1139dcf528462a7b19e4ab901012b01",
     "grade": true,
     "grade_id": "q3-validation",
     "locked": false,
     "points": 0.5,
     "schema_version": 3,
     "solution": false
    }
   },
   "outputs": [],
   "source": [
    "## Validations\n",
    "assert 'r1' in globals(), 'La variable `r1` doit être définie'\n",
    "assert r1 == 72, 'La variable `r1` doit contenir la bonne réponse (72)'"
   ]
  },
  {
   "cell_type": "markdown",
   "metadata": {
    "deletable": false,
    "editable": false,
    "nbgrader": {
     "cell_type": "markdown",
     "checksum": "1a25561d0b9df1f9215e534e02e349d5",
     "grade": false,
     "grade_id": "cell-84df60ba949eefca",
     "locked": true,
     "schema_version": 3,
     "solution": false
    }
   },
   "source": [
    "---\n",
    "#### Question #4 (1 point)\n",
    "Déclarez la méthode `tripler` qui additionne le paramètre `valeur` et qui retourn le résultat.  N.B.  Ne pas utiliser l'opérateur de multiplication (astérisque) pour effecter ce calcul.\n",
    "\n",
    "> Au lieu de faire `valeur * 3`, vous devez faire `valeur` plus `valeur` plus `valeur`."
   ]
  },
  {
   "cell_type": "code",
   "execution_count": 12,
   "metadata": {
    "deletable": false,
    "nbgrader": {
     "cell_type": "code",
     "checksum": "d522bac2ee8a8fd1cebae7b653b1bb3a",
     "grade": false,
     "grade_id": "q4",
     "locked": false,
     "schema_version": 3,
     "solution": true
    }
   },
   "outputs": [],
   "source": [
    "# VOTRE CODIFICATION (et supprimer la ligne suivante\n",
    "def tripler(valeur):\n",
    "    return valeur + valeur + valeur"
   ]
  },
  {
   "cell_type": "code",
   "execution_count": 13,
   "metadata": {
    "deletable": false,
    "editable": false,
    "nbgrader": {
     "cell_type": "code",
     "checksum": "d0c8caca1a8f0ccf513252246811a992",
     "grade": true,
     "grade_id": "q4-validation",
     "locked": true,
     "points": 1,
     "schema_version": 3,
     "solution": false
    }
   },
   "outputs": [],
   "source": [
    "## Validations\n",
    "assert 'tripler' in globals(), 'Aucune fonction ne porte le nom `tripler`'\n",
    "assert callable(tripler), '`tripler` n\\'est pas une fonction'\n",
    "# import inspect\n",
    "# assert len(inspect.signature(tripler).parameters) == 1, 'La fonction doit avoir un seul paramètre'\n",
    "# assert list(inspect.signature(tripler).parameters.keys())[0] == 'valeur', 'Le paramètre doit porter le nom `valeur`'\n",
    "assert tripler(1) == 3, 'Le triple de 1 doit donner 3'\n",
    "assert tripler(-5) == -15, 'Le triple de -5 doit donner -15'\n",
    "assert tripler(0) == 0, 'Le triple de 0 doit donner 0'\n",
    "assert tripler(128) == 384, 'Le triple de 128 doit donner 384'"
   ]
  },
  {
   "cell_type": "markdown",
   "metadata": {
    "deletable": false,
    "editable": false,
    "nbgrader": {
     "cell_type": "markdown",
     "checksum": "44ec21656a4e630d8ceedf6758eb0901",
     "grade": false,
     "grade_id": "cell-cf1c19e2c40780b8",
     "locked": true,
     "schema_version": 3,
     "solution": false
    }
   },
   "source": [
    "---\n",
    "#### Question #5 (1 point)\n",
    "Invoquez la fonction `tripler` trois (3) fois avec, successivement, les valeurs 3, 5 et 10.\n",
    "\n",
    "Affichez chaque réponse sous le format:\n",
    "> Le triple de `____` donne `____`\n",
    "\n",
    "en considérant que le premier souligné est remplacé par la valeur à tripler et que le second souligné indique la réponse.\n",
    "\n",
    "**Résultats attendus:**\n",
    "> Le triple de 3 donne 9<br>\n",
    "  Le triple de 5 donne 15<br>\n",
    "  Le triple de 10 donne 30"
   ]
  },
  {
   "cell_type": "code",
   "execution_count": 23,
   "metadata": {
    "deletable": false,
    "nbgrader": {
     "cell_type": "code",
     "checksum": "c7a76b72ffe3e9b74569fd33b373f283",
     "grade": true,
     "grade_id": "q5",
     "locked": false,
     "points": 1,
     "schema_version": 3,
     "solution": true
    }
   },
   "outputs": [
    {
     "name": "stdout",
     "output_type": "stream",
     "text": [
      "Le triple de 3 donne 9\n",
      "Le triple de 5 donne 15\n",
      "Le triple de 10 donne 30\n"
     ]
    }
   ],
   "source": [
    "# VOTRE CODIFICATION (et supprimer la ligne suivante\n",
    "print(\"Le triple de %i donne %i\" % (3, tripler(3)))\n",
    "print(\"Le triple de %i donne %i\" % (5, tripler(5)))\n",
    "print(\"Le triple de %i donne %i\" % (10, tripler(10)))\n"
   ]
  },
  {
   "cell_type": "markdown",
   "metadata": {
    "deletable": false,
    "editable": false,
    "nbgrader": {
     "cell_type": "markdown",
     "checksum": "5dc1251df51d6ad5e147b2b041483b86",
     "grade": false,
     "grade_id": "cell-f239284f13c150ad",
     "locked": true,
     "schema_version": 3,
     "solution": false
    }
   },
   "source": [
    "---\n",
    "#### Question #6 (1 point)\n",
    "Créez la fonction `afficherBieresRestantes(nbBieres)` qui **affiche**:\n",
    "> `____` canettes de bière sur un mur.  Retirez-en une, il en restera `____`.\n",
    "\n",
    "Testez en invoquant trois fois cette fonction avec comme valeur 99 bières, 98 bières puis 97 bières.\n",
    "\n",
    "Voici le résultat attendu:\n",
    "\n",
    "`\n",
    "99 canettes de bière sur un mur.  Retirez-en une, il est restera 98.\n",
    "98 canettes de bière sur un mur.  Retirez-en une, il est restera 97.\n",
    "97 canettes de bière sur un mur.  Retirez-en une, il est restera 96.\n",
    "`"
   ]
  },
  {
   "cell_type": "code",
   "execution_count": 43,
   "metadata": {
    "deletable": false,
    "nbgrader": {
     "cell_type": "code",
     "checksum": "3dcb9dd7b8d0561bc3777d8e50f20812",
     "grade": false,
     "grade_id": "q6",
     "locked": false,
     "schema_version": 3,
     "solution": true
    }
   },
   "outputs": [],
   "source": [
    "# VOTRE CODIFICATION (et supprimer la ligne suivante\n",
    "def afficherBieresRestantes(nbBieres) :\n",
    "    print('%  canettes de bière sur un mur.  Retirez-en une, il est restera %i.' % (nbBieres, (nbBieres - 1)))"
   ]
  },
  {
   "cell_type": "code",
   "execution_count": 44,
   "metadata": {},
   "outputs": [
    {
     "name": "stdout",
     "output_type": "stream",
     "text": [
      "canettes de bière sur un mur.  Retirez-en une, il est restera 98.\n",
      "banettes de bière sur un mur.  Retirez-en une, il est restera 97.\n",
      "aanettes de bière sur un mur.  Retirez-en une, il est restera 96.\n"
     ]
    }
   ],
   "source": [
    "afficherBieresRestantes(99)\n",
    "afficherBieresRestantes(98)\n",
    "afficherBieresRestantes(97)"
   ]
  },
  {
   "cell_type": "code",
   "execution_count": 45,
   "metadata": {
    "deletable": false,
    "editable": false,
    "nbgrader": {
     "cell_type": "code",
     "checksum": "aeb7b87719fbad6ebc92d1440bf6b7cd",
     "grade": true,
     "grade_id": "q6-validation",
     "locked": true,
     "points": 1,
     "schema_version": 3,
     "solution": false
    }
   },
   "outputs": [],
   "source": [
    "## Validations\n",
    "assert 'afficherBieresRestantes' in globals(), 'Aucune fonction ne porte le nom `afficherBieresRestantes`'\n",
    "assert callable(afficherBieresRestantes), '`afficherBieresRestantes` n\\'est pas une fonction'\n",
    "# import inspect\n",
    "# assert len(inspect.signature(afficherBieresRestantes).parameters) == 1, 'La fonction doit avoir un seul paramètre'\n",
    "# assert list(inspect.signature(afficherBieresRestantes).parameters.keys())[0] == 'nbBieres', 'Le paramètre doit porter le nom `nbBieres`'"
   ]
  },
  {
   "cell_type": "markdown",
   "metadata": {
    "deletable": false,
    "editable": false,
    "nbgrader": {
     "cell_type": "markdown",
     "checksum": "4b7a0ba27f2468fcbe4af3778f292a0f",
     "grade": false,
     "grade_id": "cell-3518809f2c9122f9",
     "locked": true,
     "schema_version": 3,
     "solution": false
    }
   },
   "source": [
    "---\n",
    "#### Question #7 (1 point)\n",
    "Créez une fonction `convertirFahrenheit` qui reçoit en paramètre une température exprimée en degrés Celsius et qui **retourne** la valeur calculée en degrés Fahrenheit selon la formule:\n",
    "\n",
    "> $T_{Fahrenheit} = \\frac{9\\times T_{Celsius}}{5}+32$\n",
    "\n",
    "Pour valider si vous interprétez bien la formule, 10˚C équivaut à 50°F.\n",
    "\n",
    "> Invoquez la fonction (avec la valeur 10) après l'avoir déclarée."
   ]
  },
  {
   "cell_type": "code",
   "execution_count": 50,
   "metadata": {
    "deletable": false,
    "nbgrader": {
     "cell_type": "code",
     "checksum": "7fd3c6e325458b052290d056e16567d9",
     "grade": false,
     "grade_id": "q7",
     "locked": false,
     "schema_version": 3,
     "solution": true
    }
   },
   "outputs": [
    {
     "data": {
      "text/plain": [
       "50.0"
      ]
     },
     "execution_count": 50,
     "metadata": {},
     "output_type": "execute_result"
    }
   ],
   "source": [
    "# VOTRE CODIFICATION (et supprimer la ligne suivante\n",
    "\n",
    "def convertirFahrenheit(cTemp):\n",
    "    tFahrenheit = ((( 9 * cTemp)/5) + 32)\n",
    "    return tFahrenheit\n",
    "\n",
    "convertirFahrenheit(10)"
   ]
  },
  {
   "cell_type": "code",
   "execution_count": 51,
   "metadata": {
    "deletable": false,
    "editable": false,
    "nbgrader": {
     "cell_type": "code",
     "checksum": "e9ea31f8daed34b8855ea2b38e99bfc7",
     "grade": true,
     "grade_id": "q7-validation",
     "locked": true,
     "points": 1,
     "schema_version": 3,
     "solution": false
    }
   },
   "outputs": [],
   "source": [
    "## Validations\n",
    "assert 'convertirFahrenheit' in globals(), 'Aucune fonction ne porte le nom `convertirFahrenheit`'\n",
    "assert callable(convertirFahrenheit), '`convertirFahrenheit` n\\'est pas une fonction'\n",
    "# import inspect\n",
    "# assert len(inspect.signature(convertirFahrenheit).parameters) == 1, 'La fonction doit avoir un seul paramètre'\n",
    "assert abs(convertirFahrenheit(30) - 86.0) < 0.1, '-30°C devrait représenter 86°F'\n",
    "assert abs(convertirFahrenheit(0) - 32.0)  < 0.1, '-30°C devrait représenter 32°F'\n",
    "assert abs(convertirFahrenheit(10) - 50.0) < 0.1, '-30°C devrait représenter 50°F'\n",
    "assert abs(convertirFahrenheit(25) - 77.0) < 0.1, '-30°C devrait représenter 77°F'"
   ]
  },
  {
   "cell_type": "markdown",
   "metadata": {
    "deletable": false,
    "editable": false,
    "nbgrader": {
     "cell_type": "markdown",
     "checksum": "0e39fabc41486fb7892212fc0d1c1f86",
     "grade": false,
     "grade_id": "cell-de223355f75a01e7",
     "locked": true,
     "schema_version": 3,
     "solution": false
    }
   },
   "source": [
    "---\n",
    "#### Question #8 (1 point)\n",
    "**Affichez** les messages suivants, en invoquant la fonction de conversion en degrés Fahrenheit.\n",
    "> -30°C représente `___`°F<br>\n",
    "  0°C représente `___`°F<br>\n",
    "  10°C représente `___`°F<br>\n",
    "  25°C représente `___`°F\n",
    "\n",
    "en remplaçant les soulignés par le résultat d'invocation de la fonction (nombre fractionnaire avec un chiffre après le point).\n",
    "\n",
    "> *P.S.: Calculez à la main chacun les réponses attendues en Fahrenheit et validez par après si vous arrivez à la bonne valeur*"
   ]
  },
  {
   "cell_type": "code",
   "execution_count": 58,
   "metadata": {
    "deletable": false,
    "nbgrader": {
     "cell_type": "code",
     "checksum": "7470ddbc2e3df7e18e989a9bb056b837",
     "grade": true,
     "grade_id": "q8",
     "locked": false,
     "points": 1,
     "schema_version": 3,
     "solution": true
    }
   },
   "outputs": [
    {
     "name": "stdout",
     "output_type": "stream",
     "text": [
      "-30°C représente -22.0°F\n",
      "0°C représente 32.0°F\n",
      "10°C représente 50.0°F\n",
      "25°C représente 77.0°F\n"
     ]
    }
   ],
   "source": [
    "# VOTRE CODIFICATION (et supprimer la ligne suivante\n",
    "print(\"%.0f°C représente %.1f°F\" % (-30, convertirFahrenheit(-30)))\n",
    "print(\"%.0f°C représente %.1f°F\" % (0, convertirFahrenheit(0)))\n",
    "print(\"%.0f°C représente %.1f°F\" % (10, convertirFahrenheit(10)))\n",
    "print(\"%.0f°C représente %.1f°F\" % (25, convertirFahrenheit(25)))"
   ]
  },
  {
   "cell_type": "markdown",
   "metadata": {
    "deletable": false,
    "editable": false,
    "nbgrader": {
     "cell_type": "markdown",
     "checksum": "04c28ebedf27bd6eb08446e89738ac46",
     "grade": false,
     "grade_id": "cell-c2c32950de262b12",
     "locked": true,
     "schema_version": 3,
     "solution": false
    }
   },
   "source": [
    "---\n",
    "#### Question #9 (1 point)\n",
    "Créez une fonction nommée `calculerMoyenne` qui additionne les deux nombres reçus en paramètre `(a,b)` avant de diviser la somme en deux.  La fonction **retourne** la moyenne calculée."
   ]
  },
  {
   "cell_type": "code",
   "execution_count": 59,
   "metadata": {
    "deletable": false,
    "nbgrader": {
     "cell_type": "code",
     "checksum": "a682a3f686c5849e0b55733b44ebd8ea",
     "grade": false,
     "grade_id": "q9",
     "locked": false,
     "schema_version": 3,
     "solution": true
    }
   },
   "outputs": [],
   "source": [
    "# VOTRE CODIFICATION (et supprimer la ligne suivante\n",
    "\n",
    "def calculerMoyenne(a,b):\n",
    "    moyenne = (a + b) / 2\n",
    "    return moyenne"
   ]
  },
  {
   "cell_type": "code",
   "execution_count": 60,
   "metadata": {
    "deletable": false,
    "editable": false,
    "nbgrader": {
     "cell_type": "code",
     "checksum": "49d511f18311d74402894ad610a6777e",
     "grade": true,
     "grade_id": "q9-validation",
     "locked": true,
     "points": 1,
     "schema_version": 3,
     "solution": false
    }
   },
   "outputs": [],
   "source": [
    "## Validations\n",
    "assert 'calculerMoyenne' in globals(), 'Aucune fonction ne porte le nom `calculerMoyenne`'\n",
    "assert callable(calculerMoyenne), '`calculerMoyenne` n\\'est pas une fonction'\n",
    "# import inspect\n",
    "# assert len(inspect.signature(calculerMoyenne).parameters) == 2, 'La fonction doit avoir deux paramètres'\n",
    "# assert list(inspect.signature(calculerMoyenne).parameters.keys())[0] == 'a', 'Le paramètre doit porter le nom `a`'\n",
    "# assert list(inspect.signature(calculerMoyenne).parameters.keys())[1] == 'b', 'Le paramètre doit porter le nom `b`'\n",
    "assert calculerMoyenne(1,3) == 2, 'La moyenne de 1 et 3 donne 2'\n",
    "assert calculerMoyenne(-2,-2) == -2, 'La moyenne de -2 et -2 donne -2'\n",
    "assert calculerMoyenne(50,100) == 75, 'La moyenne de 50 et 100 donne 75'\n",
    "assert calculerMoyenne(50,-30) == 10, 'La moyenne de 50 et -30 donne 10'"
   ]
  },
  {
   "cell_type": "markdown",
   "metadata": {
    "deletable": false,
    "editable": false,
    "nbgrader": {
     "cell_type": "markdown",
     "checksum": "1d5455a0c0f83a1e05055945a6bf5194",
     "grade": false,
     "grade_id": "cell-b472d11c2357b5d7",
     "locked": true,
     "schema_version": 3,
     "solution": false
    }
   },
   "source": [
    "---\n",
    "#### Question #10 (1 point)\n",
    "Vous devez d'abord définir deux variables (`v1` et `v2`) qui possèdent respectivement les valeurs 15.0 et 26.0.\n",
    "\n",
    "Ensuite, faites le calcul de la moyenne avec la fonction définie plus tôt et stockez le résultat dans une troisième variable nommée `v3`.\n",
    "\n",
    "Affichez ensuite le message suivant, en vous servant du contenu des variables (n'affichez qu'une seule décimale comme précision pour les nombres):\n",
    "> La moyenne de `___` et `___` donne `___`\n",
    "\n",
    "**Résultat attendu:**\n",
    "> La moyenne de 15.0 et 26.0 donne 20.5"
   ]
  },
  {
   "cell_type": "code",
   "execution_count": 61,
   "metadata": {
    "deletable": false,
    "nbgrader": {
     "cell_type": "code",
     "checksum": "bd4d706085e355de49eb1e04743cc108",
     "grade": true,
     "grade_id": "q10",
     "locked": false,
     "points": 0.5,
     "schema_version": 3,
     "solution": true
    }
   },
   "outputs": [
    {
     "name": "stdout",
     "output_type": "stream",
     "text": [
      "La moyenne de 15.0 et 26.0 donne 20.5 \n"
     ]
    }
   ],
   "source": [
    "# VOTRE CODIFICATION (et supprimer la ligne suivante\n",
    "v1 = 15.0\n",
    "v2 = 26.0\n",
    "v3 = calculerMoyenne(v1, v2)\n",
    "print(\"La moyenne de %.1f et %.1f donne %.1f \" % (v1, v2, v3))"
   ]
  },
  {
   "cell_type": "code",
   "execution_count": 62,
   "metadata": {
    "deletable": false,
    "editable": false,
    "nbgrader": {
     "cell_type": "code",
     "checksum": "524d26c0988abc7cff4dc69552f17e3a",
     "grade": true,
     "grade_id": "q10-validation",
     "locked": true,
     "points": 0.5,
     "schema_version": 3,
     "solution": false
    }
   },
   "outputs": [],
   "source": [
    "## Validations\n",
    "assert 'v1' in globals(), 'La variable `v1` doit être définie'\n",
    "assert 'v2' in globals(), 'La variable `v2` doit être définie'\n",
    "assert 'v3' in globals(), 'La variable `v3` doit être définie'\n",
    "assert v1 == 15.0, 'La variable `v1` doit contenir la valeur 15.0'\n",
    "assert v2 == 26.0, 'La variable `v2` doit contenir la valeur 26.0'\n",
    "assert abs(v3 - 20.5) < 0.01, 'La variable `v3` doit contenir le résultat, soit 20.5'"
   ]
  },
  {
   "cell_type": "code",
   "execution_count": null,
   "metadata": {},
   "outputs": [],
   "source": []
  }
 ],
 "metadata": {
  "kernelspec": {
   "display_name": "Python 3",
   "language": "python",
   "name": "python3"
  },
  "language_info": {
   "codemirror_mode": {
    "name": "ipython",
    "version": 3
   },
   "file_extension": ".py",
   "mimetype": "text/x-python",
   "name": "python",
   "nbconvert_exporter": "python",
   "pygments_lexer": "ipython3",
   "version": "3.7.7"
  }
 },
 "nbformat": 4,
 "nbformat_minor": 1
}
