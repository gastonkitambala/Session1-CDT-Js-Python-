{
 "cells": [
  {
   "cell_type": "markdown",
   "metadata": {},
   "source": [
    "Before you turn this problem in, make sure everything runs as expected. First, **restart the kernel** (in the menubar, select Kernel$\\rightarrow$Restart) and then **run all cells** (in the menubar, select Cell$\\rightarrow$Run All).\n",
    "\n",
    "Make sure you fill in any place that says `YOUR CODE HERE` or \"YOUR ANSWER HERE\", as well as your name and collaborators below:"
   ]
  },
  {
   "cell_type": "code",
   "execution_count": null,
   "metadata": {},
   "outputs": [],
   "source": [
    "NAME = \"Itaka Kitambala\"\n",
    "COLLABORATORS = \"\""
   ]
  },
  {
   "cell_type": "markdown",
   "metadata": {},
   "source": [
    "---"
   ]
  },
  {
   "cell_type": "markdown",
   "metadata": {},
   "source": [
    "###### <img style='margin-right:0' src=\"http://dinfo.ca/logoDptInfo.jpg\" width=300>\n",
    "\n",
    "# Laboratoire #12 (Python)\n",
    "---"
   ]
  },
  {
   "cell_type": "markdown",
   "metadata": {
    "collapsed": true,
    "deletable": false,
    "editable": false,
    "nbgrader": {
     "cell_type": "markdown",
     "checksum": "31d7e63aaa66ac2759361da5d94e6012",
     "grade": false,
     "grade_id": "q1-enonce",
     "locked": true,
     "schema_version": 3,
     "solution": false
    }
   },
   "source": [
    "---\n",
    "#### Question #1 (1 point) -- fonction Lambda et filter\n",
    "\n",
    "On veut une fonction `compterValeursInfFilter(valeurTemoin, valeurs)` qui compte le nombre d'éléments de la collection qui sont **sous la valeur témoin**.\n",
    "\n",
    "Considérez:\n",
    "- la collection de valeurs peut être vide\n",
    "- il peut n'y avoir aucune valeur de la collection sous la valeur témoin\n",
    "\n",
    "Stratégie:\n",
    "- employer une fonction lambda avec la fonction filter afin d'obtenir une collection des éléments inférieurs à la valeur témoin\n",
    "- convertir le résultat de `filter` en collection ordonnée (list)\n",
    "- retourner le nombre d'élément de cette liste\n"
   ]
  },
  {
   "cell_type": "code",
   "execution_count": 20,
   "metadata": {
    "deletable": false,
    "nbgrader": {
     "cell_type": "code",
     "checksum": "625478360458336b19bf860724dd0926",
     "grade": false,
     "grade_id": "q1-reponse",
     "locked": false,
     "schema_version": 3,
     "solution": true
    }
   },
   "outputs": [],
   "source": [
    "def compterValeursInfFilter(valeurTemoin, valeurs):\n",
    "    valeursInferieures = list(filter(lambda uneValeur :  uneValeur < valeurTemoin,  valeurs))\n",
    "    return len(valeursInferieures)"
   ]
  },
  {
   "cell_type": "code",
   "execution_count": 23,
   "metadata": {
    "deletable": false,
    "editable": false,
    "nbgrader": {
     "cell_type": "code",
     "checksum": "22f8a4b97354a0205521b83566a59094",
     "grade": true,
     "grade_id": "q1-validation",
     "locked": true,
     "points": 1,
     "schema_version": 3,
     "solution": false
    }
   },
   "outputs": [],
   "source": [
    "assert compterValeursInfFilter( 6, [10.0, 5.5, 2.0, 9.5, 8.0]) == 2, 'Test #1'\n",
    "assert compterValeursInfFilter( 2, [10.0, 5.5, 2.0, 9.5, 8.0]) == 0, 'Test #2'\n",
    "assert compterValeursInfFilter( 3, [10.0, 5.5, 2.0, 9.5, 8.0]) == 1, 'Test #3'\n",
    "assert compterValeursInfFilter(10, [10.0, 5.5, 2.0, 9.5, 8.0]) == 4, 'Test #4'\n",
    "assert compterValeursInfFilter(99, [10.0, 5.5, 2.0, 9.5, 8.0]) == 5, 'Test #5'\n",
    "assert compterValeursInfFilter(99, []) == 0, 'Test #6'"
   ]
  },
  {
   "cell_type": "markdown",
   "metadata": {
    "collapsed": true,
    "deletable": false,
    "editable": false,
    "nbgrader": {
     "cell_type": "markdown",
     "checksum": "641cdf6308a301163f80addaafbea706",
     "grade": false,
     "grade_id": "q2-enonce",
     "locked": true,
     "schema_version": 3,
     "solution": false
    }
   },
   "source": [
    "---\n",
    "#### Question #2 (1 point) -- liste en compréhensions\n",
    "\n",
    "On veut une fonction `compterValeursInfCL(valeurTemoin, valeurs)` qui compte le nombre d'éléments de la collection qui sont **sous la valeur témoin**.\n",
    "\n",
    "Considérez:\n",
    "- la collection de valeurs peut être vide\n",
    "- il peut n'y avoir aucune valeur de la collection sous la valeur témoin\n",
    "\n",
    "Stratégie:\n",
    "- employer une liste en compréhensions pour former une collection des valeurs inférieures à la valeur témoin\n",
    "- retourner le nombre d'élément de cette liste"
   ]
  },
  {
   "cell_type": "code",
   "execution_count": 30,
   "metadata": {
    "deletable": false,
    "nbgrader": {
     "cell_type": "code",
     "checksum": "602ce2bdfc059c712496dc2e3ee8494d",
     "grade": false,
     "grade_id": "q2-reponse",
     "locked": false,
     "schema_version": 3,
     "solution": true
    }
   },
   "outputs": [],
   "source": [
    "def compterValeursInfCL(valeurTemoin, valeurs):\n",
    "    valeursInf = [uneValeur for uneValeur in valeurs if uneValeur < valeurTemoin]\n",
    "    return len(valeursInf)"
   ]
  },
  {
   "cell_type": "code",
   "execution_count": 31,
   "metadata": {
    "deletable": false,
    "editable": false,
    "nbgrader": {
     "cell_type": "code",
     "checksum": "e251b59bea52ed6a9a76dacc4eb4d66b",
     "grade": true,
     "grade_id": "q2-validation",
     "locked": true,
     "points": 1,
     "schema_version": 3,
     "solution": false
    }
   },
   "outputs": [],
   "source": [
    "assert compterValeursInfCL( 6, [10.0, 5.5, 2.0, 9.5, 8.0]) == 2, 'Test #1'\n",
    "assert compterValeursInfCL( 2, [10.0, 5.5, 2.0, 9.5, 8.0]) == 0, 'Test #2'\n",
    "assert compterValeursInfCL( 3, [10.0, 5.5, 2.0, 9.5, 8.0]) == 1, 'Test #3'\n",
    "assert compterValeursInfCL(10, [10.0, 5.5, 2.0, 9.5, 8.0]) == 4, 'Test #4'\n",
    "assert compterValeursInfCL(99, [10.0, 5.5, 2.0, 9.5, 8.0]) == 5, 'Test #5'\n",
    "assert compterValeursInfCL(99, []) == 0, 'Test #6'"
   ]
  },
  {
   "cell_type": "markdown",
   "metadata": {
    "deletable": false,
    "editable": false,
    "nbgrader": {
     "cell_type": "markdown",
     "checksum": "db52fbf4ffec514dd21cf26476e0fdd0",
     "grade": false,
     "grade_id": "q3-enonce",
     "locked": true,
     "schema_version": 3,
     "solution": false
    }
   },
   "source": [
    "---\n",
    "#### Question #3 (1 point) -- lambda et fonction `map`\n",
    "Pour une collection ordonnée nommée `tableauPeriodique` (structure différente que celle du labo 11) dont chaque item est une collection d'association (clés: symbole, nom, noAtomique et masseAtomique) sur l'atome, vous devez extraire les noms des atomes (collection ordonnée de chaînes de caractère).\n",
    "\n",
    "| nom       | symbole | noAtomique | masseAtomique |\n",
    "|-----------|---------|------------|---------------|\n",
    "| Hydrogène | H       | 1          | 1.008         |\n",
    "| Hélium    | He      | 2          | 4.003         |\n",
    "| Carbone   | C       | 6          | 12.000        |\n",
    "| Azote     | N       | 7          | 14.000        |\n",
    "| Oxygène   | O       | 8          | 16.000        |\n",
    "\n",
    "Vous devez utiliser la fonction `map` et placer le résultat dans la variable `nomsAtomes`."
   ]
  },
  {
   "cell_type": "code",
   "execution_count": 39,
   "metadata": {
    "deletable": false,
    "nbgrader": {
     "cell_type": "code",
     "checksum": "9e046eb72a2d8359c1441b4a33c1d35e",
     "grade": false,
     "grade_id": "q3-reponse",
     "locked": false,
     "schema_version": 3,
     "solution": true
    }
   },
   "outputs": [],
   "source": [
    "tableauPeriodique = [\n",
    "    {\n",
    "        'nom' : 'Hydrogène',\n",
    "        'symbole' : 'H',\n",
    "        'noAtomique' : 1,\n",
    "        'masseAtomique' : 1.008\n",
    "    },\n",
    "    {\n",
    "        'nom' : 'Hélium',\n",
    "        'symbole' : 'He',        \n",
    "        'noAtomique' : 2,\n",
    "        'masseAtomique' : 4.003\n",
    "    },\n",
    "    {\n",
    "        'nom' : 'Carbone',\n",
    "        'symbole' : 'C',        \n",
    "        'noAtomique' : 6,\n",
    "        'masseAtomique' : 12.000\n",
    "    },    \n",
    "    {\n",
    "        'nom' : 'Azote',\n",
    "        'symbole' : 'N',        \n",
    "        'noAtomique' : 7,\n",
    "        'masseAtomique' : 14.000\n",
    "    },\n",
    "    {\n",
    "        'nom' : 'Oxygène',\n",
    "        'symbole' : 'O',\n",
    "        'noAtomique' : 8,\n",
    "        'masseAtomique' : 16.000\n",
    "    }\n",
    "]\n",
    "\n",
    "nomsAtomes = list(map(lambda data:data[\"nom\"] , tableauPeriodique ))"
   ]
  },
  {
   "cell_type": "code",
   "execution_count": 41,
   "metadata": {
    "deletable": false,
    "editable": false,
    "nbgrader": {
     "cell_type": "code",
     "checksum": "1de4bdfcb4e7aa3a66eb6a9f14b48fe1",
     "grade": true,
     "grade_id": "q3-validation",
     "locked": true,
     "points": 1,
     "schema_version": 3,
     "solution": false
    }
   },
   "outputs": [],
   "source": [
    "# Validations\n",
    "assert 'nomsAtomes' in globals(), 'Aucune variable portant le nom `nomsAtomes`'\n",
    "assert type(nomsAtomes) == list, 'Mauvais type pour la collection'\n",
    "assert len(nomsAtomes) == 5, 'Il n\\'y a pas cinq (5) atomes dans votre collection'\n",
    "assert 'Hydrogène' in nomsAtomes, 'Pas d''hydrogène'\n",
    "assert 'Hélium' in nomsAtomes, 'Pas d''hélium'\n",
    "assert 'Carbone' in nomsAtomes, 'Pas de carbone'\n",
    "assert 'Azote' in nomsAtomes, 'Pas d''azote'\n",
    "assert 'Oxygène' in nomsAtomes, 'Pas d''oxygène'"
   ]
  },
  {
   "cell_type": "markdown",
   "metadata": {
    "deletable": false,
    "editable": false,
    "nbgrader": {
     "cell_type": "markdown",
     "checksum": "359ea670ff860522509366a16f8364e3",
     "grade": false,
     "grade_id": "q4-enonce",
     "locked": true,
     "schema_version": 3,
     "solution": false
    }
   },
   "source": [
    "---\n",
    "#### Question #4 (1 point) -- liste en compréhensions\n",
    "Pour une collection ordonnée nommée `tableauPeriodique` (structure différente que celle du labo 11) dont chaque item est une collection d'association (clés: symbole, nom, noAtomique et masseAtomique) sur l'atome, vous devez extraire les symboles des atomes (collection ordonnée de chaînes de caractère).\n",
    "\n",
    "| nom       | symbole | noAtomique | masseAtomique |\n",
    "|-----------|---------|------------|---------------|\n",
    "| Hydrogène | H       | 1          | 1.008         |\n",
    "| Hélium    | He      | 2          | 4.003         |\n",
    "| Carbone   | C       | 6          | 12.000        |\n",
    "| Azote     | N       | 7          | 14.000        |\n",
    "| Oxygène   | O       | 8          | 16.000        |\n",
    "\n",
    "Vous devez utiliser une liste en compréhension et placer le résultat dans la variable `symbolesAtomes`."
   ]
  },
  {
   "cell_type": "code",
   "execution_count": 57,
   "metadata": {
    "deletable": false,
    "nbgrader": {
     "cell_type": "code",
     "checksum": "7d6b88dab1eaca81fb5cc18358bd51e3",
     "grade": false,
     "grade_id": "q4-reponse",
     "locked": false,
     "schema_version": 3,
     "solution": true
    }
   },
   "outputs": [],
   "source": [
    "tableauPeriodique = [\n",
    "    {\n",
    "        'symbole' : 'H',\n",
    "        'nom' : 'Hydrogène',\n",
    "        'noAtomique' : 1,\n",
    "        'masseAtomique' : 1.008\n",
    "    },\n",
    "    {\n",
    "        'symbole' : 'He',        \n",
    "        'nom' : 'Hélium',\n",
    "        'noAtomique' : 2,\n",
    "        'masseAtomique' : 4.003\n",
    "    },\n",
    "    {\n",
    "        'symbole' : 'C',        \n",
    "        'nom' : 'Carbone',\n",
    "        'noAtomique' : 6,\n",
    "        'masseAtomique' : 12.000\n",
    "    },    \n",
    "    {\n",
    "        'symbole' : 'N',        \n",
    "        'nom' : 'Azote',\n",
    "        'noAtomique' : 7,\n",
    "        'masseAtomique' : 14.000\n",
    "    },\n",
    "    {\n",
    "        'symbole' : 'O',\n",
    "        'nom' : 'Oxygène',\n",
    "        'noAtomique' : 8,\n",
    "        'masseAtomique' : 16.000\n",
    "    }\n",
    "]\n",
    "\n",
    "symbolesAtomes = [ x['symbole'] for x in tableauPeriodique]"
   ]
  },
  {
   "cell_type": "code",
   "execution_count": 58,
   "metadata": {},
   "outputs": [
    {
     "name": "stdout",
     "output_type": "stream",
     "text": [
      "['H', 'He', 'C', 'N', 'O']\n"
     ]
    }
   ],
   "source": [
    "print(symbolesAtomes)"
   ]
  },
  {
   "cell_type": "code",
   "execution_count": 59,
   "metadata": {
    "deletable": false,
    "editable": false,
    "nbgrader": {
     "cell_type": "code",
     "checksum": "3607def596936a09b59e5ec6d00b86a6",
     "grade": true,
     "grade_id": "q4-validation",
     "locked": true,
     "points": 1,
     "schema_version": 3,
     "solution": false
    }
   },
   "outputs": [],
   "source": [
    "# Validations\n",
    "assert 'symbolesAtomes' in globals(), 'Aucune variable portant le nom `nomsAtomes`'\n",
    "assert type(symbolesAtomes) == list, 'Mauvais type pour la collection'\n",
    "assert len(symbolesAtomes) == 5, 'Il n\\'y a pas cinq (5) atomes dans votre collection'\n",
    "assert 'H' in symbolesAtomes, 'Pas d''hydrogène'\n",
    "assert 'He' in symbolesAtomes, 'Pas d''hélium'\n",
    "assert 'C' in symbolesAtomes, 'Pas de carbone'\n",
    "assert 'N' in symbolesAtomes, 'Pas d''azote'\n",
    "assert 'O' in symbolesAtomes, 'Pas d''oxygène'"
   ]
  },
  {
   "cell_type": "code",
   "execution_count": null,
   "metadata": {},
   "outputs": [],
   "source": []
  }
 ],
 "metadata": {
  "kernelspec": {
   "display_name": "Python 3",
   "language": "python",
   "name": "python3"
  },
  "language_info": {
   "codemirror_mode": {
    "name": "ipython",
    "version": 3
   },
   "file_extension": ".py",
   "mimetype": "text/x-python",
   "name": "python",
   "nbconvert_exporter": "python",
   "pygments_lexer": "ipython3",
   "version": "3.7.7"
  }
 },
 "nbformat": 4,
 "nbformat_minor": 2
}
