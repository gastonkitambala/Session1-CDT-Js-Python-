{
 "cells": [
  {
   "cell_type": "markdown",
   "metadata": {},
   "source": [
    "<img style='margin-right:0' src=\"http://dinfo.ca/logoDptInfo.jpg\" width=300>\n",
    "\n",
    "# Essais fichiers binaires (Python)\n",
    "---"
   ]
  },
  {
   "cell_type": "code",
   "execution_count": 1,
   "metadata": {},
   "outputs": [],
   "source": [
    "import os\n",
    "if os.path.exists('essai.bin'):\n",
    "    os.remove('essai.bin')"
   ]
  },
  {
   "cell_type": "code",
   "execution_count": 2,
   "metadata": {},
   "outputs": [],
   "source": [
    "import struct\n",
    "with open('essai.bin','wb') as fb:\n",
    "    fb.write(struct.pack('bbb',1,2,4))"
   ]
  },
  {
   "cell_type": "code",
   "execution_count": null,
   "metadata": {},
   "outputs": [],
   "source": [
    "!ls -l essai.bin"
   ]
  },
  {
   "cell_type": "code",
   "execution_count": null,
   "metadata": {},
   "outputs": [],
   "source": [
    "!xxd essai.bin"
   ]
  },
  {
   "cell_type": "code",
   "execution_count": null,
   "metadata": {},
   "outputs": [],
   "source": [
    "import struct\n",
    "with open('essai.bin','wb') as fb:\n",
    "    fb.write(struct.pack('<hi',-2,1))"
   ]
  },
  {
   "cell_type": "code",
   "execution_count": null,
   "metadata": {},
   "outputs": [],
   "source": [
    "!ls -l essai.bin"
   ]
  },
  {
   "cell_type": "code",
   "execution_count": null,
   "metadata": {},
   "outputs": [],
   "source": [
    "!xxd essai.bin"
   ]
  },
  {
   "cell_type": "code",
   "execution_count": null,
   "metadata": {},
   "outputs": [],
   "source": [
    "import struct\n",
    "with open('essai.bin','wb') as fb:\n",
    "    fb.write(struct.pack('2s10s','H'.encode('ascii'),'Hydrogene'.encode('ascii')))"
   ]
  },
  {
   "cell_type": "code",
   "execution_count": null,
   "metadata": {},
   "outputs": [],
   "source": [
    "!xxd essai.bin"
   ]
  },
  {
   "cell_type": "code",
   "execution_count": null,
   "metadata": {},
   "outputs": [],
   "source": [
    "import struct\n",
    "with open('essai.bin','rb') as fb:\n",
    "    enreg = struct.unpack('2s10s',fb.read())\n",
    "    print(enreg[0].decode('ascii').rstrip('\\00'))\n",
    "    print(enreg[1].decode('ascii').rstrip('\\00'))"
   ]
  },
  {
   "cell_type": "code",
   "execution_count": null,
   "metadata": {},
   "outputs": [],
   "source": [
    "# Pourquoi le rstrip('\\00')???\n",
    "import struct\n",
    "with open('essai.bin','rb') as fb:\n",
    "    enreg = struct.unpack('2s10s',fb.read())\n",
    "    symbole = enreg[0].decode('ascii')\n",
    "    nomAtome = enreg[1].decode('ascii')\n",
    "\n",
    "print(repr(symbole))\n",
    "if symbole == 'H':\n",
    "    print(\"ok\")\n",
    "else:\n",
    "    print(\"erreur\")"
   ]
  },
  {
   "cell_type": "code",
   "execution_count": 3,
   "metadata": {},
   "outputs": [],
   "source": [
    "import struct\n",
    "valeurs = [2,4,8,16]\n",
    "with open('marco.bin', 'wb') as fb:\n",
    "    for uneValeur in valeurs:\n",
    "        fb.write(struct.pack('<H', uneValeur))"
   ]
  },
  {
   "cell_type": "code",
   "execution_count": 4,
   "metadata": {},
   "outputs": [
    {
     "name": "stdout",
     "output_type": "stream",
     "text": [
      "-rw-r--r-- 1 jupyter-itakita jupyter-itakita 8 Dec  1 10:08 marco.bin\r\n"
     ]
    }
   ],
   "source": [
    "!ls -l marco.bin"
   ]
  },
  {
   "cell_type": "code",
   "execution_count": null,
   "metadata": {},
   "outputs": [],
   "source": []
  }
 ],
 "metadata": {
  "kernelspec": {
   "display_name": "Python 3",
   "language": "python",
   "name": "python3"
  },
  "language_info": {
   "codemirror_mode": {
    "name": "ipython",
    "version": 3
   },
   "file_extension": ".py",
   "mimetype": "text/x-python",
   "name": "python",
   "nbconvert_exporter": "python",
   "pygments_lexer": "ipython3",
   "version": "3.7.7"
  }
 },
 "nbformat": 4,
 "nbformat_minor": 4
}
