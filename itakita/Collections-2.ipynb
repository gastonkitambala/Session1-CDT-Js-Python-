{
 "cells": [
  {
   "cell_type": "markdown",
   "metadata": {},
   "source": [
    "<img style='margin-right:0' src=\"http://dinfo.ca/logoDptInfo.jpg\" width=300>\n",
    "\n",
    "# Référence Python (collections ordonnées)\n",
    "---"
   ]
  },
  {
   "cell_type": "markdown",
   "metadata": {},
   "source": [
    "# Listes\n",
    "\n",
    "##### >>> Tuples (listes non modifiables) -- ne supporte pas les opérations de modification\n",
    "\n",
    "**Opérateurs**\n",
    "\n",
    "> Concaténation\n",
    "\n",
    "> Duplication (répétition)\n",
    "\n",
    "> Appartenance \n",
    "\n",
    "> Itérations\n",
    "\n",
    "**Fonction**\n",
    "\n",
    "> len(liste)\n",
    "\n",
    "> max(liste)\n",
    "\n",
    "> min(liste)\n",
    "\n",
    "> list(sequence)\n",
    "\n",
    "**Méthodes**\n",
    "\n",
    "> **append**      \n",
    "> clear           \n",
    "> copy             \n",
    "> **count**       \n",
    "> extend          \n",
    "> **index**       \n",
    "> **insert**      \n",
    "> **pop**         \n",
    "> **remove**      \n",
    "> reverse         \n",
    "> **sort**        \n",
    "\n",
    "N.B.: Toutes les méthodes sont traitées dans cette référence.  Les méthodes **en gras** sont celles qui seront utilisées plus fréquemment."
   ]
  },
  {
   "cell_type": "markdown",
   "metadata": {},
   "source": [
    "---\n",
    "# Opérateurs: concaténation (+), répétition (*), appartenance (in) et itérations (for...in...)"
   ]
  },
  {
   "cell_type": "markdown",
   "metadata": {},
   "source": [
    "**Concaténation (+)**\n",
    "\n",
    "> Permet de créer une nouvelle liste où les items sont concaténés."
   ]
  },
  {
   "cell_type": "code",
   "execution_count": 1,
   "metadata": {},
   "outputs": [
    {
     "name": "stdout",
     "output_type": "stream",
     "text": [
      "Nombres pairs  : [2, 4, 6, 8]\n",
      "Nombres impairs: [3, 5, 7, 9]\n",
      "Fusion listes  : [2, 4, 6, 8, 3, 5, 7, 9]\n"
     ]
    }
   ],
   "source": [
    "nombresPairs = [2,4,6,8]\n",
    "nombresImpairs = [3,5,7,9]\n",
    "fusion = nombresPairs + nombresImpairs\n",
    "print(\"Nombres pairs  :\", nombresPairs)\n",
    "print(\"Nombres impairs:\", nombresImpairs)\n",
    "print(\"Fusion listes  :\", fusion)"
   ]
  },
  {
   "cell_type": "code",
   "execution_count": 2,
   "metadata": {},
   "outputs": [
    {
     "name": "stdout",
     "output_type": "stream",
     "text": [
      "Main de cartes: ['2P', '3T', '4T', '9C', '8K']\n"
     ]
    }
   ],
   "source": [
    "cartes = ['2P', '3T', '4T']\n",
    "nouvellesCartes = ['9C', '8K']\n",
    "cartes += nouvellesCartes\n",
    "print('Main de cartes:', cartes)"
   ]
  },
  {
   "cell_type": "markdown",
   "metadata": {},
   "source": [
    "**Concaténation -- cas particulier**\n",
    "\n",
    "Qu'arrive-t-il si on concatène une liste avec une chaîne?"
   ]
  },
  {
   "cell_type": "code",
   "execution_count": 6,
   "metadata": {},
   "outputs": [
    {
     "ename": "TypeError",
     "evalue": "can only concatenate list (not \"str\") to list",
     "output_type": "error",
     "traceback": [
      "\u001b[0;31m---------------------------------------------------------------------------\u001b[0m",
      "\u001b[0;31mTypeError\u001b[0m                                 Traceback (most recent call last)",
      "\u001b[0;32m<ipython-input-6-1d7780c15abd>\u001b[0m in \u001b[0;36m<module>\u001b[0;34m\u001b[0m\n\u001b[0;32m----> 1\u001b[0;31m \u001b[0mcartes\u001b[0m \u001b[0;34m+\u001b[0m \u001b[0;34m'AP'\u001b[0m\u001b[0;34m\u001b[0m\u001b[0;34m\u001b[0m\u001b[0m\n\u001b[0m",
      "\u001b[0;31mTypeError\u001b[0m: can only concatenate list (not \"str\") to list"
     ]
    }
   ],
   "source": [
    "cartes + 'AP'"
   ]
  },
  {
   "cell_type": "code",
   "execution_count": null,
   "metadata": {},
   "outputs": [],
   "source": []
  },
  {
   "cell_type": "markdown",
   "metadata": {},
   "source": [
    "#### **Répétition (*)**\n",
    "\n",
    "> Duplique les éléments d'origine de la liste"
   ]
  },
  {
   "cell_type": "code",
   "execution_count": 1,
   "metadata": {},
   "outputs": [
    {
     "name": "stdout",
     "output_type": "stream",
     "text": [
      "['libre', 'libre', 'libre', 'libre', '==dîner==', 'libre', 'libre', 'libre', 'libre', 'libre']\n"
     ]
    }
   ],
   "source": [
    "horaireDispo = ['libre'] * 10\n",
    "horaireDispo[4] = '==dîner=='\n",
    "print(horaireDispo)"
   ]
  },
  {
   "cell_type": "code",
   "execution_count": 2,
   "metadata": {},
   "outputs": [
    {
     "name": "stdout",
     "output_type": "stream",
     "text": [
      "['on', 'off', 'on', 'off', 'on', 'off']\n"
     ]
    }
   ],
   "source": [
    "interrupteurs = ['on', 'off'] * 3\n",
    "print(interrupteurs)"
   ]
  },
  {
   "cell_type": "markdown",
   "metadata": {},
   "source": [
    "**Appartenance (in)**\n",
    "\n",
    "> Permet de valider si un élément fait partie de la collection"
   ]
  },
  {
   "cell_type": "code",
   "execution_count": 3,
   "metadata": {},
   "outputs": [
    {
     "name": "stdout",
     "output_type": "stream",
     "text": [
      "Bernard est présent\n",
      "Marco est absent\n"
     ]
    }
   ],
   "source": [
    "presences = ['Adam','Bernard','Charles','Denis','Eric']\n",
    "if 'Bernard' in presences:\n",
    "    print(\"Bernard est présent\")\n",
    "else:\n",
    "    print(\"Bernard est absent\")\n",
    "if 'Marco' in presences:\n",
    "    print(\"Marco est présent\")\n",
    "else:\n",
    "    print(\"Marco est absent\")"
   ]
  },
  {
   "cell_type": "markdown",
   "metadata": {},
   "source": [
    "**Itération (for...in...)**\n",
    "\n",
    "> Visite chacun des éléments de la collection et exécute les énoncés de la boucle"
   ]
  },
  {
   "cell_type": "code",
   "execution_count": 4,
   "metadata": {},
   "outputs": [
    {
     "name": "stdout",
     "output_type": "stream",
     "text": [
      "John était un membre des Beatles (décédé)\n",
      "Paul était un membre des Beatles (vivant)\n",
      "Ringo était un membre des Beatles (vivant)\n",
      "George était un membre des Beatles (décédé)\n"
     ]
    }
   ],
   "source": [
    "for unMembre in ['John', 'Paul', 'Ringo', 'George']:\n",
    "    if unMembre == 'John' or unMembre == 'George':\n",
    "        mention = '(décédé)'\n",
    "    else:\n",
    "        mention = '(vivant)'\n",
    "        \n",
    "    print(unMembre,'était un membre des Beatles',mention)"
   ]
  },
  {
   "cell_type": "markdown",
   "metadata": {},
   "source": [
    "#### Utilisation de **enumeration(lst)**"
   ]
  },
  {
   "cell_type": "code",
   "execution_count": 5,
   "metadata": {},
   "outputs": [
    {
     "name": "stdout",
     "output_type": "stream",
     "text": [
      "[(0, 'Adam'), (1, 'Bernard'), (2, 'Charles'), (3, 'Denis'), (4, 'Eric')]\n",
      "Adam est à l'indice 0\n",
      "Bernard est à l'indice 1\n",
      "Charles est à l'indice 2\n",
      "Denis est à l'indice 3\n",
      "Eric est à l'indice 4\n"
     ]
    }
   ],
   "source": [
    "prenoms = ['Adam','Bernard','Charles','Denis','Eric']\n",
    "print(list(enumerate(prenoms)))\n",
    "for indice, unPrenom in enumerate(prenoms):\n",
    "    print(unPrenom, 'est à l\\'indice', indice)"
   ]
  },
  {
   "cell_type": "markdown",
   "metadata": {},
   "source": [
    "---\n",
    "# Fonctions\n",
    "\n",
    "len(liste)\n",
    "\n",
    "max(liste)\n",
    "\n",
    "min(liste)\n",
    "\n",
    "list(sequence)"
   ]
  },
  {
   "cell_type": "markdown",
   "metadata": {},
   "source": [
    "**Fonction <span style=\"color:red;font-family:courier;\">len()</span> -- Nombre d'éléments dans la collection**"
   ]
  },
  {
   "cell_type": "code",
   "execution_count": 7,
   "metadata": {},
   "outputs": [
    {
     "name": "stdout",
     "output_type": "stream",
     "text": [
      "Nombre de prénoms: 3\n",
      "Collection vide, taille:  0\n",
      "Nombre de valeurs: 10\n",
      "Taille d'un tuple:  4\n",
      "Taille de la population: 2\n"
     ]
    }
   ],
   "source": [
    "print(\"Nombre de prénoms:\", len(['Adam','Bernard','Charles']) )\n",
    "print(\"Collection vide, taille: \", len([]) )\n",
    "valeurs = (1,2,3,4,5,6,7,8,9,10)\n",
    "print(\"Nombre de valeurs:\", len(valeurs))\n",
    "print(\"Taille d'un tuple: \", len(('Nord','Est','Sud','Ouest')) )\n",
    "population = [ ('Souris', 5), ('Chat', 6) ]\n",
    "print(\"Taille de la population:\", len(population) )"
   ]
  },
  {
   "cell_type": "markdown",
   "metadata": {},
   "source": [
    "**Fonctions <span style=\"color:red;font-family:courier;\">max()</span> et <span style=\"color:red;font-family:courier;\">min()</span> -- Retourne le maximum ou le minimum d'une liste**\n",
    "\n",
    "Lève une exception *ValueError* si la collection est vide."
   ]
  },
  {
   "cell_type": "code",
   "execution_count": 7,
   "metadata": {},
   "outputs": [
    {
     "name": "stdout",
     "output_type": "stream",
     "text": [
      "Max: 34\n",
      "Min: 2\n"
     ]
    }
   ],
   "source": [
    "valeurs = [16,2,23,34,5]\n",
    "\n",
    "print('Max:', max(valeurs) )\n",
    "print('Min:', min(valeurs) )\n",
    "# print(max([]))"
   ]
  },
  {
   "cell_type": "markdown",
   "metadata": {},
   "source": [
    "**Fonction <span style=\"color:red;font-family:courier;\">list()</span> -- Transforme une séquence en collection ordonnée (list)**"
   ]
  },
  {
   "cell_type": "code",
   "execution_count": 8,
   "metadata": {},
   "outputs": [
    {
     "name": "stdout",
     "output_type": "stream",
     "text": [
      "[3, 4, 7, 10]\n",
      "[2, 5, 8, 11, 14, 17, 20, 23, 26, 29, 32, 35, 38, 41, 44, 47]\n",
      "[33, 23, 27, 76, 79, 66, 97, 92, 34, 14]\n"
     ]
    }
   ],
   "source": [
    "liste = list( (2,4,7,10) )\n",
    "liste[0] = 3\n",
    "print(liste)\n",
    "\n",
    "valeurs = list(range(2,50,3) )\n",
    "print(valeurs)\n",
    "\n",
    "import random\n",
    "\n",
    "valeurs = list( random.sample(range(1,101), 10) )\n",
    "print(valeurs)"
   ]
  },
  {
   "cell_type": "markdown",
   "metadata": {},
   "source": [
    "# Méthodes\n",
    "\n",
    "> **append**      \n",
    "> clear           \n",
    "> copy             \n",
    "> **count**       \n",
    "> extend          \n",
    "> **index**       \n",
    "> **insert**      \n",
    "> **pop**         \n",
    "> **remove**      \n",
    "> reverse         \n",
    "> **sort**        \n",
    "\n",
    "N.B.: Toutes les méthodes sont traitées dans cette référence.  Les méthodes **en gras** sont celles qui seront utilisées plus fréquemment.    "
   ]
  },
  {
   "cell_type": "markdown",
   "metadata": {},
   "source": [
    "**Méthode <span style=\"color:red;font-family:courier;\">append(obj)</span> -- Ajoute un item à la liste courante**\n",
    "\n",
    "> Cette méthode ne retourne rien; elle met à jour la liste."
   ]
  },
  {
   "cell_type": "code",
   "execution_count": 9,
   "metadata": {},
   "outputs": [
    {
     "name": "stdout",
     "output_type": "stream",
     "text": [
      "['Python', 'JavaScript']\n"
     ]
    }
   ],
   "source": [
    "langages = ['Python']\n",
    "langages.append('JavaScript')\n",
    "print(langages)"
   ]
  },
  {
   "cell_type": "markdown",
   "metadata": {},
   "source": [
    "**Méthode <span style=\"color:red;font-family:courier;\">clear()</span> -- vide la collection**"
   ]
  },
  {
   "cell_type": "code",
   "execution_count": 8,
   "metadata": {},
   "outputs": [
    {
     "name": "stdout",
     "output_type": "stream",
     "text": [
      "['Adam', 'Bernard']\n",
      "[]\n"
     ]
    }
   ],
   "source": [
    "liste = ['Adam','Bernard']\n",
    "print(liste)\n",
    "liste.clear()\n",
    "print(liste)"
   ]
  },
  {
   "cell_type": "markdown",
   "metadata": {},
   "source": [
    "**Méthode <span style=\"color:red;font-family:courier;\">copy()</span> -- Duplique la liste (en surface)**\n",
    "\n",
    "> Retourne une nouvelle liste avec les éléments copiés."
   ]
  },
  {
   "cell_type": "code",
   "execution_count": 11,
   "metadata": {},
   "outputs": [
    {
     "name": "stdout",
     "output_type": "stream",
     "text": [
      "[1, 2, 4]\n",
      "[1, 2, 4]\n"
     ]
    }
   ],
   "source": [
    "# Situation problème\n",
    "original = [1,2,3]\n",
    "copie = original\n",
    "copie[2] = 4\n",
    "print(original)\n",
    "print(copie)"
   ]
  },
  {
   "cell_type": "code",
   "execution_count": 14,
   "metadata": {},
   "outputs": [
    {
     "name": "stdout",
     "output_type": "stream",
     "text": [
      "[1, 2, 3]\n",
      "[1, 2, 4]\n"
     ]
    }
   ],
   "source": [
    "original = [1,2,3]\n",
    "copie = original.copy()\n",
    "copie[2] = 4\n",
    "print(original)\n",
    "print(copie)"
   ]
  },
  {
   "cell_type": "code",
   "execution_count": 9,
   "metadata": {},
   "outputs": [
    {
     "name": "stdout",
     "output_type": "stream",
     "text": [
      "[[1, 2], [3, 4], [5, 6]]\n",
      "[[1, 2], [3, 4]]\n"
     ]
    }
   ],
   "source": [
    "# Copie en surface???\n",
    "original = [ [1,2], [3,4] ]\n",
    "copie = original.copy()\n",
    "copie.append([5,6])\n",
    "print(copie)\n",
    "#original[0][0] = -1\n",
    "print(original)\n",
    "#print(copie)"
   ]
  },
  {
   "cell_type": "markdown",
   "metadata": {},
   "source": [
    "**Méthode <span style=\"color:red;font-family:courier;\">count()</span> -- Compte le nombre de fois que le paramètre apparaît dans la liste**"
   ]
  },
  {
   "cell_type": "code",
   "execution_count": 16,
   "metadata": {},
   "outputs": [
    {
     "name": "stdout",
     "output_type": "stream",
     "text": [
      "Nb interrupteurs à ON : 2\n",
      "Nb interrupteurs à OFF: 3\n",
      "Nb interrupteurs manquants: 0\n"
     ]
    }
   ],
   "source": [
    "interrupteurs = ['on', 'on', 'off', 'off', 'off']\n",
    "print(\"Nb interrupteurs à ON :\", interrupteurs.count('on') )\n",
    "print(\"Nb interrupteurs à OFF:\", interrupteurs.count('off') )\n",
    "print(\"Nb interrupteurs manquants:\", interrupteurs.count('???'))"
   ]
  },
  {
   "cell_type": "markdown",
   "metadata": {},
   "source": [
    "**Méthode <span style=\"color:red;font-family:courier;\">extend(seq)</span> -- concatène les éléments de la séquence à la liste**"
   ]
  },
  {
   "cell_type": "code",
   "execution_count": 17,
   "metadata": {},
   "outputs": [
    {
     "name": "stdout",
     "output_type": "stream",
     "text": [
      "['Adam', 'Bernard', 'Charles', 'Denise', 'Erica', 'France']\n",
      "['Denise', 'Erica', 'France']\n",
      "------------------------------------------------------------\n",
      "[1, 2, 4, 8, 10, 12, 14, 16, 18, 20]\n"
     ]
    }
   ],
   "source": [
    "eleves = ['Adam','Bernard','Charles']\n",
    "filles = ['Denise','Erica','France']\n",
    "eleves.extend(filles)\n",
    "print(eleves)\n",
    "print(filles)\n",
    "print('-' * 60)\n",
    "valeurs = [1,2,4,8]\n",
    "valeurs.extend(range(10,21,2))\n",
    "print(valeurs)"
   ]
  },
  {
   "cell_type": "markdown",
   "metadata": {},
   "source": [
    "**Méthode <span style=\"color:red;font-family:courier;\">index(obj)</span> -- Recherche la première position dans la liste de l'objet fourni**\n",
    "\n",
    "> Retourne un indice ou lance une erreur ValueError"
   ]
  },
  {
   "cell_type": "code",
   "execution_count": 11,
   "metadata": {},
   "outputs": [
    {
     "name": "stdout",
     "output_type": "stream",
     "text": [
      "2\n",
      "0\n"
     ]
    }
   ],
   "source": [
    "casiers = ['Adam','Bernard','Charles','Adam']\n",
    "print(casiers.index('Charles'))\n",
    "print(casiers.index('Adam'))   # Retourne l'indice du 1er Adam\n",
    "#casiers.index('Marco')"
   ]
  },
  {
   "cell_type": "markdown",
   "metadata": {},
   "source": [
    "**Méthode <span style=\"color:red;font-family:courier;\">insert(index,obj)</span> -- insère un objet à une position dans la liste**"
   ]
  },
  {
   "cell_type": "code",
   "execution_count": 21,
   "metadata": {},
   "outputs": [
    {
     "name": "stdout",
     "output_type": "stream",
     "text": [
      "['Bernard', 'Charles', 'Eric', 'Guillaume']\n",
      "['Bernard', 'Charles', 'Denis', 'Eric', 'Guillaume']\n",
      "['Adam', 'Bernard', 'Charles', 'Denis', 'Eric', 'Guillaume']\n",
      "['Adam', 'Bernard', 'Charles', 'Denis', 'Eric', 'Francis', 'Guillaume']\n",
      "['Adam', 'Bernard', 'Charles', 'Denis', 'Eric', 'Francis', 'Guillaume', 'Zebulon']\n"
     ]
    }
   ],
   "source": [
    "eleves = ['Bernard','Charles','Eric','Guillaume']\n",
    "print(eleves)\n",
    "eleves.insert(2, 'Denis')\n",
    "print(eleves)\n",
    "eleves.insert(0, 'Adam')\n",
    "print(eleves)\n",
    "eleves.insert(-1,'Francis') # Ajoute à la dernière position, décale le dernier\n",
    "print(eleves)\n",
    "eleves.insert(20, 'Zebulon') # Ajoute après le dernier\n",
    "print(eleves)"
   ]
  },
  {
   "cell_type": "markdown",
   "metadata": {},
   "source": [
    "### **Méthode <span style=\"color:red;font-family:courier;\">pop([indice])</span> -- retire et retourne le dernier item de la liste, ou celui à l'indice**\n",
    "\n",
    "> Paramètre optionnel: indice de l'item à retirer\n",
    "\n",
    "Lance un IndexError si la collection est vide"
   ]
  },
  {
   "cell_type": "code",
   "execution_count": 12,
   "metadata": {},
   "outputs": [
    {
     "name": "stdout",
     "output_type": "stream",
     "text": [
      "bleuet\n",
      "['pomme', 'raisin', 'orange']\n",
      "orange\n",
      "['pomme', 'raisin']\n",
      "raisin\n",
      "['pomme']\n",
      "pomme\n",
      "[]\n"
     ]
    }
   ],
   "source": [
    "fruits = ['pomme','raisin','orange','bleuet']\n",
    "print(fruits.pop())\n",
    "print(fruits)\n",
    "print(fruits.pop())\n",
    "print(fruits)\n",
    "print(fruits.pop())\n",
    "print(fruits)\n",
    "print(fruits.pop())\n",
    "print(fruits)\n",
    "#print(fruits.pop())\n",
    "#print(fruits)"
   ]
  },
  {
   "cell_type": "code",
   "execution_count": 13,
   "metadata": {},
   "outputs": [
    {
     "name": "stdout",
     "output_type": "stream",
     "text": [
      "[1, 2, 3, 4, 5, 6, 7, 8, 9, 10, 11, 12, 13, 14, 15, 16, 17, 18, 19, 20]\n",
      "20\n",
      "19\n",
      "18\n",
      "[1, 2, 3, 4, 5, 6, 7, 8, 9, 10, 11, 12, 13, 14, 15, 16, 17]\n",
      "1\n",
      "2\n",
      "----------------------------------------\n",
      "19\n",
      "2\n",
      "[1, 3, 4, 5, 6, 7, 8, 9, 10, 11, 12, 13, 14, 15, 16, 17, 18, 20]\n"
     ]
    }
   ],
   "source": [
    "valeurs = list(range(1,21))\n",
    "print(valeurs)\n",
    "print(valeurs.pop())\n",
    "print(valeurs.pop())\n",
    "print(valeurs.pop())\n",
    "print(valeurs)\n",
    "print(valeurs.pop(0))\n",
    "print(valeurs.pop(0))\n",
    "print('-'*40)\n",
    "valeurs = list(range(1,21))\n",
    "print(valeurs.pop(-2))\n",
    "print(valeurs.pop(1))\n",
    "print(valeurs)"
   ]
  },
  {
   "cell_type": "markdown",
   "metadata": {},
   "source": [
    "**Méthode <span style=\"color:red;font-family:courier;\">remove(obj)</span> -- Retire un élément de la liste (sans retourner cette valeur)**\n",
    "\n",
    "> Si l'item n'est pas trouvé, lance une erreur ValueError"
   ]
  },
  {
   "cell_type": "code",
   "execution_count": null,
   "metadata": {},
   "outputs": [],
   "source": [
    "eleves = ['Adam','Bernard','Charles','Denis','Eric', 'Denis']\n",
    "eleves.remove('Charles')\n",
    "print(eleves)\n",
    "eleves.remove('Denis')\n",
    "print(eleves)\n",
    "eleves.remove('Denis')\n",
    "print(eleves)\n",
    "#eleves.remove('Marco')"
   ]
  },
  {
   "cell_type": "markdown",
   "metadata": {},
   "source": [
    "**Méthode <span style=\"color:red;font-family:courier;\">reverse()</span> -- Inverse sur place les éléments de la collection**\n",
    "\n",
    "> Cette méthode ne retourne rien"
   ]
  },
  {
   "cell_type": "code",
   "execution_count": 2,
   "metadata": {},
   "outputs": [
    {
     "name": "stdout",
     "output_type": "stream",
     "text": [
      "[1, 2, 3, 4, 5, 6, 7, 8, 9, 10]\n",
      "[10, 9, 8, 7, 6, 5, 4, 3, 2, 1]\n"
     ]
    }
   ],
   "source": [
    "valeurs = list(range(1,11))\n",
    "print(valeurs)\n",
    "valeurs.reverse()\n",
    "print(valeurs)"
   ]
  },
  {
   "cell_type": "markdown",
   "metadata": {},
   "source": [
    "**Méthode <span style=\"color:red;font-family:courier;\">sort([key=function][reverse=True])</span> -- Tri sur place les éléments de la collection selon l'ordre naturel (ou via une fonction de comparaison)**"
   ]
  },
  {
   "cell_type": "code",
   "execution_count": 3,
   "metadata": {},
   "outputs": [
    {
     "name": "stdout",
     "output_type": "stream",
     "text": [
      "[1, 2, 3, 4, 5, 6, 7, 8, 9]\n",
      "[9, 8, 7, 6, 5, 4, 3, 2, 1]\n"
     ]
    }
   ],
   "source": [
    "valeurs = [6,2,5,8,9,1,3,7,4]\n",
    "valeurs.sort()\n",
    "print(valeurs)\n",
    "\n",
    "valeurs = [6,2,5,8,9,1,3,7,4]\n",
    "\n",
    "valeurs.sort(reverse=True)\n",
    "print(valeurs)"
   ]
  },
  {
   "cell_type": "code",
   "execution_count": 1,
   "metadata": {},
   "outputs": [
    {
     "name": "stdout",
     "output_type": "stream",
     "text": [
      "['Adam', 'Bernard', 'Charles-Etienne', 'Denis', 'abe', 'alice']\n",
      "['Adam', 'Bernard', 'Charles-Etienne', 'Denis', 'abe', 'alice']\n",
      "['abe', 'Adam', 'alice', 'Bernard', 'Charles-Etienne', 'Denis']\n",
      "['abe', 'Adam', 'alice', 'Denis', 'Bernard', 'Charles-Etienne']\n",
      "['Charles-Etienne', 'Bernard', 'alice', 'Denis', 'Adam', 'abe']\n"
     ]
    }
   ],
   "source": [
    "eleves = ['Denis','Bernard','Adam','alice', 'abe','Charles-Etienne']\n",
    "eleves.sort()\n",
    "print(eleves)\n",
    "\n",
    "eleves = ['Denis','Bernard','Adam','alice', 'abe','Charles-Etienne']\n",
    "eleves.sort()\n",
    "print(eleves)\n",
    "\n",
    "eleves.sort(key=str.lower)\n",
    "print(eleves)\n",
    "\n",
    "eleves.sort(key=len) # Trier par longueur\n",
    "print(eleves)\n",
    "\n",
    "eleves.sort(key=len, reverse=True) # Ordre inverse de longueur\n",
    "print(eleves)"
   ]
  },
  {
   "cell_type": "code",
   "execution_count": null,
   "metadata": {},
   "outputs": [],
   "source": [
    "valeurs = [6,2,5,8,9,1,3,7,4]\n",
    "def comparateurNombresDecroissants(x,y):\n",
    "    if x < y:\n",
    "        resultat = 1\n",
    "    elif x > y:\n",
    "        resultat = -1\n",
    "    else:\n",
    "        resultat = 0\n",
    "    return resultat\n",
    "        \n",
    "import functools\n",
    "valeurs.sort(key=functools.cmp_to_key(comparateurNombresDecroissants))\n",
    "print(valeurs)"
   ]
  },
  {
   "cell_type": "code",
   "execution_count": null,
   "metadata": {},
   "outputs": [],
   "source": [
    "valeurs = [6,2,5,8,9,1,3,7,4]\n",
    "def comparateursImpairsPairs(x,y):\n",
    "    if x % 2 == y % 2:\n",
    "        # deux nombres pairs ou deux nombres impairs\n",
    "        resultat = x - y\n",
    "    else:\n",
    "        if x %2 == 0:\n",
    "            resultat = 1\n",
    "        else:\n",
    "            resultat = -1\n",
    "    return resultat\n",
    "        \n",
    "import functools\n",
    "valeurs.sort(key=functools.cmp_to_key(comparateursImpairsPairs))\n",
    "print(valeurs)"
   ]
  },
  {
   "cell_type": "code",
   "execution_count": null,
   "metadata": {},
   "outputs": [],
   "source": [
    "eleves = ['Adam','Bernard','Charles']\n",
    "notes = [10,9.5, 8]\n",
    "print(list(zip(eleves, notes)))"
   ]
  },
  {
   "cell_type": "code",
   "execution_count": null,
   "metadata": {},
   "outputs": [],
   "source": [
    "for i in zip(eleves,notes):\n",
    "    print(i)"
   ]
  }
 ],
 "metadata": {
  "kernelspec": {
   "display_name": "Python 3",
   "language": "python",
   "name": "python3"
  },
  "language_info": {
   "codemirror_mode": {
    "name": "ipython",
    "version": 3
   },
   "file_extension": ".py",
   "mimetype": "text/x-python",
   "name": "python",
   "nbconvert_exporter": "python",
   "pygments_lexer": "ipython3",
   "version": "3.7.7"
  }
 },
 "nbformat": 4,
 "nbformat_minor": 4
}
