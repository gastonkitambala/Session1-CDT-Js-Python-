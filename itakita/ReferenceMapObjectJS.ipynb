{
 "cells": [
  {
   "cell_type": "markdown",
   "metadata": {},
   "source": [
    "<img style='margin-right:0' src=\"http://dinfo.ca/logoDptInfo.jpg\" width=300>\n",
    "\n",
    "# Référence Map et Object (JS)\n",
    "---"
   ]
  },
  {
   "cell_type": "markdown",
   "metadata": {},
   "source": [
    "`Map` est une **collection d'associations (clé-valeur)**.\n",
    "\n",
    "`Object` sera utilisé ici pour décrire (**structurer**) des données; nous n'examinerons pas la programmation par prototype, ni ne ferons un examen approfondi des différences avec Map."
   ]
  },
  {
   "cell_type": "markdown",
   "metadata": {},
   "source": [
    "## Partie #1 -- Map (ES6)\n",
    "\n",
    "#### Création, ajout/remplacement, récupération de clé, validation si clé existe\n",
    "\n",
    "```javascript\n",
    "  var bottinCours = new Map();\n",
    "  bottinCours.set(\"420-2Z6-RA\", \"Introduction à la programmation\");\n",
    "  bottinCours.set(\"420-2Y6-RA\", \"Installation d'ordinateurs\");\n",
    "  bottinCours.set(\"420-2X3-RA\", \"Carrières informatiques\");\n",
    "\n",
    "  var nomCoursProg = bottinCours.get(\"420-2Z6-RA\");\n",
    "  console.log(nomCoursProg);\n",
    "\n",
    "  if(bottinCours.has(\"420-2Y6-RA\"))\n",
    "      console.log(\"Clé existe pour le cours 2Y6\");\n",
    "```"
   ]
  },
  {
   "cell_type": "markdown",
   "metadata": {},
   "source": [
    "#### Construction\n",
    "\n",
    "**Syntaxe**:\n",
    "```javascript\n",
    "   new Map([iterable])\n",
    "```\n",
    "\n",
    "**Exemples**:\n",
    "```javascript\n",
    "   associations = new Map();\n",
    "   bottinCours = new Map( [    // [ [],[],[] ]\n",
    "       [\"420-2Z6-RA\", \"Introduction à la programmation\"],\n",
    "       [\"420-2Y6-RA\", \"Installation d'ordinateurs\"],\n",
    "       [\"420-2X3-RA\", \"Carrières informatiques\"] \n",
    "   ] );\n",
    "```\n"
   ]
  },
  {
   "cell_type": "markdown",
   "metadata": {},
   "source": [
    "#### Propriété `size`\n",
    "\n",
    "Permet d'obtenir le nombre de clé-valeur de la collection\n",
    "\n",
    "```\n",
    "   bottinCours.size\n",
    "```"
   ]
  },
  {
   "cell_type": "markdown",
   "metadata": {},
   "source": [
    "#### Méthodes\n",
    "\n",
    "* clear()\n",
    "> Vide la collection\n",
    "\n",
    "* delete(clé)\n",
    "> Retour `true` si la clé existait avant le retrait\n",
    "\n",
    "* entries()\n",
    "> Retourne un itérateur pour les éléments [clé,valeur]"
   ]
  },
  {
   "cell_type": "code",
   "execution_count": 2,
   "metadata": {},
   "outputs": [
    {
     "data": {
      "text/plain": [
       "Map {\n",
       "  '420-2Z6-RA' => 'Introduction à la programmation',\n",
       "  '420-2Y6-RA' => 'Installation d\\'ordinateurs',\n",
       "  '420-2X3-RA' => 'Carrières informatiques' }"
      ]
     },
     "execution_count": 2,
     "metadata": {},
     "output_type": "execute_result"
    }
   ],
   "source": [
    "associations = new Map();\n",
    "   bottinCours = new Map( [    // [ [],[],[] ]\n",
    "       [\"420-2Z6-RA\", \"Introduction à la programmation\"],\n",
    "       [\"420-2Y6-RA\", \"Installation d'ordinateurs\"],\n",
    "       [\"420-2X3-RA\", \"Carrières informatiques\"] \n",
    "   ] );"
   ]
  },
  {
   "cell_type": "code",
   "execution_count": 3,
   "metadata": {},
   "outputs": [
    {
     "data": {
      "text/plain": [
       "[Map Iterator] {\n",
       "  [ '420-2Z6-RA', 'Introduction à la programmation' ],\n",
       "  [ '420-2Y6-RA', 'Installation d\\'ordinateurs' ],\n",
       "  [ '420-2X3-RA', 'Carrières informatiques' ] }"
      ]
     },
     "execution_count": 3,
     "metadata": {},
     "output_type": "execute_result"
    }
   ],
   "source": [
    "bottinCours.entries()"
   ]
  },
  {
   "cell_type": "code",
   "execution_count": null,
   "metadata": {},
   "outputs": [],
   "source": [
    "for(var item of bottinCours.entries())\n",
    "   console.log(`Clé: ${item[0]} -- Valeur: ${item[1]}`);"
   ]
  },
  {
   "cell_type": "code",
   "execution_count": null,
   "metadata": {},
   "outputs": [],
   "source": [
    "// Exemple avec déstructuration\n",
    "for(var [noCours,titre] of bottinCours.entries())\n",
    "    console.log(`Clé: ${noCours} -- Valeur: ${titre}`);"
   ]
  },
  {
   "cell_type": "markdown",
   "metadata": {},
   "source": [
    "* forEach(fonction[,arg])\n",
    "> Invoque la fonction pour chaque paire clé-valeur.  Les paramètres pour cette fonction sont: valeur, clé et la collection elle-même."
   ]
  },
  {
   "cell_type": "code",
   "execution_count": null,
   "metadata": {},
   "outputs": [],
   "source": [
    "bottinCours.forEach( (valeur,cle,collection) => { console.log(cle); });"
   ]
  },
  {
   "cell_type": "markdown",
   "metadata": {},
   "source": [
    "* get(clé)\n",
    "> Retourne la valeur associée à la clé ou `undefined``\n",
    "\n",
    "* has(clé)\n",
    "> Retourne un booléen si la clé existe ou non dans la collection\n",
    "\n",
    "* keys()\n",
    "> Retourne un itérateur sur les clés\n",
    "\n",
    "* set(clé, valeur)\n",
    "> Ajoute ou remplace un valeur associée à une clé\n",
    "\n",
    "* values()\n",
    "> Retourne un itérateur sur les valeurs"
   ]
  },
  {
   "cell_type": "markdown",
   "metadata": {},
   "source": [
    "# Partie #2 -- Object"
   ]
  },
  {
   "cell_type": "markdown",
   "metadata": {},
   "source": [
    "#### Différences entre Object et Map\n",
    "\n",
    "| Object | Map |\n",
    "|--------|-----|\n",
    "| Existe depuis longtemps | Introduit avec ES6 (2015) |\n",
    "| Clés: chaîne ou symbole | Tout peut être une clé, <br>même NaN |\n",
    "| Assignation de valeur avec `=` | Méthode `set()` |\n",
    "| Non-itérable | Itérable avec <br>`forEach()` <br>ou `for...of`|\n",
    "|Difficile de déterminer la taille | Propriété `size` |\n",
    "| Complexe de retirer des clés | Méthode `clear()` |\n"
   ]
  },
  {
   "cell_type": "markdown",
   "metadata": {},
   "source": [
    "#### Création et utilisation"
   ]
  },
  {
   "cell_type": "code",
   "execution_count": 1,
   "metadata": {},
   "outputs": [
    {
     "name": "stdout",
     "output_type": "stream",
     "text": [
      "Introduction à la programmation\n"
     ]
    }
   ],
   "source": [
    "var bottinCours = { \n",
    "    \"420-2Z6-RA\" : \"Introduction à la programmation\",\n",
    "    \"420-2Y6-RA\" : \"Installation d'ordinateurs\",\n",
    "    \"420-2X3-RA\" : \"Carrières informatiques\"\n",
    "};\n",
    "console.log(bottinCours['420-2Z6-RA']);"
   ]
  },
  {
   "cell_type": "code",
   "execution_count": 2,
   "metadata": {},
   "outputs": [
    {
     "name": "stdout",
     "output_type": "stream",
     "text": [
      "Atome Hydrogène (H) -- masse: 1.008\n"
     ]
    }
   ],
   "source": [
    "// Clé: symboles\n",
    "var atome = {\n",
    "    noAtomique: 1,\n",
    "    nom : 'Hydrogène',\n",
    "    masseAtomique : 1.008,\n",
    "    symbole : 'H'\n",
    "};\n",
    "console.log(`Atome ${atome.nom} (${atome.symbole}) -- masse: ${atome.masseAtomique}`);"
   ]
  },
  {
   "cell_type": "code",
   "execution_count": null,
   "metadata": {},
   "outputs": [],
   "source": [
    "console.log(atome['nom']);"
   ]
  },
  {
   "cell_type": "code",
   "execution_count": null,
   "metadata": {},
   "outputs": [],
   "source": [
    "if(atome.hasOwnProperty('symbole'))\n",
    "    console.log('Ouf. Pas oublié de mettre le symbole');"
   ]
  },
  {
   "cell_type": "code",
   "execution_count": null,
   "metadata": {},
   "outputs": [],
   "source": [
    "for(var cle in atome)\n",
    "    console.log(`Cle: ${cle} -- Valeur: ${atome[cle]}`);"
   ]
  },
  {
   "cell_type": "code",
   "execution_count": null,
   "metadata": {},
   "outputs": [],
   "source": []
  }
 ],
 "metadata": {
  "kernelspec": {
   "display_name": "Javascript (Node.js)",
   "language": "javascript",
   "name": "javascript"
  },
  "language_info": {
   "file_extension": ".js",
   "mimetype": "application/javascript",
   "name": "javascript",
   "version": "10.13.0"
  }
 },
 "nbformat": 4,
 "nbformat_minor": 4
}
