{
 "cells": [
  {
   "cell_type": "markdown",
   "metadata": {},
   "source": [
    "<img style='margin-right:0' src=\"http://dinfo.ca/logoDptInfo.jpg\" width=300>\n",
    "\n",
    "# 420-2Z6-RA Introduction à la programmation\n",
    "---\n",
    "Bienvenue au cours de programmation.  Ce site expérimental, sous forme de bloc-notes, servira dans l'apprentissage de langages informatiques.  Les cellules sont exécutables; vous pourrez entrer le code directement et valider le bon fonctionnement.  Plus tard dans la session, nous utiliserons d'autres outils logiciels pour développer des programmes."
   ]
  },
  {
   "cell_type": "markdown",
   "metadata": {},
   "source": [
    "# Activité #1 -- Variables et calculs\n",
    "\n",
    "**Déclaration de variables**\n",
    "\n",
    "> Les variables sont des zones-mémoire où l'on mémorise de l'information.\n",
    "\n",
    "On donne un nom à la zone-mémoire (nom de la variable) qui agit comme étiquette."
   ]
  },
  {
   "cell_type": "code",
   "execution_count": 1,
   "metadata": {},
   "outputs": [],
   "source": [
    "# Déclarez trois variables: nom, tauxHoraire et nbHeures\n",
    "# avec les valeurs correspondantes: 5 heures @ 15.25$ pour Adam Bernard\n",
    "\n",
    "# A COMPLETER\n",
    "nom = 'Gaston'\n",
    "tauxHoraire = 15.25\n",
    "nbHeures = 5"
   ]
  },
  {
   "cell_type": "code",
   "execution_count": 2,
   "metadata": {},
   "outputs": [],
   "source": [
    "# Validation -- variable existe et bonne valeur\n",
    "assert 'nom' in globals(), 'Variable non-définie'\n",
    "assert 'tauxHoraire' in globals(), 'Variable non-définie'\n",
    "assert 'nbHeures' in globals(), 'Variable non-définie'"
   ]
  },
  {
   "cell_type": "code",
   "execution_count": 3,
   "metadata": {},
   "outputs": [
    {
     "name": "stdout",
     "output_type": "stream",
     "text": [
      "Nom : Gaston\n",
      "Taux a l'heure : 15.25\n",
      "Nombre d'heures travailles:  5\n"
     ]
    }
   ],
   "source": [
    "# Afficher les valeurs des variables\n",
    "\n",
    "# A COMPLETER\n",
    "print('Nom : ' +nom)\n",
    "print('Taux a l\\'heure : %.2f' % tauxHoraire)\n",
    "print('Nombre d\\'heures travailles: ', nbHeures)\n"
   ]
  },
  {
   "cell_type": "code",
   "execution_count": 4,
   "metadata": {},
   "outputs": [
    {
     "name": "stdout",
     "output_type": "stream",
     "text": [
      "Salaire brut 76.25$\n"
     ]
    }
   ],
   "source": [
    "\"\"\"Salaire brut: taux horaire x nb heures travaillées\n",
    "   Créer une variable nommée `salaireBrut` et affectez le calcul ci-haut\n",
    "   Affichez ensuite: \"Salaire brut: ___.___$\" avec deux chiffres après le point\n",
    "\"\"\"\n",
    "\n",
    "# A COMPLETER\n",
    "salaireBrut = tauxHoraire * nbHeures\n",
    "print('Salaire brut %.2f$' %salaireBrut )"
   ]
  },
  {
   "cell_type": "code",
   "execution_count": 5,
   "metadata": {},
   "outputs": [],
   "source": [
    "# Validation -- variable existe et bonne valeur\n",
    "assert 'salaireBrut' in globals(), 'Variable non-définie'\n",
    "assert abs(salaireBrut - 76.25) < 0.01"
   ]
  },
  {
   "cell_type": "code",
   "execution_count": 6,
   "metadata": {},
   "outputs": [
    {
     "name": "stdout",
     "output_type": "stream",
     "text": [
      "Salaire brut 228.75$\n"
     ]
    }
   ],
   "source": [
    "\"\"\"Calculs:\n",
    "   L'employé vient de faire 10 heures de plus.\n",
    "   Augmenter le nombre d'heures travaillées, puis\n",
    "   refaites le calcul du salaire brut.\n",
    "\"\"\"\n",
    "\n",
    "# A COMPLETER\n",
    "nbHeures = nbHeures + 10\n",
    "salaireBrut = nbHeures * tauxHoraire\n",
    "print('Salaire brut %.2f$' %salaireBrut)\n"
   ]
  },
  {
   "cell_type": "markdown",
   "metadata": {},
   "source": [
    "# Activité #2 -- Regrouper des instructions\n",
    "\n",
    "On veut afficher une recette de brownies.  La recette, pour une personne, donne ce qui suit:\n",
    "```\n",
    "100 g de chocolat noir pâtissier,\n",
    "50 g de beurre,\n",
    "40 g de sucre en poudre,\n",
    "25 g de farine,\n",
    "1 oeuf,\n",
    "des noix concassées\n",
    "```"
   ]
  },
  {
   "cell_type": "code",
   "execution_count": 7,
   "metadata": {},
   "outputs": [],
   "source": [
    "# Fonction pour afficher une recette\n",
    "\n",
    "# A COMPLETER\n",
    "def afficherRecette():\n",
    "    print('100 g de chocolat noir pâtissier,')\n",
    "    print('50 g de beurre,')\n",
    "    print('40 g de sucre en poudre,')\n",
    "    print('25 g de farine,')\n",
    "    print('1 oeuf,')\n",
    "    print('des noix concassées')\n"
   ]
  },
  {
   "cell_type": "code",
   "execution_count": 8,
   "metadata": {},
   "outputs": [
    {
     "name": "stdout",
     "output_type": "stream",
     "text": [
      "100 g de chocolat noir pâtissier,\n",
      "50 g de beurre,\n",
      "40 g de sucre en poudre,\n",
      "25 g de farine,\n",
      "1 oeuf,\n",
      "des noix concassées\n"
     ]
    }
   ],
   "source": [
    "# invoquer la fonction\n",
    "\n",
    "# A COMPLETER\n",
    "afficherRecette()"
   ]
  },
  {
   "cell_type": "code",
   "execution_count": 9,
   "metadata": {},
   "outputs": [],
   "source": [
    "# Fonction pour afficher une recette (V2)\n",
    "\n",
    "# A COMPLETER\n",
    "def afficherRecetteV2(nbPersonnes):\n",
    "    qteChocolat = nbPersonnes * 100\n",
    "    qteBeurre = nbPersonnes * 50\n",
    "    qteSucre = nbPersonnes * 40\n",
    "    qteFarine = nbPersonnes * 25\n",
    "    print('%i g de chocolat noir pâtissier,' % qteChocolat)\n",
    "    print('%i g de beurre,' % qteBeurre)\n",
    "    print('%i g de sucre en poudre,' % qteSucre)\n",
    "    print('%i g de farine,' % qteFarine)\n",
    "    print('%i oeuf,' % nbPersonnes)\n",
    "    print('des noix concassées')"
   ]
  },
  {
   "cell_type": "code",
   "execution_count": 10,
   "metadata": {},
   "outputs": [
    {
     "name": "stdout",
     "output_type": "stream",
     "text": [
      "200 g de chocolat noir pâtissier,\n",
      "100 g de beurre,\n",
      "80 g de sucre en poudre,\n",
      "50 g de farine,\n",
      "2 oeuf,\n",
      "des noix concassées\n"
     ]
    }
   ],
   "source": [
    "# Invoquer la fonction pour 2 personnes\n",
    "\n",
    "# A COMPLETER\n",
    "afficherRecetteV2(2)"
   ]
  },
  {
   "cell_type": "code",
   "execution_count": 11,
   "metadata": {},
   "outputs": [
    {
     "data": {
      "application/vnd.jupyter.widget-view+json": {
       "model_id": "18b5bce611c943bfab5ab2dd38a9d0b8",
       "version_major": 2,
       "version_minor": 0
      },
      "text/plain": [
       "interactive(children=(IntSlider(value=5, description='nbPersonnes', max=10, min=1), Output()), _dom_classes=('…"
      ]
     },
     "metadata": {},
     "output_type": "display_data"
    }
   ],
   "source": [
    "# NE PAS MODIFIER\n",
    "from ipywidgets import interact, interactive, fixed, interact_manual\n",
    "import ipywidgets as widgets\n",
    "\n",
    "interact(afficherRecetteV2, nbPersonnes=(1,10));"
   ]
  },
  {
   "cell_type": "markdown",
   "metadata": {},
   "source": [
    "#### Todo: ajouter un 's' à oeuf si plusieurs?"
   ]
  },
  {
   "cell_type": "code",
   "execution_count": null,
   "metadata": {},
   "outputs": [],
   "source": [
    "# Fonction pour afficher une recette (V3) -- pluriel des oeufs\n",
    "\n",
    "# A COMPLETER\n",
    "def afficherRecetteV3(nbPersonnes):\n",
    "    qteChocolat = nbPersonnes * 100\n",
    "    qteBeurre = nbPersonnes * 50\n",
    "    qteSucre = nbPersonnes * 40\n",
    "    qteFarine = nbPersonnes * 25\n",
    "    print('%i g de chocolat noir pâtissier,' % qteChocolat)\n",
    "    print('%i g de beurre,' % qteBeurre)\n",
    "    print('%i g de sucre en poudre,' % qteSucre)\n",
    "    print('%i g de farine,' % qteFarine)\n",
    "    if nbPersonnes == 1:\n",
    "        print(\"1 oeuf\")\n",
    "    else:\n",
    "        print(\"%\")\n",
    "    print('%i oeuf,' % nbPersonnes)\n",
    "    print('des noix concassées')"
   ]
  },
  {
   "cell_type": "code",
   "execution_count": null,
   "metadata": {},
   "outputs": [],
   "source": [
    "# NE PAS MODIFIER\n",
    "\n",
    "interact(afficherRecetteV3, nbPersonnes=(1,10));"
   ]
  },
  {
   "cell_type": "markdown",
   "metadata": {},
   "source": [
    "# Activité #3 -- Pratique"
   ]
  },
  {
   "cell_type": "code",
   "execution_count": 1,
   "metadata": {},
   "outputs": [],
   "source": [
    "# On veut garder les dimensions d'un jardin de 5 mètres par 2 mètres\n",
    "# Déclarez deux variables: hauteur et largeur et affectez les valeurs ci-haut.\n",
    "\n",
    "# A COMPLETER\n",
    "hauteur = 5\n",
    "largeur = 2"
   ]
  },
  {
   "cell_type": "code",
   "execution_count": 2,
   "metadata": {},
   "outputs": [],
   "source": [
    "# Validation -- variable existe et bonne valeur\n",
    "assert 'hauteur' in globals(), 'Variable non-définie'\n",
    "assert 'largeur' in globals(), 'Variable non-définie'\n",
    "assert hauteur == 5\n",
    "assert largeur == 2"
   ]
  },
  {
   "cell_type": "code",
   "execution_count": 3,
   "metadata": {},
   "outputs": [
    {
     "name": "stdout",
     "output_type": "stream",
     "text": [
      "Hauteur: 5 mètres\n",
      "Largeur: 2 mètres\n"
     ]
    }
   ],
   "source": [
    "# Affichez les dimensions du terrain:\n",
    "#   Hauteur: ___ mètres\n",
    "#   Largeur: ___ mètres\n",
    "\n",
    "# A COMPLETER\n",
    "print('Hauteur: %i mètres' % hauteur)\n",
    "print('Largeur: %i mètres' % largeur)"
   ]
  },
  {
   "cell_type": "code",
   "execution_count": 4,
   "metadata": {},
   "outputs": [
    {
     "name": "stdout",
     "output_type": "stream",
     "text": [
      "Superficie: 10 mètre\n"
     ]
    }
   ],
   "source": [
    "# Multipliez les dimensions et placez le résultat dans une nouvelle variable nommée superficie\n",
    "# Affichez ensuite la superficie, selon le format suivant:\n",
    "#     Superficie: ___ mètres\n",
    "\n",
    "# A COMPLETER\n",
    "superficie = largeur * hauteur\n",
    "print('Superficie: %i mètre' % superficie)"
   ]
  },
  {
   "cell_type": "code",
   "execution_count": 11,
   "metadata": {},
   "outputs": [],
   "source": [
    "# Validation -- variable existe et bonne valeur\n",
    "assert 'superficie' in globals(), 'Variable non-définie'\n",
    "assert superficie == 10"
   ]
  },
  {
   "cell_type": "code",
   "execution_count": null,
   "metadata": {},
   "outputs": [],
   "source": [
    "# Augmenter la largeur d'un mètre, recalculez la superficie et réaffichez le résultat\n",
    "\n",
    "# A COMPLETER"
   ]
  },
  {
   "cell_type": "code",
   "execution_count": null,
   "metadata": {},
   "outputs": [],
   "source": [
    "# Validation -- variable existe et bonne valeur\n",
    "assert hauteur == 5\n",
    "assert largeur == 3\n",
    "assert superficie == 15"
   ]
  },
  {
   "cell_type": "code",
   "execution_count": 6,
   "metadata": {},
   "outputs": [],
   "source": [
    "# Définir une fonction qui calcule la superficie à partir d'une hauteur et d'une largeur\n",
    "# Deux paramètres: h pour la hauteur, l pour la largeur\n",
    "# Retourne la superficie calculée\n",
    "\n",
    "# A COMPLETER\n",
    "def calculerSuperficie(h,l):\n",
    "    return h * l\n",
    "    "
   ]
  },
  {
   "cell_type": "code",
   "execution_count": 9,
   "metadata": {},
   "outputs": [
    {
     "name": "stdout",
     "output_type": "stream",
     "text": [
      "Superficie: 14 metres\n"
     ]
    }
   ],
   "source": [
    "# Invoquer le calculer de la superficie: 2m par 7m\n",
    "\n",
    "# A COMPLETER\n",
    "print('Superficie: %i metres' % calculerSuperficie(2,7))"
   ]
  },
  {
   "cell_type": "code",
   "execution_count": 12,
   "metadata": {},
   "outputs": [
    {
     "ename": "NameError",
     "evalue": "name 'interact' is not defined",
     "output_type": "error",
     "traceback": [
      "\u001b[0;31m---------------------------------------------------------------------------\u001b[0m",
      "\u001b[0;31mNameError\u001b[0m                                 Traceback (most recent call last)",
      "\u001b[0;32m<ipython-input-12-1712b3f4f791>\u001b[0m in \u001b[0;36m<module>\u001b[0;34m\u001b[0m\n\u001b[1;32m      1\u001b[0m \u001b[0;31m# Amusons-nous un peu\u001b[0m\u001b[0;34m\u001b[0m\u001b[0;34m\u001b[0m\u001b[0;34m\u001b[0m\u001b[0m\n\u001b[0;32m----> 2\u001b[0;31m \u001b[0minteract\u001b[0m\u001b[0;34m(\u001b[0m\u001b[0mcalculerSuperficie\u001b[0m\u001b[0;34m,\u001b[0m \u001b[0mh\u001b[0m\u001b[0;34m=\u001b[0m\u001b[0;34m(\u001b[0m\u001b[0;36m1\u001b[0m\u001b[0;34m,\u001b[0m\u001b[0;36m10\u001b[0m\u001b[0;34m)\u001b[0m\u001b[0;34m,\u001b[0m \u001b[0ml\u001b[0m\u001b[0;34m=\u001b[0m\u001b[0;34m(\u001b[0m\u001b[0;36m1\u001b[0m\u001b[0;34m,\u001b[0m\u001b[0;36m10\u001b[0m\u001b[0;34m)\u001b[0m\u001b[0;34m)\u001b[0m\u001b[0;34m;\u001b[0m\u001b[0;34m\u001b[0m\u001b[0;34m\u001b[0m\u001b[0m\n\u001b[0m",
      "\u001b[0;31mNameError\u001b[0m: name 'interact' is not defined"
     ]
    }
   ],
   "source": [
    "# Amusons-nous un peu\n",
    "interact(calculerSuperficie, h=(1,10), l=(1,10));"
   ]
  },
  {
   "cell_type": "code",
   "execution_count": null,
   "metadata": {},
   "outputs": [],
   "source": []
  }
 ],
 "metadata": {
  "kernelspec": {
   "display_name": "Python 3",
   "language": "python",
   "name": "python3"
  },
  "language_info": {
   "codemirror_mode": {
    "name": "ipython",
    "version": 3
   },
   "file_extension": ".py",
   "mimetype": "text/x-python",
   "name": "python",
   "nbconvert_exporter": "python",
   "pygments_lexer": "ipython3",
   "version": "3.7.7"
  }
 },
 "nbformat": 4,
 "nbformat_minor": 2
}
