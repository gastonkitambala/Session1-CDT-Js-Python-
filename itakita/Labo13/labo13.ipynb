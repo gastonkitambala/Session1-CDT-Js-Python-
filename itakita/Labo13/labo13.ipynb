{
 "cells": [
  {
   "cell_type": "markdown",
   "metadata": {},
   "source": [
    "Before you turn this problem in, make sure everything runs as expected. First, **restart the kernel** (in the menubar, select Kernel$\\rightarrow$Restart) and then **run all cells** (in the menubar, select Cell$\\rightarrow$Run All).\n",
    "\n",
    "Make sure you fill in any place that says `YOUR CODE HERE` or \"YOUR ANSWER HERE\", as well as your name and collaborators below:"
   ]
  },
  {
   "cell_type": "code",
   "execution_count": 57,
   "metadata": {},
   "outputs": [
    {
     "data": {
      "text/plain": [
       "''"
      ]
     },
     "execution_count": 57,
     "metadata": {},
     "output_type": "execute_result"
    }
   ],
   "source": [
    "NAME = \"Gaston Itaka Kitambala\"\n",
    "COLLABORATORS = \"\""
   ]
  },
  {
   "cell_type": "markdown",
   "metadata": {},
   "source": [
    "---"
   ]
  },
  {
   "cell_type": "markdown",
   "metadata": {},
   "source": [
    "###### <img style='margin-right:0' src=\"http://dinfo.ca/logoDptInfo.jpg\" width=300>\n",
    "\n",
    "# Laboratoire #13 (JavaScript)\n",
    "---"
   ]
  },
  {
   "cell_type": "markdown",
   "metadata": {
    "collapsed": true,
    "deletable": false,
    "editable": false,
    "nbgrader": {
     "cell_type": "markdown",
     "checksum": "698f160d343ee5a5477271681694c804",
     "grade": false,
     "grade_id": "q1-enonce",
     "locked": true,
     "schema_version": 3,
     "solution": false
    }
   },
   "source": [
    "#### Question #1 (2 points)\n",
    "\n",
    "Créez une collection d'association (Map) ayant comme clé le numéro d'employé et comme valeur associée un objet JavaScript.  \n",
    "\n",
    "Cette collection doit être référencée par la variable `employes`.\n",
    "\n",
    "Les clés de l'objet JavaScript doivent être un symbole (et non une chaîne).\n",
    "\n",
    "L'objet JavaScript possède 3 clés: \n",
    "- nom\n",
    "- nbHeures\n",
    "- tauxHoraire\n",
    "\n",
    "| noEmpl | nom             | nbHeures | tauxHoraire |\n",
    "|--------|-----------------|----------|-------------|\n",
    "| 11122  | 'Adam Bernard'  |   0.0    |  15.00      |\n",
    "| 22233  | 'Charles Demers'|   15.5   |  20.00      |\n",
    "| 33344  | 'Eric Fillion'  |   7.0    |  12.25      |\n"
   ]
  },
  {
   "cell_type": "code",
   "execution_count": 58,
   "metadata": {
    "deletable": false,
    "nbgrader": {
     "cell_type": "code",
     "checksum": "4b593012946cb7803ae39c9938c14fdf",
     "grade": true,
     "grade_id": "q1-reponse",
     "locked": false,
     "points": 1,
     "schema_version": 3,
     "solution": true
    }
   },
   "outputs": [
    {
     "name": "stdout",
     "output_type": "stream",
     "text": [
      "Map {\n",
      "  11122 => { nom: 'Adam Bernard', nbHeures: 0, tauxHoraire: 15 },\n",
      "  22233 => { nom: 'Charles Demers', nbHeures: 15.5, tauxHoraire: 20 },\n",
      "  33344 => { nom: 'Eric Fillion', nbHeures: 7, tauxHoraire: 12.25 } }\n"
     ]
    }
   ],
   "source": [
    "var employes = new Map([\n",
    "    [11122, {\n",
    "        nom : 'Adam Bernard',\n",
    "        nbHeures : 0.0,\n",
    "        tauxHoraire : 15.00\n",
    "    }],\n",
    "   [ 22233 , {\n",
    "        nom : 'Charles Demers',\n",
    "        nbHeures : 15.5,\n",
    "        tauxHoraire : 20.00\n",
    "                       }],\n",
    "   [ 33344 , {\n",
    "        nom : \"Eric Fillion\",\n",
    "        nbHeures : 7.0,\n",
    "        tauxHoraire : 12.25\n",
    "    }]\n",
    "    \n",
    "]);\n",
    "console.log(employes);"
   ]
  },
  {
   "cell_type": "code",
   "execution_count": 59,
   "metadata": {
    "deletable": false,
    "editable": false,
    "nbgrader": {
     "cell_type": "code",
     "checksum": "7bcc0e142b5677828273847b96edce13",
     "grade": true,
     "grade_id": "q1-validation",
     "locked": true,
     "points": 1,
     "schema_version": 3,
     "solution": false
    }
   },
   "outputs": [],
   "source": [
    "var assert = require('assert');\n",
    "assert(typeof employes !== 'undefined', 'Pas déclaré la variable `employes`');\n",
    "assert(employes instanceof Map, '`employes` doit être de type Map');\n",
    "assert(employes.size == 3, 'Doit y avoir trois éléments dans la collection');\n",
    "assert(employes.has(11122), 'Clé 11122 absente');\n",
    "assert(employes.has(22233), 'Clé 22233 absente');\n",
    "assert(employes.has(33344), 'Clé 33344 absente');\n",
    "assert(employes.get(11122).hasOwnProperty('nom'));\n",
    "assert(employes.get(22233).hasOwnProperty('nom'));\n",
    "assert(employes.get(33344).hasOwnProperty('nom'));\n",
    "assert(employes.get(11122).hasOwnProperty('nbHeures'));\n",
    "assert(employes.get(22233).hasOwnProperty('nbHeures'));\n",
    "assert(employes.get(33344).hasOwnProperty('nbHeures'));\n",
    "assert(employes.get(11122).hasOwnProperty('tauxHoraire'));\n",
    "assert(employes.get(22233).hasOwnProperty('tauxHoraire'));\n",
    "assert(employes.get(33344).hasOwnProperty('tauxHoraire'));\n",
    "assert(employes.get(11122).nom === 'Adam Bernard');\n",
    "assert(employes.get(22233).nom === 'Charles Demers');\n",
    "assert(employes.get(33344).nom === 'Eric Fillion');"
   ]
  },
  {
   "cell_type": "markdown",
   "metadata": {
    "collapsed": true,
    "deletable": false,
    "editable": false,
    "nbgrader": {
     "cell_type": "markdown",
     "checksum": "1d45a1ba07db7bff59a9fff74611ec24",
     "grade": false,
     "grade_id": "q2-enonce",
     "locked": true,
     "schema_version": 3,
     "solution": false
    }
   },
   "source": [
    "---\n",
    "#### Question #2 (2 points) \n",
    "\n",
    "Pour la collection des employés, on veut calculer le salaire brut (nombre d'heures x taux horaire).\n",
    "\n",
    "NOTE: On ne fait pas de calcul pour les heures supplémentaires.\n",
    "\n",
    "Résultats attendus:\n",
    "```\n",
    "Adam Bernard (11122) -- salaire brut: 0.00$\n",
    "Charles Demers (22233) -- salaire brut: 310.00$\n",
    "Eric Fillion (33344) -- salaire brut: 85.75$\n",
    "```"
   ]
  },
  {
   "cell_type": "code",
   "execution_count": 60,
   "metadata": {
    "deletable": false,
    "nbgrader": {
     "cell_type": "code",
     "checksum": "e497fdf8e824998a790f9241ecc9f337",
     "grade": true,
     "grade_id": "q2-reponse",
     "locked": false,
     "points": 2,
     "schema_version": 3,
     "solution": true
    }
   },
   "outputs": [
    {
     "name": "stdout",
     "output_type": "stream",
     "text": [
      "Adam Bernard (11122) -- salaire brut: 0$\n",
      "Charles Demers (22233) -- salaire brut: 310$\n",
      "Eric Fillion (33344) -- salaire brut: 85.75$\n"
     ]
    }
   ],
   "source": [
    "for(var employer of employes.entries()){\n",
    "    salaireBrut = employer[1][\"nbHeures\"] * employer[1][\"tauxHoraire\"];\n",
    "    console.log(`${employer[1][\"nom\"]} (${employer[0]}) -- salaire brut: ${salaireBrut}$`);\n",
    "};"
   ]
  },
  {
   "cell_type": "markdown",
   "metadata": {
    "collapsed": true,
    "deletable": false,
    "editable": false,
    "nbgrader": {
     "cell_type": "markdown",
     "checksum": "52fe674fe0a4664c9659fa1a44f7248e",
     "grade": false,
     "grade_id": "q3-enonce",
     "locked": true,
     "schema_version": 3,
     "solution": false
    }
   },
   "source": [
    "---\n",
    "#### Question #3 (3 points)\n",
    "\n",
    "Chargez le fichier JSON nommé 'films.json'; ce fichier se trouve dans le répertoire courant du laboratoire.\n",
    "\n",
    "**Utilisez `JSONEditorOnline.org` pour comprendre la structure**\n",
    "\n",
    "Affichez le titre de chaque film.\n",
    "\n",
    "Résultats attendus:\n",
    "\n",
    "```\n",
    "Venom : Let There Be Carnage\n",
    "Les Éternels\n",
    "Dune\n",
    "Mourir peut attendre\n",
    "La Famille Addams 2 : Une virée d'enfer\n",
    "Clifford\n",
    "```"
   ]
  },
  {
   "cell_type": "code",
   "execution_count": 2,
   "metadata": {
    "deletable": false,
    "nbgrader": {
     "cell_type": "code",
     "checksum": "cf1efb82a4e49680ae7abd2170158eca",
     "grade": true,
     "grade_id": "q3-reponse",
     "locked": false,
     "points": 3,
     "schema_version": 3,
     "solution": true
    }
   },
   "outputs": [
    {
     "name": "stdout",
     "output_type": "stream",
     "text": [
      "Venom : Let There Be Carnage\n",
      "Les Éternels\n",
      "Dune\n",
      "Mourir peut attendre\n",
      "La Famille Addams 2 : Une virée d'enfer\n",
      "Clifford\n"
     ]
    }
   ],
   "source": [
    "var fs = require('fs');\n",
    "var chaineJSON = fs.readFileSync('films.json', 'utf8');\n",
    "var donneesJSON = JSON.parse(chaineJSON);\n",
    "for (var element of donneesJSON.results){\n",
    "    console.log(element['title']);\n",
    "}"
   ]
  },
  {
   "cell_type": "markdown",
   "metadata": {
    "collapsed": true,
    "deletable": false,
    "editable": false,
    "nbgrader": {
     "cell_type": "markdown",
     "checksum": "4d793b79f7d7df6ca53f57c0d92e9eed",
     "grade": false,
     "grade_id": "q4-enonce",
     "locked": true,
     "schema_version": 3,
     "solution": false
    }
   },
   "source": [
    "---\n",
    "#### Question #4 (3 points)\n",
    "\n",
    "Quel est le film ayant eu le plus de votes (vote_count)?  \n",
    "> Par programmation, faites la recherche dans les résultats JSON.\n",
    "\n",
    "Assignez les valeurs aux variables `titre`, `description` et `poster` (url de l'image de l'affiche).  \n",
    "\n",
    "Exemple de résultats attendus (<span style=\"background-color:yellow\">note: pas le film recherché</span>):\n",
    "<div style=\"border:1px solid black; padding:10px\">\n",
    "  <h1>Venom: Let There Be Carnage</h1>\n",
    "  <p>Environ un an après avoir affronté Riot, Eddie Brock « cohabite » toujours avec le symbiote Venom. Alors qu’il tente de relancer sa carrière de journaliste d'investigation, Eddie se rend en prison pour interviewer le tueur en série Cletus Kasady. Il ignore que ce dernier est lui aussi l'hôte d'un symbiote, Carnage.<p/>\n",
    "  <img src=\"https://image.tmdb.org/t/p/w154/hDfk9MgZeJvR79KeapPuOgNDl27.jpg\">\n",
    "</div>"
   ]
  },
  {
   "cell_type": "code",
   "execution_count": 3,
   "metadata": {
    "deletable": false,
    "nbgrader": {
     "cell_type": "code",
     "checksum": "acf7a6490162e97621c1f0de7e8073af",
     "grade": true,
     "grade_id": "q4-reponse",
     "locked": false,
     "points": 1,
     "schema_version": 3,
     "solution": true
    }
   },
   "outputs": [
    {
     "data": {
      "text/html": [
       "\n",
       "  <h1>Dune</h1>\n",
       "  <p>L'histoire de Paul Atreides, jeune homme aussi doué que brillant, voué à connaître un destin hors du commun qui le dépasse totalement. Car, s'il veut préserver l'avenir de sa famille et de son peuple, il devra se rendre sur Dune, la planète la plus dangereuse de l'Univers. Mais aussi la seule à même de fournir la ressource la plus précieuse capable de décupler la puissance de l'Humanité. Tandis que des forces maléfiques se disputent le contrôle de cette planète, seuls ceux qui parviennent à dominer leur peur pourront survivre…<p/>\n",
       "  <img src=\"https://image.tmdb.org/t/p/w185//qpyaW4xUPeIiYA5ckg5zAZFHvsb.jpg\">"
      ]
     },
     "execution_count": 3,
     "metadata": {},
     "output_type": "execute_result"
    }
   ],
   "source": [
    "//console.log(donneesJSON.results['vote_count'])\n",
    "var maxVote = 0;\n",
    "for (var donnee of donneesJSON.results){\n",
    "    if (donnee['vote_count'] > maxVote){\n",
    "        maxVote = donnee['vote_count'];\n",
    "    }\n",
    "}\n",
    "for (var donnee of donneesJSON.results){\n",
    "    if (donnee['vote_count'] === maxVote){\n",
    "        var filmPoster = donnee['poster_path'];\n",
    "        var filmTitre = donnee['title'];\n",
    "        var filmDescription = donnee['overview'];\n",
    "    }\n",
    "}\n",
    "var poster = filmPoster;\n",
    "var titre = filmTitre;\n",
    "var description = filmDescription;\n",
    "$$.html(`\n",
    "  <h1>${titre}</h1>\n",
    "  <p>${description}<p/>\n",
    "  <img src=\"https://image.tmdb.org/t/p/w185/${poster}\">`);"
   ]
  },
  {
   "cell_type": "code",
   "execution_count": 69,
   "metadata": {
    "deletable": false,
    "editable": false,
    "nbgrader": {
     "cell_type": "code",
     "checksum": "a3574a0ff3230af820a1d4035465cf66",
     "grade": true,
     "grade_id": "cell-f85ee74b174cdd51",
     "locked": true,
     "points": 2,
     "schema_version": 3,
     "solution": false
    }
   },
   "outputs": [],
   "source": [
    "var assert = require('assert');\n",
    "assert(poster.endsWith('YA5ckg5zAZFHvsb.jpg'), 'Mauvaise image pour l\\'affiche');\n",
    "assert(titre.startsWith('Dun'), 'Mauvais titre');\n",
    "assert(description.startsWith('L\\'histoire de Paul Atreides'), 'Mauvaise description')"
   ]
  },
  {
   "cell_type": "code",
   "execution_count": null,
   "metadata": {},
   "outputs": [],
   "source": []
  }
 ],
 "metadata": {
  "kernelspec": {
   "display_name": "Javascript (Node.js)",
   "language": "javascript",
   "name": "javascript"
  },
  "language_info": {
   "file_extension": ".js",
   "mimetype": "application/javascript",
   "name": "javascript",
   "version": "10.13.0"
  }
 },
 "nbformat": 4,
 "nbformat_minor": 2
}
