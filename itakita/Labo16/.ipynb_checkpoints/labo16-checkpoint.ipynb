{
 "cells": [
  {
   "cell_type": "markdown",
   "metadata": {},
   "source": [
    "Before you turn this problem in, make sure everything runs as expected. First, **restart the kernel** (in the menubar, select Kernel$\\rightarrow$Restart) and then **run all cells** (in the menubar, select Cell$\\rightarrow$Run All).\n",
    "\n",
    "Make sure you fill in any place that says `YOUR CODE HERE` or \"YOUR ANSWER HERE\", as well as your name and collaborators below:"
   ]
  },
  {
   "cell_type": "code",
   "execution_count": null,
   "metadata": {},
   "outputs": [],
   "source": [
    "NAME = \"Itaka Kitambala\"\n",
    "COLLABORATORS = \"\""
   ]
  },
  {
   "cell_type": "markdown",
   "metadata": {},
   "source": [
    "---"
   ]
  },
  {
   "cell_type": "markdown",
   "metadata": {},
   "source": [
    "###### <img style='margin-right:0' src=\"http://dinfo.ca/logoDptInfo.jpg\" width=300>\n",
    "\n",
    "# Laboratoire #16 (Python)\n",
    "---"
   ]
  },
  {
   "cell_type": "markdown",
   "metadata": {
    "collapsed": true,
    "deletable": false,
    "editable": false,
    "nbgrader": {
     "cell_type": "markdown",
     "checksum": "8e04214c48cb216e706a43688b09ae3f",
     "grade": false,
     "grade_id": "q1-enonce",
     "locked": true,
     "schema_version": 3,
     "solution": false
    }
   },
   "source": [
    "---\n",
    "#### Question #1 (3 points) \n",
    "\n",
    "Nous avons une collection de chaînes décrivant les achats de la journée.  \n",
    "\n",
    "> On ne considère que les **nombres entiers**.\n",
    "\n",
    "On veut extraire, **via les expressions régulières**, les montants d'argent et afficher le total des dépenses pour la journée.\n",
    "\n",
    "**Résultat attendu**:\n",
    "\n",
    "```\n",
    "Total des dépenses: 70$\n",
    "```"
   ]
  },
  {
   "cell_type": "code",
   "execution_count": null,
   "metadata": {
    "deletable": false,
    "nbgrader": {
     "cell_type": "code",
     "checksum": "468c039f8da48bfaf68655e3703553f4",
     "grade": true,
     "grade_id": "q1-reponse",
     "locked": false,
     "points": 2,
     "schema_version": 3,
     "solution": true
    }
   },
   "outputs": [],
   "source": [
    "achats = [\n",
    "    \"Achat 50$ chez BestBuy\",\n",
    "    \"Paiement 5$ pour stationnement\",\n",
    "    \"Cinéma: 4$ popcorn, 3$ boisson\",\n",
    "    \"Dîner à la cafétéria: 8$\"\n",
    "]\n",
    "\n",
    "somme = 0\n",
    "\n",
    "print('Total des dépenses: %i$' % somme)"
   ]
  },
  {
   "cell_type": "code",
   "execution_count": null,
   "metadata": {
    "deletable": false,
    "editable": false,
    "nbgrader": {
     "cell_type": "code",
     "checksum": "2a3bf81becd554b15474304ce0ec601f",
     "grade": true,
     "grade_id": "q1-validation",
     "locked": true,
     "points": 1,
     "schema_version": 3,
     "solution": false
    }
   },
   "outputs": [],
   "source": [
    "assert somme == 70"
   ]
  },
  {
   "cell_type": "markdown",
   "metadata": {
    "collapsed": true,
    "deletable": false,
    "editable": false,
    "nbgrader": {
     "cell_type": "markdown",
     "checksum": "4bca9d045b6b04eb92c8ec5c57f0a95e",
     "grade": false,
     "grade_id": "q2-enonce",
     "locked": true,
     "schema_version": 3,
     "solution": false
    }
   },
   "source": [
    "---\n",
    "#### Question #2 (2 points)\n",
    "\n",
    "On souhaite vadider si un numéro de téléphone est valide ou non.\n",
    "\n",
    "Le format est:\n",
    "```\n",
    "(999) 999-9999\n",
    "```\n",
    "* parenthèses avec trois chiffres\n",
    "* espace\n",
    "* trois chiffres\n",
    "* tiret\n",
    "* quatre chiffres\n",
    "\n",
    "**Résultats attendus**:\n",
    "\n",
    "```\n",
    "VALIDE: (555) 555-5555\n",
    "VALIDE: (418) 418-0000\n",
    "Ce numéro est invalide: (41) 331-1111\n",
    "Ce numéro est invalide: (418) 33-1111\n",
    "Ce numéro est invalide: (418) 331-111\n",
    "```"
   ]
  },
  {
   "cell_type": "code",
   "execution_count": null,
   "metadata": {
    "deletable": false,
    "nbgrader": {
     "cell_type": "code",
     "checksum": "25ce80e541433a988a59f62ef8a15024",
     "grade": true,
     "grade_id": "q2-reponse",
     "locked": false,
     "points": 2,
     "schema_version": 3,
     "solution": true
    }
   },
   "outputs": [],
   "source": [
    "import re\n",
    "telephones = [\n",
    "    \"(555) 555-5555\",\n",
    "    \"(418) 418-0000\",\n",
    "    \"(41) 331-1111\",\n",
    "    \"(418) 33-1111\",\n",
    "    \"(418) 331-111\"\n",
    "]\n",
    "\n",
    "for unNumero in telephones:\n",
    "# VOTRE CODIFICATION (et supprimer la ligne suivante\n",
    "raise NotImplementedError()"
   ]
  },
  {
   "cell_type": "markdown",
   "metadata": {
    "deletable": false,
    "editable": false,
    "nbgrader": {
     "cell_type": "markdown",
     "checksum": "709096d3106377118ede319b4c9c27a3",
     "grade": false,
     "grade_id": "q3-enonce",
     "locked": true,
     "schema_version": 3,
     "solution": false
    }
   },
   "source": [
    "---\n",
    "#### Question #3 (2 points) \n",
    "\n",
    "On veut valider si une date est valide.\n",
    "\n",
    "Le format est:\n",
    "```\n",
    "AAAA-MM-JJ\n",
    "```\n",
    "* l'année est représentée sur quatre chiffres\n",
    "* tiret\n",
    "* le mois\n",
    "    * 0 suivi d'un chiffre entre 1 et 9 \n",
    "    * OU BIEN\n",
    "    * 1 suivi de 0, 1 ou 2\n",
    "* tiret\n",
    "* le jour\n",
    "    * 0, 1 ou 2 suivi d'un chiffre\n",
    "    * OU BIEN\n",
    "    * 3 suivi de 0 ou 1\n",
    "\n",
    "**Résultats attendus**:\n",
    "\n",
    "```\n",
    "VALIDE: 2025-12-05\n",
    "VALIDE: 2025-01-01\n",
    "VALIDE: 2025-01-19\n",
    "VALIDE: 2025-01-25\n",
    "VALIDE: 2025-01-30\n",
    "VALIDE: 2025-01-31\n",
    "VALIDE: 2025-12-10\n",
    "Cette date est invalide: 202-12-10\n",
    "Cette date est invalide: 2025-13-10\n",
    "Cette date est invalide: 2025-12-41\n",
    "Cette date est invalide: 2025-12-32\n",
    "```"
   ]
  },
  {
   "cell_type": "code",
   "execution_count": null,
   "metadata": {
    "deletable": false,
    "nbgrader": {
     "cell_type": "code",
     "checksum": "27b0db5b5a726152bc5b8cc3e6e7f487",
     "grade": true,
     "grade_id": "q3-reponse",
     "locked": false,
     "points": 2,
     "schema_version": 3,
     "solution": true
    }
   },
   "outputs": [],
   "source": [
    "import re\n",
    "dates = [\n",
    "    \"2025-12-05\",\n",
    "    \"2025-01-01\",\n",
    "    \"2025-01-19\",\n",
    "    \"2025-01-25\",\n",
    "    \"2025-01-30\",\n",
    "    \"2025-01-31\",\n",
    "    \"2025-12-10\",\n",
    "    \"202-12-10\",\n",
    "    \"2025-13-10\",\n",
    "    \"2025-12-41\",\n",
    "    \"2025-12-32\"\n",
    "]\n",
    "\n",
    "for uneDate in dates:\n",
    "# VOTRE CODIFICATION (et supprimer la ligne suivante\n",
    "raise NotImplementedError()"
   ]
  },
  {
   "cell_type": "markdown",
   "metadata": {
    "deletable": false,
    "editable": false,
    "nbgrader": {
     "cell_type": "markdown",
     "checksum": "8569826b7c6ffc81365a8dc12f8456bc",
     "grade": false,
     "grade_id": "q4-enonce",
     "locked": true,
     "schema_version": 3,
     "solution": false
    }
   },
   "source": [
    "---\n",
    "#### Question #4 (3 points)\n",
    "\n",
    "Placer dans les variables (`exprA` à `exprE`) les expressions régulières répondant aux énoncés ci-dessous.\n",
    "\n",
    "a) Débute par THX suivi d'un numéro sur 4 chiffres\n",
    "\n",
    "b) Possède les lettres NT suivies de 2 à 4 caractères parmi \"XYZ\"\n",
    "\n",
    "c) Possède le mot 'Monsieur' ou 'Madame'\n",
    "\n",
    "d) On peut écrire l'animal fabuleux renaissant de ses cendres de deux façons: Phoenix ou Phenix.  On remarque que la lettre 'o' est optionnelle dans ce mot (ne pas utiliser la barre verticale).\n",
    "\n",
    "e) Valider si un nombre sur deux digits hexadécimaux est valide. (ex: 00, CA, 9A, ...).  \n",
    "> Note: lettres en majuscules pour les valeurs 10 à 15."
   ]
  },
  {
   "cell_type": "code",
   "execution_count": null,
   "metadata": {
    "deletable": false,
    "nbgrader": {
     "cell_type": "code",
     "checksum": "8ee0903edc55a17ce163208d44d8ceb3",
     "grade": true,
     "grade_id": "q4-reponse",
     "locked": false,
     "points": 1,
     "schema_version": 3,
     "solution": true
    }
   },
   "outputs": [],
   "source": [
    "exprA = r'';\n",
    "exprB = r'';\n",
    "exprC = r'';\n",
    "exprD = r'';\n",
    "exprE = r'';\n",
    "\n",
    "# VOTRE CODIFICATION (et supprimer la ligne suivante\n",
    "raise NotImplementedError()"
   ]
  },
  {
   "cell_type": "code",
   "execution_count": null,
   "metadata": {
    "deletable": false,
    "editable": false,
    "nbgrader": {
     "cell_type": "code",
     "checksum": "b526f8c6fa2f6f09852806be8897cde2",
     "grade": true,
     "grade_id": "cell-0b632ed2172c194f",
     "locked": true,
     "points": 2,
     "schema_version": 3,
     "solution": false
    }
   },
   "outputs": [],
   "source": [
    "import re\n",
    "assert re.search(exprA, 'THX1138'),     'test #A1'\n",
    "assert re.search(exprA, 'THX0000'),     'test #A2'\n",
    "assert re.search(exprA, 'THX9999'),     'test #A3'\n",
    "assert not re.search(exprA, 'THW1138'), 'test #A4'\n",
    "assert not re.search(exprA, 'THX113'),  'test #A5'\n",
    "assert not re.search(exprA, 'THXX138'), 'test #A6'\n",
    "assert not re.search(exprA, '1138THX'), 'test #A7'\n",
    "assert not re.search(exprA, 'THW1138'), 'test #A8'\n",
    "\n",
    "assert re.search(exprB, 'NTXY'),        'test #B1'\n",
    "assert re.search(exprB, 'NTXXXX'),      'test #B2'\n",
    "assert re.search(exprB, 'NTZZZZ'),      'test #B3'\n",
    "assert re.search(exprB, 'NTYY'),        'test #B4'\n",
    "assert re.search(exprB, 'NTYZX'),       'test #B5'\n",
    "assert not re.search(exprB, 'TNXY'),    'test #B6'\n",
    "assert not re.search(exprB, 'NTX'),     'test #B7'\n",
    "assert not re.search(exprB, 'NBZZZZ'),  'test #B8'\n",
    "assert not re.search(exprB, 'NTZAZZ'),  'test #B9'\n",
    "\n",
    "\n",
    "assert re.search(exprC, 'Monsieur Bernard'), 'test #C1'\n",
    "assert re.search(exprC, 'Madame Demers'),    'test #C2'\n",
    "assert not re.search(exprC, 'M. Demers'),    'test #C3'\n",
    "assert not re.search(exprC, 'Mme Demers'),   'test #C4'\n",
    "assert re.search(exprC, 'Oui, Monsieur'),    'test #C5'\n",
    "assert re.search(exprC, 'Monsieur'),         'test #C6'\n",
    "\n",
    "assert re.search(exprD, 'Phenix'),       'test #D1'\n",
    "assert re.search(exprD, 'Phoenix'),      'test #D2'\n",
    "assert not re.search(exprD, 'oenix'),    'test #D3'\n",
    "assert not re.search(exprD, 'Phoe'),     'test #D4'\n",
    "assert not re.search(exprD, 'Phoeenix'), 'test #D5'\n",
    "assert not re.search(exprD, 'Pheonix'),  'test #D6'\n",
    "\n",
    "for v in range(256):\n",
    "    assert re.search(exprE, \"%02X\" % v), 'test #E%i' % (v+1)\n",
    "assert not re.search(exprE, \"X2\"), 'test #E257'\n",
    "assert not re.search(exprE, \"AG\"), 'test #E258'\n",
    "assert not re.search(exprE, \"2\"),  'test #E259'\n",
    "assert not re.search(exprE, \"C\"),  'test #E260'"
   ]
  }
 ],
 "metadata": {
  "kernelspec": {
   "display_name": "Python 3",
   "language": "python",
   "name": "python3"
  },
  "language_info": {
   "codemirror_mode": {
    "name": "ipython",
    "version": 3
   },
   "file_extension": ".py",
   "mimetype": "text/x-python",
   "name": "python",
   "nbconvert_exporter": "python",
   "pygments_lexer": "ipython3",
   "version": "3.7.7"
  }
 },
 "nbformat": 4,
 "nbformat_minor": 2
}
