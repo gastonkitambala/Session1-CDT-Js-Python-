{
 "cells": [
  {
   "cell_type": "markdown",
   "metadata": {},
   "source": [
    "<img style='margin-right:0' src=\"http://dinfo.ca/logoDptInfo.jpg\" width=300>\n",
    "\n",
    "# Référence JavaScript (collections ordonnées)\n",
    "---"
   ]
  },
  {
   "cell_type": "markdown",
   "metadata": {},
   "source": [
    "# Array\n",
    "\n",
    "**Propriété**\n",
    "\n",
    "> length\n",
    "\n",
    "**Méthodes de classe**\n",
    "\n",
    "> Array.from()\n",
    "\n",
    "**Méthodes**\n",
    "\n",
    "| Mutateurs | Accesseurs    | Itération   |\n",
    "|-----------|---------------|-------------|\n",
    "| fill()    | concat()      | entries()   |\n",
    "| pop()     | includes()    | every()     |\n",
    "| push()    | indexOf()     | filter()    |\n",
    "| reverse() | join()        | find()      |\n",
    "| shift()   | lastIndexOf() | findIndex() |\n",
    "| sort()    | slice()       | forEach()   | \n",
    "| splice()  | toString()    | keys()      |\n",
    "| unshift() | &nbsp;        | map()       |\n",
    "| &nbsp;    | &nbsp;        | reduce()    |\n",
    "| &nbsp;    | &nbsp;        | some()      |"
   ]
  },
  {
   "cell_type": "markdown",
   "metadata": {},
   "source": [
    "# Création (syntaxe)\n",
    "\n",
    "```javascript\n",
    "[element0, element1, ..., elementN]\n",
    "new Array(element0, element1[, ...[, elementN]])\n",
    "new Array(arrayLength)\n",
    "```\n",
    "\n",
    "#### Créer une liste vide\n",
    "\n",
    "```javascript\n",
    "maListe = [];           // Façon #1\n",
    "maListe = new Array();  // Façon #2\n",
    "maListe = Array();      // Façon #3\n",
    "```\n",
    "\n",
    "#### Créer une liste de valeurs\n",
    "\n",
    "```javascript\n",
    "nombres = [1,2,4,8,16,32,64,128];\n",
    "cartes = new Array('2C', 'AK', '9P', 'RP', '5C');\n",
    "``` \n",
    "\n",
    "#### Cas particulier (`new Array(arrayLength)`)\n"
   ]
  },
  {
   "cell_type": "code",
   "execution_count": null,
   "metadata": {},
   "outputs": [],
   "source": [
    "var casiers = new Array(5);\n",
    "casiers[1] = 'Adam';\n",
    "console.log(casiers);\n",
    "console.log('Premier casier: ' + (casiers[0] === undefined));\n",
    "console.log(' Second casier: ' + (casiers[1] === undefined));"
   ]
  },
  {
   "cell_type": "markdown",
   "metadata": {},
   "source": [
    "## Accéder aux éléments d'un array\n",
    "\n",
    "* Premier élément: indice à zéro\n",
    "* Ne supporte pas les indices négatifs\n",
    "* Accéder à un élément en dehors de la collection donne `undefined`"
   ]
  },
  {
   "cell_type": "code",
   "execution_count": null,
   "metadata": {},
   "outputs": [],
   "source": [
    "var lettres = ['A', 'B', 'C'];\n",
    "console.log(\"Première lettre : \" + lettres[0]);\n",
    "console.log(\"Deuxième lettre : \" + lettres[1]);\n",
    "console.log(\"Troisième lettre: \" + lettres[2]);\n",
    "console.log(\"Test #1: \" + (lettres[-1] === undefined));\n",
    "console.log(\"Test #2: \" + (lettres[3] === undefined));"
   ]
  },
  {
   "cell_type": "markdown",
   "metadata": {},
   "source": [
    "---\n",
    "# Propriété `length`\n",
    "\n",
    "* Retourne le nombre d'éléments de la collection\n",
    "* Peut modifier la taille de la collection directement\n",
    "    * coupe (élimine) les éléments si rapetisse la taille\n",
    "    * extensionne la collection en ajoutant des éléments `undefined`"
   ]
  },
  {
   "cell_type": "code",
   "execution_count": null,
   "metadata": {},
   "outputs": [],
   "source": [
    "var rangee = ['libre', 'libre', 'libre', 'réservé', 'libre'];\n",
    "console.log(`Cette rangée comporte ${rangee.length} siège${rangee.length > 1 ? 's' : ''}`);\n",
    "// Modifier la longueur: retirer le dernier siège de la rangée\n",
    "rangee.length--;\n",
    "console.log(`Cette rangée comporte ${rangee.length} siège${rangee.length > 1 ? 's' : ''}`);\n",
    "// Ajouter deux sièges\n",
    "rangee.length += 2;\n",
    "console.log(`Cette rangée comporte ${rangee.length} siège${rangee.length > 1 ? 's' : ''}`);\n",
    "console.log(rangee);\n",
    "rangee[4] = rangee[5] = 'libre';\n",
    "console.log(`Cette rangée comporte ${rangee.length} siège${rangee.length > 1 ? 's' : ''}`);\n",
    "console.log(rangee);\n",
    "rangee[7] = 'libre'; // assigner un 8e siège... \n",
    "console.log(`Cette rangée comporte ${rangee.length} siège${rangee.length > 1 ? 's' : ''}`);\n",
    "console.log(rangee);"
   ]
  },
  {
   "cell_type": "markdown",
   "metadata": {},
   "source": [
    "---\n",
    "# Méthode de classe\n"
   ]
  },
  {
   "cell_type": "markdown",
   "metadata": {},
   "source": [
    "**Méthode <span style=\"color:red;font-family:courier;\">Array.from()</span> -- Créer une nouvelle instance d'Array à partir d'une collection ou d'un itérable**\n",
    "\n",
    "#### Syntaxe:\n",
    "\n",
    "`Array.from(arrayLike [, fonctionMap[, thisArg]])`\n",
    "\n",
    "> 2e paramètre: [concept avancé](https://developer.mozilla.org/fr/docs/Web/JavaScript/Reference/Objets_globaux/Array/from)\n",
    "\n",
    "#### Usages courants:"
   ]
  },
  {
   "cell_type": "code",
   "execution_count": null,
   "metadata": {},
   "outputs": [],
   "source": [
    "// Cloner une collection\n",
    "var original = [1,2,3];\n",
    "copie = Array.from(original);\n",
    "copie[2] = 4;\n",
    "console.log('Original: ', original);\n",
    "console.log('Copie   : ', copie);"
   ]
  },
  {
   "cell_type": "code",
   "execution_count": null,
   "metadata": {},
   "outputs": [],
   "source": [
    "// Copie en surface???\n",
    "var original = [ [1,2], [3,4] ];\n",
    "var copie = Array.from(original);\n",
    "copie.push([5,6]);\n",
    "original[0][0] = -1;\n",
    "console.log('Original: ', original);\n",
    "console.log('Copie   : ', copie);"
   ]
  },
  {
   "cell_type": "code",
   "execution_count": null,
   "metadata": {},
   "outputs": [],
   "source": [
    "console.log(Array.from(\"Informatique\"));\n",
    "console.log(\"Informatique\".split(''));"
   ]
  },
  {
   "cell_type": "markdown",
   "metadata": {},
   "source": [
    "---\n",
    "# Méthodes (mutateurs)\n",
    "\n",
    "\n",
    "> fill()\n",
    "\n",
    "> pop() \n",
    "\n",
    "> push()\n",
    "\n",
    "> reverse()\n",
    "\n",
    "> shift()\n",
    "\n",
    "> sort() \n",
    "\n",
    "> splice()\n",
    "\n",
    "> unshift()\n",
    "\n",
    "* Mutateurs: changent la collection"
   ]
  },
  {
   "cell_type": "markdown",
   "metadata": {},
   "source": [
    "Mutateur: **Méthode <span style=\"color:red;font-family:courier;\">fill(valeur[,debut[,fin]])</span> -- Remplir avec une valeur**\n",
    "\n",
    "* Indice de fin (exclusif)"
   ]
  },
  {
   "cell_type": "code",
   "execution_count": null,
   "metadata": {},
   "outputs": [],
   "source": [
    "var rangee = Array(6).fill('libre');\n",
    "console.log(rangee);\n",
    "rangee.fill('réservé', 2,  5); // réserver du 3e siège au 5e (indices 2 à 4 incl)\n",
    "console.log(rangee);\n",
    "var secondeRangee = ['réservé', 'réservé', 'réservé', 'réservé', 'réservé', 'réservé'];\n",
    "secondeRangee.fill('libre', -2); // libérer les deux derniers sièges de la rangée\n",
    "console.log(secondeRangee);"
   ]
  },
  {
   "cell_type": "markdown",
   "metadata": {},
   "source": [
    "Mutateur: **Méthode <span style=\"color:red;font-family:courier;\">pop()</span> -- Supprimer le dernier élément et retourne cette valeur**\n",
    "\n",
    "* retourne `undefined` si la collection est vide"
   ]
  },
  {
   "cell_type": "code",
   "execution_count": null,
   "metadata": {},
   "outputs": [],
   "source": [
    "var prenoms = ['Adam', 'Bernard', 'Charles'];\n",
    "console.log('Pop: ' + prenoms.pop());\n",
    "console.log('prenoms: ', prenoms);\n",
    "console.log('Pop: ' + prenoms.pop());\n",
    "console.log('prenoms: ', prenoms);\n",
    "console.log('Pop: ' + prenoms.pop());\n",
    "console.log('prenoms: ', prenoms);\n",
    "console.log('Pop (undefined): ' + (prenoms.pop() === undefined));\n",
    "console.log('prenoms: ', prenoms);\n",
    "console.log('---------');\n",
    "var valeurs = [2,4,8,16];\n",
    "var dernier = valeurs.pop();\n",
    "console.log('dernier : ' + dernier);\n",
    "console.log('valeurs : ', valeurs);\n",
    "// supprimer le dernier item sans récupérer la valeur\n",
    "valeurs.pop();\n",
    "console.log('valeurs : ', valeurs);"
   ]
  },
  {
   "cell_type": "markdown",
   "metadata": {},
   "source": [
    "Mutateur: **Méthode <span style=\"color:red;font-family:courier;\">push()</span> -- Ajoute un ou plusieurs éléments à la fin de la collection.**\n",
    "\n",
    "* retourne la nouvelle taille de la collection"
   ]
  },
  {
   "cell_type": "code",
   "execution_count": null,
   "metadata": {},
   "outputs": [],
   "source": [
    "var valeurs = [2,3,4];\n",
    "valeurs.push(5);\n",
    "console.log('valeurs:', valeurs);\n",
    "var nouvelleTaille = valeurs.push(6,7,8);\n",
    "console.log('valeurs:', valeurs);\n",
    "console.log('taille :', nouvelleTaille);\n",
    "console.log('taille :', valeurs.length);"
   ]
  },
  {
   "cell_type": "code",
   "execution_count": null,
   "metadata": {},
   "outputs": [],
   "source": [
    "// Ajout avec opérateur de décomposition (spread)\n",
    "var valeurs = [2,3,4];\n",
    "var ajouts = [5,6,7];\n",
    "valeurs.push(...ajouts);\n",
    "console.log('valeurs:', valeurs);\n",
    "console.log('ajouts :', ajouts);\n",
    "ajouts[0] = 100;\n",
    "console.log('valeurs:', valeurs);\n",
    "console.log('ajouts :', ajouts);"
   ]
  },
  {
   "cell_type": "markdown",
   "metadata": {},
   "source": [
    "Mutateur: **Méthode <span style=\"color:red;font-family:courier;\">reverse()</span> -- Transpose (inverse) les éléments de la collection**\n",
    "\n",
    "* retourne le tableau inversé (en plus de faire la mise à jour du tableau)"
   ]
  },
  {
   "cell_type": "code",
   "execution_count": null,
   "metadata": {},
   "outputs": [],
   "source": [
    "var valeurs = [5,2,10,8];\n",
    "console.log('valeurs:', valeurs);\n",
    "console.log('valeurs:', valeurs.reverse());\n",
    "console.log('valeurs:', valeurs);\n",
    "valeurs.reverse();\n",
    "console.log('valeurs:', valeurs);"
   ]
  },
  {
   "cell_type": "markdown",
   "metadata": {},
   "source": [
    "Mutateur: **Méthode <span style=\"color:red;font-family:courier;\">shift()</span> -- Retire le premier élément de la collection**\n",
    "\n",
    "* retourne l'élément retiré\n",
    "* retourne `undefined` lorsque la collection est vide"
   ]
  },
  {
   "cell_type": "code",
   "execution_count": null,
   "metadata": {},
   "outputs": [],
   "source": [
    "var prenoms = ['Adam', 'Bernard', 'Charles'];\n",
    "console.log('Élément retiré  :', prenoms.shift());\n",
    "console.log('collection après:', prenoms);\n",
    "var item = prenoms.shift();\n",
    "console.log('Élément retiré  :', item);\n",
    "console.log('collection après:', prenoms);\n",
    "prenoms.shift(); // retrait sans récupérer la valeur\n",
    "console.log('collection après:', prenoms);\n",
    "console.log('Retrait (undefined):', prenoms.shift() === undefined);"
   ]
  },
  {
   "cell_type": "markdown",
   "metadata": {},
   "source": [
    "Mutateur: **Méthode <span style=\"color:red;font-family:courier;\">sort()</span> -- Trie les éléments de la collection**\n",
    "\n",
    "* retourne la collection triée (la collection d'origine est modifiée)\n",
    "\n",
    "**Syntaxes**:\n",
    "```\n",
    "  arr.sort()\n",
    "  arr.sort(fonctionComparaison)\n",
    "```"
   ]
  },
  {
   "cell_type": "code",
   "execution_count": 1,
   "metadata": {},
   "outputs": [
    {
     "name": "stdout",
     "output_type": "stream",
     "text": [
      "valeurs:  [ 1, 2, 3, 4, 5, 6, 7, 8, 9 ]\n",
      "valeurs:  [ 9, 8, 7, 6, 5, 4, 3, 2, 1 ]\n"
     ]
    }
   ],
   "source": [
    "var valeurs = [6,2,5,8,9,1,3,7,4];\n",
    "valeurs.sort();\n",
    "console.log('valeurs: ', valeurs);\n",
    "\n",
    "valeurs = [6,2,5,8,9,1,3,7,4];\n",
    "\n",
    "valeurs.sort().reverse();\n",
    "console.log('valeurs: ', valeurs);"
   ]
  },
  {
   "cell_type": "code",
   "execution_count": null,
   "metadata": {},
   "outputs": [],
   "source": [
    "var eleves = ['Denis','Bernard','Adam','alice', 'abe','Charles-Etienne'];\n",
    "eleves.sort();\n",
    "console.log('eleves: ', eleves);\n",
    "\n",
    "eleves.sort((a,b) => a.length - b.length); // Trier par longueur\n",
    "console.log('eleves:', eleves);\n",
    "\n",
    "eleves.sort((a,b) => a.toLowerCase().localeCompare(b.toLowerCase())); // Trier sans casse de caractères\n",
    "console.log('eleves:', eleves);"
   ]
  },
  {
   "cell_type": "code",
   "execution_count": 2,
   "metadata": {},
   "outputs": [
    {
     "name": "stdout",
     "output_type": "stream",
     "text": [
      "valeurs: [ 1, 3, 5, 7, 9, 2, 4, 6, 8 ]\n"
     ]
    }
   ],
   "source": [
    "var valeurs = [6,2,5,8,9,1,3,7,4];\n",
    "function comparateursImpairsPairs(x,y) {\n",
    "    var resultat;\n",
    "    if(x % 2 == y % 2)\n",
    "        // deux nombres pairs ou deux nombres impairs\n",
    "        resultat = x - y;\n",
    "    else\n",
    "        resultat = (x % 2 == 0) ? 1 : -1;\n",
    "    return resultat;\n",
    "}\n",
    "        \n",
    "valeurs.sort(comparateursImpairsPairs);\n",
    "console.log('valeurs:', valeurs);"
   ]
  },
  {
   "cell_type": "markdown",
   "metadata": {},
   "source": [
    "Mutateur: **Méthode <span style=\"color:red;font-family:courier;\">splice()</span> -- Retirer et/ou ajouter des nouveaux éléments**\n",
    "\n",
    "* modifie le contenu d'un tableau en retirant des éléments et/ou en ajoutant de nouveaux éléments à même le tableau.  On peut ainsi vider ou remplacer une partie d'un tableau.\n",
    "\n",
    "\n",
    "**Syntaxes**:\n",
    "```\n",
    "array.splice(début, nbASupprimer[, élem1[, élem2[, ...]]])\n",
    "```\n",
    "* l'indice de `début` peut être négatif (part de la fin)\n",
    "* `nbASupprimer`: 0 ou plus\n",
    "* retourne une collection des éléments supprimés."
   ]
  },
  {
   "cell_type": "code",
   "execution_count": 1,
   "metadata": {},
   "outputs": [
    {
     "name": "stdout",
     "output_type": "stream",
     "text": [
      "prenoms: [ 'Adam', 'Charles', 'France' ]\n",
      "prenoms: [ 'Adam', 'Bernard', 'Charles', 'France' ]\n",
      "prenoms: [ 'Adam', 'Bernard', 'Charles', 'Denis', 'Eric', 'France' ]\n",
      "Prénoms retirés: [ 'Bernard', 'Charles', 'Denis' ]\n",
      "prenoms: [ 'Adam', 'Eric', 'France' ]\n",
      "prenoms: [ 'Adam', 'Bernard', 'Charles', 'Denis', 'Eric', 'France' ]\n",
      "prenoms: [ 'Adam', 'Béatrice', 'Caroline', 'Denis', 'Eric', 'France' ]\n"
     ]
    }
   ],
   "source": [
    "var prenoms = ['Adam','Charles','France'];\n",
    "console.log('prenoms:', prenoms);\n",
    "prenoms.splice(1, 0, 'Bernard');\n",
    "console.log('prenoms:', prenoms);\n",
    "prenoms.splice(3, 0, 'Denis','Eric');\n",
    "console.log('prenoms:', prenoms);\n",
    "var prenomsRetires = prenoms.splice(1, 3);\n",
    "console.log('Prénoms retirés:', prenomsRetires);\n",
    "console.log('prenoms:', prenoms);\n",
    "prenoms.splice(1, 0, ...prenomsRetires);\n",
    "console.log('prenoms:', prenoms);\n",
    "prenoms.splice(1, 2, 'Béatrice', 'Caroline');\n",
    "console.log('prenoms:', prenoms);"
   ]
  },
  {
   "cell_type": "markdown",
   "metadata": {},
   "source": [
    "Mutateur: **Méthode <span style=\"color:red;font-family:courier;\">unshift()</span> -- Ajoute un ou plusieurs éléments au début de la collection et renvoie la nouvelle longueur de la collection**\n",
    "\n",
    "* retourne la nouvelle longueur de la collection\n",
    "\n",
    "**Syntaxes**:\n",
    "```\n",
    "   arr.unshift([élém1[, ...[, élémN]]])\n",
    "```"
   ]
  },
  {
   "cell_type": "markdown",
   "metadata": {},
   "source": [
    "### var prenoms = ['Denis', 'Eric'];\n",
    "console.log('prenoms:', prenoms);\n",
    "prenoms.unshift('Charles');\n",
    "console.log('prenoms:', prenoms);\n",
    "prenoms.unshift('Adam','Bernard');\n",
    "console.log('prenoms:', prenoms);"
   ]
  },
  {
   "cell_type": "markdown",
   "metadata": {},
   "source": [
    "---\n",
    "# Méthodes (accesseurs)\n",
    "\n",
    "> concat()    \n",
    "\n",
    "> includes()  \n",
    "\n",
    "> indexOf()   \n",
    "\n",
    "> join()      \n",
    "\n",
    "> lastIndexOf()\n",
    "\n",
    "> slice()     \n",
    "\n",
    "> toString()  \n",
    "\n",
    "* Accesseurs: ne modifient pas la collection, retourne une valeur ou une nouvelle collection"
   ]
  },
  {
   "cell_type": "markdown",
   "metadata": {},
   "source": [
    "Accesseur: **Méthode <span style=\"color:red;font-family:courier;\">concat()</span> -- Concatène les éléments de collection ou des items**\n",
    "\n",
    "* retourne une NOUVELLE collection; la collection d'origine n'est pas modifiée.\n",
    "\n",
    "**Syntaxes**:\n",
    "```\n",
    "   var nouveau_tableau = ancien_tableau.concat(valeur1[, valeur2[, ...[, valeurN]]])\n",
    "```"
   ]
  },
  {
   "cell_type": "code",
   "execution_count": null,
   "metadata": {},
   "outputs": [],
   "source": [
    "var garcons = ['Adam','Bernard','Charles'];\n",
    "var filles = ['Aline','Bianca','Caroline'];\n",
    "var prenoms = garcons.concat(filles);\n",
    "console.log('garcons:', garcons);\n",
    "console.log('filles :', filles);\n",
    "console.log('prenoms:', prenoms);"
   ]
  },
  {
   "cell_type": "code",
   "execution_count": null,
   "metadata": {},
   "outputs": [],
   "source": [
    "var couleurs = ['bleu','rouge'];\n",
    "var nouvellesCouleurs = couleurs.concat('blanc',['vert','jaune']);\n",
    "console.log('couleurs :', couleurs);\n",
    "console.log('nouvelles:', nouvellesCouleurs);"
   ]
  },
  {
   "cell_type": "markdown",
   "metadata": {},
   "source": [
    "Accesseur: **Méthode <span style=\"color:red;font-family:courier;\">includes()</span> -- Détermine si la collection contient un élément**\n",
    "\n",
    "* retourne `true` si présent, `false` si absent\n",
    "\n",
    "**Syntaxes**:\n",
    "```\n",
    "   array.includes(élémentRecherché)\n",
    "   array.includes(élémentRecherché[, indiceDépart])\n",
    "```"
   ]
  },
  {
   "cell_type": "code",
   "execution_count": null,
   "metadata": {},
   "outputs": [],
   "source": [
    "var prenoms = [ 'Adam', 'Bernard', 'Charles', 'Aline', 'Bianca', 'Caroline' ];\n",
    "console.log('Adam  est-il présent?', prenoms.includes('Adam'));\n",
    "console.log('Marco est-il présent?', prenoms.includes('Marco'));"
   ]
  },
  {
   "cell_type": "code",
   "execution_count": null,
   "metadata": {},
   "outputs": [],
   "source": [
    "var rangeeSieges = ['libre', 'réservé', 'réservé', 'réservé'];\n",
    "// Y a-t-il des siègres libres dans la rangée à partir du 2e siège (indice 1)?\n",
    "console.log('Siège libre après le 1er?', rangeeSieges.includes('libre',1));\n",
    "rangeeSieges[2] = 'libre';\n",
    "console.log('Siège libre après le 1er?', rangeeSieges.includes('libre',1));"
   ]
  },
  {
   "cell_type": "markdown",
   "metadata": {},
   "source": [
    "Accesseur: **Méthode <span style=\"color:red;font-family:courier;\">indexOf()</span> -- Renvoie le 1er indice pour l'élément trouvé dans la collection**\n",
    "\n",
    "* retourne -1 si l'élément ne fait pas partie de la collection\n",
    "\n",
    "**Syntaxes**:\n",
    "```\n",
    "   arr.indexOf(élémentRecherché)\n",
    "   arr.indexOf(élémentRecherché, indiceDébut)\n",
    "```"
   ]
  },
  {
   "cell_type": "code",
   "execution_count": null,
   "metadata": {},
   "outputs": [],
   "source": [
    "var prenoms = [ 'Adam', 'Bernard', 'Charles', 'Aline', 'Bianca', 'Caroline' ];\n",
    "console.log('Position de Adam :', prenoms.indexOf('Adam'));\n",
    "console.log('Position de Marco:', prenoms.indexOf('Marco'));\n",
    "console.log('Position de Bianca:', prenoms.indexOf('Bianca'));"
   ]
  },
  {
   "cell_type": "markdown",
   "metadata": {},
   "source": [
    "Accesseur: **Méthode <span style=\"color:red;font-family:courier;\">join()</span> -- Crée une nouvelle chaîne en fusionnant les éléments du tableau**\n",
    "\n",
    "* utilise la `virgule` comme séparateur par défaut\n",
    "\n",
    "**Syntaxes**:\n",
    "```\n",
    "  arr.join()\n",
    "  arr.join(séparateur)\n",
    "```"
   ]
  },
  {
   "cell_type": "code",
   "execution_count": null,
   "metadata": {},
   "outputs": [],
   "source": [
    "var prenoms = [ 'Adam', 'Bernard', 'Charles', 'Aline', 'Bianca', 'Caroline' ];\n",
    "console.log('Présences:', prenoms.join());\n",
    "var presences = prenoms.join(', ');\n",
    "console.log('Présences:', presences);\n",
    "var posDerniereVirgule = presences.lastIndexOf(',');\n",
    "\n",
    "presences = presences.slice(0,posDerniereVirgule) + \n",
    "            ' et' + \n",
    "            presences.slice(posDerniereVirgule+1);\n",
    "console.log('Présences:', presences);"
   ]
  },
  {
   "cell_type": "markdown",
   "metadata": {},
   "source": [
    "Accesseur: **Méthode <span style=\"color:red;font-family:courier;\">lastIndexOf()</span> -- Renvoie le dernier indice pour l'élément trouvé dans la collection**\n",
    "\n",
    "* retourne -1 si l'élément ne fait pas partie de la collection\n",
    "\n",
    "**Syntaxes**:\n",
    "```\n",
    "   arr.lastIndexOf(élémentRecherché)\n",
    "   arr.lastIndexOf(élémentRecherché, indiceDébut)\n",
    "```"
   ]
  },
  {
   "cell_type": "code",
   "execution_count": null,
   "metadata": {},
   "outputs": [],
   "source": [
    "var prenoms = [ 'Adam', 'Bernard', 'Charles', 'Aline', 'Bianca', 'Caroline' ];\n",
    "console.log('Présences:', prenoms.join());\n",
    "var presences = prenoms.join(', ');\n",
    "console.log('Présences:', presences);\n",
    "var posDerniereVirgule = presences.lastIndexOf(',');\n",
    "\n",
    "presences = presences.slice(0,posDerniereVirgule) + \n",
    "            ' et' + \n",
    "            presences.slice(posDerniereVirgule+1);\n",
    "console.log('Présences:', presences);"
   ]
  },
  {
   "cell_type": "markdown",
   "metadata": {},
   "source": [
    "Accesseur: **Méthode <span style=\"color:red;font-family:courier;\">slice()</span> -- Renvoie une nouvelle collection contenant une copie superficielle des éléments**\n",
    "\n",
    "**Syntaxes**:\n",
    "```\n",
    "   arr.slice()\n",
    "   arr.slice(début)\n",
    "   arr.slice(début, fin)\n",
    "```"
   ]
  },
  {
   "cell_type": "code",
   "execution_count": null,
   "metadata": {},
   "outputs": [],
   "source": [
    "var notes = [8,9,10,2,7];\n",
    "console.log('notes:', notes);\n",
    "console.log('notes:', notes.sort( (a,b) => a-b ));\n",
    "notesSansMinMax = notes.slice(1,-1);\n",
    "console.log('notes:', notesSansMinMax);"
   ]
  },
  {
   "cell_type": "markdown",
   "metadata": {},
   "source": [
    "Accesseur: **Méthode <span style=\"color:red;font-family:courier;\">toString()</span> -- Renvoie une chaîne représentant le tableau et ses éléments**"
   ]
  },
  {
   "cell_type": "code",
   "execution_count": null,
   "metadata": {},
   "outputs": [],
   "source": [
    "var notes = [8,9,10,2,7];\n",
    "chaineNotes = notes.toString();\n",
    "console.log('Longueur:', notes.length, ' ->', notes);\n",
    "console.log('Longueur:', chaineNotes.length, '->', chaineNotes);\n",
    "console.log('notes:', notes);\n",
    "console.log('notes: ' + notes);"
   ]
  },
  {
   "cell_type": "code",
   "execution_count": null,
   "metadata": {},
   "outputs": [],
   "source": [
    "var pairs = [2,4,8];\n",
    "var impairs = [3,5,7];\n",
    "var valeurs = pairs + impairs;\n",
    "console.log('valeurs:', valeurs,'oups!');\n",
    "console.log('valeurs:', pairs.concat(impairs));\n",
    "console.log('valeurs:', pairs.concat(impairs).toString());"
   ]
  },
  {
   "cell_type": "markdown",
   "metadata": {},
   "source": [
    "---\n",
    "# Méthodes (itération)\n",
    "\n",
    "> entries()\n",
    "\n",
    "> every()\n",
    "\n",
    "> filter()  \n",
    "\n",
    "> find()  \n",
    "\n",
    "> findIndex()\n",
    "\n",
    "> forEach()\n",
    "\n",
    "> keys() \n",
    "\n",
    "> map()\n",
    "\n",
    "> reduce()\n",
    "\n",
    "> some() \n",
    "\n",
    "> values()"
   ]
  },
  {
   "cell_type": "markdown",
   "metadata": {},
   "source": [
    "Itération: **Méthode <span style=\"color:red;font-family:courier;\">entries()</span> -- Renvoie un itérateur des couples clé/valeurs**"
   ]
  },
  {
   "cell_type": "code",
   "execution_count": 2,
   "metadata": {},
   "outputs": [
    {
     "name": "stdout",
     "output_type": "stream",
     "text": [
      "{ value: [ 0, 'Adam' ], done: false }\n",
      "[ 1, 'Bernard' ]\n",
      "[ 0, 'Adam' ]\n",
      "[ 1, 'Bernard' ]\n",
      "[ 2, 'Charles' ]\n",
      "[ 3, 'Denis' ]\n",
      "Adam\n",
      "Bernard\n",
      "Charles\n",
      "Denis\n"
     ]
    }
   ],
   "source": [
    "var prenoms = ['Adam','Bernard','Charles','Denis'];\n",
    "var iterPrenoms = prenoms.entries();\n",
    "console.log(iterPrenoms.next());\n",
    "console.log(iterPrenoms.next().value);\n",
    "\n",
    "var iterPrenoms = prenoms.entries();\n",
    "for(var unPrenom of iterPrenoms) {\n",
    "    console.log(unPrenom);\n",
    "}\n",
    "// Utilise la déstructuration\n",
    "for(var [i, unPrenom] of prenoms.entries()) {\n",
    "    console.log(unPrenom);\n",
    "}"
   ]
  },
  {
   "cell_type": "markdown",
   "metadata": {},
   "source": [
    "Itération: **Méthode <span style=\"color:red;font-family:courier;\">every()</span> -- Vérifie si tous les éléments respectent une condition donnée**"
   ]
  },
  {
   "cell_type": "code",
   "execution_count": 3,
   "metadata": {},
   "outputs": [
    {
     "name": "stdout",
     "output_type": "stream",
     "text": [
      "valeurs1 (tous positifs?): true\n",
      "valeurs2 (tous positifs?): false\n"
     ]
    }
   ],
   "source": [
    "function estPositif(valeur) {\n",
    "    return valeur >= 0;\n",
    "}\n",
    "var valeurs1 = [2,4,7,8];\n",
    "var valeurs2 = [6,-1,3,9];\n",
    "console.log('valeurs1 (tous positifs?):', valeurs1.every(estPositif));\n",
    "console.log('valeurs2 (tous positifs?):', valeurs2.every(estPositif));"
   ]
  },
  {
   "cell_type": "markdown",
   "metadata": {},
   "source": [
    "Itération: **Méthode <span style=\"color:red;font-family:courier;\">filter()</span> -- Retourne une nouvelle collection des éléments respectant une condition**"
   ]
  },
  {
   "cell_type": "code",
   "execution_count": null,
   "metadata": {},
   "outputs": [],
   "source": [
    "var prenoms = ['Adam', 'Bernard', 'Charles', 'Denis', 'Eric', 'Frédéric'];\n",
    "function plusCinqLettres(mot) {\n",
    "    return mot.length > 5;\n",
    "}\n",
    "console.log('Prénoms de plus de 5 lettres: ', prenoms.filter(plusCinqLettres));"
   ]
  },
  {
   "cell_type": "markdown",
   "metadata": {},
   "source": [
    "Itération: **Méthode <span style=\"color:red;font-family:courier;\">find()</span> -- Renvoie la valeur du premier élément trouvé dans la collection respectant la condition**\n",
    "\n",
    "* Retourne `undefined` si aucun élément ne correspond"
   ]
  },
  {
   "cell_type": "code",
   "execution_count": null,
   "metadata": {},
   "outputs": [],
   "source": [
    "var fluctuations = [50, 60, 55, 58, 52, 70, 80, 48];\n",
    "function estFluctuation(mesure) {\n",
    "    return mesure < 50 || mesure > 60;\n",
    "}\n",
    "console.log('Première fluctuation:', fluctuations.find(estFluctuation));"
   ]
  },
  {
   "cell_type": "markdown",
   "metadata": {},
   "source": [
    "Itération: **Méthode <span style=\"color:red;font-family:courier;\">findIndex()</span> -- Renvoie l'indice du premier élément trouvé dans la collection respectant la condition**\n",
    "\n",
    "* Retourne `-1` si aucun élément ne correspond"
   ]
  },
  {
   "cell_type": "code",
   "execution_count": null,
   "metadata": {},
   "outputs": [],
   "source": [
    "var fluctuations = [50, 60, 55, 58, 52, 70, 80, 48];\n",
    "function estFluctuation(mesure) {\n",
    "    return mesure < 50 || mesure > 60;\n",
    "}\n",
    "console.log('Indice première fluctuation:', fluctuations.findIndex(estFluctuation));"
   ]
  },
  {
   "cell_type": "markdown",
   "metadata": {},
   "source": [
    "Itération: **Méthode <span style=\"color:red;font-family:courier;\">forEach()</span> -- Permet d'exécuter une fonction sur chaque élément de la collection**"
   ]
  },
  {
   "cell_type": "code",
   "execution_count": null,
   "metadata": {},
   "outputs": [],
   "source": [
    "var prenoms = ['Adam','Bernard','Charles','Denis'];\n",
    "function afficherPrenom(prenom) {\n",
    "    console.log(prenom);\n",
    "}\n",
    "prenoms.forEach(afficherPrenom);"
   ]
  },
  {
   "cell_type": "code",
   "execution_count": 1,
   "metadata": {},
   "outputs": [
    {
     "name": "stdout",
     "output_type": "stream",
     "text": [
      "Adam 0 [ 'Adam', 'Bernard', 'Charles', 'Denis' ]\n",
      "Bernard 1 [ 'Adam', 'Bernard', 'Charles', 'Denis' ]\n",
      "Charles 2 [ 'Adam', 'Bernard', 'Charles', 'Denis' ]\n",
      "Denis 3 [ 'Adam', 'Bernard', 'Charles', 'Denis' ]\n"
     ]
    }
   ],
   "source": [
    "var prenoms = ['Adam','Bernard','Charles','Denis'];\n",
    "prenoms.forEach(console.log);"
   ]
  },
  {
   "cell_type": "markdown",
   "metadata": {},
   "source": [
    "Itération: **Méthode <span style=\"color:red;font-family:courier;\">keys()</span> -- Renvoie un itérateur sur les indices d'une collection ordonnée**"
   ]
  },
  {
   "cell_type": "code",
   "execution_count": null,
   "metadata": {},
   "outputs": [],
   "source": [
    "var prenoms = ['Adam','Bernard','Charles'];\n",
    "for(var indice of prenoms.keys()) {\n",
    "    console.log('Indice:', indice, ' -- ', prenoms[indice]);\n",
    "}\n",
    "console.log([...prenoms.keys()]);"
   ]
  },
  {
   "cell_type": "markdown",
   "metadata": {},
   "source": [
    "Itération: **Méthode <span style=\"color:red;font-family:courier;\">map()</span> -- Renvoie une nouvelle collection avec les résultats de l'appel de fonction sur chaque élément**"
   ]
  },
  {
   "cell_type": "code",
   "execution_count": null,
   "metadata": {},
   "outputs": [],
   "source": [
    "var prenoms = ['Adam','Bernard','Charles','Denis'];\n",
    "var longueurs = prenoms.map( (unPrenom) => unPrenom.length ); \n",
    "console.log('longueurs', longueurs);\n",
    "function inverserChaine(mot) {\n",
    "    return Array.from(mot).reverse().join('');\n",
    "}\n",
    "var smonerp = prenoms.map(inverserChaine);\n",
    "console.log('smonerp:', smonerp);"
   ]
  },
  {
   "cell_type": "markdown",
   "metadata": {},
   "source": [
    "Itération: **Méthode <span style=\"color:red;font-family:courier;\">reduce()</span> -- Applique une fonction `accumulateur` invoquée pour chaque élément de la collection pour retourner une seule valeur**"
   ]
  },
  {
   "cell_type": "code",
   "execution_count": null,
   "metadata": {},
   "outputs": [],
   "source": [
    "function somme(total, valeur) {\n",
    "    return total + valeur;\n",
    "}\n",
    "var valeurs = [2,5,9];\n",
    "console.log('total:', valeurs.reduce(somme));"
   ]
  },
  {
   "cell_type": "code",
   "execution_count": null,
   "metadata": {},
   "outputs": [],
   "source": [
    "function aplatir(resultat, sousCollection) {\n",
    "    return resultat.concat(sousCollection);\n",
    "}\n",
    "var presences = [ [2,5], [3,4], [2,6]];\n",
    "console.log('presences:', presences.reduce(aplatir));"
   ]
  },
  {
   "cell_type": "code",
   "execution_count": null,
   "metadata": {},
   "outputs": [],
   "source": [
    "function observerAppels(acc, item)\n",
    "{\n",
    "    console.log(acc, item);\n",
    "    return 1;\n",
    "}\n",
    "var rangeeSieges = ['libre','réservé', 'libre', 'libre'];\n",
    "console.log('final:', rangeeSieges.reduce(observerAppels));\n",
    "\n",
    "[20].reduce(observerAppels); // fonction 'observerAppels' jamais exécutée"
   ]
  },
  {
   "cell_type": "markdown",
   "metadata": {},
   "source": [
    "Itération: **Méthode <span style=\"color:red;font-family:courier;\">some()</span> -- Valide si au moins un item respecte la condition**"
   ]
  },
  {
   "cell_type": "code",
   "execution_count": null,
   "metadata": {},
   "outputs": [],
   "source": [
    "var rangeeSieges = ['libre','réservé', 'libre', 'libre'];\n",
    "function possedeSiegeReserve(etatSiege) {\n",
    "    return etatSiege === 'réservé';\n",
    "}\n",
    "console.log('Possède au moins un siège réservé?', rangeeSieges.some(possedeSiegeReserve));"
   ]
  }
 ],
 "metadata": {
  "kernel_info": {
   "name": "javascript"
  },
  "kernelspec": {
   "display_name": "Javascript (Node.js)",
   "language": "javascript",
   "name": "javascript"
  },
  "language_info": {
   "file_extension": ".js",
   "mimetype": "application/javascript",
   "name": "javascript",
   "version": "10.13.0"
  },
  "nteract": {
   "version": "0.2.0"
  }
 },
 "nbformat": 4,
 "nbformat_minor": 4
}
