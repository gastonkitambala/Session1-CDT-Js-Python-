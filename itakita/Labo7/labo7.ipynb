{
 "cells": [
  {
   "cell_type": "markdown",
   "metadata": {},
   "source": [
    "Before you turn this problem in, make sure everything runs as expected. First, **restart the kernel** (in the menubar, select Kernel$\\rightarrow$Restart) and then **run all cells** (in the menubar, select Cell$\\rightarrow$Run All).\n",
    "\n",
    "Make sure you fill in any place that says `YOUR CODE HERE` or \"YOUR ANSWER HERE\", as well as your name and collaborators below:"
   ]
  },
  {
   "cell_type": "code",
   "execution_count": null,
   "metadata": {},
   "outputs": [],
   "source": [
    "NAME = \"Gaston Itaka Kitambala\"\n",
    "COLLABORATORS = \"\""
   ]
  },
  {
   "cell_type": "markdown",
   "metadata": {},
   "source": [
    "---"
   ]
  },
  {
   "cell_type": "markdown",
   "metadata": {},
   "source": [
    "###### <img style='margin-right:0' src=\"http://dinfo.ca/logoDptInfo.jpg\" width=300>\n",
    "\n",
    "# Laboratoire #7\n",
    "---"
   ]
  },
  {
   "cell_type": "markdown",
   "metadata": {
    "collapsed": true,
    "deletable": false,
    "editable": false,
    "nbgrader": {
     "cell_type": "markdown",
     "checksum": "6009fb9e4096a13cd2bb9a6b054266e2",
     "grade": false,
     "grade_id": "cell-9fc1028aa78665b1",
     "locked": true,
     "schema_version": 3,
     "solution": false
    }
   },
   "source": [
    "---\n",
    "#### Question #1 (1 point)\n",
    "Créez une liste qui contient les noms des pays du G7.  \n",
    "\n",
    "La liste est référencée par la variable `paysG7`.\n",
    "\n",
    "| paysG7      |\n",
    "|-------------|\n",
    "| États-Unis  |\n",
    "| Japon       |\n",
    "| Allemagne   |\n",
    "| France      | \n",
    "| Royaume-Uni | \n",
    "| Italie      |\n",
    "| Canada      |\n"
   ]
  },
  {
   "cell_type": "code",
   "execution_count": 3,
   "metadata": {
    "deletable": false,
    "nbgrader": {
     "cell_type": "code",
     "checksum": "d1b7210907c4f34b3446594cc1d5584f",
     "grade": false,
     "grade_id": "q1-code",
     "locked": false,
     "schema_version": 3,
     "solution": true
    }
   },
   "outputs": [],
   "source": [
    "paysG7 = [\"États-Unis\", \"Japon\", \"Allemagne\", \"France\", \"Royaume-Uni\", \"Italie\", \"Canada\"]"
   ]
  },
  {
   "cell_type": "code",
   "execution_count": 4,
   "metadata": {
    "deletable": false,
    "editable": false,
    "nbgrader": {
     "cell_type": "code",
     "checksum": "782d8f3eccb117756e4908ceb7e14409",
     "grade": true,
     "grade_id": "q1-tests",
     "locked": true,
     "points": 1,
     "schema_version": 3,
     "solution": false
    }
   },
   "outputs": [],
   "source": [
    "# Validations\n",
    "assert 'paysG7' in globals(), 'Aucune variable portant le nom `paysG7`'\n",
    "assert type(paysG7) == list, 'Mauvais type pour la collection'\n",
    "assert len(paysG7) == 7, 'Il n\\'y a pas sept (7) pays dans votre collection'\n",
    "assert paysG7[0] == 'États-Unis', 'Premier pays mal orthographié'\n",
    "assert paysG7[1] == 'Japon', '2e pays mal orthographié'\n",
    "assert paysG7[2] == 'Allemagne', '3e pays mal orthographié'\n",
    "assert paysG7[3] == 'France', '4e pays mal orthographié'\n",
    "assert paysG7[4] == 'Royaume-Uni', '5e pays mal orthographié'\n",
    "assert paysG7[5] == 'Italie', '6e pays mal orthographié'\n",
    "assert paysG7[6] == 'Canada', '7e pays mal orthographié'"
   ]
  },
  {
   "cell_type": "markdown",
   "metadata": {
    "collapsed": true,
    "deletable": false,
    "editable": false,
    "nbgrader": {
     "cell_type": "markdown",
     "checksum": "c850872fbc6dcaee29233ab615050190",
     "grade": false,
     "grade_id": "cell-2b2f135fead87d85",
     "locked": true,
     "schema_version": 3,
     "solution": false
    }
   },
   "source": [
    "## ---\n",
    "#### Question #2 (2 points)\n",
    "\n",
    "La Russie, dont le pays était suspendu du groupe économique depuis 2014, est de retour.\n",
    "\n",
    "Dans une variable `paysG8`, vous devez **copier** la collection provenant de `paysG7` et ensuite y ajouter ce nouveau pays après la France.\n",
    "\n",
    "Après l'intervention, `paysG7` contiendra sept pays et `paysG8` en contiendra huit."
   ]
  },
  {
   "cell_type": "code",
   "execution_count": 12,
   "metadata": {
    "deletable": false,
    "nbgrader": {
     "cell_type": "code",
     "checksum": "af205f8a70a6a34e5b45189d3c2a8a99",
     "grade": false,
     "grade_id": "q2-code",
     "locked": false,
     "schema_version": 3,
     "solution": true
    }
   },
   "outputs": [
    {
     "name": "stdout",
     "output_type": "stream",
     "text": [
      "['États-Unis', 'Japon', 'Allemagne', 'France', 'Royaume-Uni', 'Italie', 'Canada']\n",
      "['États-Unis', 'Japon', 'Allemagne', 'France', 'Russie', 'Royaume-Uni', 'Italie', 'Canada']\n"
     ]
    }
   ],
   "source": [
    "# VOTRE CODIFICATION (et supprimer la ligne suivante\n",
    "paysG8 = paysG7.copy()\n",
    "paysG8.insert(4, \"Russie\")\n",
    "print(paysG7)\n",
    "print(paysG8)"
   ]
  },
  {
   "cell_type": "code",
   "execution_count": 13,
   "metadata": {
    "deletable": false,
    "editable": false,
    "nbgrader": {
     "cell_type": "code",
     "checksum": "b467a412982c89003d8f46598e5e3994",
     "grade": true,
     "grade_id": "q2-tests",
     "locked": true,
     "points": 2,
     "schema_version": 3,
     "solution": false
    }
   },
   "outputs": [],
   "source": [
    "# Validations\n",
    "assert 'paysG7' in globals(), 'Aucune variable portant le nom `paysG7`'\n",
    "assert type(paysG7) == list, 'Mauvais type pour la collection'\n",
    "assert len(paysG7) == 7, 'Il n\\'y a pas sept (7) pays dans votre collection'\n",
    "assert paysG7[3] == 'France', 'Attendu: France'\n",
    "assert paysG7[4] == 'Royaume-Uni', 'Attendu: Royaume-Uni'\n",
    "assert paysG8[0] == 'États-Unis', 'Premier pays mal orthographié'\n",
    "assert paysG8[1] == 'Japon', '2e pays mal orthographié'\n",
    "assert paysG8[2] == 'Allemagne', '3e pays mal orthographié'\n",
    "assert paysG8[3] == 'France', '4e pays mal orthographié'\n",
    "assert paysG8[4] == 'Russie', '5e pays mal orthographié'\n",
    "assert paysG8[5] == 'Royaume-Uni', '6e pays mal orthographié'\n",
    "assert paysG8[6] == 'Italie', '7e pays mal orthographié'\n",
    "assert paysG8[7] == 'Canada', '8e pays mal orthographié'"
   ]
  },
  {
   "cell_type": "markdown",
   "metadata": {
    "collapsed": true,
    "deletable": false,
    "editable": false,
    "nbgrader": {
     "cell_type": "markdown",
     "checksum": "5e9f02b64d825e6593edd3b2d672607b",
     "grade": false,
     "grade_id": "q3-enonce",
     "locked": true,
     "schema_version": 3,
     "solution": false
    }
   },
   "source": [
    "---\n",
    "#### Question #3 (1 point)\n",
    "\n",
    "Vous devez afficher, en utilisant une boucle, chaque pays du G7 comme suit:\n",
    "\n",
    ">    ________ est membre du G7\n",
    "\n",
    "où le souligné est remplacé par le nom du pays    "
   ]
  },
  {
   "cell_type": "code",
   "execution_count": 15,
   "metadata": {
    "deletable": false,
    "nbgrader": {
     "cell_type": "code",
     "checksum": "655d03ec73f1dce10d9ad2d98ffb7151",
     "grade": true,
     "grade_id": "cell-7e833c5c32d21094",
     "locked": false,
     "points": 1,
     "schema_version": 3,
     "solution": true
    }
   },
   "outputs": [
    {
     "name": "stdout",
     "output_type": "stream",
     "text": [
      "États-Unis est membre du G7\n",
      "Japon est membre du G7\n",
      "Allemagne est membre du G7\n",
      "France est membre du G7\n",
      "Royaume-Uni est membre du G7\n",
      "Italie est membre du G7\n",
      "Canada est membre du G7\n"
     ]
    }
   ],
   "source": [
    "# VOTRE CODIFICATION (et supprimer la ligne suivante\n",
    "for unPays in paysG7:\n",
    "    print(\"%s est membre du G7\" % unPays)"
   ]
  },
  {
   "cell_type": "markdown",
   "metadata": {
    "collapsed": true,
    "deletable": false,
    "editable": false,
    "nbgrader": {
     "cell_type": "markdown",
     "checksum": "a6d372cbeb86326c831067d659fe0bda",
     "grade": false,
     "grade_id": "cell-76906b0279e0d425",
     "locked": true,
     "schema_version": 3,
     "solution": false
    }
   },
   "source": [
    "## ---\n",
    "#### Question #4 (2 points)\n",
    "\n",
    "Créez une fonction `calculerTaxes(listePrix)` qui reçoit un collection de prix et retourne la taxe calculée pour chacun dans une nouvelle collection.  La collection d'origine n'est pas modifiée par votre méthode.\n",
    "\n",
    "Le calcul doit être arrondi à 2 décimales.  \n",
    "\n",
    "> Ex: `round(4.567,2)` donne 4.57\n",
    "\n",
    "Stratégie:\n",
    "* créer une nouvelle collection vide\n",
    "* boucle pour visiter chaque prix\n",
    "* calculer la taxe, faire l'arrondi à 2 décimales et ajouter ce montant à la nouvelle collection\n",
    "* retourner la nouvelle collection à la fin de la fonction"
   ]
  },
  {
   "cell_type": "code",
   "execution_count": 16,
   "metadata": {
    "deletable": false,
    "nbgrader": {
     "cell_type": "code",
     "checksum": "e228021d95c95b627c8b0d4c8cef43c9",
     "grade": false,
     "grade_id": "q4-code",
     "locked": false,
     "schema_version": 3,
     "solution": true
    }
   },
   "outputs": [],
   "source": [
    "def calculerTaxes(listePrix):\n",
    "    taxes = []\n",
    "    for unPrix in listePrix:\n",
    "        taxeCalculee = round(0.14975 * unPrix, 2)\n",
    "        taxes.append(taxeCalculee)\n",
    "    return taxes"
   ]
  },
  {
   "cell_type": "code",
   "execution_count": 17,
   "metadata": {},
   "outputs": [
    {
     "data": {
      "text/plain": [
       "[1.5, 14.97, 7.49, 5.99, 4.49, 3.0]"
      ]
     },
     "execution_count": 17,
     "metadata": {},
     "output_type": "execute_result"
    }
   ],
   "source": [
    "calculerTaxes((10.00, 100.00, 50.00, 40.00, 30.00, 20.00))\n",
    "# Attendu: [1.5, 14.97, 7.49, 5.99, 4.49, 3.0]"
   ]
  },
  {
   "cell_type": "code",
   "execution_count": 18,
   "metadata": {
    "deletable": false,
    "editable": false,
    "nbgrader": {
     "cell_type": "code",
     "checksum": "441b6745893fd059895b5c894b0b0bcf",
     "grade": true,
     "grade_id": "q4-tests",
     "locked": true,
     "points": 2,
     "schema_version": 3,
     "solution": false
    }
   },
   "outputs": [],
   "source": [
    "# Validations\n",
    "assert 'calculerTaxes' in globals(), 'Aucune fonction portant le nom `calculerTaxes`'\n",
    "import inspect\n",
    "assert inspect.isfunction(calculerTaxes), '`calculerTaxes` n\\'est pas une fonction'\n",
    "assert len(inspect.signature(calculerTaxes).parameters) == 1, 'La fonction doit avoir un paramètre'\n",
    "assert list(inspect.signature(calculerTaxes).parameters.keys())[0] == 'listePrix', 'Le paramètre doit porter le nom `listePrix`'\n"
   ]
  },
  {
   "cell_type": "markdown",
   "metadata": {
    "collapsed": true,
    "deletable": false,
    "editable": false,
    "nbgrader": {
     "cell_type": "markdown",
     "checksum": "9fbcdc937b21028ac7c30e82ab0da744",
     "grade": false,
     "grade_id": "cell-592e49d23af69e7d",
     "locked": true,
     "schema_version": 3,
     "solution": false
    }
   },
   "source": [
    "---\n",
    "#### Question #5 (2 points)\n",
    "\n",
    "Créez une fonction `denombrerElevesPresents(listePresences)` qui compte le nombre d'items qui sont \"présent\".\n",
    "\n",
    "Retourne 0 pour une collection vide ou si tous les élèves sont absents!"
   ]
  },
  {
   "cell_type": "code",
   "execution_count": 22,
   "metadata": {
    "deletable": false,
    "nbgrader": {
     "cell_type": "code",
     "checksum": "91d6b0c84a97ac755d0c49378202c0d4",
     "grade": false,
     "grade_id": "q5-code",
     "locked": false,
     "schema_version": 3,
     "solution": true
    }
   },
   "outputs": [],
   "source": [
    "def denombrerElevesPresents(listePresences):\n",
    "    elevesPresents = listePresences.count(\"présent\")\n",
    "    return elevesPresents\n",
    "            "
   ]
  },
  {
   "cell_type": "code",
   "execution_count": 23,
   "metadata": {},
   "outputs": [
    {
     "name": "stdout",
     "output_type": "stream",
     "text": [
      "Attendu: 3, réel:  3\n",
      "Attendu: 5, réel:  5\n",
      "Attendu: 0, réel:  0\n",
      "Attendu: 0, réel:  0\n"
     ]
    }
   ],
   "source": [
    "print(\"Attendu: 3, réel: \", denombrerElevesPresents((\"présent\", \"absent\", \"absent\", \"présent\", \"présent\")) )\n",
    "print(\"Attendu: 5, réel: \", denombrerElevesPresents((\"présent\", \"présent\", \"présent\", \"présent\", \"présent\")) )\n",
    "print(\"Attendu: 0, réel: \", denombrerElevesPresents((\"absent\", \"absent\", \"absent\", \"absent\", \"absent\")) )\n",
    "print(\"Attendu: 0, réel: \", denombrerElevesPresents([]) )"
   ]
  },
  {
   "cell_type": "code",
   "execution_count": 24,
   "metadata": {
    "deletable": false,
    "editable": false,
    "nbgrader": {
     "cell_type": "code",
     "checksum": "11bb705271842669a9fc0f6921c74417",
     "grade": true,
     "grade_id": "q5-tests",
     "locked": true,
     "points": 2,
     "schema_version": 3,
     "solution": false
    }
   },
   "outputs": [],
   "source": [
    "# Validations\n",
    "assert denombrerElevesPresents((\"présent\", \"absent\", \"absent\", \"présent\", \"présent\")) == 3, 'Trois élèves présents sur cinq'\n",
    "assert denombrerElevesPresents((\"présent\", \"présent\", \"présent\", \"présent\", \"présent\")) == 5, 'Tous les élèves sont pourtant présents'\n",
    "assert denombrerElevesPresents((\"absent\", \"absent\", \"absent\", \"absent\", \"absent\")) == 0, 'Aucun élève présent si tous absents'\n",
    "assert denombrerElevesPresents([]) == 0, 'Aucun élève présent lorsque la liste est vide'"
   ]
  },
  {
   "cell_type": "markdown",
   "metadata": {
    "collapsed": true,
    "deletable": false,
    "editable": false,
    "nbgrader": {
     "cell_type": "markdown",
     "checksum": "ca18759bda62b6c9327a41c683da4c26",
     "grade": false,
     "grade_id": "cell-8c627b11f5f42d62",
     "locked": true,
     "schema_version": 3,
     "solution": false
    }
   },
   "source": [
    "---\n",
    "#### Question #6 (2 points)\n",
    "\n",
    "Déclarez une fonction `extraireMinMax(valeurs)` qui retire l'élément ayant la valeur minimale et l'élément ayant la valeur maximale d'une collection.  La collection reçue en paramètre est modifiée (aucun énoncé return).\n",
    "\n",
    "Stratégie:\n",
    "* trouver l'élément min\n",
    "* trouver l'élément max\n",
    "* retirer l'élément min (pas dans une boucle)\n",
    "* retirer l'élément max (pas dans une boucle)\n",
    "\n",
    "**CONSIDÉRER**:\n",
    "* la collection passée en paramètre est modifiable (list et non tuple)\n",
    "* Il y a au moins deux éléments dans la collection\n",
    "* Aucun doublon dans les valeurs; toutes les valeurs sont uniques"
   ]
  },
  {
   "cell_type": "code",
   "execution_count": 37,
   "metadata": {
    "deletable": false,
    "nbgrader": {
     "cell_type": "code",
     "checksum": "d5d609f0dfecd113c91971ee84efeec5",
     "grade": false,
     "grade_id": "q6-code",
     "locked": false,
     "schema_version": 3,
     "solution": true
    }
   },
   "outputs": [],
   "source": [
    "def extraireMinMax(valeurs):\n",
    "    valeurMax = max(valeurs)\n",
    "    valeurMin = min(valeurs)\n",
    "    valeurs.remove(valeurMin)\n",
    "    valeurs.remove(valeurMax)\n",
    "    return valeurs\n",
    "    "
   ]
  },
  {
   "cell_type": "code",
   "execution_count": 39,
   "metadata": {
    "deletable": false,
    "editable": false,
    "nbgrader": {
     "cell_type": "code",
     "checksum": "641164bc74d692f24ae48dcb02fddd27",
     "grade": true,
     "grade_id": "q6-tests",
     "locked": true,
     "points": 2,
     "schema_version": 3,
     "solution": false
    }
   },
   "outputs": [],
   "source": [
    "# Validations\n",
    "w = [8,4,2]\n",
    "extraireMinMax(w)\n",
    "assert len(w) == 1, '[4] retourne collection de 1 élément'\n",
    "x = [1,2,3,4,5]\n",
    "extraireMinMax(x)\n",
    "assert len(x) == 3, '[1,2,3,4,5] retourne collection de 3 éléments'\n",
    "y = [-2,-5,0,9,4,1]\n",
    "extraireMinMax(y)\n",
    "assert len(y) == 4, '[-2, -5, 0, 9, 4, 1] retourne collection de 4 éléments'\n",
    "z = [10,100]\n",
    "extraireMinMax(z)\n",
    "assert len(z) == 0, '[10,100] retourne collection de 0 élément'"
   ]
  },
  {
   "cell_type": "code",
   "execution_count": null,
   "metadata": {},
   "outputs": [],
   "source": []
  }
 ],
 "metadata": {
  "kernelspec": {
   "display_name": "Python 3",
   "language": "python",
   "name": "python3"
  },
  "language_info": {
   "codemirror_mode": {
    "name": "ipython",
    "version": 3
   },
   "file_extension": ".py",
   "mimetype": "text/x-python",
   "name": "python",
   "nbconvert_exporter": "python",
   "pygments_lexer": "ipython3",
   "version": "3.7.7"
  }
 },
 "nbformat": 4,
 "nbformat_minor": 2
}
