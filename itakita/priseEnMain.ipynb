{
 "cells": [
  {
   "cell_type": "markdown",
   "metadata": {},
   "source": [
    "<img style='margin-right:0' src=\"http://dinfo.ca/logoDptInfo.jpg\" width=300>\n",
    "\n",
    "# 420-2Z6-RA Introduction à la programmation\n",
    "---\n",
    "Bienvenue au cours de programmation.  Ce site expérimental, sous forme de bloc-notes, servira dans l'apprentissage de langages informatiques.  Les cellules sont exécutables; vous pourrez entrer le code directement et valider le bon fonctionnement.  Plus tard dans la session, nous utiliserons d'autres outils logiciels pour développer des programmes."
   ]
  },
  {
   "cell_type": "markdown",
   "metadata": {},
   "source": [
    "# Prise en main\n",
    "\n",
    "**Cellule documentaire (format Markdown)**\n",
    "\n",
    "> Ce type de cellule permet d'afficher un texte formatté.\n"
   ]
  },
  {
   "cell_type": "code",
   "execution_count": null,
   "metadata": {},
   "outputs": [],
   "source": [
    "# Déclarez trois variables: nom, largeur et longueur\n",
    "# avec les valeurs correspondantes: 12 par 15, Adam Bernard\n",
    "\n",
    "# A COMPLETER"
   ]
  },
  {
   "cell_type": "code",
   "execution_count": null,
   "metadata": {},
   "outputs": [],
   "source": [
    "# Validation -- variable existe et bonne valeur\n",
    "assert 'nom' in globals(), 'Variable non-définie'\n",
    "assert 'largeur' in globals(), 'Variable non-définie'\n",
    "assert 'longueur' in globals(), 'Variable non-définie'\n",
    "assert nom == 'Adam Bernard', 'Mauvais nom'\n",
    "assert largeur == 12, 'La largeur attendue est de 12'\n",
    "assert longueur == 15, 'La longueur attendue est de 15'"
   ]
  },
  {
   "cell_type": "markdown",
   "metadata": {},
   "source": [
    "# L'opérateur de multiplication est l'astérisque (*)\n",
    "\n",
    "> L'affectation (opérateur `=`) évalue une expression à **droite** du symbole, puis place le *résultat* dans une variable (à **gauche** du symbole).\n",
    "\n",
    "Placer le résultat du calcul dans la variable `surface`."
   ]
  },
  {
   "cell_type": "code",
   "execution_count": null,
   "metadata": {},
   "outputs": [],
   "source": [
    "# A COMPLETER\n"
   ]
  },
  {
   "cell_type": "code",
   "execution_count": null,
   "metadata": {},
   "outputs": [],
   "source": [
    "# Validation -- variable existe et bonne valeur\n",
    "\n",
    "assert 'surface' in globals(), 'Variable non-définie'\n",
    "assert surface == 180"
   ]
  }
 ],
 "metadata": {
  "kernelspec": {
   "display_name": "Python 3",
   "language": "python",
   "name": "python3"
  },
  "language_info": {
   "codemirror_mode": {
    "name": "ipython",
    "version": 3
   },
   "file_extension": ".py",
   "mimetype": "text/x-python",
   "name": "python",
   "nbconvert_exporter": "python",
   "pygments_lexer": "ipython3",
   "version": "3.7.7"
  }
 },
 "nbformat": 4,
 "nbformat_minor": 2
}
