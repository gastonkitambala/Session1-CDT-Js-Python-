{
 "cells": [
  {
   "cell_type": "markdown",
   "metadata": {},
   "source": [
    "<img style='margin-right:0' src=\"http://dinfo.ca/logoDptInfo.jpg\" width=300>\n",
    "\n",
    "# Référence JavaScript (chaînes)\n",
    "---"
   ]
  },
  {
   "cell_type": "markdown",
   "metadata": {},
   "source": [
    "**Opérateur**\n",
    "\n",
    "> Concaténation\n",
    "\n",
    "**Propriété**\n",
    "\n",
    "> length\n",
    "\n",
    "**Méthodes**\n",
    "\n",
    "| &nbsp;            | &nbsp;           | &nbsp;              | \n",
    "|-------------------|------------------|---------------------|\n",
    "| **charAt()**      | match()          | toLocaleLowerCase() |\n",
    "| charCodeAt()      | repeat()         | toLocaleUpperCase() |\n",
    "| **concat()**      | **replace()**    | **toLowerCase()**   |\n",
    "| **endsWith()**    | search()         | toString()          |\n",
    "| fromCharCode()    | **slice()**      | **toUpperCase()**   |\n",
    "| **includes()**    | split()          | **trim()**          |\n",
    "| **indexOf()**     | **startsWith()** | valueOf()           |\n",
    "| **lastIndexOf()** | substr()         | &nbsp;              |\n",
    "| localeCompare()   | substring()      | &nbsp;              |\n",
    "\n",
    "N.B.: Les méthodes **en gras** sont traitées dans cette référence."
   ]
  },
  {
   "cell_type": "markdown",
   "metadata": {},
   "source": [
    "---\n",
    "# Opérateur: concaténation (+)"
   ]
  },
  {
   "cell_type": "markdown",
   "metadata": {},
   "source": [
    "**Concaténation**\n",
    "\n",
    "> Permet de joindre ensemble deux chaînes."
   ]
  },
  {
   "cell_type": "code",
   "execution_count": 1,
   "metadata": {},
   "outputs": [
    {
     "name": "stdout",
     "output_type": "stream",
     "text": [
      "ABCDEF\n"
     ]
    }
   ],
   "source": [
    "console.log(\"ABC\" + \"DEF\");"
   ]
  },
  {
   "cell_type": "code",
   "execution_count": 2,
   "metadata": {},
   "outputs": [
    {
     "name": "stdout",
     "output_type": "stream",
     "text": [
      "Marco Guay\n"
     ]
    }
   ],
   "source": [
    "var nom = 'Guay';\n",
    "var prenom = 'Marco';\n",
    "var nomComplet = prenom + ' ' + nom;\n",
    "console.log(nomComplet);"
   ]
  },
  {
   "cell_type": "code",
   "execution_count": 3,
   "metadata": {},
   "outputs": [
    {
     "name": "stdout",
     "output_type": "stream",
     "text": [
      "Cégep de Thetford\n"
     ]
    }
   ],
   "source": [
    "var cegep = 'Cégep' + ' ' + 'de ' + 'Thetford';\n",
    "console.log(cegep);"
   ]
  },
  {
   "cell_type": "markdown",
   "metadata": {},
   "source": [
    "**Concaténation -- cas particulier**\n",
    "\n",
    "Qu'arrive-t-il si on concatène une chaîne avec un nombre?"
   ]
  },
  {
   "cell_type": "code",
   "execution_count": 4,
   "metadata": {},
   "outputs": [
    {
     "name": "stdout",
     "output_type": "stream",
     "text": [
      "Age requis: 12\n",
      "12 singes\n"
     ]
    }
   ],
   "source": [
    "console.log(\"Age requis: \" + 12);\n",
    "console.log(12 + ' singes');"
   ]
  },
  {
   "cell_type": "markdown",
   "metadata": {},
   "source": [
    "## Conversions\n",
    "\n",
    "`parseInt(string, base)`\n",
    "\n",
    "La fonction `parseInt()` analyse une chaîne de caractère fournie en argument et renvoie un entier exprimé dans une base donnée.\n",
    "\n",
    "* `string`\n",
    "\n",
    "> La valeur qu'on souhaite analyser et convertir. Si l'argument string n'est pas une chaîne de caractères, elle sera convertie en une chaîne.\n",
    "\n",
    "* `base`\n",
    "\n",
    "> Un entier compris entre 2 et 36 qui représente la base utilisée pour la valeur représentée dans la chaîne. La base communément utilisée est la base décimale et on utilisera donc 10 dans ce cas pour ce paramètre.\n",
    "\n",
    "* Valeur de retour\n",
    "\n",
    "> Un entier obtenu à partir de l'analyse de la chaîne de caractères. Si le premier caractère ne permet d'obtenir un nombre, ce sera `NaN` qui sera renvoyé.\n",
    "\n",
    "> La fonction parseInt() convertit le premier argument en une chaîne, l'analyse et renvoie un entier ou NaN. Si la valeur renvoyée n'est pas NaN, ce sera l'entier représentant le nombre contenu dans la chaîne dans la base donnée. Une base 10 est utilisée pour la base décimale, 8 pour la base octale, 16 pour la base hexadécimale. Pour les bases supérieures à 10, les lettres de l'alphabet seront utilisées pour représenter les chiffres supérieurs à 9. Par exemple, pour la base hexadécimale, on utilisera les lettres A à F.<br>Si, lors de l'analyse de la chaîne, parseInt() rencontre un caractère qui n'est pas un chiffre dans la base donnée, ce caractère, ainsi que les suivants seront ignorés. parseInt() tronque les nombres fournies en valeurs entières (attention donc lorsque les chaînes utilisent une notation scientifique : \"4e2\" donnera la valeur 4 en base 10 et pas 400). Les espaces en début et en fin de chaîne sont autorisés.<br>Pour des raisons arithmétiques, la valeur NaN n'est un nombre pour aucune base. La fonction isNaN() peut être utilisée pour déterminer si le résultat obtenu par parseInt() vaut NaN.\n",
    "\n",
    "#### Les exemples suivants renvoient tous 15 :"
   ]
  },
  {
   "cell_type": "code",
   "execution_count": null,
   "metadata": {},
   "outputs": [],
   "source": [
    "console.log(parseInt(\"15\", 10));\n",
    "console.log(parseInt(\" 0xF\", 16));\n",
    "console.log(parseInt(\" F\", 16));\n",
    "console.log(parseInt(\"17\", 8));\n",
    "console.log(parseInt(15.99, 10));    // ne considère plus à partir du point décimal\n",
    "console.log(parseInt(\"15,123\", 10)); // ne considère plus à partir de la virgule\n",
    "console.log(parseInt(\"FXX123\", 16)); // ne considère plus à partir du X\n",
    "console.log(parseInt(\"1111\", 2));\n",
    "console.log(parseInt(\"15*3\", 10));   // ne considère plus à partir du *\n",
    "console.log(parseInt(\"15e2\", 10));   // ne considère plus à partir du e\n",
    "console.log(parseInt(\"15px\", 10));   // ne considère plus à partir du p\n",
    "console.log(parseInt(\"12\", 13));"
   ]
  },
  {
   "cell_type": "markdown",
   "metadata": {},
   "source": [
    "#### Les exemples suivants renvoient NaN"
   ]
  },
  {
   "cell_type": "code",
   "execution_count": null,
   "metadata": {},
   "outputs": [],
   "source": [
    "console.log(parseInt(\"Salut\", 10)); // Ce sont des lettres et pas des chiffres\n",
    "console.log(parseInt(\"546\", 2));    // Ces chiffres ne sont pas valides pour une représentation\n",
    "                                    // binaire\n",
    "var x = parseInt('salut',10);\n",
    "if(isNaN(x))\n",
    "    console.log('Pas un nombre');"
   ]
  },
  {
   "cell_type": "markdown",
   "metadata": {},
   "source": [
    "## Conversions (suite)\n",
    "\n",
    "`parseFloat(string)`\n",
    "\n",
    "La fonction `parseFloat()` analyse une chaîne de caractère fournie en argument et renvoie un entier exprimé dans une base donnée.\n",
    "\n",
    "* `string`\n",
    "\n",
    "> Une chaîne de caractères la valeur qu'on souhaite analyser et transformer en un nombre flottant.\n",
    "\n",
    "* Valeur de retour\n",
    "\n",
    "> Un nombre flottant obtenu à partir de l'analyse de la chaîne de caractères. Si le premier caractère ne permet pas d'obtenir un nombre, ce sera la valeur NaN qui sera renvoyée."
   ]
  },
  {
   "cell_type": "markdown",
   "metadata": {},
   "source": [
    "## Conversions (suite-2)\n",
    "\n",
    "`numObj.toString([base])`\n",
    "\n",
    "La fonction `parseFloat()` analyse une chaîne de caractère fournie en argument et renvoie un entier exprimé dans une base donnée.\n",
    "\n",
    "* `base`\n",
    "\n",
    "> Paramètre optionnel. Un entier compris entre 2 et 36 qui indique la base du système numérique à utiliser pour représenter la valeur.\n",
    "\n",
    "* Valeur de retour\n",
    "\n",
    "> Une chaîne de caractères représentant l'objet Number."
   ]
  },
  {
   "cell_type": "code",
   "execution_count": 5,
   "metadata": {},
   "outputs": [
    {
     "data": {
      "text/plain": [
       "'42'"
      ]
     },
     "execution_count": 5,
     "metadata": {},
     "output_type": "execute_result"
    }
   ],
   "source": [
    "var valeur = 42;\n",
    "valeur.toString();"
   ]
  },
  {
   "cell_type": "markdown",
   "metadata": {},
   "source": [
    "**Opérateurs d'affectation**"
   ]
  },
  {
   "cell_type": "code",
   "execution_count": null,
   "metadata": {},
   "outputs": [],
   "source": [
    "var msg = 'Bonjour';\n",
    "msg += ' ';\n",
    "msg += 'Marco';\n",
    "console.log(msg);"
   ]
  },
  {
   "cell_type": "code",
   "execution_count": null,
   "metadata": {},
   "outputs": [],
   "source": [
    "var x = '15';\n",
    "console.log(x+1);\n",
    "console.log(parseInt(x,10) + 1);"
   ]
  },
  {
   "cell_type": "markdown",
   "metadata": {},
   "source": [
    "# Propriété prédéfinie pour les chaînes"
   ]
  },
  {
   "cell_type": "markdown",
   "metadata": {},
   "source": [
    "**Propriété <span style=\"color:red;font-family:courier;\">str.length</span> -- Longueur d'une chaîne**\n",
    "\n",
    "Remarque: proprété en lecture seulement."
   ]
  },
  {
   "cell_type": "code",
   "execution_count": null,
   "metadata": {},
   "outputs": [],
   "source": [
    "var longueur = \"Anticonstitutionnellement\".length; // mot le plus long du dictionnaire français\n",
    "console.log(`Anticonstitutionnellement: ${longueur} lettres`);\n",
    "\n",
    "var maryPoppins = 'Supercalifragilisticexpialidocious';\n",
    "console.log(maryPoppins.length);\n",
    "\n",
    "console.log(''.length);"
   ]
  },
  {
   "cell_type": "markdown",
   "metadata": {},
   "source": [
    "**Méthode <span style=\"color:red;font-family:courier;\">indexOf(sousChaine[,indexDebut])</span> -- Recherche d'une sous-chaîne**\n",
    "> Renvoie l'indice de la première occurence de la valeur cherchée au sein de la chaîne courante (à partir de indexDebut). <br>Elle renvoie -1 si la valeur cherchée n'est pas trouvée.\n",
    "\n",
    "**Méthode <span style=\"color:red;font-family:courier;\">lastIndexOf(sousChaine[,indexDebut])</span> -- Recherche d'une sous-chaîne de la droite**\n",
    "\n",
    "**Méthode <span style=\"color:red;font-family:courier;\">includes(sousChaine[,position])</span> -- sous-chaîne présente?**\n",
    "\n",
    "> Détermine si une chaîne de caractères est contenue dans une autre et renvoie true ou false selon le cas de figure."
   ]
  },
  {
   "cell_type": "code",
   "execution_count": null,
   "metadata": {},
   "outputs": [],
   "source": [
    "var motLong = \"Anticonstitutionnellement\";\n",
    "var positionConst = motLong.indexOf('const');\n",
    "console.log(positionConst);\n",
    "console.log(\"Anticonstitutionnellement\".indexOf('ment'));\n",
    "console.log(\"Anticonstitutionnellement\".includes('ment'));\n",
    "console.log(\"Anticonstitutionnellement\".indexOf('ti'));\n",
    "console.log(\"Anticonstitutionnellement\".lastIndexOf('ti'));"
   ]
  },
  {
   "cell_type": "markdown",
   "metadata": {},
   "source": [
    "> Si la sous-chaîne est absente, la fonction retourne la valeur -1."
   ]
  },
  {
   "cell_type": "code",
   "execution_count": null,
   "metadata": {},
   "outputs": [],
   "source": [
    "var positionMarco = motLong.indexOf('marco');\n",
    "console.log('Trouve \\'Marco\\' à la position:' + positionMarco);"
   ]
  },
  {
   "cell_type": "code",
   "execution_count": null,
   "metadata": {},
   "outputs": [],
   "source": [
    "console.log('Havana, ooh na-na'.indexOf('na')); // Trouve seulement la 1re occurrence"
   ]
  },
  {
   "cell_type": "code",
   "execution_count": null,
   "metadata": {},
   "outputs": [],
   "source": [
    "var mot = 'ouistiti'; // mot de 8 lettres\n",
    "        // 01234567\n",
    "console.log(mot.lastIndexOf('i'));\n",
    "console.log(mot.lastIndexOf('i',1)); \n",
    "console.log(mot.lastIndexOf('i',2));\n",
    "console.log(mot.lastIndexOf('i', mot.length-1));\n",
    "console.log(mot.lastIndexOf('i', mot.length-2));"
   ]
  },
  {
   "cell_type": "markdown",
   "metadata": {},
   "source": [
    "**Méthode <span style=\"color:red;font-family:courier;\">toLowerCase()</span> -- Convertir la chaîne en lettres minuscules**"
   ]
  },
  {
   "cell_type": "code",
   "execution_count": null,
   "metadata": {},
   "outputs": [],
   "source": [
    "var college = 'Cégep de Thetford';\n",
    "console.log(\"Appellation: \" + college.toLowerCase() );"
   ]
  },
  {
   "cell_type": "markdown",
   "metadata": {},
   "source": [
    "**Méthode <span style=\"color:red;font-family:courier;\">toUpperCase()</span> -- Convertir la chaîne en lettres majuscules**"
   ]
  },
  {
   "cell_type": "code",
   "execution_count": null,
   "metadata": {},
   "outputs": [],
   "source": [
    "var college = 'Cégep de Thetford';\n",
    "console.log(\"Appellation: \" + college.toUpperCase());"
   ]
  },
  {
   "cell_type": "markdown",
   "metadata": {},
   "source": [
    "**Méthode <span style=\"color:red;font-family:courier;\">slice(indiceDebut[,indiceFin])</span> -- Découpage de la chaîne (*slicing*)**\n",
    "****\n",
    "> Extrait une section d'une chaine de caractères et la retourne comme une nouvelle chaine de caractères. <br>La chaîne de caractères courante n'est pas modifiée.\n",
    "\n",
    "* `indiceDebut`\n",
    "\n",
    "> L'indice base 0 auquel commencer l'extraction. <br>Si négatif, il est traité comme (longueurSource + indiceDebut) où longueurSource est la longueur de la chaine de caractères (par exemple, si indiceDebut est -3, il sera traité comme longueurSource - 3). <br>Si indiceDebut est supérieur à la longueur de la chaîne, slice() renvoie une chaîne vide.\n",
    "\n",
    "* `indiceFin`\n",
    "\n",
    "> Paramètre optionnel. <br>Un indice base 0 **avant** lequel terminer l'extraction. <br>Le caractère à cet indice ne sera pas inclus. <br>Si indiceFin est absent, slice() extraira jusqu'à la fin de la chaine de caractères. Si négatif, il sera traité comme (longueurSource + indiceFin) où longueurSource est la longueur de la chaine de caractères (par exemple s'il vaut -3, il sera traité comme longueurSource - 3)"
   ]
  },
  {
   "cell_type": "code",
   "execution_count": 21,
   "metadata": {},
   "outputs": [
    {
     "name": "stdout",
     "output_type": "stream",
     "text": [
      "Extrait [1:4] de ABCDEF : BCD\n",
      "Extrait [2:3] de ABCDEF : C\n",
      "Extrait [1:4] de ABCDEF : ..\n"
     ]
    }
   ],
   "source": [
    "var chaine = 'ABCDEF'; // 6 lettres\n",
    "var extrait = chaine.slice(1,4);\n",
    "console.log(`Extrait [1:4] de ${chaine} : ${extrait}`);\n",
    "extrait = chaine.slice(2,3); // idem charAt(2)\n",
    "console.log(`Extrait [2:3] de ${chaine} : ${extrait}`);\n",
    "extrait = chaine.slice(2,2);\n",
    "console.log(`Extrait [1:4] de ${chaine} : .${extrait}.`);"
   ]
  },
  {
   "cell_type": "code",
   "execution_count": null,
   "metadata": {},
   "outputs": [],
   "source": [
    "var motLong = \"Anticonstitutionnellement\";\n",
    "var depart = 4;\n",
    "var fin = 16; // Position après la dernière lettre\n",
    "console.log('Sous-mot: ' + motLong.slice(depart, fin));"
   ]
  },
  {
   "cell_type": "code",
   "execution_count": null,
   "metadata": {},
   "outputs": [],
   "source": [
    "var prenom = 'Marcel';\n",
    "console.log(prenom.indexOf('e'));\n",
    "console.log('Diminutif de Marcel: ' + prenom.slice(0, prenom.indexOf('e')) );"
   ]
  },
  {
   "cell_type": "code",
   "execution_count": null,
   "metadata": {},
   "outputs": [],
   "source": [
    "console.log('Anti-social'.slice(5));\n",
    "// pas faire-> console.log('Anti-social'.slice(5,'Anti-social'.length));"
   ]
  },
  {
   "cell_type": "markdown",
   "metadata": {},
   "source": [
    "**Méthode <span style=\"color:red;font-family:courier;\">charAt(indice)</span> -- Caractère à la position**\n",
    "\n",
    "\n",
    "* `indice`\n",
    "\n",
    "> Un entier entre 0 et la longueur de la chaîne - 1. <br>Si aucun index n'est fourni (ce qui correspond à fournir undefined), la recherche sera effectuée à l'index 0 et le premier caractère sera donc renvoyé.\n",
    "\n",
    "* Valeur de retour\n",
    "\n",
    "> Une chaîne de caractères qui représente le point de code UTF-16 à la position indiquée. <br>Si la position est dehors de la chaîne, ce sera une chaîne vide."
   ]
  },
  {
   "cell_type": "code",
   "execution_count": 6,
   "metadata": {},
   "outputs": [
    {
     "name": "stdout",
     "output_type": "stream",
     "text": [
      "B\n",
      "Bon\n",
      "nde\n",
      "jour le monde\n",
      "Bonjour le mo\n"
     ]
    }
   ],
   "source": [
    "var mot = \"Bonjour le monde\"\n",
    "\n",
    "console.log(mot.charAt(0));    // premier caractère\n",
    "console.log(mot.slice(0,3));   // trois premiers caractères\n",
    "console.log(mot.slice(-3));    // trois derniers caractères\n",
    "console.log(mot.slice(3));     // tous les caractères sauf les trois premiers\n",
    "console.log(mot.slice(0,-3));  // tous les caractères sauf les trois derniers"
   ]
  },
  {
   "cell_type": "markdown",
   "metadata": {},
   "source": [
    "**Technique pour le dénombrer les occurrences d'une sous-chaîne**"
   ]
  },
  {
   "cell_type": "code",
   "execution_count": 9,
   "metadata": {},
   "outputs": [
    {
     "name": "stdout",
     "output_type": "stream",
     "text": [
      "Nombre de \"r\" dans Abraracourcix: 3\n"
     ]
    }
   ],
   "source": [
    "var druide = 'Abraracourcix';\n",
    "var nbLettresR = druide.split('r').length-1;\n",
    "console.log(`Nombre de \"r\" dans ${druide}: ${nbLettresR}` );\n",
    "druide.split('r');"
   ]
  },
  {
   "cell_type": "code",
   "execution_count": null,
   "metadata": {},
   "outputs": [],
   "source": [
    "var emphaseHello = 'helllllo';\n",
    "console.log('Nombre de   \\'l\\': ' + (emphaseHello.split('l').length-1));\n",
    "console.log('Nombre de \\'lll\\': ' + (emphaseHello.split('lll').length-1)); // séquences disjointes\n",
    "console.log('Nombre de  \\'ll\\': ' + (emphaseHello.split('ll').length-1));  // séquences disjointes\n",
    "emphaseHello.split('l');"
   ]
  },
  {
   "cell_type": "code",
   "execution_count": null,
   "metadata": {},
   "outputs": [],
   "source": [
    "'Marco Guay'.split(' '); // division sur l'espace"
   ]
  },
  {
   "cell_type": "code",
   "execution_count": null,
   "metadata": {},
   "outputs": [],
   "source": [
    "'Louis-Joseph de Montcalm'.split(' de ');"
   ]
  },
  {
   "cell_type": "code",
   "execution_count": null,
   "metadata": {},
   "outputs": [],
   "source": [
    "'Il était une fois'.split(' ');"
   ]
  },
  {
   "cell_type": "code",
   "execution_count": null,
   "metadata": {},
   "outputs": [],
   "source": [
    "'indivisible'.split(' ');"
   ]
  },
  {
   "cell_type": "markdown",
   "metadata": {},
   "source": [
    "**Méthodes <span style=\"color:red;font-family:courier;\">startsWith(sousChaine[,position])</span>, <span style=\"color:red;font-family:courier;\">endsWith(sousChaine[,position])</span> -- Détermine si la chaîne débute ou se termine par une sous-chaîne.**"
   ]
  },
  {
   "cell_type": "code",
   "execution_count": null,
   "metadata": {},
   "outputs": [],
   "source": [
    "console.log(\"Adam et Eve\".startsWith('Ada'));\n",
    "console.log(\"Adam et Eve\".endsWith('ve'));\n",
    "console.log(\"Adam et Eve\".startsWith('ada'));\n",
    "console.log(\"Adam et Eve\".endsWith('vE'));\n",
    "\n",
    "console.log(\"Adam et Eve\".toLowerCase().startsWith('ada'));\n"
   ]
  },
  {
   "cell_type": "markdown",
   "metadata": {},
   "source": [
    "**Méthode <span style=\"color:red;font-family:courier;\">replace(recherche,remplace)</span> -- Remplacement de sous-chaîne (version simple)**"
   ]
  },
  {
   "cell_type": "code",
   "execution_count": 13,
   "metadata": {},
   "outputs": [
    {
     "name": "stdout",
     "output_type": "stream",
     "text": [
      "Bon matin monsieur\n"
     ]
    }
   ],
   "source": [
    "console.log('Bonjour monsieur'.replace('Bonjour','Bon matin'));"
   ]
  },
  {
   "cell_type": "code",
   "execution_count": 14,
   "metadata": {},
   "outputs": [
    {
     "name": "stdout",
     "output_type": "stream",
     "text": [
      "Bonjour monsieur\n"
     ]
    }
   ],
   "source": [
    "console.log('Bonjour monsieur'.replace('Salut','Bon matin')); // Chaîne inchangée"
   ]
  },
  {
   "cell_type": "code",
   "execution_count": 20,
   "metadata": {},
   "outputs": [
    {
     "name": "stdout",
     "output_type": "stream",
     "text": [
      "Une variable, est genre comme une zone mémoire genre\n",
      "une variable, est  comme une zone mémoire \n"
     ]
    }
   ],
   "source": [
    "// Remplace 1 seule occurrence\n",
    "console.log('Une variable,genre est genre comme une zone mémoire genre'.replace('genre',''));\n",
    "\n",
    "// Pour modifier plusieurs occurrences, il faudra utiliser une expression régulière (traité plus tard). \n",
    "// Voici tout de même un exemple:\n",
    "console.log('une variable,genre est genre comme une zone mémoire genre'.replace(/genre/g,''));"
   ]
  },
  {
   "cell_type": "markdown",
   "metadata": {},
   "source": [
    "## Autres transformations"
   ]
  },
  {
   "cell_type": "code",
   "execution_count": null,
   "metadata": {},
   "outputs": [],
   "source": [
    "'  - Informatique    '.trim();"
   ]
  },
  {
   "cell_type": "code",
   "execution_count": null,
   "metadata": {},
   "outputs": [],
   "source": [
    "'  - Informatique    '.trimLeft();"
   ]
  },
  {
   "cell_type": "code",
   "execution_count": null,
   "metadata": {},
   "outputs": [],
   "source": [
    "'  - Informatique    '.trimRight();"
   ]
  },
  {
   "cell_type": "code",
   "execution_count": null,
   "metadata": {},
   "outputs": [],
   "source": [
    "'-='.repeat(5);"
   ]
  },
  {
   "cell_type": "code",
   "execution_count": null,
   "metadata": {},
   "outputs": [],
   "source": [
    "'Adam'.concat(' Bernard', ' jr');"
   ]
  }
 ],
 "metadata": {
  "kernelspec": {
   "display_name": "Javascript (Node.js)",
   "language": "javascript",
   "name": "javascript"
  },
  "language_info": {
   "file_extension": ".js",
   "mimetype": "application/javascript",
   "name": "javascript",
   "version": "10.13.0"
  }
 },
 "nbformat": 4,
 "nbformat_minor": 4
}
