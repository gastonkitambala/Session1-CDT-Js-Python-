{
 "cells": [
  {
   "cell_type": "markdown",
   "metadata": {},
   "source": [
    "<img style='margin-right:0' src=\"http://dinfo.ca/logoDptInfo.jpg\" width=300>\n",
    "\n",
    "# Référence JavaScript\n",
    "---\n",
    "## Table des matières:\n",
    "* [Variables et types](#variables)\n",
    "* [Opérateurs](#operateurs)\n",
    "* [Transtypage implicite](#transtypage)\n",
    "* [Formatage de sortie](#formatage)\n",
    "* [Fonctions](#fonctions)\n",
    "* [Sélection (if)](#selection)"
   ]
  },
  {
   "cell_type": "markdown",
   "metadata": {},
   "source": [
    "## <a class=\"anchor\" id=\"variables\">Variables et types</a>\n",
    "\n",
    "### Nombres\n",
    "<style>td { text-align: left; }</style>\n",
    "\n",
    "| type | description  |\n",
    "|------|:-------------|\n",
    "|  number | nombre fractionnaire |\n",
    "\n",
    "> Un seul type est géré pour représenter les nombres : les nombres flottants à précision double, représentés sur 64 bits, selon le format IEEE 754. Il n'y a donc pas de type à part pour représenter les nombres entiers.\n",
    "\n"
   ]
  },
  {
   "cell_type": "code",
   "execution_count": 1,
   "metadata": {},
   "outputs": [
    {
     "name": "stdout",
     "output_type": "stream",
     "text": [
      "number\n",
      "number\n",
      "string\n",
      "0.30000000000000004\n"
     ]
    }
   ],
   "source": [
    "console.log(typeof 12);\n",
    "console.log(typeof 12.5);\n",
    "console.log(typeof 'abc');\n",
    "\n",
    "// Comme en Python, l'arithmétique décimale est inexacte.  Que font 0.1 + 0.2 ?\n",
    "console.log(0.1 + 0.2)"
   ]
  },
  {
   "cell_type": "markdown",
   "metadata": {},
   "source": [
    "### Chaînes de caractères\n",
    "\n",
    "Séquence de caractères Unicode.\n",
    "\n",
    "| type | description  |\n",
    "|------|:-------------|\n",
    "|  string | chaîne de caractères |\n",
    "\n",
    "**Délimiteurs**:\n",
    "- apostrophe simple (`'`)\n",
    "- guillemet simple (`\"`)\n",
    "- littéraux de gabarits (<code>`</code>) *depuis ECMAscript 2015*\n",
    "\n",
    "\n"
   ]
  },
  {
   "cell_type": "code",
   "execution_count": 1,
   "metadata": {},
   "outputs": [
    {
     "name": "stdout",
     "output_type": "stream",
     "text": [
      "Techniques de l'informatique\n",
      "Cégep de Thetford\n",
      "671, boul. Frontenac\n",
      "Élève: Michel Roberge\n"
     ]
    }
   ],
   "source": [
    "console.log(`Techniques de l'informatique`);\n",
    "console.log(`Cégep de Thetford\n",
    "671, boul. Frontenac`);\n",
    "var nomEleve = 'Michel Roberge';\n",
    "console.log(`Élève: ${nomEleve}`); "
   ]
  },
  {
   "cell_type": "markdown",
   "metadata": {},
   "source": [
    "**Caractères d'échappement (extrait)**\n",
    "\n",
    "| Séquence | Signification              |\n",
    "| :------- | :------------------------- |\n",
    "| `\\\\`     | Barre oblique inversée (\\) |\n",
    "| `\\'`      | Apostrophe (')             |\n",
    "| `\\\"`      | Guillemet (\")              |\n",
    "| `\\n`      | Changement de ligne        |\n",
    "| `\\t`      | Tabulation                 |"
   ]
  },
  {
   "cell_type": "code",
   "execution_count": 3,
   "metadata": {},
   "outputs": [
    {
     "name": "stdout",
     "output_type": "stream",
     "text": [
      "5 est de type number\n",
      "5 est de type number\n",
      "5.0 est de type number\n",
      "'5' est de type string\n"
     ]
    }
   ],
   "source": [
    "console.log(`5 est de type ` + typeof 5);\n",
    "console.log(`5 est de type ${typeof 5}`);\n",
    "console.log(`5.0 est de type ` + typeof 5.0);\n",
    "console.log(`'5' est de type ` + typeof '5');"
   ]
  },
  {
   "cell_type": "code",
   "execution_count": 4,
   "metadata": {},
   "outputs": [
    {
     "name": "stdout",
     "output_type": "stream",
     "text": [
      "abc\n",
      "abc\n",
      "L'école\n",
      "L'école\n",
      "Un \"merci\" très spécial\n",
      "\n",
      "L'école\n",
      "Un \"merci\" très spécial\n",
      "Bonjour\n",
      "monsieur\n"
     ]
    }
   ],
   "source": [
    "console.log('abc')\n",
    "console.log(\"abc\")\n",
    "console.log(\"L'école\")\n",
    "console.log('L\\'école')\n",
    "console.log(\"Un \\\"merci\\\" très spécial\\n\")\n",
    "console.log(`L'école`)\n",
    "console.log(`Un \"merci\" très spécial`)\n",
    "console.log(`Bonjour\n",
    "monsieur`);"
   ]
  },
  {
   "cell_type": "markdown",
   "metadata": {},
   "source": [
    "---\n",
    "\n",
    "## <a class=\"anchor\" id=\"operateurs\">Opérateurs</a>\n",
    "\n",
    "**Plus prioritaire en premier**\n",
    "\n",
    "|Précédence|Type d'opérateur|Associativité|Opérateurs individuels|\n",
    "|--- |--- |--- |--- |\n",
    "|0|Groupement|Non applicable|`( … )`|\n",
    "|1|Accès à un membre|Gauche à droite|`… . …`|\n",
    "|1|Accès à un membre calculé|Gauche à droite|`… [ … ]`|\n",
    "|1|new (avec une liste d'arguments)|Non applicable|`new … ( … )`|\n",
    "|2|Appel de fonction|Gauche à droite|`… ( … )`|\n",
    "|2|new (sans liste d'arguments)|Gauche à droite|`new …`|\n",
    "|3|Incrémentation suffixe|Non applicable|`… ++`|\n",
    "|3|Décrémentation suffixe|Non applicable|`… --`|\n",
    "|4|NON logique|Droite à gauche|`! …`|\n",
    "|4|NON binaire|Droite à gauche|`~ …`|\n",
    "|4|Plus unaire|Droite à gauche|`+ …`|\n",
    "|4|Négation unaire|Droite à gauche|`- …`|\n",
    "|4|Incrémentation préfixe|Droite à gauche|`++ …`|\n",
    "|4|Décrémentation préfixe|Droite à gauche|`-- …`|\n",
    "|4|typeof|Droite à gauche|`typeof …`|\n",
    "|4|void|Droite à gauche|`void …`|\n",
    "|4|delete|Droite à gauche|`delete …`|\n",
    "|4|await|Droite à gauche|`await …`|\n",
    "|5|Multiplication|Gauche à droite|`… * …`|\n",
    "|5|Exponentiation|Droite à gauche|`… ** …`|\n",
    "|5|Division|Gauche à droite|`… / …`|\n",
    "|5|Reste|Gauche à droite|`… % …`|\n",
    "|6|Addition|Gauche à droite|`… + …`|\n",
    "|6|Soustraction|Gauche à droite|`… - …`|\n",
    "|7|Décalage binaire à gauche|Gauche à droite|`… << …`|\n",
    "|7|Décalage binaire à droite|Gauche à droite|`… >> …`|\n",
    "|7|Décalage binaire à droite non-signé|Gauche à droite|`… >>> …`|\n",
    "|8|Inférieur strict|Gauche à droite|`… < …`|\n",
    "|8|Inférieur ou égal|Gauche à droite|`… <= …`|\n",
    "|8|Supérieur strict|Gauche à droite|`… > …`|\n",
    "|8|Supérieur ou égal|Gauche à droite|`… >= …`|\n",
    "|8|in|Gauche à droite|`… in …`|\n",
    "|8|instanceof|Gauche à droite|`… instanceof …`|\n",
    "|9|Égalité faible|Gauche à droite|`… == …`|\n",
    "|9|Inégalité faible|Gauche à droite|`… != …`|\n",
    "|9|Égalité stricte|Gauche à droite|`… === …`|\n",
    "|9|Inégalité stricte|Gauche à droite|`… !== …`|\n",
    "|10|ET binaire|Gauche à droite|`… & …`|\n",
    "|11|OU exclusif (XOR) binaire|Gauche à droite|`… ^ …`|\n",
    "|12|OU binaire|Gauche à droite|… &vert; …|\n",
    "|13|ET logique|Gauche à droite|`… && …`|\n",
    "|14|OU logique|Gauche à droite|… &vert;&vert; …|\n",
    "|15|Opérateur conditionnel ternaire|Droite à gauche|`… ? … : …`|\n",
    "|16|Affectation|Droite à gauche|`… = …`<br>`… += …`<br>`… -= …`<br>`… *= …`<br>`… /= …`<br>`… **= …`<br>`… %= …`<br>`… <<= …`<br>`… >>= …`<br>`… >>>= …`<br>`… &= …`<br>`… ^= …`<br>… &vert;= … |\n",
    "|17|yield|Droite à gauche|`yield …`|\n",
    "|17|yield*|Droite à gauche|`yield* …`|\n",
    "|18|Décomposition|Non applicable|`... …`|\n",
    "|19|Virgule|Gauche à droite|`… , …`|\n"
   ]
  },
  {
   "cell_type": "markdown",
   "metadata": {},
   "source": [
    "### Regroupement des opérateurs\n",
    "\n",
    "**Opérateurs arithmétiques**\n",
    "\n",
    "|Précédence|Type d'opérateur|Associativité|Opérateurs individuels|\n",
    "|--- |--- |--- |--- |\n",
    "|3|Incrémentation suffixe|Non applicable|`… ++`|\n",
    "|3|Décrémentation suffixe|Non applicable|`… --`|\n",
    "|4|Incrémentation préfixe|Droite à gauche|`++ …`|\n",
    "|4|Décrémentation préfixe|Droite à gauche|`-- …`|\n",
    "|5|Multiplication|Gauche à droite|`… * …`|\n",
    "|5|Exponentiation|Droite à gauche|`… ** …`|\n",
    "|5|Division|Gauche à droite|`… / …`|\n",
    "|5|Reste|Gauche à droite|`… % …`|\n",
    "|6|Addition|Gauche à droite|`… + …`|\n",
    "|6|Soustraction|Gauche à droite|`… - …`|\n"
   ]
  },
  {
   "cell_type": "code",
   "execution_count": 5,
   "metadata": {},
   "outputs": [
    {
     "name": "stdout",
     "output_type": "stream",
     "text": [
      " 2+4 = 6\n",
      " 2^8 = 256\n",
      " 6/4 = 1.5\n",
      "17%7 = 3\n"
     ]
    }
   ],
   "source": [
    "// Expérimentation\n",
    "console.log(\" 2+4 = \" + (2+4));\n",
    "console.log(\" 2^8 = \" + 2**8);\n",
    "console.log(\" 6/4 = \" + 6/4);\n",
    "console.log(\"17%7 = \" + 17%7);"
   ]
  },
  {
   "cell_type": "markdown",
   "metadata": {},
   "source": [
    "### Pré- et Post- Incrémentation/Décrémentation\n",
    "\n",
    "La pré-incrémentation (incrémentation préfixe) permet d'additionner sur place une variable et de retourner la valeur après incrémentation.\n",
    "\n",
    "La post-incrémentation (incrémentation suffixe) retourne la valeur de la variable AVANT d'incrémenter cette variable."
   ]
  },
  {
   "cell_type": "code",
   "execution_count": 6,
   "metadata": {},
   "outputs": [
    {
     "name": "stdout",
     "output_type": "stream",
     "text": [
      "x vaut 6\n",
      "y vaut 6\n",
      "\n",
      "x vaut 6\n",
      "y vaut 5\n"
     ]
    }
   ],
   "source": [
    "var x = 5;\n",
    "var y = ++x;\n",
    "console.log('x vaut ' + x);\n",
    "console.log('y vaut ' + y + '\\n');\n",
    "\n",
    "x = 5;\n",
    "y = x++;\n",
    "console.log('x vaut ' + x);\n",
    "console.log('y vaut ' + y);"
   ]
  },
  {
   "cell_type": "markdown",
   "metadata": {},
   "source": [
    "**Faire attention en utilisant la pré- ou post- incrémentation/décrémentation**\n",
    "\n",
    "Dans un but de lisibilité, il ne faut pas abuser de cet opérateur.\n",
    "\n",
    "Habituellement, cet opérateur ne sera pas utilisé à l'intérieur d'une expression (simple ou complexe).\n",
    "\n",
    "Plus souvent qu'autrement, on va isoler l'opération.\n",
    "\n",
    "```javascript\n",
    "var x = 2;\n",
    "\n",
    "x++;\n",
    "// équivalences\n",
    "x = x + 1;\n",
    "x += 1;\n",
    "```"
   ]
  },
  {
   "cell_type": "markdown",
   "metadata": {},
   "source": [
    "**Opérateurs de comparaison**\n",
    "\n",
    "|Précédence|Type d'opérateur|Associativité|Opérateurs individuels|\n",
    "|--- |--- |--- |--- |\n",
    "|8|Inférieur strict|Gauche à droite|`… < …`|\n",
    "|8|Inférieur ou égal|Gauche à droite|`… <= …`|\n",
    "|8|Supérieur strict|Gauche à droite|`… > …`|\n",
    "|8|Supérieur ou égal|Gauche à droite|`… >= …`|\n",
    "|9|Égalité faible|Gauche à droite|`… == …`|\n",
    "|9|Inégalité faible|Gauche à droite|`… != …`|\n",
    "|9|Égalité stricte|Gauche à droite|`… === …`|\n",
    "|9|Inégalité stricte|Gauche à droite|`… !== …`|\n",
    "|15|Opérateur conditionnel ternaire|Droite à gauche|`… ? … : …`|\n"
   ]
  },
  {
   "cell_type": "markdown",
   "metadata": {},
   "source": [
    "#### Égalité stricte (===) vs égalité faible (==)\n",
    "\n",
    "> * L'**égalité faible** effectuera une <u>conversion des deux éléments à comparer avant</u> d'effectuer la comparaison.<br><br>\n",
    "\n",
    "> * L'**égalité stricte** effectuera la <u>même comparaison mais sans conversion préalable</u> \n",
    "    * (elle renverra toujours false si les types des deux valeurs comparées sont différents)."
   ]
  },
  {
   "cell_type": "code",
   "execution_count": 2,
   "metadata": {},
   "outputs": [
    {
     "name": "stdout",
     "output_type": "stream",
     "text": [
      " '15' ==  15  : true\n",
      " '15' == '15' : true\n",
      "  15  ==  15  : true\n",
      "\n",
      " '15' ===  15  : false\n",
      " '15' === '15' : true\n",
      "  15  ===  15  : true\n"
     ]
    }
   ],
   "source": [
    "console.log(` '15' ==  15  : ` + ('15' ==  15) );\n",
    "console.log(` '15' == '15' : ` + ('15' == '15') );\n",
    "console.log(`  15  ==  15  : ` + (  15 ==  15) + '\\n');\n",
    "\n",
    "console.log(` '15' ===  15  : ` + ('15' ===  15) );\n",
    "console.log(` '15' === '15' : ` + ('15' === '15') );\n",
    "console.log(`  15  ===  15  : ` + ( 15  ===  15) );\n"
   ]
  },
  {
   "cell_type": "markdown",
   "metadata": {},
   "source": [
    "#### Opérateur ternaire ( `cond ? valeur1 : valeur2` )\n",
    "\n",
    "On a des opérateurs unaires (une seule opérande) comme le changement de signe (ex: `-a`).  \n",
    "\n",
    "La plupart des opérateurs sont binaires (deux opérandes: une à gauche de l'opérateur, l'autre à droite).\n",
    "\n",
    "Il existe dans ce langage un opérateur à trois parties (trois opérandes)."
   ]
  },
  {
   "cell_type": "code",
   "execution_count": null,
   "metadata": {},
   "outputs": [],
   "source": [
    "var codeSexe = 'H';\n",
    "var titre = codeSexe === 'H' ? 'Monsieur' : 'Madame';\n",
    "console.log(`Pour le code de sexe '${codeSexe}', le titre est \"${titre}\"`);\n",
    "\n",
    "codeSexe = 'F';\n",
    "titre = codeSexe === 'H' ? 'Monsieur' : 'Madame';\n",
    "console.log(`Pour le code de sexe '${codeSexe}', le titre est \"${titre}\"`);"
   ]
  },
  {
   "cell_type": "markdown",
   "metadata": {},
   "source": [
    "C'est une façon alternative de faire des affectations (ou de retourner des valeurs) sans utiliser d'énoncés conditionnels (if).\n",
    "\n",
    "La version alternative serait:"
   ]
  },
  {
   "cell_type": "code",
   "execution_count": null,
   "metadata": {},
   "outputs": [],
   "source": [
    "var codeSexe = 'H';\n",
    "var titre;\n",
    "if(codeSexe === 'H')\n",
    "    titre = 'Monsieur';\n",
    "else\n",
    "    titre = 'Madame';\n",
    "console.log(`Pour le code de sexe '${codeSexe}', le titre est \"${titre}\"`);\n",
    "\n",
    "codeSexe = 'F';\n",
    "if(codeSexe === 'H')\n",
    "    titre = 'Monsieur';\n",
    "else\n",
    "    titre = 'Madame';\n",
    "console.log(`Pour le code de sexe '${codeSexe}', le titre est \"${titre}\"`);"
   ]
  },
  {
   "cell_type": "markdown",
   "metadata": {},
   "source": [
    "**Opérateurs d'affectation**\n",
    "\n",
    "|Précédence|Type d'opérateur|Associativité|Opérateurs individuels|\n",
    "|--- |--- |--- |--- |\n",
    "|16|Affectation|Droite à gauche|`… = …`<br>`… += …`<br>`… -= …`<br>`… *= …`<br>`… /= …`<br>`… **= …`<br>`… %= …`<br>`… <<= …`<br>`… >>= …`<br>`… >>>= …`<br>`… &= …`<br>`… ^= …`<br>… &vert;= … |\n"
   ]
  },
  {
   "cell_type": "markdown",
   "metadata": {},
   "source": [
    "**Affectation multiple**\n",
    "\n",
    "```javascript\n",
    "var x,y,z;\n",
    "x = y = z = 3;\n",
    "``` \n",
    "\n",
    "`Équivalent à`\n",
    "\n",
    "```javascript\n",
    "var x,y,z;\n",
    "x = 3;\n",
    "y = 3;\n",
    "z = 3;\n",
    "``` \n",
    "\n",
    "> On ne peut faire <br>&nbsp;&nbsp;&nbsp;&nbsp;`var x = y = z = 3;`<br> car `y` et `z` auront une portée globale.\n"
   ]
  },
  {
   "cell_type": "code",
   "execution_count": null,
   "metadata": {},
   "outputs": [],
   "source": [
    "var x,y,z;\n",
    "x = y = z = 3;\n",
    "\n",
    "console.log(`x: ${x} -- y: ${y} -- z: ${z}`);"
   ]
  },
  {
   "cell_type": "markdown",
   "metadata": {},
   "source": [
    "**Affectation parallèle** \n",
    "\n",
    "Il n'y a pas d'affectation parallèle comme en Python.\n",
    "\n",
    "Ce qui s'y rapproche le plus est l'**affectation par décomposition** (*destructuring* en anglais) est une expression JavaScript qui permet d'extraire (unpack en anglais) des données d'un tableau ou d'un objet.\n",
    "\n"
   ]
  },
  {
   "cell_type": "code",
   "execution_count": null,
   "metadata": {},
   "outputs": [],
   "source": [
    "var x,y;\n",
    "[x,y] = [1, 0.5];\n",
    "\n",
    "console.log(`x: ${x} -- y: ${y}`);"
   ]
  },
  {
   "cell_type": "markdown",
   "metadata": {},
   "source": [
    "`Équivalent à:`\n",
    "\n",
    "> var x = 1<br>var y = 0.5"
   ]
  },
  {
   "cell_type": "markdown",
   "metadata": {},
   "source": [
    "---\n",
    "# <a class=\"anchor\" id=\"transtypage\">Transtypage</a>\n",
    "\n",
    "Comme il n'y a qu'un type numérique (fractionnaire), le sujet est clos.\n"
   ]
  },
  {
   "cell_type": "markdown",
   "metadata": {},
   "source": [
    "---\n",
    "# <a class=\"anchor\" id=\"formatage\">Affichage et formatage de chaînes</a>\n",
    "\n",
    "Il n'y a **pas d'équivalent de formatage de chaînes** comme en Python (notation: %.2f) directement dans le langage JavaScript.\n",
    "\n",
    "Pour formater le nombre de décimales à afficher, on peut utiliser la méthode `toFixed(n)`:"
   ]
  },
  {
   "cell_type": "code",
   "execution_count": null,
   "metadata": {},
   "outputs": [],
   "source": [
    "console.log( (12.345).toFixed(2) ); // arrondi!\n",
    "console.log( (12.3).toFixed(2) ); // ajoute un zéro décimal non-significatif"
   ]
  },
  {
   "cell_type": "markdown",
   "metadata": {
    "collapsed": true
   },
   "source": [
    "---\n",
    "# <a class=\"anchor\" id=\"fonctions\">Fonctions</a>\n",
    "\n",
    "#### Structure\n",
    "\n",
    "Référence: [Documentation MDN](https://developer.mozilla.org/fr/docs/Web/JavaScript/Guide/Fonctions)\n",
    "\n",
    "```javascript\n",
    "  function nomFonction(parametres) {\n",
    "      enonces;\n",
    "  }\n",
    "```\n",
    "\n",
    "Une **définition de fonction** (aussi appelée **déclaration de fonction** ou instruction de fonction) est construite avec le mot-clé `function`, suivi par :\n",
    "\n",
    "* Le nom de la fonction.\n",
    "* Une liste d'arguments à passer à la fonction, entre parenthèses et séparés par des virgules.\n",
    "* Les instructions JavaScript définissant la fonction, entre **accolades**, { }.\n",
    "\n",
    "\n",
    "> Il existe <span style=\"color:red\">trois autres formes</span> pour les fonctions en JavaScript (traitées plus tard dans le cours)\n",
    "* **expressions de fonction** (fonctions anonymes ou non)\n",
    "* expression de fonction invoquée immédiatement (**IIFE** -- Immediately Invoked Function Expression)\n",
    "* expression de fonction fléchée (**arrow functions**)\n",
    "\n",
    "\n",
    "#### Deux types de fonctions\n",
    "\n",
    "* Aucune valeur de retour (nom commun: *procédure*)\n",
    "* Avec valeur retournée\n",
    "    * via l'énoncé `return`\n",
    "    \n",
    "> Afin d'augmenter la lisibilité du code, on va toujours s'efforcer de mettre un seul `return` par fonction et placer cette instruction à la dernière ligne du corps de la fonction.\n",
    "\n",
    "> Les instructions après un `return` ne seront jamais exécutées (dans le même niveau de bloc).\n",
    "\n",
    "#### Simulation d'exécution"
   ]
  },
  {
   "cell_type": "code",
   "execution_count": null,
   "metadata": {},
   "outputs": [],
   "source": [
    "// Définition des fonctions\n",
    "function afficherRecette() {\n",
    "    console.log(\"200g de chocolat\");\n",
    "}\n",
    "\n",
    "function calculerSuperficie(h,l) {\n",
    "    return h * l;\n",
    "}\n",
    "\n",
    "// Exécution\n",
    "console.log(\"Avant afficherRecette()\");\n",
    "afficherRecette();\n",
    "console.log(\"Après afficherRecette()\\n\");\n",
    "\n",
    "console.log(\"Avant 1er calculerSuperficie\");\n",
    "var s = calculerSuperficie(3,7) + 1;\n",
    "console.log(\"Après 1er calculerSuperficie\\n\");\n",
    "\n",
    "console.log(\"Avant 2e calculerSuperficie\");\n",
    "s = calculerSuperficie(1,2) + calculerSuperficie(3,4);\n",
    "console.log(\"Après 2e calculerSuperficie\");"
   ]
  },
  {
   "cell_type": "markdown",
   "metadata": {},
   "source": [
    "### Portée des variables"
   ]
  },
  {
   "cell_type": "code",
   "execution_count": 3,
   "metadata": {},
   "outputs": [
    {
     "name": "stdout",
     "output_type": "stream",
     "text": [
      "* * *   A V E R T I S S E M E N T :   N E   P A S   F A I R E   * * *\n",
      "Avant l'appel de la fonction\n",
      "  r: 10\n",
      "Après l'appel de la fonction\n",
      "r: 10\n"
     ]
    }
   ],
   "source": [
    "// PROBLÉMATIQUE\n",
    "console.log(\"* * *   A V E R T I S S E M E N T :   N E   P A S   F A I R E   * * *\");\n",
    "function traiterV1a() {\n",
    "    r = 10;   // ouch!\n",
    "    console.log(`  r: ${r}`);\n",
    "}\n",
    "\n",
    "// console.log(`r: ${r}`);\n",
    "console.log(\"Avant l'appel de la fonction\");\n",
    "traiterV1a()\n",
    "console.log(\"Après l'appel de la fonction\");\n",
    "console.log(`r: ${r}`);"
   ]
  },
  {
   "cell_type": "code",
   "execution_count": 4,
   "metadata": {},
   "outputs": [
    {
     "name": "stdout",
     "output_type": "stream",
     "text": [
      "Avant l'appel de la fonction\n",
      "  q: 10\n",
      "Après l'appel de la fonction\n"
     ]
    },
    {
     "ename": "ReferenceError",
     "evalue": "q is not defined",
     "output_type": "error",
     "traceback": [
      "evalmachine.<anonymous>:11",
      "console.log(`q: ${q}`);",
      "                  ^",
      "",
      "ReferenceError: q is not defined",
      "    at evalmachine.<anonymous>:11:19",
      "    at Script.runInThisContext (vm.js:96:20)",
      "    at Object.runInThisContext (vm.js:303:38)",
      "    at run ([eval]:1054:15)",
      "    at onRunRequest ([eval]:888:18)",
      "    at onMessage ([eval]:848:13)",
      "    at process.emit (events.js:182:13)",
      "    at emit (internal/child_process.js:812:12)",
      "    at process._tickCallback (internal/process/next_tick.js:63:19)"
     ]
    }
   ],
   "source": [
    "// RÉSOLUTION\n",
    "function traiterV1b() {\n",
    "    let q = 10;   // déclaration locale\n",
    "    console.log(`  q: ${q}`);\n",
    "}\n",
    "\n",
    "// console.log(`q: ${q}`);\n",
    "console.log(\"Avant l'appel de la fonction\");\n",
    "traiterV1b()\n",
    "console.log(\"Après l'appel de la fonction\");\n",
    "console.log(`q: ${q}`);"
   ]
  },
  {
   "cell_type": "code",
   "execution_count": 5,
   "metadata": {},
   "outputs": [
    {
     "name": "stdout",
     "output_type": "stream",
     "text": [
      "y: 15\n",
      "Avant l'appel de la fonction\n",
      "  y: 25\n",
      "Après l'appel de la fonction\n",
      "y: 15\n"
     ]
    }
   ],
   "source": [
    "function traiterV2() {\n",
    "    var y = 25;\n",
    "    console.log(`  y: ${y}`);\n",
    "}\n",
    "var y = 15\n",
    "console.log(`y: ${y}`);\n",
    "console.log(\"Avant l'appel de la fonction\");\n",
    "traiterV2();\n",
    "console.log(\"Après l'appel de la fonction\");\n",
    "console.log(`y: ${y}`);"
   ]
  },
  {
   "cell_type": "code",
   "execution_count": 6,
   "metadata": {},
   "outputs": [
    {
     "name": "stdout",
     "output_type": "stream",
     "text": [
      "* * *   A V E R T I S S E M E N T :   N E   P A S   F A I R E   * * *\n",
      "y: 15\n",
      "Avant l'appel de la fonction\n",
      "  y: 25\n",
      "Après l'appel de la fonction\n",
      "y: 25\n"
     ]
    }
   ],
   "source": [
    "// PROBLÉMATIQUE\n",
    "console.log(\"* * *   A V E R T I S S E M E N T :   N E   P A S   F A I R E   * * *\");\n",
    "function traiterV2b() {\n",
    "    y = 25; // ouch!\n",
    "    console.log(`  y: ${y}`);\n",
    "}\n",
    "var y = 15;\n",
    "console.log(`y: ${y}`);\n",
    "console.log(\"Avant l'appel de la fonction\");\n",
    "traiterV2b();\n",
    "console.log(\"Après l'appel de la fonction\");\n",
    "console.log(`y: ${y}`);"
   ]
  },
  {
   "cell_type": "code",
   "execution_count": 7,
   "metadata": {},
   "outputs": [
    {
     "name": "stdout",
     "output_type": "stream",
     "text": [
      "* * *   A V E R T I S S E M E N T :   N E   P A S   F A I R E   * * *\n",
      "z: 120\n",
      "Avant l'appel de la fonction\n",
      "  z: 120\n",
      "Après l'appel de la fonction\n",
      "z: 120\n"
     ]
    }
   ],
   "source": [
    "console.log(\"* * *   A V E R T I S S E M E N T :   N E   P A S   F A I R E   * * *\");\n",
    "function traiterV3() {\n",
    "    console.log(`  z: ${z}`); // NE PAS ACCÉDER AUX VARIABLES GLOBALES\n",
    "}\n",
    "var z = 120;\n",
    "console.log(`z: ${z}`);\n",
    "console.log(\"Avant l'appel de la fonction\");\n",
    "traiterV3();\n",
    "console.log(\"Après l'appel de la fonction\");\n",
    "console.log(`z: ${z}`);"
   ]
  },
  {
   "cell_type": "code",
   "execution_count": 8,
   "metadata": {},
   "outputs": [
    {
     "name": "stdout",
     "output_type": "stream",
     "text": [
      "nbPassagers vaut 4\n",
      "nbPassagers vaut 2\n"
     ]
    }
   ],
   "source": [
    "function traiterV4(nbPassagers=2) {\n",
    "    console.log(\"nbPassagers vaut \" + nbPassagers);\n",
    "}\n",
    "\n",
    "traiterV4(4);\n",
    "traiterV4();"
   ]
  },
  {
   "cell_type": "code",
   "execution_count": null,
   "metadata": {},
   "outputs": [],
   "source": [
    "function traiterV5(poids) {\n",
    "    console.log(\"poids vaut \" + poids);\n",
    "}\n",
    "\n",
    "function traiterV5() {\n",
    "    console.log(\"vide\");\n",
    "}\n",
    "\n",
    "traiterV5(2); // PARAMÈTRE IGNORÉ !!"
   ]
  },
  {
   "cell_type": "code",
   "execution_count": null,
   "metadata": {},
   "outputs": [],
   "source": [
    "function traiterV6(x) {\n",
    "    return x + traiterV6(x-1);\n",
    "}\n",
    "traiterV6(5);  // Débordement d'appels (stack overflow)"
   ]
  },
  {
   "cell_type": "code",
   "execution_count": null,
   "metadata": {},
   "outputs": [],
   "source": [
    "function traiterV7(x) {\n",
    "    var r;\n",
    "    if(x < 2) {\n",
    "        r = 1\n",
    "    } else {\n",
    "        r = x + traiterV7(x-1);\n",
    "    }\n",
    "    return r\n",
    "}\n",
    "\n",
    "traiterV7(5)"
   ]
  },
  {
   "cell_type": "code",
   "execution_count": null,
   "metadata": {},
   "outputs": [],
   "source": [
    "function traiterV8(x) {\n",
    "    return x < 2 ? 1 : x + traiterV7(x-1);\n",
    "}\n",
    "\n",
    "traiterV8(6)"
   ]
  },
  {
   "cell_type": "markdown",
   "metadata": {},
   "source": [
    "# <a class=\"anchor\" id=\"selection\">Sélection</a>\n"
   ]
  },
  {
   "cell_type": "markdown",
   "metadata": {},
   "source": [
    "![](https://www.tutorialspoint.com/python/images/if_else_statement.jpg)"
   ]
  },
  {
   "cell_type": "markdown",
   "metadata": {},
   "source": [
    "### Format #1:\n",
    "```javascript\n",
    "if(expression) {\n",
    "   instruction(s)\n",
    "}\n",
    "```\n",
    "\n",
    "<img src=\"https://cdn.programiz.com/sites/tutorial2program/files/Python_if_statement.jpg\" width=\"200\">\n",
    "\n",
    "* Si la condition est vraie, les instructions sont exécutées\n",
    "* Si la condition est fausse, on saute par-dessus ces instructions\n",
    "\n",
    "### Format #2:\n",
    "```javascript\n",
    "if(expression) {\n",
    "   instruction(s)\n",
    "} else {\n",
    "   instruction(s)\n",
    "}\n",
    "```\n",
    "\n",
    "<img src=\"https://cdn.programiz.com/sites/tutorial2program/files/Python_if_else_statement.jpg\" width=\"200\">\n",
    "\n",
    "### Format #3 (pas de `elif``):\n",
    "\n",
    "```javascript\n",
    "if(condition1)\n",
    "   enonce1;\n",
    "else\n",
    "   if(condition2)\n",
    "      enonce2;\n",
    "   else\n",
    "      enonce3;\n",
    "```\n",
    "\n",
    "\n",
    "<img src=\"https://cdn.programiz.com/sites/tutorial2program/files/Python_if_elif_else_statement.jpg\" width=\"300\">\n"
   ]
  },
  {
   "cell_type": "code",
   "execution_count": null,
   "metadata": {},
   "outputs": [],
   "source": [
    "// Exemples\n",
    "var age = 15;\n",
    "if(age < 18)\n",
    "    console.log(\"mineur\");\n",
    "else\n",
    "    console.log(\"majeur\");"
   ]
  },
  {
   "cell_type": "code",
   "execution_count": null,
   "metadata": {},
   "outputs": [],
   "source": [
    "var pays = \"Canada\";\n",
    "//var pays = \"États-Unis\";\n",
    "//var pays = \"Jamaïque\";\n",
    "//var pays = \"France\"; # Oups. 18 ans en France...\n",
    "if(pays === \"Canada\")\n",
    "    ageLegal = 18\n",
    "else\n",
    "    if(pays === \"États-Unis\")\n",
    "        ageLegal = 21\n",
    "    else\n",
    "        if(pays === \"Jamaïque\")\n",
    "            ageLegal = 15\n",
    "        else\n",
    "            ageLegal = 16\n",
    "console.log(`Age légal de consommation d'alcool (pays: ${pays}): ${ageLegal}`);"
   ]
  },
  {
   "cell_type": "markdown",
   "metadata": {},
   "source": [
    "# Convertir le code Python ci-dessous en JavaScript"
   ]
  },
  {
   "cell_type": "code",
   "execution_count": 1,
   "metadata": {},
   "outputs": [
    {
     "name": "stdout",
     "output_type": "stream",
     "text": [
      "Vous êtes éligible pour le match des Filons\n",
      "Prix du billet: $20\n"
     ]
    }
   ],
   "source": [
    "var age = 22;\n",
    "if (age >= 11){\n",
    "    console.log(\"Vous êtes éligible pour le match des Filons\");\n",
    "    if (age <= 20 || age >= 60)\n",
    "      console.log(\"Prix du billet: $12\");\n",
    "    else\n",
    "      console.log(\"Prix du billet: $20\");\n",
    "}else{\n",
    "    console.log(\"Vous ne pouvez acheter de billet pour le match.\");\n",
    "}\n",
    "  "
   ]
  },
  {
   "cell_type": "code",
   "execution_count": null,
   "metadata": {},
   "outputs": [],
   "source": []
  }
 ],
 "metadata": {
  "kernelspec": {
   "display_name": "Javascript (Node.js)",
   "language": "javascript",
   "name": "javascript"
  },
  "language_info": {
   "file_extension": ".js",
   "mimetype": "application/javascript",
   "name": "javascript",
   "version": "10.13.0"
  }
 },
 "nbformat": 4,
 "nbformat_minor": 2
}
