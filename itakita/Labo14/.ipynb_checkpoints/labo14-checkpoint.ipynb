{
 "cells": [
  {
   "cell_type": "markdown",
   "metadata": {},
   "source": [
    "Before you turn this problem in, make sure everything runs as expected. First, **restart the kernel** (in the menubar, select Kernel$\\rightarrow$Restart) and then **run all cells** (in the menubar, select Cell$\\rightarrow$Run All).\n",
    "\n",
    "Make sure you fill in any place that says `YOUR CODE HERE` or \"YOUR ANSWER HERE\", as well as your name and collaborators below:"
   ]
  },
  {
   "cell_type": "code",
   "execution_count": null,
   "metadata": {},
   "outputs": [],
   "source": [
    "NAME = \"Itaka Kitambala\"\n",
    "COLLABORATORS = \"\""
   ]
  },
  {
   "cell_type": "markdown",
   "metadata": {},
   "source": [
    "---"
   ]
  },
  {
   "cell_type": "markdown",
   "metadata": {},
   "source": [
    "##### <img style='margin-right:0' src=\"http://dinfo.ca/logoDptInfo.jpg\" width=300>\n",
    "\n",
    "# Laboratoire #14 (Python)\n",
    "---"
   ]
  },
  {
   "cell_type": "markdown",
   "metadata": {
    "collapsed": true,
    "deletable": false,
    "editable": false,
    "nbgrader": {
     "cell_type": "markdown",
     "checksum": "d2b4b9402d762abc8998f97d2211d319",
     "grade": false,
     "grade_id": "q1-enonce",
     "locked": true,
     "schema_version": 3,
     "solution": false
    }
   },
   "source": [
    "#### Question #1 (2 points)\n",
    "\n",
    "Le fichier `nombres.txt` est composée de nombres (un nombre par ligne).  \n",
    "\n",
    "> Vous pouvez exécuter la commande `cat` de la cellule suivante pour consulter le contenu.\n",
    "\n",
    "Il faut additionner tous ces nombres avec la variable `total` et afficher ce total.\n",
    "\n",
    "**Résultat attendu**:\n",
    "```\n",
    "Total: 121\n",
    "```"
   ]
  },
  {
   "cell_type": "code",
   "execution_count": 1,
   "metadata": {
    "deletable": false,
    "editable": false,
    "nbgrader": {
     "cell_type": "code",
     "checksum": "bbd830d490ebfd907c79ea96095e5634",
     "grade": false,
     "grade_id": "cell-a1f39a3c09cfeaf3",
     "locked": true,
     "schema_version": 3,
     "solution": false
    }
   },
   "outputs": [
    {
     "name": "stdout",
     "output_type": "stream",
     "text": [
      "30\r\n",
      "40\r\n",
      "12\r\n",
      "34\r\n",
      "5"
     ]
    }
   ],
   "source": [
    "!cat nombres.txt"
   ]
  },
  {
   "cell_type": "code",
   "execution_count": 3,
   "metadata": {
    "deletable": false,
    "nbgrader": {
     "cell_type": "code",
     "checksum": "d334393d78cce39fe0fc72e6a006ea0d",
     "grade": true,
     "grade_id": "q1-reponse",
     "locked": false,
     "points": 1,
     "schema_version": 3,
     "solution": true
    }
   },
   "outputs": [
    {
     "name": "stdout",
     "output_type": "stream",
     "text": [
      "Total: 121\n"
     ]
    }
   ],
   "source": [
    "with open('nombres.txt', 'r') as fEntree:\n",
    "    total = 0\n",
    "    for nombre in fEntree:\n",
    "        total += int(nombre)\n",
    "print(\"Total:\", total)"
   ]
  },
  {
   "cell_type": "code",
   "execution_count": 4,
   "metadata": {
    "deletable": false,
    "editable": false,
    "nbgrader": {
     "cell_type": "code",
     "checksum": "c5a1251aa6cbb0b0f640b7277244ac0c",
     "grade": true,
     "grade_id": "q1-validation",
     "locked": true,
     "points": 1,
     "schema_version": 3,
     "solution": false
    }
   },
   "outputs": [],
   "source": [
    "assert total == 121, 'Probleme de calcul pour le total'"
   ]
  },
  {
   "cell_type": "markdown",
   "metadata": {
    "collapsed": true,
    "deletable": false,
    "editable": false,
    "nbgrader": {
     "cell_type": "markdown",
     "checksum": "6f2792efc7ef8479afa9cbb527054ef0",
     "grade": false,
     "grade_id": "q2-enonce",
     "locked": true,
     "schema_version": 3,
     "solution": false
    }
   },
   "source": [
    "---\n",
    "#### Question #2 (2 points) \n",
    "\n",
    "Vous devez compléter la fonction `fusionnerFichiers(nomFicA, nomFicB)` qui recopie les lignes du premier fichier dans `fusion.txt`, puis ajoute toutes les lignes du second fichier à la suite."
   ]
  },
  {
   "cell_type": "code",
   "execution_count": 22,
   "metadata": {
    "deletable": false,
    "nbgrader": {
     "cell_type": "code",
     "checksum": "9ab692d82215df103f6e76a0eace2d45",
     "grade": true,
     "grade_id": "q2-reponse",
     "locked": false,
     "points": 1,
     "schema_version": 3,
     "solution": true
    }
   },
   "outputs": [],
   "source": [
    "def fusionnerFichiers(nomFicA, nomFicB):\n",
    "    with open('fusion.txt', 'w') as fSortie:\n",
    "        with open(nomFicA, 'r') as f1:\n",
    "            donneeA = f1.read()\n",
    "            fSortie.write(donneeA + \"\\n\")\n",
    "        with open(nomFicB, 'r') as f2:\n",
    "            donneeB = f2.read()\n",
    "            fSortie.write(donneeB)"
   ]
  },
  {
   "cell_type": "code",
   "execution_count": 23,
   "metadata": {
    "deletable": false,
    "editable": false,
    "nbgrader": {
     "cell_type": "code",
     "checksum": "d9a04dca2ad29ab54e48c16826c4e70f",
     "grade": false,
     "grade_id": "cell-42f4fdbc221d8f62",
     "locked": true,
     "schema_version": 3,
     "solution": false
    }
   },
   "outputs": [
    {
     "name": "stdout",
     "output_type": "stream",
     "text": [
      "Lorem ipsum dolor sit amet, consectetur adipiscing elit. \r\n",
      "Ut tincidunt congue tincidunt. \r\n",
      "Integer vitae ipsum quis mauris finibus sagittis. \r\n",
      "Aenean est mi, pharetra in metus sit amet, maximus varius velit. \r\n",
      "Ut consequat bibendum scelerisque. \r\n",
      "Nulla euismod fringilla urna a lacinia. \r\n",
      "Sed sit amet tempus ipsum. \r\n",
      "Integer varius laoreet placerat."
     ]
    }
   ],
   "source": [
    "fusionnerFichiers('premier.txt','second.txt')\n",
    "!cat fusion.txt"
   ]
  },
  {
   "cell_type": "code",
   "execution_count": 26,
   "metadata": {},
   "outputs": [
    {
     "name": "stdout",
     "output_type": "stream",
     "text": [
      "Lorem ipsum dolor sit amet, consectetur adipiscing elit. \r\n",
      "Ut tincidunt congue tincidunt. \r\n",
      "Integer vitae ipsum quis mauris finibus sagittis. \r\n",
      "Aenean est mi, pharetra in metus sit amet, maximus varius velit. \r\n",
      "Ut consequat bibendum scelerisque. \r\n",
      "Nulla euismod fringilla urna a lacinia. \r\n",
      "Sed sit amet tempus ipsum. \r\n",
      "Integer varius laoreet placerat."
     ]
    }
   ],
   "source": [
    "!cat fusion.txt"
   ]
  },
  {
   "cell_type": "code",
   "execution_count": 27,
   "metadata": {
    "deletable": false,
    "editable": false,
    "nbgrader": {
     "cell_type": "code",
     "checksum": "97fc9db95ea7c187129583e1f77b95d2",
     "grade": true,
     "grade_id": "cell-d5523b2184cd5999",
     "locked": true,
     "points": 1,
     "schema_version": 3,
     "solution": false
    }
   },
   "outputs": [],
   "source": [
    "nbLignes = !grep -c '^' fusion.txt \n",
    "assert nbLignes[0].split()[0] == '8', 'Pas huit lignes dans la fusion'"
   ]
  },
  {
   "cell_type": "markdown",
   "metadata": {
    "collapsed": true,
    "deletable": false,
    "editable": false,
    "nbgrader": {
     "cell_type": "markdown",
     "checksum": "ccd854cda6f0888f6d2f82d0554a5f0e",
     "grade": false,
     "grade_id": "q3-enonce",
     "locked": true,
     "schema_version": 3,
     "solution": false
    }
   },
   "source": [
    "---\n",
    "#### Question #3 (2 points)\n",
    "\n",
    "Nous avons un fichier `notes.txt` qui comprend les résultats obtenus à cinq questions pour un exercice.\n",
    "\n",
    "> Vous pouvez exécuter la cellule suivante pour voir la structure de ce fichier (les éléments sont séparés par des virgules).\n",
    "\n",
    "La pondération pour les questions sont:\n",
    "- Q1: 2 points\n",
    "- Q2: 1 point\n",
    "- Q3: 1 point\n",
    "- Q4: 2 points\n",
    "- Q5: 4 points\n",
    "\n",
    "L'exercice est sur 10 points.\n",
    "\n",
    "On veut afficher à l'écran la note obtenue pour chaque étudiant.\n",
    "\n",
    "*Résultats attendus*:\n",
    "```\n",
    "Adam      : 10.0/10\n",
    "Bernard   : 5.0/10\n",
    "Charles   : 9.6/10\n",
    "```"
   ]
  },
  {
   "cell_type": "code",
   "execution_count": 28,
   "metadata": {
    "deletable": false,
    "editable": false,
    "nbgrader": {
     "cell_type": "code",
     "checksum": "d98353935754a06a05af3788e7dc378c",
     "grade": false,
     "grade_id": "cell-5407a3c86dde6cf5",
     "locked": true,
     "schema_version": 3,
     "solution": false
    }
   },
   "outputs": [
    {
     "name": "stdout",
     "output_type": "stream",
     "text": [
      "Adam,2,1,1,2,4\r\n",
      "Bernard,1.5,0,0.5,2,1\r\n",
      "Charles,2,0.8,0.8,2,4"
     ]
    }
   ],
   "source": [
    "# Structure du fichier\n",
    "!cat notes.txt"
   ]
  },
  {
   "cell_type": "code",
   "execution_count": 89,
   "metadata": {
    "deletable": false,
    "nbgrader": {
     "cell_type": "code",
     "checksum": "9046457d1dfa3f648f8325130bae594a",
     "grade": true,
     "grade_id": "q3-reponse",
     "locked": false,
     "points": 2,
     "schema_version": 3,
     "solution": true
    }
   },
   "outputs": [
    {
     "name": "stdout",
     "output_type": "stream",
     "text": [
      "Adam      : 10.0/10\n",
      "Bernard   : 5.0/10\n",
      "Charles   : 9.6/10\n"
     ]
    }
   ],
   "source": [
    "with open('notes.txt', 'r') as fEntree:\n",
    "    lignes = fEntree.read()\n",
    "    points = lignes.split('\\n')\n",
    "    donneeEtudiant1 = points[0].split(',')\n",
    "    nomEtudiant1 = donneeEtudiant1[0]\n",
    "    notesEtudiant1 = donneeEtudiant1[1:]\n",
    "    totalEtudiant1=0\n",
    "    for note in notesEtudiant1:\n",
    "        totalEtudiant1 += float(note)\n",
    "    print(\"%-10s: %.1f/10\" % (nomEtudiant1, totalEtudiant1 ))\n",
    "    donneeEtudiant2 = points[1].split(',')\n",
    "    nomEtudiant2 = donneeEtudiant2[0]\n",
    "    notesEtudiant2 = donneeEtudiant2[1:]\n",
    "    totalEtudiant2=0\n",
    "    for note in notesEtudiant2:\n",
    "        totalEtudiant2 += float(note)\n",
    "    print(\"%-10s: %.1f/10\" % (nomEtudiant2, totalEtudiant2 ))\n",
    "    donneeEtudiant3 = points[2].split(',')\n",
    "    nomEtudiant3 = donneeEtudiant3[0]\n",
    "    notesEtudiant3 = donneeEtudiant3[1:]\n",
    "    totalEtudiant3=0\n",
    "    for note in notesEtudiant3:\n",
    "        totalEtudiant3 += float(note)\n",
    "    print(\"%-10s: %.1f/10\" % (nomEtudiant3, totalEtudiant3 ))\n",
    "# Format d'affichage: \"%-10s: %.1f/10\" "
   ]
  },
  {
   "cell_type": "markdown",
   "metadata": {
    "collapsed": true,
    "deletable": false,
    "editable": false,
    "nbgrader": {
     "cell_type": "markdown",
     "checksum": "f83ed09ac2675023a9065b6261c0af6d",
     "grade": false,
     "grade_id": "q4-enonce",
     "locked": true,
     "schema_version": 3,
     "solution": false
    }
   },
   "source": [
    "---\n",
    "#### Question #4 (2 points)\n",
    "\n",
    "Dans le fichier `alphabet.txt`, nous avons tous les mots de l'alphabet international.\n",
    "\n",
    "Vous devez compléter la fonction `chargerAlphabet()` qui retourne une collection d'association; la clé est la première lettre du mot.  On ne considère que les lettres de l'alphabet."
   ]
  },
  {
   "cell_type": "code",
   "execution_count": 90,
   "metadata": {
    "deletable": false,
    "editable": false,
    "nbgrader": {
     "cell_type": "code",
     "checksum": "38f5df6e6e02fad621c482acb5b6d136",
     "grade": false,
     "grade_id": "cell-6cfaf1a7df2b3d36",
     "locked": true,
     "schema_version": 3,
     "solution": false
    }
   },
   "outputs": [
    {
     "name": "stdout",
     "output_type": "stream",
     "text": [
      "alpha\r\n",
      "bravo\r\n",
      "charlie\r\n",
      "delta\r\n",
      "echo\r\n",
      "foxtrot\r\n",
      "golf\r\n",
      "hotel\r\n",
      "india\r\n",
      "juliet\r\n",
      "kilo\r\n",
      "lima\r\n",
      "mike\r\n",
      "november\r\n",
      "oscar\r\n",
      "papa\r\n",
      "quebec\r\n",
      "romeo\r\n",
      "sierra\r\n",
      "tango\r\n",
      "uniform\r\n",
      "victor\r\n",
      "whiskey\r\n",
      "x-ray\r\n",
      "yankee\r\n",
      "zulu"
     ]
    }
   ],
   "source": [
    "!cat alphabet.txt"
   ]
  },
  {
   "cell_type": "code",
   "execution_count": 13,
   "metadata": {
    "deletable": false,
    "nbgrader": {
     "cell_type": "code",
     "checksum": "76415ac7a89e858ef6a52f7b17faeb32",
     "grade": true,
     "grade_id": "q4-reponse",
     "locked": false,
     "points": 1,
     "schema_version": 3,
     "solution": true
    }
   },
   "outputs": [],
   "source": [
    "def chargerAlphabet():\n",
    "    with open('alphabet.txt', 'r') as fEntree:\n",
    "        mots = fEntree.read()\n",
    "        alphabet = mots.split('\\n')\n",
    "        collectionAlphabet = {}\n",
    "        for mot in alphabet:\n",
    "            lettre1 = mot[0]\n",
    "            collectionAlphabet[lettre1] = mot\n",
    "        return collectionAlphabet\n",
    "            "
   ]
  },
  {
   "cell_type": "code",
   "execution_count": 14,
   "metadata": {
    "deletable": false,
    "editable": false,
    "nbgrader": {
     "cell_type": "code",
     "checksum": "52c19a523a958c246ceb3c47767a37a8",
     "grade": true,
     "grade_id": "cell-7143739e3c20519b",
     "locked": true,
     "points": 1,
     "schema_version": 3,
     "solution": false
    }
   },
   "outputs": [],
   "source": [
    "validAlpha = chargerAlphabet()\n",
    "assert len(validAlpha) == 26, 'Doit y avoir 26 lettres'\n",
    "assert 'a' in validAlpha, 'Pas de `a` comme clé'\n",
    "assert 'z' in validAlpha, 'Pas de `z` comme clé'\n",
    "assert validAlpha['q'] == 'quebec', 'quebec'\n",
    "assert validAlpha['a'] == 'alpha', 'alpha'\n",
    "assert validAlpha['z'] == 'zulu', 'zulu'"
   ]
  },
  {
   "cell_type": "markdown",
   "metadata": {
    "collapsed": true,
    "deletable": false,
    "editable": false,
    "nbgrader": {
     "cell_type": "markdown",
     "checksum": "9a71851f72b8a9443af692d64ec3599e",
     "grade": false,
     "grade_id": "q5-enonce",
     "locked": true,
     "schema_version": 3,
     "solution": false
    }
   },
   "source": [
    "---\n",
    "#### Question #5 (2 points)\n",
    "\n",
    "Le fichier `remorquages.csv` est très volumineux.  \n",
    "\n",
    "**Votre solution doit obligatoirement** utiliser la méthode **readline()**.\n",
    "\n",
    "> Il est <span style=\"color:red\">interdit</span> de prendre `readlines()` ou `read()`.\n",
    "\n",
    "Voici à quoi ressemble le début de ce fichier:\n",
    "\n",
    "```\n",
    "DATE_ORIGINE,LONGITUDE_ORIGINE,LATITUDE_ORIGINE,RUE_ORIGINE,SECTEUR_ORIGINE,ARRONDISSEMENT_ORIGINE,DATE_DESTINATION,LONGITUDE_DESTINATION,LATITUDE_DESTINATION,RUE_DESTINATION,SECTEUR_DESTINATION,ARRONDISSEMENT_DESTINATION,MOTIF_REMORQUAGE\n",
    "\"2015-12-31T00:23:00\",-73.5872033593,45.5249805457,\"rue Drolet \",,\"Plateau-Mont-Royal\",\"2015-12-31T00:25:00\",-73.5867910237,45.5251307666,\"rue de Grand-Pré \",,\"Plateau-Mont-Royal\",\"Constat d'infraction\"\n",
    "\"2015-12-31T00:24:00\",-73.6222559028,45.5857531685,\"boulevard des Grandes-Prairies \",,\"Saint-Léonard\",\"2015-12-31T00:30:00\",-73.6210045429,45.5869748675,\"boulevard des Grandes-Prairies \",,\"Saint-Léonard\",\"Constat d'infraction\"\n",
    "\"2015-12-31T00:25:00\",-73.6006920362,45.535027244,\"rue Saint-Hubert \",,\"Rosemont - La Petite-Patrie\",\"2015-12-31T00:32:00\",-73.6008810993,45.5351626927,\"rue Saint-Hubert \",,\"Rosemont - La Petite-Patrie\",\"Constat d'infraction\"\n",
    "```\n",
    "\n",
    "La toute première ligne décrit les champs; il faut donc sauter par-dessus cette ligne avant de débuter le traitement.\n",
    "\n",
    "Votre mandat consiste à compter le nombre d'infractions (nombre de lignes présentes dans ce fichier) en 2017.\n",
    "\n",
    "**Résultat attendu**:\n",
    "```\n",
    "Nombre d'infractions en 2017: 53033\n",
    "```"
   ]
  },
  {
   "cell_type": "code",
   "execution_count": 1,
   "metadata": {
    "deletable": false,
    "nbgrader": {
     "cell_type": "code",
     "checksum": "5740a78bcc1a9722e2404e79c71479b3",
     "grade": true,
     "grade_id": "q5-reponse",
     "locked": false,
     "points": 1,
     "schema_version": 3,
     "solution": true
    }
   },
   "outputs": [
    {
     "name": "stdout",
     "output_type": "stream",
     "text": [
      "53033\n"
     ]
    }
   ],
   "source": [
    "with open('remorquages.csv', 'r') as fEntree:\n",
    "    next(fEntree)\n",
    "    ligne = fEntree.readline()\n",
    "    compteur = 0\n",
    "    while len(ligne) != 0:\n",
    "        if ligne.startswith('\"2017'):\n",
    "            compteur += 1\n",
    "        ligne = fEntree.readline()\n",
    "    print(compteur)"
   ]
  },
  {
   "cell_type": "code",
   "execution_count": 2,
   "metadata": {
    "deletable": false,
    "editable": false,
    "nbgrader": {
     "cell_type": "code",
     "checksum": "8df31e39d71ad2cbb1a548232f3993b2",
     "grade": true,
     "grade_id": "q5-validation",
     "locked": true,
     "points": 1,
     "schema_version": 3,
     "solution": false
    }
   },
   "outputs": [],
   "source": [
    "assert compteur == 53033"
   ]
  },
  {
   "cell_type": "code",
   "execution_count": null,
   "metadata": {},
   "outputs": [],
   "source": []
  }
 ],
 "metadata": {
  "kernelspec": {
   "display_name": "Python 3",
   "language": "python",
   "name": "python3"
  },
  "language_info": {
   "codemirror_mode": {
    "name": "ipython",
    "version": 3
   },
   "file_extension": ".py",
   "mimetype": "text/x-python",
   "name": "python",
   "nbconvert_exporter": "python",
   "pygments_lexer": "ipython3",
   "version": "3.7.7"
  }
 },
 "nbformat": 4,
 "nbformat_minor": 2
}
