{
 "cells": [
  {
   "cell_type": "markdown",
   "metadata": {},
   "source": [
    "<img style='margin-right:0' src=\"http://dinfo.ca/logoDptInfo.jpg\" width=300>\n",
    "\n",
    "# Référence REGEXP\n",
    "---"
   ]
  },
  {
   "cell_type": "markdown",
   "metadata": {},
   "source": [
    "### Caractères spéciaux\n",
    "\n",
    "| Caractère | Signification\n",
    "|-----------|----------------------\n",
    "|  `\\`        | Si précède caractère normal, indique un traitement spécial (ex: \\b)<br>Si précède caractère spécial, le plus l'interpréter comme spécial (ex. \\*)\n",
    "|  `^`        | À partir du début du texte (sert pour déterminer ce qui débute une chaîne)\n",
    "|  `$`\t    | Correspond à la fin du texte (sert pour déterminer ce qui termine une chaîne)\n",
    "|  `*`\t    | Répète ce qui précède 0, 1 ou plusieurs fois.  Équivalent à {0,}\n",
    "|  `+`        | Répète ce qui précède 1 ou plusieurs fois.  Équivalent à {1,}\n",
    "|  `?`\t    | L'élément précédent est optionnel (0 ou 1 fois).  Équivalent à {0,1}\n",
    "|  `.`\t    | Correspond à un seul caractère (sauf le changement de ligne)\n",
    "| `(x)`\t    | Permet de grouper des expressions.  <br>Aussi, se souvient du motif.  On rappelle le motif avec \\1, \\2, ...\n",
    "| `x\\|y`\t    | Correspondance à 'x', ou 'y' si ne correspond pas à 'x'\n",
    "| `{n}`       | Correspond exactement à N occurrences de l'expression qui précède.  N est un entier positif.\n",
    "| `{n,}`\t    | Correspond au moins à N occurrences de l'expression qui précède.  N est un entier positif.\n",
    "| `{n,m}`     | Entre n et m occurrences.\n",
    "| `[xyz]`     | Jeu de caractères.  Correspond à un des caractères du jeu. <br>Attention: le point (.) et l'astérisque (*) ne sont pas spéciaux entre crochets.\n",
    "| `[^xyz]`\t| Négation. Ne doit pas correspondre à un caractère de ce jeu.\n",
    "| `\\b`        | Limite d'un mot.\n",
    "| `\\B`        | Matches a non-word boundary. \n",
    "| `\\d`        | Correspond à un chiffre.  Équivalent à [0-9]\n",
    "| `\\D`        | Anti-digit.  Équivalent à [^0-9]\n",
    "| `\\f`        | Correspond au caractère de contrôle pour un changement de page (form feed)\n",
    "| `\\n`        | Correspond à un changement de ligne\n",
    "| `\\r`        | Correspond à un retour de chariot\n",
    "| `\\s`        | Correspond à un espacement: espace, tabulation, form feed, line feed.\n",
    "| `\\S`        | Anti-\\n.  Tout caractère sauf un espacement.\n",
    "| `\\t`        | Correspond au caractère de tabulation\n",
    "| `\\w`        | Correspond à tout caractère alphanumérique, incluant le souligné.  Équivalent à [A-Za-z0-9_]\n",
    "| `\\W`        | Anti-\\w\n",
    "| `\\`nombre   | Référence arrière...\n"
   ]
  },
  {
   "cell_type": "markdown",
   "metadata": {},
   "source": [
    "### Méthodes pour travailler avec les expressions régulières\n",
    "\n",
    "| Méthode | Description\n",
    "|---------|----------------------\n",
    "|exec     | Une méthode de RegExp qui effectue une recherche dans une chaîne. <br>Retourne: collection ou null\n",
    "|test     | Une méthode de RegExp qui vérifie la correspondance sur une chaîne. Retourne vrai ou faux.\n",
    "|match    | Une méthode de String qui effectue une recherche sur la chaîne. <br>Retourne: collection ou null\n",
    "|search   |\tUne méthode de String qui recherche une correspondance sur la chaîne. <br> Retourne l'indice de la correspondance ou -1 \n",
    "|replace  | Une méthode de String qui remplace la sous-chaîne correspondante par une autre chaîne.\n",
    "|split    | Une méthode de String qui fragmente une chaîne basée sur une chaîne ou une expression régulière."
   ]
  },
  {
   "cell_type": "markdown",
   "metadata": {},
   "source": [
    "### Modificateurs\n",
    "\n",
    "| caractère | signification\n",
    "|-----------|--------------------------------\n",
    "| i         | insensible à la casse de caractère\n",
    "| g         | global\n",
    "| m         | recherche multi-lignes\n",
    "\n"
   ]
  },
  {
   "cell_type": "markdown",
   "metadata": {},
   "source": [
    "### JavaScript\n",
    "\n",
    "```javascript\n",
    "var expression = /arc/;\n",
    "var expression2 = new RegExp(\"arc\");\n",
    "if(expression.test(\"Marco\"))\n",
    "    console.log(\"Le mot \\\"Marco\\\" répond à l'expression régulière /arc/\");\n",
    "\n",
    "'La chose genre étrange comme rouge'.split(/(genre|comme)/)\n",
    ">> [ 'La chose ', 'genre', ' étrange ', 'comme', ' rouge' ]\n",
    "\n",
    "console.log( \"La somme de 25 et 45 donne 70\".replace(/\\d/g,'_') );\n",
    "\n",
    "var nombres = \"La somme de 25 et 45 donne 70\".match(/\\d+/g);\n",
    "for(var i=0;i<nombres.length;i++) {\n",
    "    console.log(`Nombre #${i+1}: ${nombres[i]}`);\n",
    "}\n",
    "```"
   ]
  },
  {
   "cell_type": "code",
   "execution_count": 1,
   "metadata": {},
   "outputs": [
    {
     "name": "stdout",
     "output_type": "stream",
     "text": [
      "Le mot \"Marco\" répond à l'expression régulière /arc/\n",
      "La somme de __ et __ donne __\n",
      "Nombre #1: 25\n",
      "Nombre #2: 45\n",
      "Nombre #3: 70\n"
     ]
    }
   ],
   "source": [
    "var expression = /arc/;\n",
    "var expression2 = new RegExp(\"arc\");\n",
    "if(expression.test(\"Marco\"))\n",
    "    console.log(\"Le mot \\\"Marco\\\" répond à l'expression régulière /arc/\");\n",
    "\n",
    "'La chose genre étrange comme rouge'.split(/(genre|comme)/)\n",
    ">> [ 'La chose ', 'genre', ' étrange ', 'comme', ' rouge' ]\n",
    "\n",
    "console.log( \"La somme de 25 et 45 donne 70\".replace(/\\d/g,'_') );\n",
    "\n",
    "var nombres = \"La somme de 25 et 45 donne 70\".match(/\\d+/g);\n",
    "for(var i=0;i<nombres.length;i++) {\n",
    "    console.log(`Nombre #${i+1}: ${nombres[i]}`);\n",
    "}"
   ]
  },
  {
   "cell_type": "markdown",
   "metadata": {},
   "source": [
    "### Python\n",
    "```python\n",
    "import re\n",
    "\n",
    "expression = r'arc'\n",
    "\n",
    "if re.search(expression, \"Marco\", ):\n",
    "    print(\"Le mot \\\"Marco\\\" répond à l'expression régulière /arc/\")\n",
    "    \n",
    "debutePar = r'Ma'\n",
    "if re.match(debutePar, 'Marco'):\n",
    "    print('Débute par Ma')\n",
    "if re.search(r'^Ma', 'Marco'):\n",
    "    print('Débute aussi par Ma')\n",
    "    \n",
    "chaine = '(genre|comme)'\n",
    "expression = re.compile(chaine)\n",
    "re.split(expression, 'La chose genre étrange comme rouge')\n",
    ">> ['La chose ', 'genre', ' étrange ', 'comme', ' rouge']\n",
    "\n",
    "print( re.sub(r'\\d', '_', \"La somme de 25 et 45 donne 70\") );\n",
    ">> La somme de __ et __ donne __\n",
    "\n",
    "nombres = re.findall(r'\\d+', \"La somme de 25 et 45 donne 70\")\n",
    "print(nombres)\n",
    ">> ['25', '45', '70']\n",
    "```"
   ]
  },
  {
   "cell_type": "code",
   "execution_count": null,
   "metadata": {},
   "outputs": [],
   "source": []
  }
 ],
 "metadata": {
  "kernelspec": {
   "display_name": "Javascript (Node.js)",
   "language": "javascript",
   "name": "javascript"
  },
  "language_info": {
   "file_extension": ".js",
   "mimetype": "application/javascript",
   "name": "javascript",
   "version": "10.13.0"
  }
 },
 "nbformat": 4,
 "nbformat_minor": 4
}
