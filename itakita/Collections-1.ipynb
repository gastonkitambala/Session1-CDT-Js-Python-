{
 "cells": [
  {
   "cell_type": "markdown",
   "metadata": {},
   "source": [
    "\n",
    "# Introduction aux collections\n",
    "---"
   ]
  },
  {
   "cell_type": "markdown",
   "metadata": {},
   "source": [
    "En Python, une **collection ordonnée** se traduit par:\n",
    "* une liste, ou \n",
    "* un tuple\n",
    "    \n",
    "La différence entre les deux est qu'on peut modifier les éléments d'une liste (ajouter, retirer) alors que les tuples sont figés (immuables).\n"
   ]
  },
  {
   "cell_type": "code",
   "execution_count": null,
   "metadata": {},
   "outputs": [],
   "source": [
    "tuple = ('Adam', 'Bernard','Charles')   # utilise les parenthèses\n",
    "liste = ['Alpha', 'Beta', 'Omega']      # utilise les crochets\n",
    "print(tuple[0])\n",
    "print(liste[0])\n",
    "liste.append('Epsilon')\n",
    "print(liste)\n",
    "liste[0] = 'Alexis';\n",
    "print(liste)\n",
    "# tuple[0] = 'Gamma'; # Opération interdite avec un tuple"
   ]
  },
  {
   "cell_type": "markdown",
   "metadata": {},
   "source": [
    "### Création d'une collection ordonnée\n",
    "\n",
    "#### Créer une liste vide\n",
    "\n",
    "```javascript\n",
    "maListe = []       # Façon #1\n",
    "maListe = list()   # Façon #2\n",
    "```\n",
    "\n",
    "#### Créer une liste de valeurs\n",
    "\n",
    "```javascript\n",
    "nombres = [1,2,4,8,16,32,64,128]        # liste\n",
    "cartes = ('2C', 'AK', '9P', 'RP', '5C') # tuple\n",
    "``` "
   ]
  },
  {
   "cell_type": "markdown",
   "metadata": {},
   "source": [
    "---\n",
    "## Expérimentation\n",
    "\n",
    "Créez une collection ordonnée (tuple) à placer dans la variable `joursMois` qui comprend 12 nombres, soit le nombre de jours pour chacun des mois.  Le premier mois, janvier, possède 31 jours.  Considérez que février n'est pas bissextile."
   ]
  },
  {
   "cell_type": "code",
   "execution_count": 19,
   "metadata": {},
   "outputs": [],
   "source": [
    "# Réponse\n",
    "joursMois = (31,28,31,30,31,30,31,31,30,31,30,31)"
   ]
  },
  {
   "cell_type": "markdown",
   "metadata": {},
   "source": [
    "### Récupérer un élément à une position\n",
    "\n",
    "On peut utiliser les crochets et préciser un indice (les indices débutent à zéro).\n",
    "\n",
    "```javascrit\n",
    "tuple = ('Adam', 'Bernard','Charles')   # utilise les parenthèses\n",
    "liste = ['Alpha', 'Beta', 'Omega']      # utilise les crochets\n",
    "print(tuple[0])  # Premier élément\n",
    "print(liste[1])  # Second élément\n",
    "```"
   ]
  },
  {
   "cell_type": "markdown",
   "metadata": {},
   "source": [
    "---\n",
    "## Expérimentation\n",
    "\n",
    "Affichez le nombre de jours en décembre (basé sur votre variable `joursMois`."
   ]
  },
  {
   "cell_type": "code",
   "execution_count": 3,
   "metadata": {},
   "outputs": [
    {
     "name": "stdout",
     "output_type": "stream",
     "text": [
      "31\n"
     ]
    }
   ],
   "source": [
    "# Insérez votre réponse\n",
    "print(joursMois[11])"
   ]
  },
  {
   "cell_type": "markdown",
   "metadata": {},
   "source": [
    "#### On peut utiliser un indice négatif pour partir de la fin de la collection."
   ]
  },
  {
   "cell_type": "code",
   "execution_count": 4,
   "metadata": {},
   "outputs": [
    {
     "name": "stdout",
     "output_type": "stream",
     "text": [
      "Omega\n",
      "Sigma\n"
     ]
    }
   ],
   "source": [
    "lettresGrecques = ['Alpha','Beta','Gamma','Delta','Epsilon','Zeta','Eta','Theta',\n",
    "                   'Iota','Kappa','Lambda','Mu','Nu','Xi','Omicron','Pi','Rho',\n",
    "                   'Sigma','Thau','Upsilon','Phi','Chi','Omega']\n",
    "print(lettresGrecques[-1])\n",
    "print(lettresGrecques[-6])"
   ]
  },
  {
   "cell_type": "markdown",
   "metadata": {},
   "source": [
    "#### Slicing\n",
    "\n",
    "Comme avec le découpage de chaîne, on peut également faire cette opération avec les éléments d'une collection."
   ]
  },
  {
   "cell_type": "code",
   "execution_count": null,
   "metadata": {},
   "outputs": [],
   "source": [
    "cartes = ('2C', 'AK', '9P', 'RP', '5C')\n",
    "print(\"Deux premières cartes:\",cartes[:2])\n",
    "print(\"Deux dernières cartes:\",cartes[-2:])\n",
    "print(\"2e, 3e et 4e cartes:\", cartes[1:-1])"
   ]
  },
  {
   "cell_type": "markdown",
   "metadata": {},
   "source": [
    "## Itérer sur les éléments d'une collection"
   ]
  },
  {
   "cell_type": "code",
   "execution_count": 5,
   "metadata": {},
   "outputs": [
    {
     "name": "stdout",
     "output_type": "stream",
     "text": [
      "Adam\n",
      "Bernard\n",
      "Charles\n",
      "Denis\n",
      "Eric\n"
     ]
    }
   ],
   "source": [
    "prenoms = ['Adam', 'Bernard', 'Charles', 'Denis', 'Eric']\n",
    "for unPrenom in prenoms:\n",
    "    print(unPrenom)"
   ]
  },
  {
   "cell_type": "code",
   "execution_count": 8,
   "metadata": {},
   "outputs": [
    {
     "name": "stdout",
     "output_type": "stream",
     "text": [
      "Le prénom Adam       possède 4 lettres\n",
      "Le prénom Bernard    possède 7 lettres\n",
      "Le prénom Charles    possède 7 lettres\n",
      "Le prénom Denis      possède 5 lettres\n",
      "Le prénom Eric       possède 4 lettres\n"
     ]
    }
   ],
   "source": [
    "for unPrenom in prenoms:\n",
    "    print(\"Le prénom %-10s possède %i lettres\" % (unPrenom, len(unPrenom)))"
   ]
  },
  {
   "cell_type": "code",
   "execution_count": 9,
   "metadata": {},
   "outputs": [
    {
     "name": "stdout",
     "output_type": "stream",
     "text": [
      "Adam\n",
      "Bernard\n",
      "Charles\n",
      "Denis\n",
      "Eric\n"
     ]
    }
   ],
   "source": [
    "for indice in range( len(prenoms) ):\n",
    "    print(prenoms[indice])"
   ]
  },
  {
   "cell_type": "code",
   "execution_count": 10,
   "metadata": {
    "scrolled": true
   },
   "outputs": [
    {
     "name": "stdout",
     "output_type": "stream",
     "text": [
      "0\n",
      "1\n",
      "2\n",
      "3\n",
      "4\n",
      "5\n",
      "6\n",
      "7\n",
      "8\n",
      "9\n"
     ]
    }
   ],
   "source": [
    "for indice in range(10):\n",
    "    print(indice)"
   ]
  },
  {
   "cell_type": "markdown",
   "metadata": {},
   "source": [
    "## Expérimentation\n",
    "\n",
    "Combien y a-t-il de mois possédant 31 jours dans l'année?\n",
    "* Initialiser le compteur à zéro\n",
    "* Pour chaque nbJours de la collection joursMois\n",
    "    * Si nbJours est 31\n",
    "        * incrémenter le compteur\n",
    "* Afficher le compteur"
   ]
  },
  {
   "cell_type": "code",
   "execution_count": 21,
   "metadata": {},
   "outputs": [
    {
     "name": "stdout",
     "output_type": "stream",
     "text": [
      "1\n",
      "1\n",
      "2\n",
      "2\n",
      "3\n",
      "3\n",
      "4\n",
      "5\n",
      "5\n",
      "6\n",
      "6\n",
      "7\n"
     ]
    }
   ],
   "source": [
    "# Insérer votre solution\n",
    "compteur = 0 \n",
    "for nbJours in joursMois:\n",
    "    if nbJours == 31:\n",
    "        compteur +=1\n",
    "print(compteur)"
   ]
  },
  {
   "cell_type": "markdown",
   "metadata": {},
   "source": [
    "### Ajouter des éléments à la fin d'une liste"
   ]
  },
  {
   "cell_type": "code",
   "execution_count": 22,
   "metadata": {},
   "outputs": [
    {
     "name": "stdout",
     "output_type": "stream",
     "text": [
      "[10, 20, 24]\n"
     ]
    }
   ],
   "source": [
    "valeurs = []\n",
    "valeurs.append(10)\n",
    "valeurs.append(20)\n",
    "valeurs.append(24)\n",
    "print(valeurs)"
   ]
  },
  {
   "cell_type": "code",
   "execution_count": 23,
   "metadata": {},
   "outputs": [
    {
     "name": "stdout",
     "output_type": "stream",
     "text": [
      "Total: 54\n"
     ]
    }
   ],
   "source": [
    "somme = 0\n",
    "for uneValeur in valeurs:\n",
    "    somme += uneValeur\n",
    "print(\"Total:\", somme)"
   ]
  },
  {
   "cell_type": "markdown",
   "metadata": {},
   "source": [
    "## Expérimentation\n",
    "\n",
    "Pour la collection de valeurs, afficher chaque nombre qui est un multiple de 3"
   ]
  },
  {
   "cell_type": "code",
   "execution_count": 24,
   "metadata": {},
   "outputs": [
    {
     "name": "stdout",
     "output_type": "stream",
     "text": [
      "6 est un multiple de 3\n",
      "9 est un multiple de 3\n",
      "12 est un multiple de 3\n",
      "21 est un multiple de 3\n",
      "24 est un multiple de 3\n",
      "27 est un multiple de 3\n"
     ]
    }
   ],
   "source": [
    "valeurs = [6,9,10,12,19,21,24,26,27]\n",
    "for uneValeur in valeurs:\n",
    "    if uneValeur % 3 == 0:\n",
    "        print(uneValeur,\"est un multiple de 3\")"
   ]
  },
  {
   "cell_type": "code",
   "execution_count": 31,
   "metadata": {},
   "outputs": [
    {
     "name": "stdout",
     "output_type": "stream",
     "text": [
      "3 est un multiple de 3\n",
      "6 est un multiple de 3\n",
      "9 est un multiple de 3\n",
      "12 est un multiple de 3\n",
      "15 est un multiple de 3\n",
      "18 est un multiple de 3\n",
      "21 est un multiple de 3\n",
      "24 est un multiple de 3\n",
      "27 est un multiple de 3\n",
      "30 est un multiple de 3\n",
      "33 est un multiple de 3\n",
      "36 est un multiple de 3\n",
      "39 est un multiple de 3\n",
      "42 est un multiple de 3\n",
      "45 est un multiple de 3\n",
      "48 est un multiple de 3\n",
      "51 est un multiple de 3\n",
      "54 est un multiple de 3\n",
      "57 est un multiple de 3\n",
      "60 est un multiple de 3\n",
      "63 est un multiple de 3\n",
      "66 est un multiple de 3\n",
      "69 est un multiple de 3\n",
      "72 est un multiple de 3\n",
      "75 est un multiple de 3\n",
      "78 est un multiple de 3\n",
      "81 est un multiple de 3\n",
      "84 est un multiple de 3\n",
      "87 est un multiple de 3\n",
      "90 est un multiple de 3\n",
      "93 est un multiple de 3\n",
      "96 est un multiple de 3\n",
      "99 est un multiple de 3\n"
     ]
    }
   ],
   "source": [
    "# Faire la même chose pour les nombres de 1 à 100 inclusivement\n",
    "valeurs = list(range(1,101))\n",
    "for uneValeur in valeurs:\n",
    "    if uneValeur % 3 == 0:\n",
    "        print(uneValeur,\"est un multiple de 3\")\n",
    "\n"
   ]
  },
  {
   "cell_type": "markdown",
   "metadata": {},
   "source": [
    "## Expérimentation\n",
    "\n",
    "Pour les nombres de 1 à 100, \n",
    "* afficher: `__ multiples de 3 pour les nombres de 1 à 100`\n",
    "* afficher la liste des multiples de 3\n",
    "\n",
    "Deux techniques peuvent être appliquées:\n",
    "* Créer une collection `extraction` qui contiendra les nombres multiples de 3\n",
    "* Utiliser un compteur qui sera incrémenté si le nombre visité est un multiple de 3\n",
    "\n",
    "> On pourra adapter notre solution par après pour laisser tomber le compteur..."
   ]
  },
  {
   "cell_type": "code",
   "execution_count": 33,
   "metadata": {},
   "outputs": [
    {
     "name": "stdout",
     "output_type": "stream",
     "text": [
      "[3, 6, 9, 12, 15, 18, 21, 24, 27, 30, 33, 36, 39, 42, 45, 48, 51, 54, 57, 60, 63, 66, 69, 72, 75, 78, 81, 84, 87, 90, 93, 96, 99]\n",
      "33 multiples de 3 pour les nombres de 1 à 100\n"
     ]
    }
   ],
   "source": [
    "valeurs = list(range(1,101))\n",
    "extraction = []\n",
    "for uneValeur in valeurs:\n",
    "    if uneValeur % 3 == 0:\n",
    "        extraction.append(uneValeur)\n",
    "print(extraction)\n",
    "print(\"%i multiples de 3 pour les nombres de 1 à 100\" % len(extraction))"
   ]
  },
  {
   "cell_type": "code",
   "execution_count": 34,
   "metadata": {},
   "outputs": [
    {
     "name": "stdout",
     "output_type": "stream",
     "text": [
      "[48, 70, 35, 75, 5, 95, 13, 23, 68, 54]\n"
     ]
    }
   ],
   "source": [
    "# Nombres aléatoires\n",
    "import random\n",
    "nombresHasard = random.sample(range(1,101), 10)\n",
    "print(nombresHasard)"
   ]
  },
  {
   "cell_type": "code",
   "execution_count": 35,
   "metadata": {},
   "outputs": [
    {
     "name": "stdout",
     "output_type": "stream",
     "text": [
      "5\n"
     ]
    }
   ],
   "source": [
    "valeurs = [79, 68, 74, 18, 5, 72, 77, 57, 84, 11]\n",
    "# Quelle est est la valeur la plus petite?\n",
    "min = valeurs[0]\n",
    "for uneValeur in valeurs:\n",
    "    if uneValeur < min:\n",
    "        min = uneValeur\n",
    "print(min)"
   ]
  },
  {
   "cell_type": "markdown",
   "metadata": {},
   "source": [
    "#### Alternative\n",
    "\n",
    "La méthode ci-dessus était une solution algorithmique.  Python offre les fonctions `max()` et `min()` qui accepte une collection en paramètre."
   ]
  },
  {
   "cell_type": "code",
   "execution_count": null,
   "metadata": {},
   "outputs": [],
   "source": [
    "# Les deux lignes suivantes sont requises car si on a une variable `min` qui existe, masque la fonction du même nom.\n",
    "if 'min' in globals():\n",
    "    del min\n",
    "valeurs = [79, 68, 74, 18, 5, 72, 77, 57, 84, 11]\n",
    "# Quellest est la valeur la plus petite?\n",
    "print(min(valeurs))"
   ]
  },
  {
   "cell_type": "code",
   "execution_count": null,
   "metadata": {},
   "outputs": [],
   "source": [
    "valeurs = [79, 68, 74, 18, 5, 72, 77, 57, 84, 11]\n",
    "# Quellest est la valeur la plus grande?\n",
    "max = valeurs[0]\n",
    "for uneValeur in valeurs:\n",
    "    if uneValeur > max:\n",
    "        max = uneValeur\n",
    "print(max)"
   ]
  },
  {
   "cell_type": "markdown",
   "metadata": {},
   "source": [
    "## Expérimentation\n",
    "\n",
    "Combien y a-t-il de valeurs inférieures à 50? Puis supérieures ou égales à 50?"
   ]
  },
  {
   "cell_type": "code",
   "execution_count": 1,
   "metadata": {},
   "outputs": [
    {
     "name": "stdout",
     "output_type": "stream",
     "text": [
      "Nb valeurs < 50 : 3\n",
      "Nb valeurs >= 50: 7\n"
     ]
    }
   ],
   "source": [
    "valeurs = [79, 68, 74, 18, 5, 72, 77, 57, 84, 11]\n",
    "nbValeursInferieures = 0\n",
    "for uneValeur in valeurs:\n",
    "    if uneValeur < 50:\n",
    "        nbValeursInferieures += 1\n",
    "print(\"Nb valeurs < 50 :\", nbValeursInferieures)\n",
    "print(\"Nb valeurs >= 50:\", len(valeurs) - nbValeursInferieures)"
   ]
  },
  {
   "cell_type": "markdown",
   "metadata": {},
   "source": [
    "#### Traiter deux collections en parallèle"
   ]
  },
  {
   "cell_type": "code",
   "execution_count": 6,
   "metadata": {},
   "outputs": [
    {
     "name": "stdout",
     "output_type": "stream",
     "text": [
      "Toronto   : 2.7 million(s)\n",
      "Montréal  : 1.7 million(s)\n",
      "Vancouver : 0.6 million(s)\n",
      "New York  : 8.6 million(s)\n"
     ]
    }
   ],
   "source": [
    "villes = ['Toronto', 'Montréal', 'Vancouver', 'New York']\n",
    "populations = [2731571, 1704694, 631486, 8622698]\n",
    "# Afficher la population pour chaque ville, exprimée en millions d'habitants\n",
    "for i in range(len(villes)):\n",
    "    print('%-9s : %.1f million(s)' % (villes[i], populations[i] / 1000000.0))"
   ]
  },
  {
   "cell_type": "markdown",
   "metadata": {},
   "source": [
    "### Collection de collections\n",
    "\n",
    "On peut avoir une représentation un peu plus complexe.  \n",
    "Par exemple:"
   ]
  },
  {
   "cell_type": "code",
   "execution_count": null,
   "metadata": {},
   "outputs": [],
   "source": [
    "populationClasses = [ [10,20], [5,15], [12,9], [25,3] ]"
   ]
  },
  {
   "cell_type": "code",
   "execution_count": null,
   "metadata": {},
   "outputs": [],
   "source": [
    "print(populationClasses[0]) # Première classe\n",
    "print(\"Gars  :\", populationClasses[0][0])\n",
    "print(\"Filles:\", populationClasses[0][1])"
   ]
  },
  {
   "cell_type": "code",
   "execution_count": 1,
   "metadata": {},
   "outputs": [
    {
     "ename": "NameError",
     "evalue": "name 'populationClasses' is not defined",
     "output_type": "error",
     "traceback": [
      "\u001b[0;31m---------------------------------------------------------------------------\u001b[0m",
      "\u001b[0;31mNameError\u001b[0m                                 Traceback (most recent call last)",
      "\u001b[0;32m<ipython-input-1-9f2b25bd3bcb>\u001b[0m in \u001b[0;36m<module>\u001b[0;34m\u001b[0m\n\u001b[1;32m      2\u001b[0m \u001b[0mnbGars\u001b[0m \u001b[0;34m=\u001b[0m \u001b[0;36m0\u001b[0m\u001b[0;34m\u001b[0m\u001b[0;34m\u001b[0m\u001b[0m\n\u001b[1;32m      3\u001b[0m \u001b[0mnbFilles\u001b[0m \u001b[0;34m=\u001b[0m \u001b[0;36m0\u001b[0m\u001b[0;34m\u001b[0m\u001b[0;34m\u001b[0m\u001b[0m\n\u001b[0;32m----> 4\u001b[0;31m \u001b[0;32mfor\u001b[0m \u001b[0muneClasse\u001b[0m \u001b[0;32min\u001b[0m \u001b[0mpopulationClasses\u001b[0m\u001b[0;34m:\u001b[0m\u001b[0;34m\u001b[0m\u001b[0;34m\u001b[0m\u001b[0m\n\u001b[0m\u001b[1;32m      5\u001b[0m     \u001b[0mnbGars\u001b[0m \u001b[0;34m+=\u001b[0m \u001b[0muneClasse\u001b[0m\u001b[0;34m[\u001b[0m\u001b[0;36m0\u001b[0m\u001b[0;34m]\u001b[0m\u001b[0;34m\u001b[0m\u001b[0;34m\u001b[0m\u001b[0m\n\u001b[1;32m      6\u001b[0m     \u001b[0mnbFilles\u001b[0m \u001b[0;34m+=\u001b[0m \u001b[0muneClasse\u001b[0m\u001b[0;34m[\u001b[0m\u001b[0;36m1\u001b[0m\u001b[0;34m]\u001b[0m\u001b[0;34m\u001b[0m\u001b[0;34m\u001b[0m\u001b[0m\n",
      "\u001b[0;31mNameError\u001b[0m: name 'populationClasses' is not defined"
     ]
    }
   ],
   "source": [
    "# Compter le nombre de gars et le nombre de filles pour l'ensemble des classes\n",
    "nbGars = 0\n",
    "nbFilles = 0\n",
    "for uneClasse in populationClasses:\n",
    "    nbGars += uneClasse[0]\n",
    "    nbFilles += uneClasse[1]\n",
    "\n",
    "print(\"Nb gars:\", nbGars)\n",
    "print(\"Nb filles:\", nbFilles)\n"
   ]
  },
  {
   "cell_type": "code",
   "execution_count": null,
   "metadata": {},
   "outputs": [],
   "source": []
  }
 ],
 "metadata": {
  "kernelspec": {
   "display_name": "Python 3",
   "language": "python",
   "name": "python3"
  },
  "language_info": {
   "codemirror_mode": {
    "name": "ipython",
    "version": 3
   },
   "file_extension": ".py",
   "mimetype": "text/x-python",
   "name": "python",
   "nbconvert_exporter": "python",
   "pygments_lexer": "ipython3",
   "version": "3.7.7"
  }
 },
 "nbformat": 4,
 "nbformat_minor": 4
}
