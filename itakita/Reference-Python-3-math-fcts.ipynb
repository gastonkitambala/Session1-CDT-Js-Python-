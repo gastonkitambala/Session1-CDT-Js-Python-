{
 "cells": [
  {
   "cell_type": "markdown",
   "metadata": {},
   "source": [
    "<img style='margin-right:0' src=\"http://dinfo.ca/logoDptInfo.jpg\" width=300>\n",
    "\n",
    "# Référence Python (Librairie mathématique et fonctions prédéfinies)\n",
    "---"
   ]
  },
  {
   "cell_type": "markdown",
   "metadata": {},
   "source": [
    "# Référence Web\n",
    "\n",
    "[Librairie math](https://docs.python.org/fr/3/library/math.html)\n",
    "\n",
    "\n",
    "### Importation de librairie\n",
    "\n",
    "> `import math`\n",
    "\n",
    "**9.2.1. Fonctions arithmétiques et de représentation <span style=\"color:green\">(extrait)</span>**\n",
    "\n",
    "| Fonctions         | Signification\n",
    "|-------------------|------------------------------|\n",
    "| math.ceil(x)      | $$\\lceil x$$\n",
    "| math.fabs(x)      | $$\\mid x \\mid$$\n",
    "| math.factorial(x) | $$x!$$\n",
    "| math.floor(x)     | $$\\lfloor x$$\n",
    "| math.gcd(a,b)     | Plus grand commun diviseur\n",
    "\n",
    "\n",
    "**9.2.2. Fonctions logarithme et exponentielle <span style=\"color:green\">(extrait)</span>**\n",
    "\n",
    "| Fonctions           | Signification\n",
    "|---------------------|------------------------------|\n",
    "| math.exp(x)         | $$e^x$$\n",
    "| math.log(x[, base]) | $$\\log x$$ $$\\log_{base} x$$\n",
    "| math.pow(x, y)      | $$x^{y}$$\n",
    "| math.sqrt(x)        | $$\\sqrt{x}$$\n",
    "\n",
    "**9.2.3. Fonctions trigonométriques <span style=\"color:green\">(extrait)</span>**\n",
    "\n",
    "| Fonctions           | Signification\n",
    "|---------------------|------------------------------|\n",
    "| math.sin(x)         | $$\\sin x$$\n",
    "| math.cos(x)         | $$\\cos x$$\n",
    "| math.hypot(x,y)     | $$\\sqrt {x^2+y^2} $$\n",
    "\n",
    "> Les angles sont exprimés en radians\n",
    "\n",
    "**9.2.4 Conversion angulaire**\n",
    "\n",
    "| Fonctions           | Signification\n",
    "|---------------------|------------------------------|\n",
    "| math.degrees(x)     | x radians en degrés\n",
    "| math.radians(x)     | x degrés en radians\n",
    "\n",
    "**9.2.5 Fonctions hyperboliques <span style=\"color:red\">(non traitées)</span>**\n",
    "\n",
    "**9.2.6 Fonctions spéciales <span style=\"color:red\">(non traitées)</span>**\n",
    "\n",
    "**9.2.7 Constantes <span style=\"color:green\">(extrait)</span>**\n",
    "\n",
    "| Constante           | Signification   | Valeur        | \n",
    "|---------------------|-----------------|---------------|\n",
    "| math.pi             | $$\\pi$$         | 3.141592...   |\n",
    "| math.e              | $$e$$           | 2.718281...   |\n",
    "\n"
   ]
  },
  {
   "cell_type": "markdown",
   "metadata": {},
   "source": [
    "# Fonctions prédéfinies\n",
    "\n",
    "[Fonctions prédéfinies](https://docs.python.org/fr/3/library/functions.html)\n",
    "\n",
    "|&nbsp; |&nbsp; |&nbsp; | &nbsp;|&nbsp; |\n",
    "|-|-|-|-|-\n",
    "|**abs()**    | delattr()   | hash()        | memoryview()| set()\n",
    "|all()        | dict()      | **help()**    | **min()**   | setattr()\n",
    "|any()        | dir()       | hex()         | next()      | slice()\n",
    "|ascii()      | divmod()    | id()          | object()    | sorted()\n",
    "|bin()        | enumerate()\t| **input()**   | oct()       | staticmethod()\n",
    "|bool()       | eval()      | **int()**     | open()      | str()\n",
    "|breakpoint() | exec()      | isinstance()  | ord()       | sum()\n",
    "|bytearray()  | filter()    | issubclass()  | pow()       | super()\n",
    "|bytes()      | **float()** | iter()        | **print()** | tuple()\n",
    "|callable()\t  | format()    | **len()**     | property()  | type()\n",
    "|chr()\t      | frozenset() | list()        | range()     | vars()\n",
    "|classmethod()|\tgetattr()   | locals()      | repr()      | zip()\n",
    "|compile()\t  | globals()   | map()         | reversed()\n",
    "|complex() \t  | hasattr()   | **max()**     | **round()**\t \n",
    "\n",
    "> Les items en **gras** sont étudiées présentement.\n"
   ]
  },
  {
   "cell_type": "code",
   "execution_count": null,
   "metadata": {
    "collapsed": true
   },
   "outputs": [],
   "source": []
  }
 ],
 "metadata": {
  "kernelspec": {
   "display_name": "Python 3",
   "language": "python",
   "name": "python3"
  },
  "language_info": {
   "codemirror_mode": {
    "name": "ipython",
    "version": 3
   },
   "file_extension": ".py",
   "mimetype": "text/x-python",
   "name": "python",
   "nbconvert_exporter": "python",
   "pygments_lexer": "ipython3",
   "version": "3.7.7"
  }
 },
 "nbformat": 4,
 "nbformat_minor": 2
}
