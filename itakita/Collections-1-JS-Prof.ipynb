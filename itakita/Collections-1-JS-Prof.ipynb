{
 "cells": [
  {
   "cell_type": "markdown",
   "metadata": {},
   "source": [
    "<img style='margin-right:0' src=\"http://dinfo.ca/logoDptInfo.jpg\" width=300>\n",
    "\n",
    "# Introduction aux collections (JavaScript)\n",
    "---"
   ]
  },
  {
   "cell_type": "markdown",
   "metadata": {},
   "source": [
    "En JavaScript, on utilise **Array** pour décrire une **collection ordonnée**.  \n",
    "\n",
    "Il n'y a pas de collection immuable (non modifiable) comme les tuples en Python.  Néanmoins, il serait possible d'interdire la modification d'un array en \"figeant\" la collection (`Object.freeze(liste)`)."
   ]
  },
  {
   "cell_type": "code",
   "execution_count": null,
   "metadata": {},
   "outputs": [],
   "source": [
    "var equivTuple = Object.freeze(['Adam', 'Bernard','Charles']);\n",
    "var liste = ['Alpha', 'Beta', 'Omega'];\n",
    "console.log(equivTuple[0]);\n",
    "console.log(liste[0]);\n",
    "                           \n",
    "liste.push('Epsilon');\n",
    "console.log(liste);\n",
    "liste[0] = 'Alexis';\n",
    "console.log(liste);\n",
    "\n",
    "// Opérations invalides\n",
    "equivTuple[0] = 'Gamma';  \n",
    "//equivTuple.push('Epsilon');\n",
    "console.log(\"::: \" + equivTuple);"
   ]
  },
  {
   "cell_type": "markdown",
   "metadata": {},
   "source": [
    "### Création d'une collection ordonnée\n",
    "\n",
    "#### Créer une liste vide\n",
    "\n",
    "```javascript\n",
    "maListe = [];           // Façon #1\n",
    "maListe = new Array();  // Façon #2\n",
    "maListe = Array();      // Façon #3\n",
    "```\n",
    "\n",
    "#### Créer une liste de valeurs\n",
    "\n",
    "```javascript\n",
    "nombres = [1,2,4,8,16,32,64,128];\n",
    "cartes = new Array('2C', 'AK', '9P', 'RP', '5C');\n",
    "``` "
   ]
  },
  {
   "cell_type": "code",
   "execution_count": null,
   "metadata": {},
   "outputs": [],
   "source": [
    "var maListe = [];           // Façon #1\n",
    "maListe = new Array();  // Façon #2\n",
    "maListe = Array();      // Façon #3\n",
    "var nombres = [1,2,4,8,16,32,64,128];\n",
    "var cartes = new Array('2C', 'AK', '9P', 'RP', '5C');\n",
    "console.log(nombres);\n",
    "console.log(cartes);"
   ]
  },
  {
   "cell_type": "markdown",
   "metadata": {},
   "source": [
    "---\n",
    "## Expérimentation\n",
    "\n",
    "Créez une collection ordonnée à placer dans la variable `joursMois` qui comprend 12 nombres, soit le nombre de jour pour chacun des mois.  Le premier mois, janvier, possède 31 jours.  Considérez que février n'est pas bissextile."
   ]
  },
  {
   "cell_type": "code",
   "execution_count": 1,
   "metadata": {},
   "outputs": [
    {
     "name": "stdout",
     "output_type": "stream",
     "text": [
      "[ 31, 28, 31, 30, 31, 30, 31, 31, 30, 31, 30, 31 ]\n",
      "Nb mois: 12\n"
     ]
    }
   ],
   "source": [
    "// Réponse\n",
    "var joursMois = [31, 28, 31, 30, 31, 30, 31, 31, 30, 31, 30, 31];\n",
    "console.log( joursMois);\n",
    "console.log( \"Nb mois: \" + joursMois.length );"
   ]
  },
  {
   "cell_type": "markdown",
   "metadata": {},
   "source": [
    "### Récupérer un élément à une position\n",
    "\n",
    "On peut utiliser les crochets et préciser un indice (les indices débutent à zéro).\n",
    "\n",
    "```javascrit\n",
    "prenoms = ['Adam', 'Bernard','Charles'];\n",
    "liste = ['Alpha', 'Beta', 'Omega'];\n",
    "console.log(prenoms[0]);  // Premier élément\n",
    "console.log(liste[1]);    // Second élément\n",
    "```"
   ]
  },
  {
   "cell_type": "markdown",
   "metadata": {},
   "source": [
    "---\n",
    "## Expérimentation\n",
    "\n",
    "Affichez le nombre de jours en décembre (basé sur votre variable `joursMois`."
   ]
  },
  {
   "cell_type": "code",
   "execution_count": 2,
   "metadata": {},
   "outputs": [
    {
     "name": "stdout",
     "output_type": "stream",
     "text": [
      "31\n",
      "31\n"
     ]
    }
   ],
   "source": [
    "// Insérez votre réponse\n",
    "console.log( joursMois[11] );\n",
    "console.log( joursMois[joursMois.length-1] );\n",
    "\n",
    "// Pas d'indiçage négatif en JavaScript"
   ]
  },
  {
   "cell_type": "markdown",
   "metadata": {},
   "source": [
    "#### Slicing\n",
    "\n",
    "Comme avec le découpage de chaîne, on peut également faire cette opération avec les éléments d'une collection."
   ]
  },
  {
   "cell_type": "code",
   "execution_count": 3,
   "metadata": {},
   "outputs": [
    {
     "name": "stdout",
     "output_type": "stream",
     "text": [
      "Deux premières cartes: [ '2C', 'AK' ]\n",
      "Deux dernières cartes: [ 'RP', '5C' ]\n",
      "2e, 3e et 4e cartes: [ 'AK', '9P', 'RP' ]\n",
      "2e, 3e et 4e cartes: [ 'AK', '9P', 'RP' ]\n",
      "2e, 3e et 4e cartes: [ 'AK', '9P', 'RP' ]\n"
     ]
    }
   ],
   "source": [
    "var cartes = ['2C', 'AK', '9P', 'RP', '5C'];\n",
    "console.log(\"Deux premières cartes:\", cartes.slice(0,2));\n",
    "console.log(\"Deux dernières cartes:\",cartes.slice(-2));\n",
    "console.log(\"2e, 3e et 4e cartes:\", cartes.slice(1,-1));\n",
    "console.log(\"2e, 3e et 4e cartes:\", cartes.slice(1,4));\n",
    "console.log(\"2e, 3e et 4e cartes:\", cartes.slice(-4,4));"
   ]
  },
  {
   "cell_type": "markdown",
   "metadata": {},
   "source": [
    "## Itérer sur les éléments d'une collection"
   ]
  },
  {
   "cell_type": "code",
   "execution_count": null,
   "metadata": {},
   "outputs": [],
   "source": [
    "var prenoms = ['Adam', 'Bernard', 'Charles', 'Denis', 'Eric'];\n",
    "for(var i=0;i<prenoms.length;i++) {\n",
    "    console.log(prenoms[i]);\n",
    "}"
   ]
  },
  {
   "cell_type": "code",
   "execution_count": null,
   "metadata": {},
   "outputs": [],
   "source": [
    "var prenoms = ['Adam', 'Bernard', 'Charles', 'Denis', 'Eric'];\n",
    "for(var i in prenoms) {\n",
    "    console.log(prenoms[i] + ' : position=' + i);\n",
    "}"
   ]
  },
  {
   "cell_type": "markdown",
   "metadata": {},
   "source": [
    "**<span style='color:red'>ATTENTION</span>** Ne pas utiliser le `forEach` tout de suite (attendre)."
   ]
  },
  {
   "cell_type": "code",
   "execution_count": null,
   "metadata": {},
   "outputs": [],
   "source": [
    "var prenoms = ['Adam', 'Bernard', 'Charles', 'Denis', 'Eric'];\n",
    "function afficherPrenom(unPrenom) {\n",
    "    console.log(`Le prénom ${unPrenom} possède ${unPrenom.length} lettres`);\n",
    "}\n",
    "prenoms.forEach( afficherPrenom );"
   ]
  },
  {
   "cell_type": "code",
   "execution_count": null,
   "metadata": {},
   "outputs": [],
   "source": [
    "var prenoms = ['Adam', 'Bernard', 'Charles', 'Denis', 'Eric'];\n",
    "function afficherPosition(unPrenom, indice) {\n",
    "    console.log(unPrenom + ' : position=' + indice);\n",
    "}\n",
    "prenoms.forEach( afficherPosition );"
   ]
  },
  {
   "cell_type": "code",
   "execution_count": null,
   "metadata": {},
   "outputs": [],
   "source": [
    "var multiple = 5;\n",
    "[1,2,3,4,5].forEach( (nombre) => console.log(multiple * nombre));"
   ]
  },
  {
   "cell_type": "markdown",
   "metadata": {},
   "source": [
    "## Expérimentation\n",
    "\n",
    "Combien y a-t-il de mois possédant 31 jours dans l'année?\n",
    "* Initialiser le compteur à zéro\n",
    "* Pour chaque nbJours de la collection joursMois\n",
    "    * Si nbJours est 31\n",
    "        * incrémenter le compteur\n",
    "* Afficher le compteur"
   ]
  },
  {
   "cell_type": "code",
   "execution_count": 1,
   "metadata": {},
   "outputs": [
    {
     "name": "stdout",
     "output_type": "stream",
     "text": [
      "Nb de mois avec 31 jours: 7\n"
     ]
    }
   ],
   "source": [
    "// Insérer votre solution\n",
    "var joursMois = [31, 28, 31, 30, 31, 30, 31, 31, 30, 31, 30, 31];\n",
    "var compteur = 0;\n",
    "for(var i=0;i<joursMois.length;i++) {\n",
    "    if(joursMois[i] == 31)\n",
    "        compteur++;\n",
    "}\n",
    "console.log('Nb de mois avec 31 jours: ' + compteur);"
   ]
  },
  {
   "cell_type": "markdown",
   "metadata": {},
   "source": [
    "### Ajouter des éléments à la fin d'une liste"
   ]
  },
  {
   "cell_type": "code",
   "execution_count": 3,
   "metadata": {},
   "outputs": [
    {
     "name": "stdout",
     "output_type": "stream",
     "text": [
      "[ 10, 20, 24 ]\n"
     ]
    }
   ],
   "source": [
    "var valeurs = [];\n",
    "valeurs.push(10);\n",
    "valeurs.push(20, 24); // inhabituel\n",
    "console.log(valeurs);"
   ]
  },
  {
   "cell_type": "code",
   "execution_count": 4,
   "metadata": {},
   "outputs": [
    {
     "name": "stdout",
     "output_type": "stream",
     "text": [
      "Total: 54\n"
     ]
    }
   ],
   "source": [
    "var somme = 0;\n",
    "for(var i in valeurs) {\n",
    "    somme += valeurs[i];\n",
    "}\n",
    "console.log(\"Total:\", somme);"
   ]
  },
  {
   "cell_type": "markdown",
   "metadata": {},
   "source": [
    "## Expérimentation\n",
    "\n",
    "Pour la collection de valeurs, afficher chaque nombre qui est un multiple de 3"
   ]
  },
  {
   "cell_type": "code",
   "execution_count": 5,
   "metadata": {},
   "outputs": [
    {
     "name": "stdout",
     "output_type": "stream",
     "text": [
      "6 est un multiple de 3\n",
      "9 est un multiple de 3\n",
      "12 est un multiple de 3\n",
      "21 est un multiple de 3\n",
      "24 est un multiple de 3\n",
      "27 est un multiple de 3\n"
     ]
    }
   ],
   "source": [
    "var valeurs = [6,9,10,12,19,21,24,26,27];\n",
    "for(var i=0;i<valeurs.length;i++) {\n",
    "    if(valeurs[i] % 3 == 0)\n",
    "        console.log(valeurs[i] + ' est un multiple de 3');\n",
    "}"
   ]
  },
  {
   "cell_type": "code",
   "execution_count": 6,
   "metadata": {},
   "outputs": [
    {
     "name": "stdout",
     "output_type": "stream",
     "text": [
      "9 est un multiple de 3\n",
      "12 est un multiple de 3\n",
      "21 est un multiple de 3\n",
      "24 est un multiple de 3\n",
      "27 est un multiple de 3\n"
     ]
    }
   ],
   "source": [
    "// Faire la même chose pour les nombres de 1 à 100 inclusivement\n",
    "for(var i=1;i<=100;i++) {\n",
    "    if(valeurs[i] % 3 == 0)\n",
    "        console.log(valeurs[i] + ' est un multiple de 3');\n",
    "}"
   ]
  },
  {
   "cell_type": "markdown",
   "metadata": {},
   "source": [
    "## Expérimentation\n",
    "\n",
    "Pour les nombres de 1 à 100, afficher le nombre de multiples de 3.\n",
    "\n",
    "Deux techniques peuvent être appliquées:\n",
    "* Créer une collection `extraction` qui contiendra les nombres multiples de 3\n",
    "* Utiliser un compteur qui sera incrémenté si le nombre visité est un multiple de 3\n",
    "\n",
    "> On pourra adapter notre solution par après pour laisser tomber le compteur..."
   ]
  },
  {
   "cell_type": "code",
   "execution_count": 7,
   "metadata": {},
   "outputs": [
    {
     "name": "stdout",
     "output_type": "stream",
     "text": [
      "33\n"
     ]
    }
   ],
   "source": [
    "var compteur = 0;\n",
    "for(var i=1;i<=100;i++) {\n",
    "    if(i % 3 == 0)\n",
    "        compteur++;\n",
    "}\n",
    "console.log(compteur);"
   ]
  },
  {
   "cell_type": "code",
   "execution_count": 8,
   "metadata": {},
   "outputs": [
    {
     "name": "stdout",
     "output_type": "stream",
     "text": [
      "33\n",
      "[ 3,\n",
      "  6,\n",
      "  9,\n",
      "  12,\n",
      "  15,\n",
      "  18,\n",
      "  21,\n",
      "  24,\n",
      "  27,\n",
      "  30,\n",
      "  33,\n",
      "  36,\n",
      "  39,\n",
      "  42,\n",
      "  45,\n",
      "  48,\n",
      "  51,\n",
      "  54,\n",
      "  57,\n",
      "  60,\n",
      "  63,\n",
      "  66,\n",
      "  69,\n",
      "  72,\n",
      "  75,\n",
      "  78,\n",
      "  81,\n",
      "  84,\n",
      "  87,\n",
      "  90,\n",
      "  93,\n",
      "  96,\n",
      "  99 ]\n"
     ]
    }
   ],
   "source": [
    "var multiples = [];\n",
    "for(var i=1;i<=100;i++) {\n",
    "    if(i % 3 == 0)\n",
    "        multiples.push(i);\n",
    "}\n",
    "console.log(multiples.length);\n",
    "console.log(multiples);"
   ]
  },
  {
   "cell_type": "code",
   "execution_count": 9,
   "metadata": {},
   "outputs": [
    {
     "name": "stdout",
     "output_type": "stream",
     "text": [
      "[ 22, 67, 52, 87, 48, 3, 56, 83, 91, 66 ]\n"
     ]
    }
   ],
   "source": [
    "// Nombres aléatoires\n",
    "var nombresHasard = [];\n",
    "for(var i=0;i<10;i++) {\n",
    "    nombresHasard.push( Math.floor(1 + 100 * Math.random()) );\n",
    "}\n",
    "console.log(nombresHasard);"
   ]
  },
  {
   "cell_type": "code",
   "execution_count": 10,
   "metadata": {},
   "outputs": [
    {
     "name": "stdout",
     "output_type": "stream",
     "text": [
      "5\n"
     ]
    }
   ],
   "source": [
    "var valeurs = [79, 68, 74, 18, 5, 72, 77, 57, 84, 11];\n",
    "// Quellest est la valeur la plus petite?\n",
    "var minimum = valeurs[0];\n",
    "for(var i=0;i<valeurs.length;i++) {\n",
    "    if(valeurs[i] < minimum)\n",
    "        minimum = valeurs[i];\n",
    "}\n",
    "console.log(minimum);"
   ]
  },
  {
   "cell_type": "markdown",
   "metadata": {},
   "source": [
    "#### Alternative\n",
    "\n",
    "La méthode ci-dessus était une solution algorithmique.  On peut utiliser Math.max() et Math.min() mais on doit énumérer les valeurs (ne peut être une collection); c'est ici qu'on utilise l'opérateur de décomposition (spread syntax).\n",
    "https://developer.mozilla.org/fr/docs/Web/JavaScript/Reference/Op%C3%A9rateurs/Syntaxe_d%C3%A9composition"
   ]
  },
  {
   "cell_type": "code",
   "execution_count": 11,
   "metadata": {},
   "outputs": [
    {
     "name": "stdout",
     "output_type": "stream",
     "text": [
      "5\n"
     ]
    }
   ],
   "source": [
    "var valeurs = [79, 68, 74, 18, 5, 72, 77, 57, 84, 11];\n",
    "// Quellest est la valeur la plus petite?\n",
    "console.log(Math.min(...valeurs));"
   ]
  },
  {
   "cell_type": "markdown",
   "metadata": {},
   "source": [
    "## Expérimentation\n",
    "\n",
    "Combien y a-t-il de valeurs inférieures à 50? Puis supérieures ou égales à 50?"
   ]
  },
  {
   "cell_type": "code",
   "execution_count": 3,
   "metadata": {},
   "outputs": [
    {
     "name": "stdout",
     "output_type": "stream",
     "text": [
      "Nb valeurs < 50 : 3\n",
      "Nb valeurs >= 50: 7\n"
     ]
    }
   ],
   "source": [
    "var valeurs = [79, 68, 74, 18, 5, 72, 77, 57, 84, 11];\n",
    "var nbValeursInferieures = 0;\n",
    "for(var i=0;i<valeurs.length;i++) {\n",
    "    if(valeurs[i] < 50)\n",
    "        nbValeursInferieures++;\n",
    "}\n",
    "console.log(\"Nb valeurs < 50 :\", nbValeursInferieures);\n",
    "console.log(\"Nb valeurs >= 50:\", valeurs.length - nbValeursInferieures);"
   ]
  },
  {
   "cell_type": "markdown",
   "metadata": {},
   "source": [
    "#### Traiter deux collections en parallèle"
   ]
  },
  {
   "cell_type": "code",
   "execution_count": 5,
   "metadata": {},
   "outputs": [
    {
     "name": "stdout",
     "output_type": "stream",
     "text": [
      "Toronto : 2.73 million(s)\n",
      "Montréal : 1.70 million(s)\n",
      "Vancouver : 0.63 million(s)\n",
      "New York : 8.62 million(s)\n"
     ]
    }
   ],
   "source": [
    "var villes = ['Toronto', 'Montréal', 'Vancouver', 'New York'];\n",
    "var populations = [2731571, 1704694, 631486, 8622698];\n",
    "// Afficher la population pour chaque ville, exprimée en millions d'habitants\n",
    "for(var i=0;i<villes.length;i++) {\n",
    "    console.log(`${villes[i]} : ${(populations[i] / 1000000).toFixed(2)} million(s)`);\n",
    "}\n"
   ]
  },
  {
   "cell_type": "markdown",
   "metadata": {},
   "source": [
    "### Collection de collections\n",
    "\n",
    "On peut avoir une représentation un peu plus complexe.  \n",
    "Par exemple:"
   ]
  },
  {
   "cell_type": "code",
   "execution_count": 2,
   "metadata": {},
   "outputs": [],
   "source": [
    "var populationClasses = [ [10,20], [5,15], [12,9], [25,3] ];"
   ]
  },
  {
   "cell_type": "code",
   "execution_count": 3,
   "metadata": {},
   "outputs": [
    {
     "name": "stdout",
     "output_type": "stream",
     "text": [
      "[ 10, 20 ]\n",
      "Gars  : 10\n",
      "Filles: 20\n"
     ]
    }
   ],
   "source": [
    "console.log(populationClasses[0]); // Première classe\n",
    "console.log(\"Gars  :\", populationClasses[0][0]);\n",
    "console.log(\"Filles:\", populationClasses[0][1]);"
   ]
  },
  {
   "cell_type": "code",
   "execution_count": 4,
   "metadata": {},
   "outputs": [
    {
     "name": "stdout",
     "output_type": "stream",
     "text": [
      "Tot:  99\n"
     ]
    }
   ],
   "source": [
    "//Compter le nombre de gars et le nombre de filles pour l'ensemble des classes\n",
    "\n",
    "var populationTotale = 0;\n",
    "for(var i=0;i<populationClasses.length;i++) {\n",
    "    populationTotale += populationClasses[i][0] + \n",
    "                        populationClasses[i][1];\n",
    "}\n",
    "console.log(\"Tot: \", populationTotale);"
   ]
  },
  {
   "cell_type": "code",
   "execution_count": null,
   "metadata": {},
   "outputs": [],
   "source": []
  },
  {
   "cell_type": "code",
   "execution_count": 4,
   "metadata": {},
   "outputs": [
    {
     "name": "stdout",
     "output_type": "stream",
     "text": [
      "Tot:  99\n"
     ]
    }
   ],
   "source": [
    "//Compter le nombre de gars et le nombre de filles pour l'ensemble des classes\n",
    "\n",
    "var populationTotale = 0;\n",
    "for(var i=0;i<populationClasses.length;i++) {\n",
    "    populationTotale += populationClasses[i][0] + \n",
    "                        populationClasses[i][1];\n",
    "}\n",
    "console.log(\"Tot: \", populationTotale);"
   ]
  }
 ],
 "metadata": {
  "kernelspec": {
   "display_name": "Javascript (Node.js)",
   "language": "javascript",
   "name": "javascript"
  },
  "language_info": {
   "file_extension": ".js",
   "mimetype": "application/javascript",
   "name": "javascript",
   "version": "10.13.0"
  }
 },
 "nbformat": 4,
 "nbformat_minor": 4
}
