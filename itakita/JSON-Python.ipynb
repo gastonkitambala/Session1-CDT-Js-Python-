{
 "cells": [
  {
   "cell_type": "markdown",
   "metadata": {},
   "source": [
    "### Python (JSON)\n",
    "\n",
    "Python supporte le format JSON.  Il suffit d'utiliser le paquetage json.\n",
    "\n",
    "```python\n",
    "import json\n",
    "```\n",
    "\n",
    "#### Sérialisation JSON\n",
    "\n",
    "| Python  | JSON      |\n",
    "|---------|-----------|\n",
    "| dict | object |\n",
    "| list,<br>tuple | array |\n",
    "| str     | string |\n",
    "| int,<br>long,<br>float| number |\n",
    "| True     | true |\n",
    "| False    | false |\n",
    "| None     | null |"
   ]
  },
  {
   "cell_type": "code",
   "execution_count": 1,
   "metadata": {},
   "outputs": [],
   "source": [
    "import json\n",
    "\n",
    "tableauPeriodique = {\n",
    "    \"H\" : {\n",
    "        \"nom\" : \"Hydrogène\",\n",
    "        \"masseAtomique\" : 1.008,\n",
    "        \"noAtomique\" : 1\n",
    "    },\n",
    "    \"C\" : {\n",
    "        \"nom\" : \"Carbone\",\n",
    "        \"masseAtomique\" : 12.0107,\n",
    "        \"noAtomique\" : 6\n",
    "    }\n",
    "}"
   ]
  },
  {
   "cell_type": "code",
   "execution_count": 2,
   "metadata": {},
   "outputs": [
    {
     "data": {
      "text/plain": [
       "'{\"H\": {\"nom\": \"Hydrog\\\\u00e8ne\", \"masseAtomique\": 1.008, \"noAtomique\": 1}, \"C\": {\"nom\": \"Carbone\", \"masseAtomique\": 12.0107, \"noAtomique\": 6}}'"
      ]
     },
     "execution_count": 2,
     "metadata": {},
     "output_type": "execute_result"
    }
   ],
   "source": [
    "chaineJSON = json.dumps(tableauPeriodique)\n",
    "chaineJSON"
   ]
  },
  {
   "cell_type": "markdown",
   "metadata": {},
   "source": [
    "## Désérialisation\n",
    "| JSON  | Python |\n",
    "|-------|--------|\n",
    "|object | dict |\n",
    "|array  | list |\n",
    "|string | str |\n",
    "|number<br>(entier) | int |\n",
    "|number<br>(fractionnaire) | float |\n",
    "|true      | True  |\n",
    "|false     | False |\n",
    "|null      | None  |\n",
    "\n",
    "> Tuple???"
   ]
  },
  {
   "cell_type": "code",
   "execution_count": 3,
   "metadata": {},
   "outputs": [
    {
     "data": {
      "text/plain": [
       "{'H': {'nom': 'Hydrogène', 'masseAtomique': 1.008, 'noAtomique': 1},\n",
       " 'C': {'nom': 'Carbone', 'masseAtomique': 12.0107, 'noAtomique': 6}}"
      ]
     },
     "execution_count": 3,
     "metadata": {},
     "output_type": "execute_result"
    }
   ],
   "source": [
    "tableau = json.loads(chaineJSON)\n",
    "tableau"
   ]
  },
  {
   "cell_type": "markdown",
   "metadata": {},
   "source": [
    "#### Autre exemple"
   ]
  },
  {
   "cell_type": "code",
   "execution_count": 4,
   "metadata": {},
   "outputs": [
    {
     "data": {
      "text/plain": [
       "'[[\"A\", \"T\"], [\"2\", \"P\"]]'"
      ]
     },
     "execution_count": 4,
     "metadata": {},
     "output_type": "execute_result"
    }
   ],
   "source": [
    "tuples = [('A','T'), ('2','P')]\n",
    "chaineJSON = json.dumps(tuples)\n",
    "chaineJSON"
   ]
  },
  {
   "cell_type": "code",
   "execution_count": 5,
   "metadata": {},
   "outputs": [
    {
     "data": {
      "text/plain": [
       "[['A', 'T'], ['2', 'P']]"
      ]
     },
     "execution_count": 5,
     "metadata": {},
     "output_type": "execute_result"
    }
   ],
   "source": [
    "cartes = json.loads(chaineJSON)\n",
    "cartes"
   ]
  },
  {
   "cell_type": "markdown",
   "metadata": {},
   "source": [
    "# Récupération de données (Internet)\n"
   ]
  },
  {
   "cell_type": "code",
   "execution_count": null,
   "metadata": {},
   "outputs": [],
   "source": [
    "import json\n",
    "import urllib.parse\n",
    "import requests\n",
    "artiste = urllib.parse.quote('Ed Sheeran')\n",
    "reponse = requests.get(\"https://itunes.apple.com/search?limit=10&country=CA&media=music&entity=song&term=\"+artiste)"
   ]
  },
  {
   "cell_type": "code",
   "execution_count": null,
   "metadata": {},
   "outputs": [],
   "source": [
    "pieces = json.loads(reponse.text)\n",
    "pieces"
   ]
  },
  {
   "cell_type": "code",
   "execution_count": null,
   "metadata": {},
   "outputs": [],
   "source": [
    "print(\"Première pièce: \", pieces['results'][0]['trackName'])"
   ]
  },
  {
   "cell_type": "code",
   "execution_count": null,
   "metadata": {},
   "outputs": [],
   "source": [
    "from IPython.display import *\n",
    "Audio(pieces['results'][0]['previewUrl'])"
   ]
  },
  {
   "cell_type": "code",
   "execution_count": null,
   "metadata": {},
   "outputs": [],
   "source": []
  }
 ],
 "metadata": {
  "kernelspec": {
   "display_name": "Python 3",
   "language": "python",
   "name": "python3"
  },
  "language_info": {
   "codemirror_mode": {
    "name": "ipython",
    "version": 3
   },
   "file_extension": ".py",
   "mimetype": "text/x-python",
   "name": "python",
   "nbconvert_exporter": "python",
   "pygments_lexer": "ipython3",
   "version": "3.7.7"
  }
 },
 "nbformat": 4,
 "nbformat_minor": 4
}
