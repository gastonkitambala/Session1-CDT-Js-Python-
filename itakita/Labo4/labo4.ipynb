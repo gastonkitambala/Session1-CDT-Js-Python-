{
 "cells": [
  {
   "cell_type": "markdown",
   "metadata": {},
   "source": [
    "Before you turn this problem in, make sure everything runs as expected. First, **restart the kernel** (in the menubar, select Kernel$\\rightarrow$Restart) and then **run all cells** (in the menubar, select Cell$\\rightarrow$Run All).\n",
    "\n",
    "Make sure you fill in any place that says `YOUR CODE HERE` or \"YOUR ANSWER HERE\", as well as your name and collaborators below:"
   ]
  },
  {
   "cell_type": "code",
   "execution_count": 1,
   "metadata": {},
   "outputs": [
    {
     "data": {
      "text/plain": [
       "''"
      ]
     },
     "execution_count": 1,
     "metadata": {},
     "output_type": "execute_result"
    }
   ],
   "source": [
    "NAME = \"Gaston Itaka KITAMBALA\"\n",
    "COLLABORATORS = \"\""
   ]
  },
  {
   "cell_type": "markdown",
   "metadata": {},
   "source": [
    "---"
   ]
  },
  {
   "cell_type": "markdown",
   "metadata": {
    "deletable": false,
    "editable": false,
    "nbgrader": {
     "cell_type": "markdown",
     "checksum": "4a1110f0740b34cd61fe8f42a80a9331",
     "grade": false,
     "grade_id": "labo1",
     "locked": true,
     "schema_version": 3,
     "solution": false
    }
   },
   "source": [
    "<img style='margin-right:0' src=\"http://dinfo.ca/logoDptInfo.jpg\" width=300>\n",
    "\n",
    "# Laboratoire #4 (JavaScript)\n",
    "---"
   ]
  },
  {
   "cell_type": "markdown",
   "metadata": {
    "deletable": false,
    "editable": false,
    "nbgrader": {
     "cell_type": "markdown",
     "checksum": "4d56b61d4c84a84a87ec5bd9768cec0e",
     "grade": false,
     "grade_id": "cell-1e89e756459307ba",
     "locked": true,
     "schema_version": 3,
     "solution": false
    }
   },
   "source": [
    "#### Préambule (0.5 point)\n",
    "Déclarez deux (2) variables nommées: \n",
    "    - username (type: chaîne de caractères)\n",
    "    - age (type: numérique)\n",
    "en donnant votre propre `username` ainsi que votre `age`.\n",
    "\n",
    "> P.S.: Vous pouvez mettre `15` ans si vous ne voulez pas dévoiler votre âge réel."
   ]
  },
  {
   "cell_type": "code",
   "execution_count": 2,
   "metadata": {
    "deletable": false,
    "nbgrader": {
     "cell_type": "code",
     "checksum": "b2712bf5f1e8a968959f2718358db5ed",
     "grade": false,
     "grade_id": "cell-126d9aad32d53cfd",
     "locked": false,
     "schema_version": 3,
     "solution": true
    }
   },
   "outputs": [],
   "source": [
    "// VOTRE CODIFICATION (et supprimer la ligne suivante)\n",
    "var username = \"itakita\";\n",
    "var age = 15;"
   ]
  },
  {
   "cell_type": "code",
   "execution_count": 3,
   "metadata": {
    "deletable": false,
    "editable": false,
    "nbgrader": {
     "cell_type": "code",
     "checksum": "b554da809b2f845989955b71ad92a381",
     "grade": true,
     "grade_id": "preambule-correct",
     "locked": false,
     "points": 0.5,
     "schema_version": 3,
     "solution": false
    }
   },
   "outputs": [],
   "source": [
    "// Validations\n",
    "var assert = require('assert');\n",
    "assert(typeof username !== 'undefined', 'Première variable mal définie');\n",
    "assert(typeof age !== 'undefined', 'Seconde variable mal définie');\n",
    "assert(typeof username === 'string', 'username n\\'est pas une chaîne de caractères');\n",
    "assert(username.trim().length === 7, 'Le username doit avoir sept (7) lettres');\n",
    "assert(typeof age === 'number', 'Votre âge doit être de type numérique');\n",
    "assert(age >= 15 && age <= 60, 'Valeur invalide pour votre âge');"
   ]
  },
  {
   "cell_type": "markdown",
   "metadata": {
    "deletable": false,
    "editable": false,
    "nbgrader": {
     "cell_type": "markdown",
     "checksum": "556f6abac2e915318e1235130188f108",
     "grade": false,
     "grade_id": "cell-10e12d92d26e6833",
     "locked": true,
     "schema_version": 3,
     "solution": false
    }
   },
   "source": [
    "---\n",
    "#### Question #1 (1 point)\n",
    "Déclarez une fonction nommée `doubler` qui retourne le nombre passé en paramètre (`nb`) multiplié par 2."
   ]
  },
  {
   "cell_type": "code",
   "execution_count": 4,
   "metadata": {
    "deletable": false,
    "nbgrader": {
     "cell_type": "code",
     "checksum": "659a515000e4f888b5786845e25c4d30",
     "grade": false,
     "grade_id": "q1",
     "locked": false,
     "schema_version": 3,
     "solution": true
    }
   },
   "outputs": [],
   "source": [
    "// VOTRE CODIFICATION (et supprimer la ligne suivante)\n",
    "function doubler(nb){\n",
    "    return nb * 2;\n",
    "}"
   ]
  },
  {
   "cell_type": "code",
   "execution_count": 5,
   "metadata": {
    "deletable": false,
    "editable": false,
    "nbgrader": {
     "cell_type": "code",
     "checksum": "84365651db659340ee94fd37b8308211",
     "grade": true,
     "grade_id": "q1-validation",
     "locked": true,
     "points": 1,
     "schema_version": 3,
     "solution": false
    }
   },
   "outputs": [],
   "source": [
    "var assert = require('assert');\n",
    "// Validations\n",
    "assert(typeof doubler !== 'undefined', 'Aucune fonction ne porte le nom `doubler`');\n",
    "assert(typeof doubler === 'function', '`doubler` n\\'est pas une fonction');\n",
    "assert(doubler(1) === 2, 'Le double de 1 doit donner 2');\n",
    "assert(doubler(-5) === -10, 'Le double de -5 doit donner -10');\n",
    "assert(doubler(0) === 0, 'Le double de 0 doit donner 0');\n",
    "assert(doubler(128) === 256, 'Le double de 128 doit donner 256');"
   ]
  },
  {
   "cell_type": "markdown",
   "metadata": {
    "deletable": false,
    "editable": false,
    "nbgrader": {
     "cell_type": "markdown",
     "checksum": "dbacfa7c332d760425eb5c911475f990",
     "grade": false,
     "grade_id": "cell--23232039",
     "locked": true,
     "schema_version": 3,
     "solution": false
    }
   },
   "source": [
    "---\n",
    "#### Question #2 (0.5 point)\n",
    "Affichez le double de `21` en invoquant la fonction `doubler` que vous avez défini.\n",
    "\n",
    "La réponse attendue est `42`"
   ]
  },
  {
   "cell_type": "code",
   "execution_count": 7,
   "metadata": {
    "deletable": false,
    "nbgrader": {
     "cell_type": "code",
     "checksum": "c18031fb2bcfa86910c9572550e5133b",
     "grade": true,
     "grade_id": "q2",
     "locked": false,
     "points": 0.5,
     "schema_version": 3,
     "solution": true
    }
   },
   "outputs": [
    {
     "name": "stdout",
     "output_type": "stream",
     "text": [
      "42\n"
     ]
    }
   ],
   "source": [
    "// VOTRE CODIFICATION (et supprimer la ligne suivante)\n",
    "console.log(doubler(21));"
   ]
  },
  {
   "cell_type": "markdown",
   "metadata": {
    "deletable": false,
    "editable": false,
    "nbgrader": {
     "cell_type": "markdown",
     "checksum": "5c496cf4a9f1e77e4495e3946603ecba",
     "grade": false,
     "grade_id": "cell-5a4476d37c36138e",
     "locked": true,
     "schema_version": 3,
     "solution": false
    }
   },
   "source": [
    "---\n",
    "#### Question #3 (1 point)\n",
    "Invoquez la fonction `doubler` en fournissant la valeur `36` en paramètre, puis stockez le résultat dans la variable `r1`.  \n",
    "\n",
    "Ensuite, affichez:\n",
    "> Le double de `36` donne `___`\n",
    "\n",
    "où le souligné est remplacé par le contenu de la variable `r1`."
   ]
  },
  {
   "cell_type": "code",
   "execution_count": 7,
   "metadata": {
    "deletable": false,
    "nbgrader": {
     "cell_type": "code",
     "checksum": "436094959af9fd4c6244918da637bca8",
     "grade": true,
     "grade_id": "q3",
     "locked": false,
     "points": 0.5,
     "schema_version": 3,
     "solution": true
    }
   },
   "outputs": [
    {
     "name": "stdout",
     "output_type": "stream",
     "text": [
      "Le double de 36 donne 72\n"
     ]
    }
   ],
   "source": [
    "// VOTRE CODIFICATION (et supprimer la ligne suivante)\n",
    "r1 = doubler(36);\n",
    "console.log(`Le double de 36 donne ${r1}`);"
   ]
  },
  {
   "cell_type": "code",
   "execution_count": 8,
   "metadata": {
    "deletable": false,
    "editable": false,
    "nbgrader": {
     "cell_type": "code",
     "checksum": "8d2ce8e587857b58874034d426d7f58a",
     "grade": true,
     "grade_id": "q3-validation",
     "locked": false,
     "points": 0.5,
     "schema_version": 3,
     "solution": false
    }
   },
   "outputs": [],
   "source": [
    "var assert = require('assert');\n",
    "// Validations\n",
    "assert(typeof r1 !== 'undefined', 'La variable `r1` doit être définie');\n",
    "assert(r1 === 72, 'La variable `r1` doit contenir la bonne réponse (72)');"
   ]
  },
  {
   "cell_type": "markdown",
   "metadata": {
    "deletable": false,
    "editable": false,
    "nbgrader": {
     "cell_type": "markdown",
     "checksum": "da45f98f88e648f39f5f179b7e9c6ca8",
     "grade": false,
     "grade_id": "cell-84df60ba949eefca",
     "locked": true,
     "schema_version": 3,
     "solution": false
    }
   },
   "source": [
    "---\n",
    "#### Question #4 (1 point)\n",
    "Déclarez la méthode `tripler` qui additionne trois (3) fois le paramètre `valeur` et qui retourne le résultat.  N.B.  Ne pas utiliser l'opérateur de multiplication (astérisque) pour effecter ce calcul."
   ]
  },
  {
   "cell_type": "code",
   "execution_count": 9,
   "metadata": {
    "deletable": false,
    "nbgrader": {
     "cell_type": "code",
     "checksum": "809f094082e0e6f05cfc366f05581b61",
     "grade": false,
     "grade_id": "q4",
     "locked": false,
     "schema_version": 3,
     "solution": true
    }
   },
   "outputs": [],
   "source": [
    "// VOTRE CODIFICATION (et supprimer la ligne suivante)\n",
    "function tripler(valeur){\n",
    "    return valeur + valeur + valeur;\n",
    "}\n",
    "    "
   ]
  },
  {
   "cell_type": "code",
   "execution_count": 10,
   "metadata": {
    "deletable": false,
    "editable": false,
    "nbgrader": {
     "cell_type": "code",
     "checksum": "057c97dbc31126898d348b4bb462f10f",
     "grade": true,
     "grade_id": "q4-validation",
     "locked": true,
     "points": 1,
     "schema_version": 3,
     "solution": false
    }
   },
   "outputs": [],
   "source": [
    "var assert = require('assert');\n",
    "// Validations\n",
    "assert(typeof tripler !== 'undefined', 'Aucune fonction ne porte le nom `tripler`');\n",
    "assert(typeof tripler === 'function', '`tripler` n\\'est pas une fonction');\n",
    "assert(tripler(1) === 3, 'Le triple de 1 doit donner 3');\n",
    "assert(tripler(-5) === -15, 'Le triple de -5 doit donner -15');\n",
    "assert(tripler(0) === 0, 'Le triple de 0 doit donner 0');\n",
    "assert(tripler(128) === 384, 'Le triple de 128 doit donner 384');"
   ]
  },
  {
   "cell_type": "markdown",
   "metadata": {
    "deletable": false,
    "editable": false,
    "nbgrader": {
     "cell_type": "markdown",
     "checksum": "654726595ba6c270c36273ed6c937432",
     "grade": false,
     "grade_id": "cell-cf1c19e2c40780b8",
     "locked": true,
     "schema_version": 3,
     "solution": false
    }
   },
   "source": [
    "---\n",
    "#### Question #5 (1 point)\n",
    "Invoquez la fonction `tripler` trois (3) fois avec, successivement, les valeurs 3, 5 et 10.  Affichez chaque réponse sous le format:\n",
    "> Le triple de `____` donne `____`\n",
    "\n",
    "en considérant que le premier souligné est remplacé par la valeur à tripler et que le second souligné indique la réponse.\n",
    "\n",
    "**Résultats attendus:**\n",
    "> Le triple de 3 donne 9<br>\n",
    "  Le triple de 5 donne 15<br>\n",
    "  Le triple de 10 donne 30"
   ]
  },
  {
   "cell_type": "code",
   "execution_count": 12,
   "metadata": {
    "deletable": false,
    "nbgrader": {
     "cell_type": "code",
     "checksum": "c15526fcbe1fe60bd5fa6a96b402ada8",
     "grade": true,
     "grade_id": "q5",
     "locked": false,
     "points": 1,
     "schema_version": 3,
     "solution": true
    }
   },
   "outputs": [
    {
     "name": "stdout",
     "output_type": "stream",
     "text": [
      "Le triple de 3 donne 9\n",
      "Le triple de 5 donne 15\n",
      "Le triple de 10 donne 30\n"
     ]
    }
   ],
   "source": [
    "// VOTRE CODIFICATION (et supprimer la ligne suivante)\n",
    "\n",
    "console.log(\"Le triple de 3 donne \" + tripler(3));\n",
    "console.log(\"Le triple de 5 donne \" + tripler(5));\n",
    "console.log(\"Le triple de 10 donne \" + tripler(10));"
   ]
  },
  {
   "cell_type": "markdown",
   "metadata": {
    "deletable": false,
    "editable": false,
    "nbgrader": {
     "cell_type": "markdown",
     "checksum": "c39367e5339b95dea53cfac8bd9815c5",
     "grade": false,
     "grade_id": "cell-f239284f13c150ad",
     "locked": true,
     "schema_version": 3,
     "solution": false
    }
   },
   "source": [
    "---\n",
    "#### Question #6 (1 point)\n",
    "Créez la fonction `afficherBieresRestantes(nbBieres)` qui affiche:\n",
    "> `____` canettes de bière sur un mur.  Retirez-en une, il en restera `____`.\n",
    "\n",
    "Testez en invoquant cette fonction avec comme valeur 99 bières, 98 bières puis 97 bières."
   ]
  },
  {
   "cell_type": "code",
   "execution_count": 27,
   "metadata": {
    "deletable": false,
    "nbgrader": {
     "cell_type": "code",
     "checksum": "b5fdf7d6644c4f4a1a2e8da9ac2f8f9f",
     "grade": false,
     "grade_id": "q6",
     "locked": false,
     "schema_version": 3,
     "solution": true
    }
   },
   "outputs": [
    {
     "name": "stdout",
     "output_type": "stream",
     "text": [
      "99 canettes de bière sur un mur.  Retirez-en une, il est restera 98\n",
      "98 canettes de bière sur un mur.  Retirez-en une, il est restera 97\n",
      "97 canettes de bière sur un mur.  Retirez-en une, il est restera 96\n"
     ]
    }
   ],
   "source": [
    "// VOTRE CODIFICATION (et supprimer la ligne suivante)\n",
    "function afficherBieresRestantes(nbBieres){\n",
    "   // console.log(nbBieres + \" canettes de bière sur un mur.  Retirez-en une, il est restera \" + (nbBieres - 1));\n",
    "    console.log(`${nbBieres} canettes de bière sur un mur.  Retirez-en une, il est restera ${nbBieres - 1}`);\n",
    "}  \n",
    "afficherBieresRestantes(99);\n",
    "afficherBieresRestantes(98);\n",
    "afficherBieresRestantes(97);"
   ]
  },
  {
   "cell_type": "code",
   "execution_count": 26,
   "metadata": {
    "deletable": false,
    "editable": false,
    "nbgrader": {
     "cell_type": "code",
     "checksum": "386d72628a33fa2cd9919781d837cfeb",
     "grade": true,
     "grade_id": "q6-validation",
     "locked": true,
     "points": 1,
     "schema_version": 3,
     "solution": false
    }
   },
   "outputs": [],
   "source": [
    "var assert = require('assert');\n",
    "// Validations\n",
    "assert(typeof afficherBieresRestantes !== 'undefined', 'Aucune fonction ne porte le nom `afficherBieresRestantes`');\n",
    "assert(typeof afficherBieresRestantes === 'function', '`afficherBieresRestantes` n\\'est pas une fonction');"
   ]
  },
  {
   "cell_type": "markdown",
   "metadata": {
    "deletable": false,
    "editable": false,
    "nbgrader": {
     "cell_type": "markdown",
     "checksum": "2611a469e75ec2c1a520f90e054cace5",
     "grade": false,
     "grade_id": "cell-3518809f2c9122f9",
     "locked": true,
     "schema_version": 3,
     "solution": false
    }
   },
   "source": [
    "---\n",
    "#### Question #7 (1 point)\n",
    "Créez une fonction `convertirFahrenheit` qui reçoit en paramètre une température exprimée en degrés Celsius et qui retourne la valeur calculée en degrés Fahrenheit selon la formule:\n",
    "\n",
    "> $T_{Fahrenheit} = \\frac{9\\times T_{Celsius}}{5}+32$\n",
    "\n",
    "Pour valider si vous interprétez bien la formule, 10˚C équivaut à 50°F.\n",
    "\n",
    "> Invoquez la fonction (avec la valeur 10) après l'avoir déclarée."
   ]
  },
  {
   "cell_type": "code",
   "execution_count": 29,
   "metadata": {
    "deletable": false,
    "nbgrader": {
     "cell_type": "code",
     "checksum": "e0862f0666a7de31bb9248b4f23f082e",
     "grade": false,
     "grade_id": "q7",
     "locked": false,
     "schema_version": 3,
     "solution": true
    }
   },
   "outputs": [
    {
     "data": {
      "text/plain": [
       "50"
      ]
     },
     "execution_count": 29,
     "metadata": {},
     "output_type": "execute_result"
    }
   ],
   "source": [
    "// VOTRE CODIFICATION (et supprimer la ligne suivante)\n",
    "function convertirFahrenheit(cTemp){\n",
    "    return 9 * cTemp/5 + 32;\n",
    "}\n",
    "\n",
    "convertirFahrenheit(10);"
   ]
  },
  {
   "cell_type": "code",
   "execution_count": 30,
   "metadata": {
    "deletable": false,
    "editable": false,
    "nbgrader": {
     "cell_type": "code",
     "checksum": "ef58a63eac72f4935628fe3511ec2c67",
     "grade": true,
     "grade_id": "q7-validation",
     "locked": true,
     "points": 1,
     "schema_version": 3,
     "solution": false
    }
   },
   "outputs": [],
   "source": [
    "var assert = require('assert');\n",
    "// Validations\n",
    "assert(typeof convertirFahrenheit !== 'undefined', 'Aucune fonction ne porte le nom `convertirFahrenheit`');\n",
    "assert(typeof convertirFahrenheit == 'function', '`convertirFahrenheit` n\\'est pas une fonction');\n",
    "assert(Math.abs(convertirFahrenheit(30) - 86.0) < 0.1, '-30°C devrait représenter 86°F');\n",
    "assert(Math.abs(convertirFahrenheit(0) - 32.0)  < 0.1, '-30°C devrait représenter 32°F');\n",
    "assert(Math.abs(convertirFahrenheit(10) - 50.0) < 0.1, '-30°C devrait représenter 50°F');\n",
    "assert(Math.abs(convertirFahrenheit(25) - 77.0) < 0.1, '-30°C devrait représenter 77°F');"
   ]
  },
  {
   "cell_type": "markdown",
   "metadata": {
    "deletable": false,
    "editable": false,
    "nbgrader": {
     "cell_type": "markdown",
     "checksum": "d0a68a7974456c9e27b4f50653691b22",
     "grade": false,
     "grade_id": "cell-de223355f75a01e7",
     "locked": true,
     "schema_version": 3,
     "solution": false
    }
   },
   "source": [
    "---\n",
    "#### Question #8 (1 point)\n",
    "Affichez les messages suivants, en invoquant la fonction de conversion en degrés Fahrenheit.\n",
    "> -30°C représente `___`°F<br>\n",
    "  0°C représente `___`°F<br>\n",
    "  10°C représente `___`°F<br>\n",
    "  25°C représente `___`°F\n",
    "\n",
    "en remplaçant les soulignés par le résultat d'invocation de la fonction.\n",
    "\n",
    "> *P.S.: Calculez à la main chacun les réponses attendues en Fahrenheit et validez par après si vous arrivez à la bonne valeur*"
   ]
  },
  {
   "cell_type": "code",
   "execution_count": 31,
   "metadata": {
    "deletable": false,
    "nbgrader": {
     "cell_type": "code",
     "checksum": "a840146a8e311acca090595a5ae0a81e",
     "grade": true,
     "grade_id": "q8",
     "locked": false,
     "points": 1,
     "schema_version": 3,
     "solution": true
    }
   },
   "outputs": [
    {
     "name": "stdout",
     "output_type": "stream",
     "text": [
      "-30 °C représente -22\n",
      "0 °C représente 32\n",
      "10 °C représente 50\n",
      "25 °C représente 77\n"
     ]
    }
   ],
   "source": [
    "// VOTRE CODIFICATION (et supprimer la ligne suivante)\n",
    "console.log(`${-30} °C représente ${convertirFahrenheit(-30)}`);\n",
    "console.log(`${0} °C représente ${convertirFahrenheit(0)}`);\n",
    "console.log(`${10} °C représente ${convertirFahrenheit(10)}`);\n",
    "console.log(`${25} °C représente ${convertirFahrenheit(25)}`);\n"
   ]
  },
  {
   "cell_type": "markdown",
   "metadata": {
    "deletable": false,
    "editable": false,
    "nbgrader": {
     "cell_type": "markdown",
     "checksum": "fcac4807a8bf09742c3db65c931edbd9",
     "grade": false,
     "grade_id": "cell-c2c32950de262b12",
     "locked": true,
     "schema_version": 3,
     "solution": false
    }
   },
   "source": [
    "---\n",
    "#### Question #9 (1 point)\n",
    "Créez une fonction nommée `calculerMoyenne` qui additionne les deux nombres reçus en paramètre `(a,b)` avant de diviser la somme en deux.  La fonction retourne la moyenne calculée."
   ]
  },
  {
   "cell_type": "code",
   "execution_count": 32,
   "metadata": {
    "deletable": false,
    "nbgrader": {
     "cell_type": "code",
     "checksum": "94bcf8161d5f9d880a982a7aba3d8b34",
     "grade": false,
     "grade_id": "q9",
     "locked": false,
     "schema_version": 3,
     "solution": true
    }
   },
   "outputs": [],
   "source": [
    "// VOTRE CODIFICATION (et supprimer la ligne suivante)\n",
    "function calculerMoyenne(a,b){\n",
    "    return (a + b) / 2;\n",
    "}\n",
    "    "
   ]
  },
  {
   "cell_type": "code",
   "execution_count": 33,
   "metadata": {
    "deletable": false,
    "editable": false,
    "nbgrader": {
     "cell_type": "code",
     "checksum": "9d23e869b90ace1b8c09dced398d7d83",
     "grade": true,
     "grade_id": "q9-validation",
     "locked": true,
     "points": 1,
     "schema_version": 3,
     "solution": false
    }
   },
   "outputs": [],
   "source": [
    "var assert = require('assert');\n",
    "// Validations\n",
    "assert(typeof calculerMoyenne !== 'undefined', 'Aucune fonction ne porte le nom `calculerMoyenne`');\n",
    "assert(typeof calculerMoyenne == 'function', '`calculerMoyenne` n\\'est pas une fonction');\n",
    "assert(Math.abs(calculerMoyenne(1,3) - 2.0) < 0.1, 'La moyenne de 1 et 3 donne 2');\n",
    "assert(Math.abs(calculerMoyenne(-2,-2) + 2.0) < 0.1, 'La moyenne de 1 et 3 donne 2');\n",
    "assert(Math.abs(calculerMoyenne(50,100) - 75.0) < 0.1, 'La moyenne de 50 et 100 donne 75');\n",
    "assert(Math.abs(calculerMoyenne(50,-30) - 10.0) < 0.1, 'La moyenne de 50 et -30 donne 10');"
   ]
  },
  {
   "cell_type": "markdown",
   "metadata": {
    "deletable": false,
    "editable": false,
    "nbgrader": {
     "cell_type": "markdown",
     "checksum": "2aeb612968cf6653da10b0a6f8b40653",
     "grade": false,
     "grade_id": "cell-b472d11c2357b5d7",
     "locked": true,
     "schema_version": 3,
     "solution": false
    }
   },
   "source": [
    "---\n",
    "#### Question #10 (1 point)\n",
    "Vous devez d'abord définir deux variables (`v1` et `v2`) qui possèdent respectivement les valeurs 15.0 et 26.0.\n",
    "\n",
    "Ensuite, faites le calcul de la moyenne avec la fonction définie plus tôt et stockez le résultat dans une troisième variable nommée `v3`.\n",
    "\n",
    "Affichez ensuite le message suivant, en vous servant du contenu des variables:\n",
    "> La moyenne de `___` et `___` donne `___`\n",
    "\n",
    "> **Pour avoir une décimale, utilisez la méthode 'toFixed(1)'.**\n",
    "\n",
    "**Résultat attendu (avec une seule décimale):**\n",
    "> La moyenne de 15.0 et 26.0 donne 20.5"
   ]
  },
  {
   "cell_type": "code",
   "execution_count": 34,
   "metadata": {
    "deletable": false,
    "nbgrader": {
     "cell_type": "code",
     "checksum": "21c1d4a1669a99c96ed51e440aab659a",
     "grade": true,
     "grade_id": "q10",
     "locked": false,
     "points": 0.5,
     "schema_version": 3,
     "solution": true
    }
   },
   "outputs": [
    {
     "name": "stdout",
     "output_type": "stream",
     "text": [
      "La moyenne de 15.0 et 26.0 donne 20.5\n"
     ]
    }
   ],
   "source": [
    "// VOTRE CODIFICATION (et supprimer la ligne suivante)\n",
    "var v1 = 15.0;\n",
    "var v2 = 26.0;\n",
    "var v3 = calculerMoyenne(v1, v2);\n",
    "console.log(`La moyenne de ${v1.toFixed(1)} et ${v2.toFixed(1)} donne ${v3.toFixed(1)}`);"
   ]
  },
  {
   "cell_type": "code",
   "execution_count": 35,
   "metadata": {
    "deletable": false,
    "editable": false,
    "nbgrader": {
     "cell_type": "code",
     "checksum": "f163cac62de5dad646a14ea8aa2c1b45",
     "grade": true,
     "grade_id": "q10-validation",
     "locked": true,
     "points": 0.5,
     "schema_version": 3,
     "solution": false
    }
   },
   "outputs": [],
   "source": [
    "var assert = require('assert');\n",
    "// Validations\n",
    "assert(typeof v1 !== 'undefined', 'La variable `v1` doit être définie');\n",
    "assert(typeof v2 !== 'undefined', 'La variable `v2` doit être définie');\n",
    "assert(typeof v3 !== 'undefined', 'La variable `v3` doit être définie');\n",
    "assert(v1 == 15.0, 'La variable `v1` doit contenir la valeur 15.0');\n",
    "assert(v2 == 26.0, 'La variable `v2` doit contenir la valeur 26.0');\n",
    "assert(Math.abs(v3 - 20.5) < 0.1, 'La variable `v3` doit contenir le résultat, soit 20.5');"
   ]
  },
  {
   "cell_type": "code",
   "execution_count": null,
   "metadata": {},
   "outputs": [],
   "source": []
  }
 ],
 "metadata": {
  "kernelspec": {
   "display_name": "Javascript (Node.js)",
   "language": "javascript",
   "name": "javascript"
  },
  "language_info": {
   "file_extension": ".js",
   "mimetype": "application/javascript",
   "name": "javascript",
   "version": "10.13.0"
  }
 },
 "nbformat": 4,
 "nbformat_minor": 1
}
