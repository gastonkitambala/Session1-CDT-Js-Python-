{
 "cells": [
  {
   "cell_type": "markdown",
   "metadata": {},
   "source": [
    "Before you turn this problem in, make sure everything runs as expected. First, **restart the kernel** (in the menubar, select Kernel$\\rightarrow$Restart) and then **run all cells** (in the menubar, select Cell$\\rightarrow$Run All).\n",
    "\n",
    "Make sure you fill in any place that says `YOUR CODE HERE` or \"YOUR ANSWER HERE\", as well as your name and collaborators below:"
   ]
  },
  {
   "cell_type": "code",
   "execution_count": null,
   "metadata": {},
   "outputs": [],
   "source": [
    "NAME = \"\"\n",
    "COLLABORATORS = \"\""
   ]
  },
  {
   "cell_type": "markdown",
   "metadata": {},
   "source": [
    "---"
   ]
  },
  {
   "cell_type": "markdown",
   "metadata": {},
   "source": [
    "<img style='margin-right:0' src=\"http://dinfo.ca/logoDptInfo.jpg\" width=300>\n",
    "\n",
    "# Pratique #1 -- Carnet Python\n",
    "---"
   ]
  },
  {
   "cell_type": "markdown",
   "metadata": {
    "deletable": false,
    "editable": false,
    "nbgrader": {
     "cell_type": "markdown",
     "checksum": "278083ea66cf5d49eff4bb88b3461b33",
     "grade": false,
     "grade_id": "cell-b7eb6aaf444270ca",
     "locked": true,
     "schema_version": 3,
     "solution": false
    }
   },
   "source": [
    "#### Problème #1\n",
    "Codez la fonction `determinerNbEtoiles(note)` qui retourne le nombre d'étoiles (autocollants) pour un exercice au primaire.\n",
    "\n",
    "L'exercice compte pour 10 points.\n",
    "\n",
    "Ce tableau résume la quantité d'étoiles à accorder:\n",
    "\n",
    "| &nbsp;           | &nbsp;    |\n",
    "|------------------|-----------|\n",
    "| 10 pts           | 3 étoiles |\n",
    "| entre 9 et 9.9   | 2 étoiles |\n",
    "| entre 8 et 8.9   | 1 étoile  |\n",
    "| en bas de 8      | aucun     |\n"
   ]
  },
  {
   "cell_type": "code",
   "execution_count": null,
   "metadata": {
    "deletable": false,
    "nbgrader": {
     "cell_type": "code",
     "checksum": "f5df75137253c2ba2cdc2ff1683b4fcb",
     "grade": false,
     "grade_id": "cell-252dbfe5f6e61a34",
     "locked": false,
     "schema_version": 3,
     "solution": true
    }
   },
   "outputs": [],
   "source": [
    "# VOTRE CODIFICATION (et supprimer la ligne suivante\n",
    "raise NotImplementedError()"
   ]
  },
  {
   "cell_type": "code",
   "execution_count": null,
   "metadata": {
    "deletable": false,
    "editable": false,
    "nbgrader": {
     "cell_type": "code",
     "checksum": "7f269ab0b390a3c53c0376453cee8d92",
     "grade": true,
     "grade_id": "cell-4a8e73c653ec0602",
     "locked": true,
     "points": 2,
     "schema_version": 3,
     "solution": false
    }
   },
   "outputs": [],
   "source": [
    "assert determinerNbEtoiles(9.5) == 2\n",
    "assert determinerNbEtoiles(2.0) == 0\n",
    "assert determinerNbEtoiles(8.6) == 1\n",
    "assert determinerNbEtoiles(10.0) == 3\n",
    "assert determinerNbEtoiles(9.5) == 2\n",
    "assert determinerNbEtoiles(8.0) == 1\n",
    "assert determinerNbEtoiles(8.9) == 1\n",
    "assert determinerNbEtoiles(9.0) == 2"
   ]
  },
  {
   "cell_type": "markdown",
   "metadata": {
    "deletable": false,
    "editable": false,
    "nbgrader": {
     "cell_type": "markdown",
     "checksum": "46ef137613efb85db8c2f6cd03235081",
     "grade": false,
     "grade_id": "cell-5af4337c53b78edb",
     "locked": true,
     "schema_version": 3,
     "solution": false
    }
   },
   "source": [
    "#### Problème #3\n",
    "\n",
    "Est-ce que cet algorithme répond au problème (réponses attendues)?\n",
    "\n",
    "```javascript\n",
    "def compterEtoiles(note):\n",
    "    if note >= 8.0:\n",
    "        nbEtoiles = 1\n",
    "    else:\n",
    "        nbEtoiles = 0\n",
    "    if note == 10.0:\n",
    "        nbEtoiles += 1\n",
    "    if note >= 9.0:\n",
    "        nbEtoiles += 1\n",
    "    return nbEtoiles\n",
    "```"
   ]
  },
  {
   "cell_type": "markdown",
   "metadata": {
    "deletable": false,
    "editable": false,
    "nbgrader": {
     "cell_type": "markdown",
     "checksum": "e2e8394fe07da5fb977a6f7298a1be42",
     "grade": false,
     "grade_id": "cell-aa183d3f965c176f",
     "locked": true,
     "schema_version": 3,
     "solution": false
    }
   },
   "source": [
    "#### Problème #4\n",
    "\n",
    "Et cet algorithme?\n",
    "\n",
    "```javascript\n",
    "def compterEtoiles(note):\n",
    "    return max(0,int(note - 7))\n",
    "```"
   ]
  },
  {
   "cell_type": "markdown",
   "metadata": {
    "deletable": false,
    "editable": false,
    "nbgrader": {
     "cell_type": "markdown",
     "checksum": "752e412a5846e26a17ef273874050211",
     "grade": false,
     "grade_id": "cell-95e9b3666b380dac",
     "locked": true,
     "schema_version": 3,
     "solution": false
    }
   },
   "source": [
    "#### Problème #5\n",
    "\n",
    "Une carte à jouer est représentée par une chaîne de 2 caractères.\n",
    "\n",
    "|&nbsp;| &nbsp;                      |\n",
    "|------|-----------------------------|\n",
    "| 2C   | 2 de coeur\n",
    "| 9P   | 9 de pique\n",
    "| XT   | 10 de trèfle\n",
    "| VC   | valet de coeur\n",
    "| DK   | dame de carreau\n",
    "| RT   | roi de trèfle\n",
    "\n",
    "Les figures sont: '2', '3', '4', '5', '6', '7', '8', '9', 'X', 'V', 'D', 'R', 'A'\n",
    "\n",
    "Les sortes sont: 'T' (trèfle), 'C' (coeur), 'P' (pique) et 'K' (carreau)\n",
    "\n",
    "On veut une fonction `determinerValeurCarte(carte)` où:\n",
    "\n",
    "- l'as vaut 1\n",
    "- les figures '2' à '9' valent le chiffre correspondant\n",
    "- les figures 'X', 'V', 'D' et 'R' valent 10\n",
    "\n"
   ]
  },
  {
   "cell_type": "code",
   "execution_count": null,
   "metadata": {
    "deletable": false,
    "nbgrader": {
     "cell_type": "code",
     "checksum": "e6d2a16e776b523ae900b62c58f76572",
     "grade": false,
     "grade_id": "cell-1bfc79448727fefe",
     "locked": false,
     "schema_version": 3,
     "solution": true
    }
   },
   "outputs": [],
   "source": [
    "def determinerValeurCarte(carte):\n",
    "# VOTRE CODIFICATION (et supprimer la ligne suivante\n",
    "raise NotImplementedError()\n",
    "    return valeur"
   ]
  },
  {
   "cell_type": "code",
   "execution_count": null,
   "metadata": {
    "deletable": false,
    "editable": false,
    "nbgrader": {
     "cell_type": "code",
     "checksum": "6564d0e74bf40df73f32763e9b043534",
     "grade": true,
     "grade_id": "cell-79d0d25bf05cdcdc",
     "locked": true,
     "points": 2,
     "schema_version": 3,
     "solution": false
    }
   },
   "outputs": [],
   "source": [
    "assert determinerValeurCarte('2P') == 2\n",
    "assert determinerValeurCarte('3T') == 3\n",
    "assert determinerValeurCarte('4C') == 4\n",
    "assert determinerValeurCarte('5K') == 5\n",
    "assert determinerValeurCarte('6P') == 6\n",
    "assert determinerValeurCarte('7T') == 7\n",
    "assert determinerValeurCarte('8C') == 8\n",
    "assert determinerValeurCarte('9K') == 9\n",
    "assert determinerValeurCarte('XP') == 10\n",
    "assert determinerValeurCarte('VT') == 10\n",
    "assert determinerValeurCarte('DC') == 10\n",
    "assert determinerValeurCarte('RK') == 10\n",
    "assert determinerValeurCarte('AP') == 1"
   ]
  },
  {
   "cell_type": "markdown",
   "metadata": {
    "deletable": false,
    "editable": false,
    "nbgrader": {
     "cell_type": "markdown",
     "checksum": "c1080d8aa25baa604e72205698922fd0",
     "grade": false,
     "grade_id": "cell-cacc8ed4244f955c",
     "locked": true,
     "schema_version": 3,
     "solution": false
    }
   },
   "source": [
    "### Problème #7\n",
    "\n",
    "Sur un plan cartésien, on a un tank qui peut être orienté au 'N', 'E', 'S' ou 'O'.\n",
    "\n",
    "Ce tank peut tourner uniquement de 90 degrés à gauche.  \n",
    "\n",
    "On veut une fonction qui déterminer la nouvelle orientation selon l'orientation courante."
   ]
  },
  {
   "cell_type": "code",
   "execution_count": null,
   "metadata": {
    "deletable": false,
    "nbgrader": {
     "cell_type": "code",
     "checksum": "2a0392ae6e835d18aef35771519602fe",
     "grade": false,
     "grade_id": "cell-fd18807f5d75a0ae",
     "locked": false,
     "schema_version": 3,
     "solution": true
    }
   },
   "outputs": [],
   "source": [
    "def determinerOrientationGauche(orientationCourante):\n",
    "# VOTRE CODIFICATION (et supprimer la ligne suivante\n",
    "raise NotImplementedError()\n",
    "    return nouvelleOrientation"
   ]
  },
  {
   "cell_type": "code",
   "execution_count": null,
   "metadata": {
    "deletable": false,
    "editable": false,
    "nbgrader": {
     "cell_type": "code",
     "checksum": "3e2c2fc3a9cf468cdee4856d52ed712b",
     "grade": true,
     "grade_id": "cell-a74c3fc50eee1c0e",
     "locked": true,
     "points": 2,
     "schema_version": 3,
     "solution": false
    }
   },
   "outputs": [],
   "source": [
    "assert determinerOrientationGauche('E') == 'N'\n",
    "assert determinerOrientationGauche('S') == 'E'\n",
    "assert determinerOrientationGauche('O') == 'S'\n",
    "assert determinerOrientationGauche('N') == 'O'"
   ]
  }
 ],
 "metadata": {
  "kernelspec": {
   "display_name": "Python 3",
   "language": "python",
   "name": "python3"
  },
  "language_info": {
   "codemirror_mode": {
    "name": "ipython",
    "version": 3
   },
   "file_extension": ".py",
   "mimetype": "text/x-python",
   "name": "python",
   "nbconvert_exporter": "python",
   "pygments_lexer": "ipython3",
   "version": "3.7.7"
  }
 },
 "nbformat": 4,
 "nbformat_minor": 2
}
