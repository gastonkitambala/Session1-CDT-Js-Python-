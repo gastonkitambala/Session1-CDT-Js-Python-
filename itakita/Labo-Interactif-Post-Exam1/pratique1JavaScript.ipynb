{
 "cells": [
  {
   "cell_type": "markdown",
   "metadata": {},
   "source": [
    "Before you turn this problem in, make sure everything runs as expected. First, **restart the kernel** (in the menubar, select Kernel$\\rightarrow$Restart) and then **run all cells** (in the menubar, select Cell$\\rightarrow$Run All).\n",
    "\n",
    "Make sure you fill in any place that says `YOUR CODE HERE` or \"YOUR ANSWER HERE\", as well as your name and collaborators below:"
   ]
  },
  {
   "cell_type": "code",
   "execution_count": null,
   "metadata": {},
   "outputs": [],
   "source": [
    "NAME = \"\"\n",
    "COLLABORATORS = \"\""
   ]
  },
  {
   "cell_type": "markdown",
   "metadata": {},
   "source": [
    "---"
   ]
  },
  {
   "cell_type": "markdown",
   "metadata": {},
   "source": [
    "<img style='margin-right:0' src=\"http://dinfo.ca/logoDptInfo.jpg\" width=300>\n",
    "\n",
    "# Pratique #1 -- Carnet JavaScript\n",
    "---"
   ]
  },
  {
   "cell_type": "markdown",
   "metadata": {
    "deletable": false,
    "editable": false,
    "nbgrader": {
     "cell_type": "markdown",
     "checksum": "3b6b4de8a47d296892696cf563e49857",
     "grade": false,
     "grade_id": "cell-0c627dec2a5841c1",
     "locked": true,
     "schema_version": 3,
     "solution": false
    }
   },
   "source": [
    "#### Problème #2\n",
    "Voici deux implémentation pour déterminer le nombre d'étoiles à accorder à un exercice au primaire.\n",
    "\n",
    "L'exercice compte pour 10 points.\n",
    "\n",
    "Ce tableau résume la quantité d'étoiles à accorder:\n",
    "\n",
    "| &nbsp;           | &nbsp;    |\n",
    "|------------------|-----------|\n",
    "| 10 pts           | 3 étoiles |\n",
    "| entre 9 et 9.9   | 2 étoiles |\n",
    "| entre 8 et 8.9   | 1 étoile  |\n",
    "| en bas de 8      | aucun     |\n",
    "\n",
    "NOTE: Les deux implémentations présentent des erreurs (identifiez-les et apportez les correctifs)."
   ]
  },
  {
   "cell_type": "code",
   "execution_count": 5,
   "metadata": {
    "deletable": false,
    "nbgrader": {
     "cell_type": "code",
     "checksum": "9bad8e27231ce436608bf391a9302fc9",
     "grade": false,
     "grade_id": "cell-9dea533226ee5503",
     "locked": false,
     "schema_version": 3,
     "solution": true
    }
   },
   "outputs": [],
   "source": [
    "// Première implémentation\n",
    "function compterEtoiles(note) {\n",
    "    var nbEtoiles;\n",
    "    if(note == 10.0)\n",
    "        nbEtoiles = 3;\n",
    "    else if(note > 8.9)\n",
    "        nbEtoiles = 2;\n",
    "    else if(note >= 8.0)\n",
    "        nbEtoiles = 1;\n",
    "    else\n",
    "        nbEtoiles = 0;\n",
    "    return nbEtoiles;\n",
    "   \n",
    "}"
   ]
  },
  {
   "cell_type": "code",
   "execution_count": 11,
   "metadata": {
    "deletable": false,
    "nbgrader": {
     "cell_type": "code",
     "checksum": "1e7d63d204f4818563639308592b061f",
     "grade": false,
     "grade_id": "cell-414939cfaecaa820",
     "locked": false,
     "schema_version": 3,
     "solution": true
    }
   },
   "outputs": [],
   "source": [
    "// Seconde implémentation\n",
    "function denombrerEtoiles(note) {\n",
    "    if(note >= 8.0) \n",
    "        nbEtoiles = 1;\n",
    "    else \n",
    "        nbEtoiles = 0;\n",
    "    \n",
    "    if(note >= 9.0)\n",
    "        nbEtoiles = 2;\n",
    "    \n",
    "    if(note == 10.0) \n",
    "        nbEtoiles = 3;\n",
    "\n",
    "     return nbEtoiles;\n",
    "}"
   ]
  },
  {
   "cell_type": "code",
   "execution_count": 6,
   "metadata": {
    "deletable": false,
    "editable": false,
    "nbgrader": {
     "cell_type": "code",
     "checksum": "1c526f24eba5f016059a9c11283af659",
     "grade": true,
     "grade_id": "cell-125c2a73135eb2a9",
     "locked": true,
     "points": 2,
     "schema_version": 3,
     "solution": false
    }
   },
   "outputs": [],
   "source": [
    "var assert = require('assert');\n",
    "assert.equal(compterEtoiles(9.5),2)\n",
    "assert.equal(compterEtoiles(2.0),0)\n",
    "assert.equal(compterEtoiles(8.6),1)\n",
    "assert.equal(compterEtoiles(10.0),3)\n",
    "assert.equal(compterEtoiles(9.5),2)\n",
    "assert.equal(compterEtoiles(8.0),1)\n",
    "assert.equal(compterEtoiles(8.9),1)\n",
    "assert.equal(compterEtoiles(9.0),2)"
   ]
  },
  {
   "cell_type": "code",
   "execution_count": 12,
   "metadata": {
    "deletable": false,
    "editable": false,
    "nbgrader": {
     "cell_type": "code",
     "checksum": "97c1e4c73b559a0f72dec628b35bbabb",
     "grade": true,
     "grade_id": "cell-6a381ce4f2bc3470",
     "locked": true,
     "points": 2,
     "schema_version": 3,
     "solution": false
    }
   },
   "outputs": [],
   "source": [
    "var assert = require('assert');\n",
    "assert.equal(denombrerEtoiles(9.5),2)\n",
    "assert.equal(denombrerEtoiles(2.0),0)\n",
    "assert.equal(denombrerEtoiles(8.6),1)\n",
    "assert.equal(denombrerEtoiles(10.0),3)\n",
    "assert.equal(denombrerEtoiles(9.5),2)\n",
    "assert.equal(denombrerEtoiles(8.0),1)\n",
    "assert.equal(denombrerEtoiles(8.9),1)\n",
    "assert.equal(denombrerEtoiles(9.0),2)"
   ]
  },
  {
   "cell_type": "markdown",
   "metadata": {
    "deletable": false,
    "editable": false,
    "nbgrader": {
     "cell_type": "markdown",
     "checksum": "858ced8ff4a0952c19c2c2cbf83a9807",
     "grade": false,
     "grade_id": "cell-941c2ae3353e60dc",
     "locked": true,
     "schema_version": 3,
     "solution": false
    }
   },
   "source": [
    "#### Problème #6\n",
    "\n",
    "Une carte à jouer est représentée par une chaîne de 2 caractères.\n",
    "\n",
    "|&nbsp;| &nbsp;                      |\n",
    "|------|-----------------------------|\n",
    "| 2C   | 2 de coeur\n",
    "| 9P   | 9 de pique\n",
    "| XT   | 10 de trèfle\n",
    "| VC   | valet de coeur\n",
    "| DK   | dame de carreau\n",
    "| RT   | roi de trèfle\n",
    "\n",
    "Les figures sont: '2', '3', '4', '5', '6', '7', '8', '9', 'X', 'V', 'D', 'R', 'A'\n",
    "\n",
    "Les sortes sont: 'T' (trèfle), 'C' (coeur), 'P' (pique) et 'K' (carreau)\n",
    "\n",
    "On veut une fonction `determinerValeurCarte(carte)` où:\n",
    "\n",
    "- l'as vaut 1\n",
    "- les figures '2' à '9' valent le chiffre correspondant\n",
    "- les figures 'X', 'V', 'D' et 'R' valent 10"
   ]
  },
  {
   "cell_type": "code",
   "execution_count": 3,
   "metadata": {
    "deletable": false,
    "nbgrader": {
     "cell_type": "code",
     "checksum": "8f5a6b9b6b161da704d7d2d568418864",
     "grade": false,
     "grade_id": "cell-044b2f4a4ab3a999",
     "locked": false,
     "schema_version": 3,
     "solution": true
    }
   },
   "outputs": [],
   "source": [
    "function determinerValeurCarte(carte) {\n",
    "    let figure =  carte[0];\n",
    "    let valeur = parseInt(figure);\n",
    "    if(isNaN(valeur))\n",
    "        valeur = figure == \"A\" ? 1 : 10;\n",
    "        if(figure == \"A\")\n",
    "            \n",
    "            valeur = 1;\n",
    "        else\n",
    "            valeur = 10;\n",
    "    return valeur;\n",
    "}\n",
    "\n",
    "/*or\n",
    "function determinerValeurCarte(carte) {\n",
    "    let figure =  carte[0];\n",
    "    let valeur = parseInt(figure);\n",
    "    if(isNaN(valeur))\n",
    "        if(figure == \"A\")\n",
    "            valeur = 1;\n",
    "        else\n",
    "            valeur = 10;\n",
    "    return valeur;\n",
    "}"
   ]
  },
  {
   "cell_type": "code",
   "execution_count": 4,
   "metadata": {
    "deletable": false,
    "editable": false,
    "nbgrader": {
     "cell_type": "code",
     "checksum": "119e1c0161cb09a80de6bfeb168bca1b",
     "grade": true,
     "grade_id": "cell-6e7f689c541ca653",
     "locked": true,
     "points": 2,
     "schema_version": 3,
     "solution": false
    }
   },
   "outputs": [],
   "source": [
    "var assert = require('assert');\n",
    "assert.equal(determinerValeurCarte('2P'),2);\n",
    "assert.equal(determinerValeurCarte('3T'),3);\n",
    "assert.equal(determinerValeurCarte('4C'),4);\n",
    "assert.equal(determinerValeurCarte('5K'),5);\n",
    "assert.equal(determinerValeurCarte('6P'),6);\n",
    "assert.equal(determinerValeurCarte('7T'),7);\n",
    "assert.equal(determinerValeurCarte('8C'),8);\n",
    "assert.equal(determinerValeurCarte('9K'),9);\n",
    "assert.equal(determinerValeurCarte('XP'),10);\n",
    "assert.equal(determinerValeurCarte('VT'),10);\n",
    "assert.equal(determinerValeurCarte('DC'),10);\n",
    "assert.equal(determinerValeurCarte('RK'),10);\n",
    "assert.equal(determinerValeurCarte('AP'), 1);"
   ]
  },
  {
   "cell_type": "code",
   "execution_count": null,
   "metadata": {},
   "outputs": [],
   "source": []
  }
 ],
 "metadata": {
  "kernelspec": {
   "display_name": "Javascript (Node.js)",
   "language": "javascript",
   "name": "javascript"
  },
  "language_info": {
   "file_extension": ".js",
   "mimetype": "application/javascript",
   "name": "javascript",
   "version": "10.13.0"
  }
 },
 "nbformat": 4,
 "nbformat_minor": 2
}
