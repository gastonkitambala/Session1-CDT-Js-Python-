{
 "cells": [
  {
   "cell_type": "markdown",
   "metadata": {},
   "source": [
    "<img style='margin-right:0' src=\"http://dinfo.ca/logoDptInfo.jpg\" width=300>\n",
    "\n",
    "# Référence Python\n",
    "---\n",
    "## Table des matières:\n",
    "* [Variables et types](#variables)\n",
    "* [Opérateurs](#operateurs)\n",
    "* [Transtypage implicite](#transtypage)\n",
    "* [Évaluation d'expression](#expression)\n",
    "* [Formatage de sortie](#formatage)\n",
    "* [Fonctions](#fonctions)\n",
    "* [Sélection (if)](#selection)"
   ]
  },
  {
   "cell_type": "markdown",
   "metadata": {},
   "source": [
    "## <a class=\"anchor\" id=\"variables\">Variables et types</a>\n",
    "\n",
    "### Nombres\n",
    "<style>td { text-align: left; }</style>\n",
    "\n",
    "| type | description  |\n",
    "|------|:-------------|\n",
    "|  int |entier signé |\n",
    "| float| nombre fractionnaire |\n",
    "| complex | nombre complexe |\n",
    "\n",
    "> En Python3, le type `int` n'a pas de taille limite (nombre de chiffres).<br>\n",
    "  `float` offre une précision de 15 décimales\n",
    "\n",
    "### Chaînes de caractères\n",
    "\n",
    "Séquence de caractères Unicode.\n",
    "\n",
    "**Délimiteurs**:\n",
    "- apostrophe simple (')\n",
    "- guillemet simple (\")\n",
    "- délimiteur triple (\"\"\" ou ''')\n",
    "    - permet d'insérer des guillemets ou apostrophes simples sans caractère d'échappement\n",
    "    - permet de créer des chaînes multilignes\n",
    "\n",
    "**Caractères d'échappement (extrait)**\n",
    "\n",
    "| Séquence | Signification              |\n",
    "| :------- | :------------------------- |\n",
    "| `\\\\`     | Barre oblique inversée (\\) |\n",
    "| `\\'`      | Apostrophe (')             |\n",
    "| `\\\"`      | Guillemet (\")              |\n",
    "| `\\n`      | Changement de ligne        |\n",
    "| `\\t`      | Tabulation                 |\n"
   ]
  },
  {
   "cell_type": "code",
   "execution_count": 1,
   "metadata": {},
   "outputs": [
    {
     "name": "stdout",
     "output_type": "stream",
     "text": [
      "5 est de type <class 'int'>\n",
      "5.0 est de type <class 'float'>\n",
      "5 est de type <class 'str'>\n"
     ]
    }
   ],
   "source": [
    "print(5, 'est de type', type(5))\n",
    "print(5.0, 'est de type', type(5.0))\n",
    "print('5', 'est de type', type('5'))\n",
    "assert isinstance(5, int)\n",
    "assert isinstance(5.0, float)\n",
    "assert isinstance('5', str)"
   ]
  },
  {
   "cell_type": "code",
   "execution_count": 2,
   "metadata": {},
   "outputs": [
    {
     "name": "stdout",
     "output_type": "stream",
     "text": [
      "abc\n",
      "abc\n",
      "L'école\n",
      "L'école\n",
      "Un \"merci\" très spécial\n",
      "\n",
      "L'école\n",
      "Un \"merci\" très spécial\n",
      "Bonjour\n",
      "monsieur\n"
     ]
    }
   ],
   "source": [
    "print('abc')\n",
    "print(\"abc\")\n",
    "print(\"L'école\")\n",
    "print('L\\'école')\n",
    "print(\"Un \\\"merci\\\" très spécial\\n\")\n",
    "print('''L'école''')\n",
    "print(\"\"\"Un \"merci\" très spécial\"\"\")\n",
    "print(\"\"\"Bonjour\n",
    "monsieur\"\"\")"
   ]
  },
  {
   "cell_type": "markdown",
   "metadata": {},
   "source": [
    "---\n",
    "\n",
    "## <a class=\"anchor\" id=\"operateurs\">Opérateurs</a>\n",
    "\n",
    "**Plus prioritaire en premier**\n",
    "\n",
    "|Symbole| Nom               |\n",
    "|-------|-------------------|\n",
    "|`{}`     |Dictionnaire       |\n",
    "|`()`     | Argument          |\n",
    "|`[]`     | Partie (opérateur d'indiçage) |\n",
    "|`.`      | Attribut          |\n",
    "|`**`     | **Puissance**         |\n",
    "|`~`      | inversion de bit  |\n",
    "|`+`      | Positif           |\n",
    "|`-`      | **Négatif**       |\n",
    "|`*`      | **Multiplication**|\n",
    "|`/`      | **Division**      |\n",
    "|`//`     | **Résultat entier d'une division** |\n",
    "|`%`      | **Modulo**        |\n",
    "|`+`      | **Addition**      |\n",
    "|`-`      | **Soustraction**  |\n",
    "|`<<`     | Décalage à gauche |\n",
    "|`>>`     | Décalage à droite |\n",
    "|`&`      | et logique        |\n",
    "|`^`      | ou exclusif       |\n",
    "|`\\|`     | ou logique        |\n",
    "|`<`      | **inférieur**         |\n",
    "|`>`      | **supérieur**         |\n",
    "|`<=`     | **inférieur ou égal** |\n",
    "|`>=`     | **supérieur ou égal** |\n",
    "|`==`     | **est égal**          |\n",
    "|`!=`     | **est différent**     |\n",
    "|`is`     | est               |\n",
    "|`in`     | appartient        |\n",
    "|`not`    | non booléen       |\n",
    "|`and`    | et booléen        |\n",
    "|`or`     | ou booléen        |\n",
    "|`lambda` | expression lambda |\n",
    "\n"
   ]
  },
  {
   "cell_type": "markdown",
   "metadata": {},
   "source": [
    "### Regroupement des opérateurs\n",
    "\n",
    "**Opérateurs arithmétiques**\n",
    "\n",
    "|symbole | types         | exemple     |\n",
    "|--------|---------------|-------------|\n",
    "|`**`    | entier, réel  | 12\\*\\*2 == 144|\n",
    "|`*`     | entier, réel  | 6\\*4 == 24  |\n",
    "|`/`     | entier, réel  | 6/4 == 1.5    |\n",
    "|   &nbsp;     |     &nbsp;          | 6.0/4.0 == 1.5 |\n",
    "|`//`    | entier, réel  | 6//4 == 1   |\n",
    "|`%`     | entier, réel  | 6%4 == 2    |\n",
    "|`+`     | entier, réel  | 6+4 == 10   |\n",
    "|`-`     | entier, réel  | 6-4 == 2    |\n"
   ]
  },
  {
   "cell_type": "code",
   "execution_count": null,
   "metadata": {},
   "outputs": [],
   "source": [
    "# Expérimentation\n",
    "print(\"2^8 =\", 2**8)\n",
    "print(\"6/4=\", 6/4)\n",
    "print(\"6//4=\", 6//4)\n",
    "print(\"17//7=\", 17//7)\n",
    "print(\"17%7=\", 17%7)"
   ]
  },
  {
   "cell_type": "markdown",
   "metadata": {},
   "source": [
    "**Opérateurs de comparaison**\n",
    "\n",
    "|symbole  | description          |\n",
    "|---------|----------------------|\n",
    "|`<`      |strictement inférieur |\n",
    "|`>`      |strictement supérieur |\n",
    "|`<=`     |inférieur ou égal     |\n",
    "|`>=`     |supérieur ou égal     |\n",
    "|`==`     |égal                  |\n",
    "|`!=`     |différent             |\n",
    "|`<>`     |différent             |\n",
    "|X `is` Y | X et Y représentent le même objet.           |\n",
    "|X `is not` Y | X et Y ne représentent pas le même objet |\n",
    "\n",
    "**Opérateurs d'affectation**\n",
    "\n",
    "|symbole  | exemple                     |\n",
    "|---------|-----------------------------|\n",
    "|`=`      | a = 15                      |\n",
    "|`+=`     | a += 15, équiv: a = a + 15  |\n",
    "|`-=`     | a -= 15, équiv: a = a - 15  |\n",
    "|`*=`     | a \\*= 15, équiv: a = a * 15  |\n",
    "|`/=`     | a /= 15, équiv: a = a / 15  |\n",
    "|`%=`     | a %= 15, équiv: a = a % 15  |\n",
    "|`**=`    | a \\*\\*= 15, équiv: a = a ** 15  |\n",
    "|`//=`    | a //= 15, équiv: a = a // 15  |\n"
   ]
  },
  {
   "cell_type": "markdown",
   "metadata": {},
   "source": [
    "---\n",
    "# <a class=\"anchor\" id=\"transtypage\">Transtypage implicite</a>\n",
    "\n",
    "Lorsque les types numériques sont différents, ils sont transformés en type fractionnaire avant d'effectuer le calcul.\n",
    "\n",
    "> a = 12.5 + <span style=\"color:red\">15</span>\n",
    "\n",
    "devient (transtypage de l'entier pour un nombre fractionnaire)\n",
    "\n",
    "> a = 12.5 + <span style=\"color:red\">15.0</span>\n"
   ]
  },
  {
   "cell_type": "code",
   "execution_count": null,
   "metadata": {},
   "outputs": [],
   "source": [
    "a = 12 + 15\n",
    "print(\"a vaut\", a, \"et est de type\", type(a))\n",
    "b = 12.5 + 15\n",
    "print(\"b vaut\", b, \"et est de type\", type(b))"
   ]
  },
  {
   "cell_type": "markdown",
   "metadata": {},
   "source": [
    "---\n",
    "# <a class=\"anchor\" id=\"expression\">Évaluation des expressions</a>\n",
    "\n",
    "> r = 10*9/5.0+32\n",
    "\n",
    "Voici une représentation d'évaluation successive réalisée par l'ordinateur:\n",
    "\n",
    "> r = <span style=\"color:red\">10*9</span>/5.0+32<br>\n",
    "  r = <span style=\"color:red\">90</span>/5.0+32<br>\n",
    "  r = <span style=\"color:red\">90.0/5.0</span>+32<br>\n",
    "  r = <span style=\"color:red\">18.0</span>+32<br>\n",
    "  r = 18.0+<span style=\"color:red\">32.0</span><br> \n",
    "  r = <span style=\"color:red\">50.0</span> "
   ]
  },
  {
   "cell_type": "markdown",
   "metadata": {},
   "source": [
    "---\n",
    "# <a class=\"anchor\" id=\"formatage\">Affichage et formatage de chaînes</a>\n",
    "\n",
    "### Syntaxe % <em>(ancienne forme de formatage)</em>\n",
    "\n",
    "|Symbole | Signification           |\n",
    "|--------|-------------------------|\n",
    "|`d`     | Nombre entier signé     |\n",
    "|`i`     | Nombre entier signé     |\n",
    "|`o`     | Valeur octale (base 8)  |\n",
    "|`x`,`X` | Hexadécimal (base 16)   |\n",
    "|`e`,`E` | Fractionnaire, notation scientifique |\n",
    "|`f`,`F` | Fractionnaire, notation décimale     |\n",
    "|`c`     | Simple caractère        |\n",
    "|`r`     | Chaîne avec repr()      |\n",
    "|`s`     | Chaîne avec str()       |\n",
    "|`a`     | Chaine avec ascii()     |\n",
    "|`%`     | Caractère pourcentage   |\n",
    "\n",
    "#### Formattage avancé\n",
    "\n",
    "<img src=\"https://www.python-course.eu/images/string_modulo_overview.png\" width=\"400\">\n",
    "\n",
    "* Aligner à droite (nombre entier, chaînes) avec espacement"
   ]
  },
  {
   "cell_type": "code",
   "execution_count": 1,
   "metadata": {},
   "outputs": [
    {
     "name": "stdout",
     "output_type": "stream",
     "text": [
      "    1\n",
      "   12\n",
      "  345\n",
      " 6789\n",
      "12345\n",
      "345678\n",
      "Marco\n",
      "   Marco\n",
      "Marco   \n"
     ]
    }
   ],
   "source": [
    "# TODO\n",
    "print(\"%5i\" %  1)\n",
    "print(\"%5i\" % 12)\n",
    "print(\"%5i\" % 345)\n",
    "print(\"%5i\" % 6789)\n",
    "print(\"%5i\" % 12345)\n",
    "print(\"%5i\" % 345678) # n'entre plus\n",
    "\n",
    "print(\"%s\" % \"Marco\")\n",
    "print(\"%8s\" % \"Marco\")\n",
    "print(\"%-8s\" % \"Marco\")"
   ]
  },
  {
   "cell_type": "markdown",
   "metadata": {},
   "source": [
    "* Précision des nombres fractionnaires\n",
    "\n",
    "`%[flags][width][.precision]type`\n",
    "<img src=\"https://www.python-course.eu/images/string_modulo_float.png\" width=\"200\">\n",
    "\n",
    "[Ressource externe](https://www.python-course.eu/python3_formatted_output.php)\n",
    "\n",
    "## Format `.format()`\n",
    "\n",
    "Référence externe: [lien](https://pyformat.info/)"
   ]
  },
  {
   "cell_type": "markdown",
   "metadata": {},
   "source": [
    "# <a class=\"anchor\" id=\"fonctions\">Fonctions</a>\n",
    "\n",
    "#### Structure\n",
    "\n",
    "<img src=\"http://www.informit.com/content/images/chap2_9780134076430/elementLinks/p0215_01.jpg\" width=\"400\">\n",
    "\n",
    "* Le **corps** de la fonction est composées d'instructions.  \n",
    "* La fonction se termine lorsque l'**indentation** revient au début.\n",
    "* Les paramètres sont facultatifs dans la définition d'une fonction\n",
    "    * Les paramètres sont séparés par une virgule\n",
    "\n",
    "#### Deux types de fonctions\n",
    "\n",
    "* Aucune valeur de retour (nom commun: *procédure*)\n",
    "* Avec valeur retournée\n",
    "    * via l'énoncé `return`\n",
    "    \n",
    "> Afin d'augmenter la lisibilité du code, on va toujours s'efforcer de mettre un seul `return` par fonction et placer cette instruction à la dernière ligne du corps de la fonction.\n",
    "\n",
    "> Les instructions après un `return` ne seront jamais exécutées (si au même niveau d'indentation).\n",
    "\n",
    "#### Simulation d'exécution"
   ]
  },
  {
   "cell_type": "code",
   "execution_count": null,
   "metadata": {},
   "outputs": [],
   "source": [
    "# Définition des fonctions\n",
    "def afficherRecette():\n",
    "    print(\"200g de chocolat\")\n",
    "\n",
    "def calculerSuperficie(h,l):\n",
    "    return h*l\n",
    "\n",
    "# Exécution\n",
    "print(\"Avant afficherRecette()\")\n",
    "afficherRecette()\n",
    "print(\"Après afficherRecette()\\n\")\n",
    "\n",
    "print(\"Avant 1er calculerSuperficie\")\n",
    "s = calculerSuperficie(3,7) + 1\n",
    "print(\"Après 1er calculerSuperficie\\n\")\n",
    "\n",
    "print(\"Avant 2e calculerSuperficie\")\n",
    "s = calculerSuperficie(1,2) + calculerSuperficie(3,4)\n",
    "print(\"Après 2e calculerSuperficie\")"
   ]
  },
  {
   "cell_type": "markdown",
   "metadata": {},
   "source": [
    "# <a class=\"anchor\" id=\"selection\">Sélection</a>\n"
   ]
  },
  {
   "cell_type": "markdown",
   "metadata": {},
   "source": [
    "![](https://www.tutorialspoint.com/python/images/if_else_statement.jpg)"
   ]
  },
  {
   "cell_type": "markdown",
   "metadata": {},
   "source": [
    "### Format #1:\n",
    "```\n",
    "if expression:\n",
    "   instruction(s)\n",
    "```\n",
    "\n",
    "<img src=\"https://cdn.programiz.com/sites/tutorial2program/files/Python_if_statement.jpg\" width=\"200\">\n",
    "\n",
    "* Si la condition est vraie, les instructions sont exécutées\n",
    "* Si la condition est fausse, on saute par-dessus ces instructions\n",
    "\n",
    "### Format #2:\n",
    "```\n",
    "if expression:\n",
    "   instruction(s)\n",
    "else:\n",
    "   instruction(s)\n",
    "```\n",
    "\n",
    "<img src=\"https://cdn.programiz.com/sites/tutorial2program/files/Python_if_else_statement.jpg\" width=\"200\">\n",
    "\n",
    "### Format #3:\n",
    "```\n",
    "if expression:\n",
    "   instruction(s)\n",
    "elif expression:\n",
    "   instruction(s)\n",
    "else:\n",
    "   instruction(s)\n",
    "```\n",
    "\n",
    "<img src=\"https://cdn.programiz.com/sites/tutorial2program/files/Python_if_elif_else_statement.jpg\" width=\"300\">\n",
    "\n",
    "> Référence externe: [lien](https://www.programiz.com/python-programming/if-elif-else)"
   ]
  },
  {
   "cell_type": "code",
   "execution_count": 7,
   "metadata": {},
   "outputs": [
    {
     "name": "stdout",
     "output_type": "stream",
     "text": [
      "Entrez votre âge: 3\n",
      "mineur\n"
     ]
    }
   ],
   "source": [
    "# Exemples\n",
    "age = input(\"Entrez votre âge: \")\n",
    "if isinstance(age,str):\n",
    "    age = int(age)\n",
    "if age < 18:\n",
    "    print(\"mineur\")\n",
    "else:\n",
    "    print(\"majeur\")"
   ]
  },
  {
   "cell_type": "code",
   "execution_count": 9,
   "metadata": {},
   "outputs": [
    {
     "name": "stdout",
     "output_type": "stream",
     "text": [
      "Age légal de consommation d'alcool (pays: France): 16\n"
     ]
    }
   ],
   "source": [
    "pays = \"France\"\n",
    "#pays = \"États-Unis\"\n",
    "#pays = \"Jamaïque\"\n",
    "#pays = \"France\" # Oups. 18 ans en France...\n",
    "if pays == \"Canada\":\n",
    "    ageLegal = 18\n",
    "elif pays == \"États-Unis\":\n",
    "    ageLegal = 21\n",
    "elif pays == \"Jamaïque\":\n",
    "    ageLegal = 15\n",
    "else:\n",
    "    ageLegal = 16\n",
    "print(\"Age légal de consommation d'alcool (pays: %s): %i\" % (pays, ageLegal))"
   ]
  },
  {
   "cell_type": "markdown",
   "metadata": {},
   "source": [
    "### Si imbriqués"
   ]
  },
  {
   "cell_type": "code",
   "execution_count": null,
   "metadata": {},
   "outputs": [],
   "source": [
    "nombre = 0\n",
    "if nombre >= 0:\n",
    "    if nombre == 0:\n",
    "        print(\"Zéro\")\n",
    "    else:\n",
    "        print(\"Nombre positif\")\n",
    "else:\n",
    "    print(\"Nombre négatif\")"
   ]
  },
  {
   "cell_type": "code",
   "execution_count": null,
   "metadata": {},
   "outputs": [],
   "source": [
    "age = 22\n",
    "if (age >= 11):\n",
    "  print (\"Vous êtes éligible pour le match des Filons\")\n",
    "  if (age <= 20 or age >= 60):\n",
    "      print(\"Prix du billet: $12\")\n",
    "  else:\n",
    "      print(\"Prix du billet: $20\")\n",
    "else:\n",
    "    print (\"Vous ne pouvez acheter de billet pour le match.\")"
   ]
  },
  {
   "cell_type": "markdown",
   "metadata": {},
   "source": [
    "### Comparaisons chaînées\n",
    "\n",
    "En python, il est possible d'écrire des conditions comme en mathématique:\n",
    "\n",
    "> 10 <= x < 15\n",
    "\n",
    "Qui est équivalent à:\n",
    "\n",
    "> 10 <= x and x < 15\n",
    "\n",
    "Référence externe: [lien](https://www.geeksforgeeks.org/chaining-comparison-operators-python/)"
   ]
  },
  {
   "cell_type": "code",
   "execution_count": null,
   "metadata": {},
   "outputs": [],
   "source": []
  }
 ],
 "metadata": {
  "kernelspec": {
   "display_name": "Python 3",
   "language": "python",
   "name": "python3"
  },
  "language_info": {
   "codemirror_mode": {
    "name": "ipython",
    "version": 3
   },
   "file_extension": ".py",
   "mimetype": "text/x-python",
   "name": "python",
   "nbconvert_exporter": "python",
   "pygments_lexer": "ipython3",
   "version": "3.7.7"
  }
 },
 "nbformat": 4,
 "nbformat_minor": 4
}
