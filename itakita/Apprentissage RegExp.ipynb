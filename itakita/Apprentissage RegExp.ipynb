{
 "cells": [
  {
   "cell_type": "markdown",
   "metadata": {},
   "source": [
    "<img style='margin-right:0' src=\"http://dinfo.ca/logoDptInfo.jpg\" width=300>\n",
    "\n",
    "# Apprentissage RegExp\n",
    "\n",
    "#### On va utiliser des sites externes afin de comprendre les expressions régulières.\n",
    "---"
   ]
  },
  {
   "cell_type": "markdown",
   "metadata": {},
   "source": [
    "Site: [debuggex](https://www.debuggex.com/)\n",
    "\n",
    "### Sélectionner une chaîne"
   ]
  },
  {
   "cell_type": "markdown",
   "metadata": {},
   "source": [
    "#### 1. Rechercher un mot unique"
   ]
  },
  {
   "cell_type": "markdown",
   "metadata": {},
   "source": [
    "```\n",
    "Chaine: Département des techniques de l'informatique (420).  Cégep de Thetford 2018.\n",
    "\n",
    "Flag: /m\n",
    "```"
   ]
  },
  {
   "cell_type": "markdown",
   "metadata": {},
   "source": [
    "#### 2. Caractère générique (point)"
   ]
  },
  {
   "cell_type": "markdown",
   "metadata": {},
   "source": [
    "> lettre 'm', suivie de 2 caractères, puis de la lettre 'o'\n",
    "\n",
    "**Banque de mots**: \n",
    "\n",
    "```\n",
    "mayo\n",
    "moto\n",
    "metoo\n",
    "mno\n",
    "motto\n",
    "```"
   ]
  },
  {
   "cell_type": "markdown",
   "metadata": {},
   "source": [
    "#### 3. Symbole (point)"
   ]
  },
  {
   "cell_type": "markdown",
   "metadata": {},
   "source": [
    "> Trouver la séquence de trois points\n",
    "\n",
    "**Chaîne de référence**:\n",
    "\n",
    "```\n",
    "En morse, SOS est représenté par ...---...\n",
    "```"
   ]
  },
  {
   "cell_type": "markdown",
   "metadata": {},
   "source": [
    "> Adresses sur dinfo.ca\n",
    "\n",
    "**Banque d'adresses**:\n",
    "\n",
    "```\n",
    "http://dinfo.ca/c01.html\n",
    "http://info20.cegepthetford.ca/\n",
    "http://info.ca/\n",
    "http://dinfo.com/\n",
    "http://dinfoca.com/\n",
    "http://dinfo2ca.ca/\n",
    "```"
   ]
  },
  {
   "cell_type": "markdown",
   "metadata": {},
   "source": [
    "#### 4. Débute par (^), se termine par ($)"
   ]
  },
  {
   "cell_type": "markdown",
   "metadata": {},
   "source": [
    "> Débute par 'Marco', se termine par 'prof'\n",
    "\n",
    "**Chaînes de référence**:\n",
    "\n",
    "```\n",
    "Marcoprof\n",
    "Marco est un prof\n",
    "Marco...bof\n",
    "Marco est un professeur\n",
    "Marco est un prof fesseur\n",
    "Marco est un des profs\n",
    "```"
   ]
  },
  {
   "cell_type": "markdown",
   "metadata": {},
   "source": [
    "#### 5. Rechercher des chiffres"
   ]
  },
  {
   "cell_type": "markdown",
   "metadata": {},
   "source": [
    "> Trouver les nombres\n",
    "\n",
    "**Chaînes de référence:**\n",
    "\n",
    "```\n",
    "La somme de 25 et 45 donne 70\n",
    "\n",
    "Calcul: 12.5 - 11.1 = 1.4\n",
    "```\n"
   ]
  },
  {
   "cell_type": "markdown",
   "metadata": {},
   "source": [
    "#### 6. Alphabet"
   ]
  },
  {
   "cell_type": "markdown",
   "metadata": {},
   "source": [
    "> Débute par une lettre (a, b ou c) suivi d'un chiffre de 0 à 9\n",
    "\n",
    "**Valeurs de référence:**\n",
    "\n",
    "```\n",
    "a9\n",
    "b2\n",
    "c0\n",
    "x2\n",
    "cb\n",
    "91\n",
    "```"
   ]
  },
  {
   "cell_type": "markdown",
   "metadata": {},
   "source": [
    "#### 7. Anti-alphabet"
   ]
  },
  {
   "cell_type": "markdown",
   "metadata": {},
   "source": [
    "> lettre suivie de 'art' mais ne doit pas débuter par un 'f'\n",
    "\n",
    "**Banque de mots:**\n",
    " \n",
    "```\n",
    "dart\n",
    "cart\n",
    "fart\n",
    "```"
   ]
  },
  {
   "cell_type": "markdown",
   "metadata": {},
   "source": [
    "#### 8. Répétition (*, +, ?, {n,m})"
   ]
  },
  {
   "cell_type": "markdown",
   "metadata": {},
   "source": [
    "> 'Marc' ou 'Maroc'\n",
    "\n",
    "**Mots de référence:**\n",
    "\n",
    "```\n",
    "Marc\n",
    "Marco\n",
    "Maroc\n",
    "Marac\n",
    "Marso\n",
    "```"
   ]
  },
  {
   "cell_type": "markdown",
   "metadata": {},
   "source": [
    "#### 9. Regroupement"
   ]
  },
  {
   "cell_type": "markdown",
   "metadata": {},
   "source": [
    "#### 10. Réutiliser un regroupement"
   ]
  },
  {
   "cell_type": "markdown",
   "metadata": {},
   "source": [
    "####  11. OU logique (séquences alternatives)"
   ]
  }
 ],
 "metadata": {
  "kernelspec": {
   "display_name": "Javascript (Node.js)",
   "language": "javascript",
   "name": "javascript"
  },
  "language_info": {
   "file_extension": ".js",
   "mimetype": "application/javascript",
   "name": "javascript",
   "version": "10.13.0"
  }
 },
 "nbformat": 4,
 "nbformat_minor": 4
}
