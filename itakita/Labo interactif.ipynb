{
 "cells": [
  {
   "cell_type": "markdown",
   "metadata": {},
   "source": [
    "<img style='margin-right:0' src=\"http://dinfo.ca/logoDptInfo.jpg\" width=300>\n",
    "\n",
    "# Laboratoire interactif\n",
    "---"
   ]
  },
  {
   "cell_type": "markdown",
   "metadata": {},
   "source": [
    "---\n",
    "#### Questions #1 -- Population des villes\n",
    "Nous avons deux collections ordonnées (`villes` et `populations`).\n",
    "\n",
    "Nous souhaitons avoir plutôt une collection ordonnée de collections d'association (clé: ville, valeur: population).\n",
    "\n",
    "Résultats attendus:\n",
    "```\n",
    "[{'ville': 'Toronto', 'population': 2731571}, {'ville': 'Montréal', 'population': 1704694}, {'ville': 'Vancouver', 'population': 631486}, {'ville': 'New York', 'population': 8622698}]\n",
    "```"
   ]
  },
  {
   "cell_type": "code",
   "execution_count": 2,
   "metadata": {},
   "outputs": [
    {
     "name": "stdout",
     "output_type": "stream",
     "text": [
      "[{'ville': 'Toronto', 'population': 2731571}, {'ville': 'Montréal', 'population': 1704694}, {'ville': 'Vancouver', 'population': 631486}, {'ville': 'New York', 'population': 8622698}]\n"
     ]
    }
   ],
   "source": [
    "villes = ['Toronto', 'Montréal', 'Vancouver', 'New York']\n",
    "populations = [2731571, 1704694, 631486, 8622698]\n",
    "donneesDemographiques = []\n",
    "for i in range( len(villes) ):\n",
    "    dictVille = {'ville': villes[i], 'population': populations[i]}\n",
    "    donneesDemographiques.append(dictVille)\n",
    "print(donneesDemographiques)    "
   ]
  },
  {
   "cell_type": "markdown",
   "metadata": {},
   "source": [
    "### Pour les données démographiques (collection d'association), afficher les informations, un ville et population par ligne\n",
    "\n",
    "Résultats attendus:\n",
    "```\n",
    "Ville: Toronto    -- Pop: 2731571\n",
    "Ville: Montréal   -- Pop: 1704694\n",
    "Ville: Vancouver  -- Pop: 631486\n",
    "Ville: New York   -- Pop: 8622698\n",
    "```"
   ]
  },
  {
   "cell_type": "code",
   "execution_count": 3,
   "metadata": {},
   "outputs": [
    {
     "name": "stdout",
     "output_type": "stream",
     "text": [
      "Ville: Toronto    -- Pop: 2731571\n",
      "Ville: Montréal   -- Pop: 1704694\n",
      "Ville: Vancouver  -- Pop: 631486\n",
      "Ville: New York   -- Pop: 8622698\n"
     ]
    }
   ],
   "source": [
    "# À COMPLÉTER\n",
    "for unDictVille in  donneesDemographiques:\n",
    "    nomVille = unDictVille['ville']\n",
    "    population = unDictVille['population']\n",
    "    print('Ville: %-10s -- Pop: %i' %(nomVille, population))"
   ]
  },
  {
   "cell_type": "markdown",
   "metadata": {},
   "source": [
    "#### Trouver la ville ayant la plus grande population"
   ]
  },
  {
   "cell_type": "code",
   "execution_count": 6,
   "metadata": {},
   "outputs": [
    {
     "name": "stdout",
     "output_type": "stream",
     "text": [
      "Ville la plus populeuse: New York\n"
     ]
    }
   ],
   "source": [
    "popMax = 0\n",
    "villeMax = \"\"\n",
    "for unDictVille in donneesDemographiques:\n",
    "    if popMax < unDictVille['population']:\n",
    "        popMax = unDictVille['population']\n",
    "        villeMax = unDictVille['ville']\n",
    "print('Ville la plus populeuse:', villeMax)"
   ]
  },
  {
   "cell_type": "markdown",
   "metadata": {},
   "source": [
    "---\n",
    "#### Question #2 -- Cours de 1re session\n",
    "\n",
    "Pour la liste des cours:"
   ]
  },
  {
   "cell_type": "code",
   "execution_count": 8,
   "metadata": {},
   "outputs": [],
   "source": [
    "dictCours = {\n",
    "    '420-2Y6-RA' : { \n",
    "        'ponderation': { 'theorie' : 2,'labo' : 4, 'travail' : 3 },\n",
    "        'titreCours' : 'Installation d''ordinateurs'\n",
    "    } ,\n",
    "    '420-2X3-RA' : { \n",
    "        'ponderation': { 'theorie' : 1,'labo' : 2, 'travail' : 1 },\n",
    "        'titreCours' : 'Carrières informatiques'\n",
    "    } ,\n",
    "    '420-2Z6-RA' : { \n",
    "        'ponderation': { 'theorie' : 3,'labo' : 3, 'travail' : 3 },\n",
    "        'titreCours' : 'Introduction à la programmation'\n",
    "    } ,\n",
    "    '201-273-RA' : { \n",
    "        'ponderation': { 'theorie' : 2,'labo' : 1, 'travail' : 1 },\n",
    "        'titreCours' : 'Mathématiques appliquées à l''informatique I'\n",
    "    } ,\n",
    "    '340-101-MQ' : { \n",
    "        'ponderation': { 'theorie' : 3,'labo' : 1, 'travail' : 3 },\n",
    "        'titreCours' : 'Philosophie et rationalité'\n",
    "    } ,\n",
    "    '601-101-MQ' : { \n",
    "        'ponderation': { 'theorie' : 2,'labo' : 2, 'travail' : 3 },\n",
    "        'titreCours' : 'Écriture et littérature'\n",
    "    } ,\n",
    "    '604-COM-RA' : { \n",
    "        'ponderation': { 'theorie' : 2,'labo' : 1, 'travail' : 3 },\n",
    "        'titreCours' : 'Anglais commun'\n",
    "    } \n",
    "}"
   ]
  },
  {
   "cell_type": "markdown",
   "metadata": {},
   "source": [
    "#### Combien y a-t-il de cours?\n",
    "\n",
    "Résultat attendu:\n",
    "\n",
    "```\n",
    "Nb total de cours: 7\n",
    "```"
   ]
  },
  {
   "cell_type": "code",
   "execution_count": 9,
   "metadata": {},
   "outputs": [
    {
     "name": "stdout",
     "output_type": "stream",
     "text": [
      "Nb total de cours: 7\n"
     ]
    }
   ],
   "source": [
    "print('Nb total de cours:', len(dictCours) )"
   ]
  },
  {
   "cell_type": "markdown",
   "metadata": {},
   "source": [
    "#### Quelle est la pondération du cours de math?\n",
    "\n",
    "Résultats attendus:\n",
    "\n",
    "```\n",
    "Théorie      : 2\n",
    "Laboratoire  : 1\n",
    "Travail perso: 1\n",
    "```"
   ]
  },
  {
   "cell_type": "code",
   "execution_count": 10,
   "metadata": {},
   "outputs": [
    {
     "name": "stdout",
     "output_type": "stream",
     "text": [
      "Théorie      : 2\n",
      "Laboratoire  : 1\n",
      "Travail perso: 1\n"
     ]
    }
   ],
   "source": [
    "# À COMPLÉTER\n",
    "dictPonderation = dictCours['201-273-RA']['ponderation']\n",
    "print('Théorie      :', dictPonderation['theorie'])\n",
    "print('Laboratoire  :', dictPonderation['labo'])\n",
    "print('Travail perso:', dictPonderation['travail'])"
   ]
  },
  {
   "cell_type": "markdown",
   "metadata": {},
   "source": [
    "#### Quelle est la charge du cours de français par semaine (total des pondérations)?\n",
    "\n",
    "Résultat attendu:\n",
    "```\n",
    "Charge en français: 7\n",
    "```"
   ]
  },
  {
   "cell_type": "code",
   "execution_count": 13,
   "metadata": {},
   "outputs": [
    {
     "name": "stdout",
     "output_type": "stream",
     "text": [
      "Charge en français: 7\n"
     ]
    }
   ],
   "source": [
    "# À COMPLÉTER\n",
    "pondFr = dictCours['601-101-MQ']['ponderation']\n",
    "total = sum(pondFr.values())\n",
    "print('Charge en français:', total)"
   ]
  },
  {
   "cell_type": "markdown",
   "metadata": {},
   "source": [
    "#### Afficher les titres des cours (et leur numéro)\n",
    "\n",
    "Résultats attendus:\n",
    "```\n",
    "Mathématiques appliquées à linformatique I    (201-273-RA)\n",
    "Écriture et littérature                       (601-101-MQ)\n",
    "Introduction à la programmation               (420-2Z6-RA)\n",
    "Carrières informatiques                       (420-2X3-RA)\n",
    "Philosophie et rationalité                    (340-101-MQ)\n",
    "Anglais commun                                (604-COM-RA)\n",
    "Installation dordinateurs                     (420-2Y6-RA)\n",
    "```"
   ]
  },
  {
   "cell_type": "code",
   "execution_count": 12,
   "metadata": {},
   "outputs": [
    {
     "name": "stdout",
     "output_type": "stream",
     "text": [
      "Installation dordinateurs                     (420-2Y6-RA)\n",
      "Carrières informatiques                       (420-2X3-RA)\n",
      "Introduction à la programmation               (420-2Z6-RA)\n",
      "Mathématiques appliquées à linformatique I    (201-273-RA)\n",
      "Philosophie et rationalité                    (340-101-MQ)\n",
      "Écriture et littérature                       (601-101-MQ)\n",
      "Anglais commun                                (604-COM-RA)\n"
     ]
    }
   ],
   "source": [
    "# À COMPLÉTER\n",
    "for noCours, unCours in dictCours.items():\n",
    "    print('%-45s (%s)' % (unCours['titreCours'], noCours))"
   ]
  },
  {
   "cell_type": "markdown",
   "metadata": {},
   "source": [
    "---\n",
    "#### Question #3 -- Votes\n",
    "\n",
    "Voici le résultat des votes pour les élections provinciales 2018 (circonscription: Lotbinière-Frontenac).\n",
    "\n",
    "> Seulement les quatre (4) partis politiques représentés à l'Assemblée nationale."
   ]
  },
  {
   "cell_type": "code",
   "execution_count": 14,
   "metadata": {},
   "outputs": [],
   "source": [
    "# clé: parti politique\n",
    "dictVotes = {\n",
    "    'PLQ' : { \n",
    "        'candidat' : 'Pierre-Luc Daigle',\n",
    "        'nbVotes'  : 7742\n",
    "    },      \n",
    "    'QS' : { \n",
    "        'candidat' : 'Normand Beaudet',\n",
    "        'nbVotes'  : 3593\n",
    "    }, \n",
    "    'CAQ' : { \n",
    "        'candidat' : 'Isabelle Lecours',\n",
    "        'nbVotes'  : 20360\n",
    "    },  \n",
    "    'PQ' : { \n",
    "        'candidat' : 'Yohann Beaulieu',\n",
    "        'nbVotes'  : 3591\n",
    "    }\n",
    "}"
   ]
  },
  {
   "cell_type": "markdown",
   "metadata": {},
   "source": [
    "#### Qui est le candidat de la \"Coalition avenir Québec\" dans notre circonscription?\n",
    "\n",
    "Résultat attendu:\n",
    "\n",
    "```\n",
    "CAQ: Isabelle Lecours\n",
    "```"
   ]
  },
  {
   "cell_type": "code",
   "execution_count": 15,
   "metadata": {},
   "outputs": [
    {
     "name": "stdout",
     "output_type": "stream",
     "text": [
      "CAQ: Isabelle Lecours\n"
     ]
    }
   ],
   "source": [
    "print('CAQ:', dictVotes['CAQ']['candidat'])"
   ]
  },
  {
   "cell_type": "markdown",
   "metadata": {},
   "source": [
    "#### Quel est le nombre de votes d'écart entre la CAQ et le PLQ pour notre circonscription?\n",
    "\n",
    "Résultat attendu:\n",
    "\n",
    "```\n",
    "Ecart: 12618 votes\n",
    "```"
   ]
  },
  {
   "cell_type": "code",
   "execution_count": 16,
   "metadata": {},
   "outputs": [
    {
     "name": "stdout",
     "output_type": "stream",
     "text": [
      "Ecart: 12618 votes\n"
     ]
    }
   ],
   "source": [
    "nbVotesCAQ = dictVotes['CAQ']['nbVotes']\n",
    "nbVotesPLQ = dictVotes['PLQ']['nbVotes']\n",
    "print('Ecart:', nbVotesCAQ - nbVotesPLQ, 'votes')"
   ]
  },
  {
   "cell_type": "markdown",
   "metadata": {},
   "source": [
    "#### Quel est le pourcentage des votes obtenus pour chaque parti?\n",
    "\n",
    "Résultats attendus:\n",
    "\n",
    "```\n",
    "Parti: PQ  -- Pct: 10.2%\n",
    "Parti: PLQ -- Pct: 21.9%\n",
    "Parti: QS  -- Pct: 10.2%\n",
    "Parti: CAQ -- Pct: 57.7%\n",
    "```"
   ]
  },
  {
   "cell_type": "code",
   "execution_count": 19,
   "metadata": {},
   "outputs": [
    {
     "name": "stdout",
     "output_type": "stream",
     "text": [
      "Parti: PLQ -- Pct: 21.9%\n",
      "Parti: QS  -- Pct: 10.2%\n",
      "Parti: CAQ -- Pct: 57.7%\n",
      "Parti: PQ  -- Pct: 10.2%\n"
     ]
    }
   ],
   "source": [
    "totVotes = 0\n",
    "for unDictParti in dictVotes.values():\n",
    "    totVotes += unDictParti['nbVotes']\n",
    "for codeParti, unParti in dictVotes.items():\n",
    "    pctVotes = 100 * unParti['nbVotes']/totVotes\n",
    "    print('Parti: %-3s -- Pct: %.1f%%' % (codeParti, pctVotes ))\n",
    "          "
   ]
  },
  {
   "cell_type": "code",
   "execution_count": null,
   "metadata": {},
   "outputs": [],
   "source": []
  }
 ],
 "metadata": {
  "kernelspec": {
   "display_name": "Python 3",
   "language": "python",
   "name": "python3"
  },
  "language_info": {
   "codemirror_mode": {
    "name": "ipython",
    "version": 3
   },
   "file_extension": ".py",
   "mimetype": "text/x-python",
   "name": "python",
   "nbconvert_exporter": "python",
   "pygments_lexer": "ipython3",
   "version": "3.7.7"
  }
 },
 "nbformat": 4,
 "nbformat_minor": 4
}
