{
 "cells": [
  {
   "cell_type": "markdown",
   "metadata": {},
   "source": [
    "<img style='margin-right:0' src=\"http://dinfo.ca/logoDptInfo.jpg\" width=300>\n",
    "\n",
    "# Tris de données (Introduction)\n",
    "---"
   ]
  },
  {
   "cell_type": "code",
   "execution_count": null,
   "metadata": {},
   "outputs": [],
   "source": [
    "from IPython.display import YouTubeVideo\n",
    "YouTubeVideo('WaNLJf8xzC4', width=840,height=475,cc_lang_pref='fr')"
   ]
  },
  {
   "cell_type": "markdown",
   "metadata": {},
   "source": [
    "# Algorithmes classiques de tri"
   ]
  },
  {
   "cell_type": "markdown",
   "metadata": {},
   "source": [
    "## Algorithmes courants de tri\n",
    "\n",
    "![](https://i.imgur.com/fq0A8hx.gif)\n"
   ]
  },
  {
   "cell_type": "markdown",
   "metadata": {},
   "source": [
    "## Tri à bulles (bubble sort) ou tri par propagation\n",
    "\n",
    "![](https://upload.wikimedia.org/wikipedia/commons/5/54/Sorting_bubblesort_anim.gif)\n",
    "#### Description (wikipédia)\n",
    "\n",
    "> Il consiste à comparer répétitivement les éléments consécutifs d'un tableau, et à les permuter lorsqu'ils sont mal triés. Il doit son nom au fait qu'il déplace rapidement les plus grands éléments en fin de tableau, comme des bulles d'air qui remonteraient rapidement à la surface d'un liquide.\n",
    "\n",
    "Le tri à bulles est souvent enseigné en tant qu'exemple algorithmique, car son principe est simple. Mais c'est le plus lent des algorithmes de tri communément enseignés, et il n'est donc guère utilisé en pratique."
   ]
  },
  {
   "cell_type": "code",
   "execution_count": null,
   "metadata": {},
   "outputs": [],
   "source": [
    "def bubbleSort(valeurs):\n",
    "    taille = len(valeurs)\n",
    "    for i in range(taille):\n",
    "        for j in range(0, taille-i-1): \n",
    "            if valeurs[j] > valeurs[j+1] :\n",
    "                tempo = valeurs[j+1]\n",
    "                valeurs[j+1] = valeurs[j]\n",
    "                valeurs[j] = tempo\n",
    "# essai\n",
    "valeurs = [2,3,1,5,8,6,10,9]\n",
    "bubbleSort(valeurs)   # tri sur place\n",
    "print( valeurs )"
   ]
  },
  {
   "cell_type": "markdown",
   "metadata": {},
   "source": [
    "## Tri par insertion (insertion sort)\n",
    "\n",
    "<img src=\"https://upload.wikimedia.org/wikipedia/commons/4/42/Insertion_sort.gif\" style=\"width:579px;height:302px;\">\n",
    "\n",
    "![](https://upload.wikimedia.org/wikipedia/commons/0/0f/Insertion-sort-example-300px.gif)\n",
    "\n",
    "#### Description (wikipédia)\n",
    "\n",
    "> Le tri par insertion est un algorithme de tri classique. La plupart des personnes l'utilisent naturellement pour trier des cartes à jouer1.\n",
    "\n",
    "En général, le tri par insertion est beaucoup plus lent que d'autres algorithmes comme le tri rapide (ou quicksort) et le tri fusion pour traiter de grandes séquences.\n",
    "\n",
    "Le tri par insertion est cependant considéré comme le tri le plus efficace sur des entrées de petite taille. Il est aussi très rapide lorsque les données sont déjà presque triées. "
   ]
  },
  {
   "cell_type": "code",
   "execution_count": null,
   "metadata": {},
   "outputs": [],
   "source": [
    "def insertionSort(valeurs): \n",
    "    for i in range(1, len(valeurs)): \n",
    "        cle = valeurs[i] \n",
    "        j = i-1\n",
    "        while j >=0 and cle < valeurs[j] : \n",
    "            valeurs[j+1] = valeurs[j] \n",
    "            j -= 1\n",
    "        valeurs[j+1] = cle\n",
    "# essai\n",
    "valeurs = [2,3,1,5,8,6,10,9]\n",
    "insertionSort(valeurs)   # tri sur place\n",
    "print( valeurs )        "
   ]
  },
  {
   "cell_type": "markdown",
   "metadata": {},
   "source": [
    "## Tri fusion (merge sort)\n",
    "\n",
    "![](https://upload.wikimedia.org/wikipedia/commons/c/cc/Merge-sort-example-300px.gif)\n",
    "\n",
    "![](https://turkishcoders.files.wordpress.com/2017/02/merge_sort__double_storage_.gif?w=200&zoom=2)\n",
    "\n",
    "\n",
    "#### Description (wikipédia)\n",
    "\n",
    "Diviser la liste en deux, trier chaque sous-liste et fusionner les deux listes triées.  (Chaque sous-ligne reprend ce processus).\n",
    "\n"
   ]
  },
  {
   "cell_type": "code",
   "execution_count": null,
   "metadata": {},
   "outputs": [],
   "source": [
    "def fusionner(moitieGauche,moitieDroite):\n",
    "    fusion = []\n",
    "    while len(moitieGauche) != 0 and len(moitieDroite) != 0:\n",
    "        if moitieGauche[0] < moitieDroite[0]:\n",
    "            fusion.append(moitieGauche[0])\n",
    "            moitieGauche.remove(moitieGauche[0])\n",
    "        else:\n",
    "            fusion.append(moitieDroite[0])\n",
    "            moitieDroite.remove(moitieDroite[0])\n",
    "    if len(moitieGauche) == 0:\n",
    "        fusion = fusion + moitieDroite\n",
    "    else:\n",
    "        fusion = fusion + moitieGauche\n",
    "    return fusion\n",
    "\n",
    "def mergeSort(valeurs):\n",
    "    if len(valeurs) <= 1:\n",
    "        return valeurs\n",
    "    milieu = len(valeurs) // 2\n",
    "    listeGauche = valeurs[:milieu]\n",
    "    listeDroite = valeurs[milieu:]\n",
    "\n",
    "    listeGauche = mergeSort(listeGauche)\n",
    "    listeDroite = mergeSort(listeDroite)\n",
    "    return list(fusionner(listeGauche, listeDroite))\n",
    "\n",
    "# essai\n",
    "valeurs = [2,3,1,5,8,6,10,9]\n",
    "valeurs = mergeSort(valeurs)\n",
    "print( valeurs ) "
   ]
  },
  {
   "cell_type": "markdown",
   "metadata": {},
   "source": [
    "## Quicksort\n",
    "\n",
    "![](https://upload.wikimedia.org/wikipedia/commons/f/fe/Quicksort.gif)\n",
    "\n",
    "#### Description (wikipédia)\n",
    "\n",
    "> La méthode consiste à placer un élément du tableau (appelé pivot) à sa place définitive, en permutant tous les éléments de telle sorte que tous ceux qui sont inférieurs au pivot soient à sa gauche et que tous ceux qui sont supérieurs au pivot soient à sa droite.\n",
    "\n",
    "Cette opération s'appelle le partitionnement. Pour chacun des sous-tableaux, on définit un nouveau pivot et on répète l'opération de partitionnement.\n",
    "\n"
   ]
  },
  {
   "cell_type": "code",
   "execution_count": 1,
   "metadata": {},
   "outputs": [
    {
     "name": "stdout",
     "output_type": "stream",
     "text": [
      "[1, 2, 3, 5, 6, 8, 9, 10]\n"
     ]
    }
   ],
   "source": [
    "def quickSort(valeurs):\n",
    "    valeursInf = []\n",
    "    valeursIdent = []\n",
    "    valeursSup = []\n",
    "    if len(valeurs) > 1:\n",
    "        pivot = valeurs[0]\n",
    "        for uneValeur in valeurs:\n",
    "            if uneValeur < pivot:\n",
    "                valeursInf.append(uneValeur)\n",
    "            if uneValeur == pivot:\n",
    "                valeursIdent.append(uneValeur)\n",
    "            if uneValeur > pivot:\n",
    "                valeursSup.append(uneValeur)\n",
    "        return quickSort(valeursInf)+valeursIdent+quickSort(valeursSup) \n",
    "    else:  \n",
    "        return valeurs\n",
    "\n",
    "# essai\n",
    "valeurs = [2,3,1,5,8,6,10,9]\n",
    "valeurs = quickSort(valeurs)\n",
    "print( valeurs ) "
   ]
  },
  {
   "cell_type": "markdown",
   "metadata": {},
   "source": [
    "## TimSort\n",
    "\n",
    "![](https://images2015.cnblogs.com/blog/853900/201611/853900-20161121162920596-791931678.gif)\n",
    "\n",
    "#### Description (wikipédia)\n",
    "\n",
    "> Timsort est un algorithme de tri hybride dérivé du tri fusion et du tri par insertion, stable et conçu pour fonctionner de manière efficace sur des données réelles. Il a été mis au point par Tim Peters en 2002 pour le langage de programmation Python.\n",
    "\n",
    "L'algorithme procède en cherchant des monotonies, c'est-à-dire des parties de l'entrée déjà correctement ordonnées, et peut de cette manière trier efficacement l'ensemble des données en procédant par fusions successives. Pour des entrées de petites tailles, il revient à effectuer un tri fusion."
   ]
  },
  {
   "cell_type": "code",
   "execution_count": null,
   "metadata": {},
   "outputs": [],
   "source": [
    "def rechercheDichotomique(valeurs, item, debut, fin):\n",
    "    if debut == fin:\n",
    "        if valeurs[debut] > item:\n",
    "            return debut\n",
    "        else:\n",
    "            return debut + 1\n",
    "    if debut > fin:\n",
    "        return debut\n",
    "\n",
    "    milieu = round((debut + fin)/ 2)\n",
    "\n",
    "    if valeurs[milieu] < item:\n",
    "        return rechercheDichotomique(valeurs, item, milieu + 1, fin)\n",
    "    elif valeurs[milieu] > item:\n",
    "        return rechercheDichotomique(valeurs, item, debut, milieu - 1)\n",
    "    else:\n",
    "        return milieu\n",
    "\n",
    "def insertionSort(valeurs):\n",
    "    taille = len(valeurs)\n",
    "    for i in range(1, taille):\n",
    "        uneValeur = valeurs[i]\n",
    "        pos = rechercheDichotomique(valeurs, uneValeur, 0, i - 1)\n",
    "        valeurs = valeurs[:pos] + [uneValeur] + valeurs[pos:i] + valeurs[i+1:]\n",
    "    return valeurs\n",
    "\n",
    "def fusionner(partieGauche, partieDroite):\n",
    "    if not partieGauche:\n",
    "        return partieDroite\n",
    "    if not partieDroite:\n",
    "        return partieGauche\n",
    "    if partieGauche[0] < partieDroite[0]:\n",
    "        return [partieGauche[0]] + fusionner(partieGauche[1:], partieDroite)\n",
    "    return [partieDroite[0]] + fusionner(partieGauche, partieDroite[1:])\n",
    "\n",
    "def timSort(valeurs):\n",
    "    series, seriesTriees = [], []\n",
    "    taille = len(valeurs)\n",
    "    nouvelleSerie = [valeurs[0]]\n",
    "\n",
    "    for i in range(1, taille):\n",
    "        if i == taille - 1:\n",
    "            nouvelleSerie.append(valeurs[i])\n",
    "            series.append(nouvelleSerie)\n",
    "            break\n",
    "        if valeurs[i] < valeurs[i-1]:\n",
    "            if not nouvelleSerie:\n",
    "                series.append([valeurs[i]])\n",
    "                nouvelleSerie.append(valeurs[i])\n",
    "            else:\n",
    "                series.append(nouvelleSerie)\n",
    "                nouvelleSerie = [valeurs[i]]\n",
    "        else:\n",
    "            nouvelleSerie.append(valeurs[i])\n",
    "    for item in series:\n",
    "        seriesTriees.append(insertionSort(item))\n",
    "\n",
    "    valeursTriees = []\n",
    "    for uneSerie in seriesTriees:\n",
    "        valeursTriees = fusionner(valeursTriees, uneSerie)\n",
    "    return valeursTriees\n",
    "\n",
    "# essai\n",
    "valeurs = [2,3,1,5,8,6,10,9]\n",
    "valeurs = timSort(valeurs)\n",
    "print( valeurs ) "
   ]
  },
  {
   "cell_type": "code",
   "execution_count": null,
   "metadata": {},
   "outputs": [],
   "source": []
  }
 ],
 "metadata": {
  "kernelspec": {
   "display_name": "Python 3",
   "language": "python",
   "name": "python3"
  },
  "language_info": {
   "codemirror_mode": {
    "name": "ipython",
    "version": 3
   },
   "file_extension": ".py",
   "mimetype": "text/x-python",
   "name": "python",
   "nbconvert_exporter": "python",
   "pygments_lexer": "ipython3",
   "version": "3.7.7"
  }
 },
 "nbformat": 4,
 "nbformat_minor": 4
}
