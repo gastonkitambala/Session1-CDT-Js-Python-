{
 "cells": [
  {
   "cell_type": "markdown",
   "metadata": {},
   "source": [
    "<img style='margin-right:0' src=\"http://dinfo.ca/logoDptInfo.jpg\" width=300>\n",
    "\n",
    "# Cas d'étude en JavaScript\n",
    "---"
   ]
  },
  {
   "cell_type": "markdown",
   "metadata": {},
   "source": [
    "# Bloc de code \n",
    "\n",
    "### Déclaration de fonction\n",
    "\n",
    "```javascript\n",
    "function multiplier(a,b) {\n",
    "    return a * b;\n",
    "}\n",
    "```\n",
    "\n",
    "> Dans la déclaration de fonction, on utilise toujours les accolades pour définir l'implémentation.\n"
   ]
  },
  {
   "cell_type": "markdown",
   "metadata": {},
   "source": [
    "### Sélection\n",
    "\n",
    "```javascript\n",
    "if(categorie === 'A') {\n",
    "    rabaisCommande = 0.15;\n",
    "    rabaisExpedition = 2.00;\n",
    "} else {\n",
    "    if(categorie === 'B') {\n",
    "        rabaisCommande = 0.09;\n",
    "        rabaisExpedition = 1.00;\n",
    "    } else {\n",
    "        rabaisCommande = 0.00;\n",
    "        rabaisExpedition = 0.00;\n",
    "    }\n",
    "}\n",
    "```\n"
   ]
  },
  {
   "cell_type": "markdown",
   "metadata": {},
   "source": [
    "#### Adaptation `elif` en JavaScript\n",
    "\n",
    "```javascript\n",
    "if(categorie === 'A') {\n",
    "    rabaisCommande = 0.15;\n",
    "    rabaisExpedition = 2.00;\n",
    "} else if(categorie === 'B') {\n",
    "    rabaisCommande = 0.09;\n",
    "    rabaisExpedition = 1.00;\n",
    "} else {\n",
    "    rabaisCommande = 0.00;\n",
    "    rabaisExpedition = 0.00;\n",
    "}\n",
    "```"
   ]
  },
  {
   "cell_type": "markdown",
   "metadata": {},
   "source": [
    "### Un seul énoncé\n",
    "\n",
    "Lorsqu'on a un seul énoncé, inutile de créer un bloc.\n",
    "\n",
    "**AVANT**\n",
    "\n",
    "```javascript\n",
    "if(categorie === 'A') {\n",
    "    rabaisCommande = 0.15;\n",
    "} else if(categorie === 'B') {\n",
    "    rabaisCommande = 0.09;\n",
    "} else {\n",
    "    rabaisCommande = 0.00;\n",
    "}\n",
    "```\n",
    "\n",
    "**APRÈS**\n",
    "\n",
    "```javascript\n",
    "if(categorie === 'A') \n",
    "    rabaisCommande = 0.15;\n",
    "else if(categorie === 'B')\n",
    "    rabaisCommande = 0.09;\n",
    "else\n",
    "    rabaisCommande = 0.00;\n",
    "```\n",
    "ou\n",
    "\n",
    "```javascript\n",
    "if(categorie === 'A') \n",
    "    rabaisCommande = 0.15;\n",
    "else \n",
    "    if(categorie === 'B')\n",
    "        rabaisCommande = 0.09;\n",
    "    else\n",
    "        rabaisCommande = 0.00;\n",
    "```\n"
   ]
  },
  {
   "cell_type": "markdown",
   "metadata": {},
   "source": [
    "# Insertion du point-virgule\n",
    "\n",
    "Le point-virgule permet d'indiquer la fin d'un énoncé (anglais: *statement*).\n",
    "\n",
    "JavaScript a une règle un peu particulière quant à l'exigence du point-virgule.  On recommande de placer le point virgule à la fin de chaque énoncé (même s'il y a ce mécanisme automatique).  \n",
    "\n",
    "Essayons quand même d'y voir plus clair."
   ]
  },
  {
   "cell_type": "markdown",
   "metadata": {},
   "source": [
    "### Exemple\n",
    "\n",
    "```javascript\n",
    "var i = 0; i+=3       // <-- point-virgule obligatoire\n",
    "                      //     (mais optionnel quand il y a un changement de ligne)\n",
    "var i = 0             // <-- point-virgule optionnel\n",
    "    i+=3              // <-- point-virgule optionnel\n",
    "```\n",
    "\n",
    "On s'entend qu'il n'est pas souhaitable de placer deux énoncés sur la même ligne (en raison de la lisibilité).\n",
    "\n",
    "### Types d'énoncés pouvant se terminer par un point-virgule\n",
    "\n",
    "```javascript\n",
    "var i;                        // déclaration de variable\n",
    "i = 5;                        // affectation de valeur\n",
    "i = i + 1;                    // affectation de valeur\n",
    "i++;                          // idem\n",
    "var x = 9;                    // déclaration et affectation\n",
    "var fun = function() {...};   // expressions de fonction (décl. de variable, affectation et décl. de fonction)\n",
    "calculerTaxes(200.00);        // invocation de fonction\n",
    "```\n",
    "\n",
    "Tous ces énoncés peuvent se terminer par une point-virgule (mais aucun n'a l'obligation de l'avoir).\n",
    "\n",
    "> AVERTISSEMENT: Nous utiliserons toujours le point-virgule dans nos énoncés."
   ]
  },
  {
   "cell_type": "markdown",
   "metadata": {},
   "source": [
    "### Éviter !\n",
    "\n",
    "#### 1. Après la fermeture d'accolade\n",
    "\n",
    "On ne devrait jamais placer de point-virgule après la fermeture d'accolade.  \n",
    "\n",
    "Il y cependant deux exceptions:\n",
    "\n",
    "     * Lorsqu'on déclare une expression de fonction\n",
    "```javascript\n",
    "  var fun = function() {...};\n",
    "```\n",
    "    * Quand on utilise la notation d'objet JavaScript\n",
    "```javascript\n",
    "  var x = { prenom: 'Adam', nom: 'Bernard', age: 32 };\n",
    "```\n",
    "\n",
    "#### 2. Après la fermeture de parenthèse d'un `if`, `for`, `while` ou `switch`\n",
    "\n",
    "```javascript\n",
    "var codeSexe = 'F';\n",
    "var titre = '';\n",
    "if (codeSexe === 'H');\n",
    "    titre = 'Monsieur'\n",
    "console.log(titre);\n",
    "// équivalent à\n",
    "\n",
    "var codeSexe = 'F';\n",
    "var titre = '';\n",
    "if (codeSexe === 'H')\n",
    "    /* ne rien faire */ ;\n",
    "titre = 'Monsieur'\n",
    "console.log(titre);\n",
    "``` \n",
    "\n",
    "#### 3. Autre exemple"
   ]
  },
  {
   "cell_type": "code",
   "execution_count": 2,
   "metadata": {},
   "outputs": [
    {
     "data": {
      "text/plain": [
       "3"
      ]
     },
     "execution_count": 2,
     "metadata": {},
     "output_type": "execute_result"
    }
   ],
   "source": [
    "/*\n",
    "  Un mécanisme d'insertion automatique tente d'ajouter à notre place les points-virgules.\n",
    "  Lorsqu'il rencontre un changement de ligne, il vérifie le caractère qui suit s'il est offensant.\n",
    "  Après la première ligne, caractère offensant (v après le chiffre)\n",
    "  Après la troisième ligne, caractère non-offensant (ouverture de crochet après le b) \n",
    "     : cause une erreur car tente d'évaluer: var c = a + b[1,2,3].length\n",
    "*/\n",
    "var a = 5\n",
    "var b = 10\n",
    "var c = a + b\n",
    "\n",
    "[1, 2, 3].length\n",
    "// Si on met un point-virgule après les lignes, nous aurons le nombre d'éléments (3) de la collection"
   ]
  },
  {
   "cell_type": "code",
   "execution_count": null,
   "metadata": {},
   "outputs": [],
   "source": []
  }
 ],
 "metadata": {
  "kernelspec": {
   "display_name": "Javascript (Node.js)",
   "language": "javascript",
   "name": "javascript"
  },
  "language_info": {
   "file_extension": ".js",
   "mimetype": "application/javascript",
   "name": "javascript",
   "version": "10.13.0"
  }
 },
 "nbformat": 4,
 "nbformat_minor": 4
}
